{
 "cells": [
  {
   "cell_type": "markdown",
   "metadata": {},
   "source": [
    "We study the behavior of the OV circuits of the top dontsay heads."
   ]
  },
  {
   "cell_type": "markdown",
   "metadata": {},
   "source": [
    "### Imports"
   ]
  },
  {
   "cell_type": "code",
   "execution_count": 2,
   "metadata": {},
   "outputs": [],
   "source": [
    "%load_ext autoreload\n",
    "%autoreload 2"
   ]
  },
  {
   "cell_type": "code",
   "execution_count": 3,
   "metadata": {},
   "outputs": [],
   "source": [
    "import functools\n",
    "import collections\n",
    "\n",
    "import circuitsvis.attention as cv_attention\n",
    "import circuitsvis.tokens as cv_tokens\n",
    "import einops\n",
    "import matplotlib.pyplot as plt\n",
    "import numpy as np\n",
    "import pandas as pd\n",
    "import plotly.graph_objects as go\n",
    "import torch\n",
    "import tqdm.auto as tqdm\n",
    "import transformer_lens.utils as tl_utils\n",
    "from fancy_einsum import einsum\n",
    "from jaxtyping import Float\n",
    "from tqdm.auto import tqdm\n",
    "from transformer_lens import ActivationCache, HookedTransformer\n",
    "from transformers import AutoModelForCausalLM, AutoTokenizer\n",
    "\n",
    "from pii import ablation, prompt_data, utils, datasets, vocab, decomp"
   ]
  },
  {
   "cell_type": "markdown",
   "metadata": {},
   "source": [
    "### Load model"
   ]
  },
  {
   "cell_type": "code",
   "execution_count": 4,
   "metadata": {},
   "outputs": [
    {
     "data": {
      "application/vnd.jupyter.widget-view+json": {
       "model_id": "7aafb8f0c65f4f889d1b080d169c6160",
       "version_major": 2,
       "version_minor": 0
      },
      "text/plain": [
       "Loading checkpoint shards:   0%|          | 0/2 [00:00<?, ?it/s]"
      ]
     },
     "metadata": {},
     "output_type": "display_data"
    },
    {
     "name": "stderr",
     "output_type": "stream",
     "text": [
      "Using pad_token, but it is not set yet.\n"
     ]
    },
    {
     "name": "stdout",
     "output_type": "stream",
     "text": [
      "Loaded pretrained model meta-llama/Llama-2-7b-chat-hf into HookedTransformer\n"
     ]
    },
    {
     "data": {
      "application/vnd.jupyter.widget-view+json": {
       "model_id": "d83d47fb62104534aafbc877990fdedf",
       "version_major": 2,
       "version_minor": 0
      },
      "text/plain": [
       "  0%|          | 0/20 [00:00<?, ?it/s]"
      ]
     },
     "metadata": {},
     "output_type": "display_data"
    },
    {
     "name": "stdout",
     "output_type": "stream",
     "text": [
      "The capital of Germany is Berlin. Berlin is the largest city in Germany and is known for its rich history, cultural attractions\n",
      "['EMBED' 'L0H0ATN' 'L0H1ATN' 'L0H2ATN' 'L0H3ATN']\n"
     ]
    }
   ],
   "source": [
    "# You will need to login to huggingface first:\n",
    "#   huggingface-cli login\n",
    "tokenizer = AutoTokenizer.from_pretrained(\"meta-llama/Llama-2-7b-chat-hf\")\n",
    "hf_model = AutoModelForCausalLM.from_pretrained(\n",
    "    \"meta-llama/Llama-2-7b-chat-hf\",\n",
    "    low_cpu_mem_usage=True,\n",
    "    torch_dtype=torch.float16,\n",
    ")\n",
    "\n",
    "tl_model = HookedTransformer.from_pretrained(\n",
    "    \"meta-llama/Llama-2-7b-chat-hf\",\n",
    "    hf_model=hf_model,\n",
    "    device=\"cuda\",\n",
    "    move_to_device=True,\n",
    "    fold_ln=False,\n",
    "    fold_value_biases=False,\n",
    "    center_writing_weights=False,\n",
    "    center_unembed=False,\n",
    "    tokenizer=tokenizer,\n",
    "    torch_dtype=torch.float16,\n",
    ")\n",
    "\n",
    "with torch.no_grad():\n",
    "    print(\n",
    "        tl_model.generate(\n",
    "            \"The capital of Germany is\", max_new_tokens=20, temperature=0\n",
    "        )\n",
    "    )\n",
    "\n",
    "    _, tmp_cache = tl_model.run_with_cache(\"hi\")\n",
    "    LABELS = np.array(decomp.get_all_resid_components(\n",
    "        tl_model=tl_model, cache=tmp_cache, pos=-1, batch_idx=0\n",
    "    ).labels)\n",
    "    print(LABELS[:5])"
   ]
  },
  {
   "cell_type": "markdown",
   "metadata": {},
   "source": [
    "### Load data"
   ]
  },
  {
   "cell_type": "code",
   "execution_count": 5,
   "metadata": {},
   "outputs": [
    {
     "data": {
      "text/plain": [
       "Index(['case_id', 'pararel_idx', 'relation_id', 'subject', 'target_new_str',\n",
       "       'target_true_str', 'fact_prefix', 'irrelevant_word', 'prompt_c',\n",
       "       'prompt_nc0', 'prompt_nc1', 'p_correct_c', 'p_correct_nc0',\n",
       "       'p_correct_nc1', 'lo_correct_c', 'lo_correct_nc0', 'lo_correct_nc1',\n",
       "       'log_bf0', 'log_bf1', 'lo_correct_c_nc0', 'lo_correct_c_nc1',\n",
       "       'lo_correct_nc0_c', 'lo_correct_nc1_c', 'lo_correct_c_nc0_dcum',\n",
       "       'lo_correct_c_nc1_dcum', 'lo_correct_nc0_c_dcum',\n",
       "       'lo_correct_nc1_c_dcum', 'lo_correct_c_nc0_cum', 'lo_correct_c_nc1_cum',\n",
       "       'lo_correct_nc0_c_cum', 'lo_correct_nc1_c_cum'],\n",
       "      dtype='object')"
      ]
     },
     "execution_count": 5,
     "metadata": {},
     "output_type": "execute_result"
    }
   ],
   "source": [
    "df = pd.read_pickle(\n",
    "    utils.get_repo_root() / \"data\" / \"counterfact_processed.pkl\"\n",
    ")\n",
    "df.keys()"
   ]
  },
  {
   "cell_type": "code",
   "execution_count": 9,
   "metadata": {},
   "outputs": [
    {
     "name": "stdout",
     "output_type": "stream",
     "text": [
      "(6152, 1057) (6152, 1057)\n",
      "['L18H9ATN' 'L27H29ATN' 'L31MLP' 'L26H9ATN' 'L25MLP']\n"
     ]
    }
   ],
   "source": [
    "log_bf_nc_c = np.concatenate(\n",
    "    [\n",
    "        np.stack(df.lo_correct_nc0_c) - df.lo_correct_nc0.to_numpy()[:, None],\n",
    "        np.stack(df.lo_correct_nc1_c) - df.lo_correct_nc0.to_numpy()[:, None],\n",
    "    ]\n",
    ")\n",
    "log_bf_c_nc = np.concatenate(\n",
    "    [\n",
    "        np.stack(df.lo_correct_c_nc0) - df.lo_correct_nc0.to_numpy()[:, None],\n",
    "        np.stack(df.lo_correct_c_nc1) - df.lo_correct_nc0.to_numpy()[:, None],\n",
    "    ]\n",
    ")\n",
    "print(log_bf_c_nc.shape, log_bf_nc_c.shape)\n",
    "\n",
    "COMPONENT_ORDER = np.argsort(np.stack(log_bf_nc_c).mean(axis=0))\n",
    "LABELS_ORDERED = LABELS[COMPONENT_ORDER]\n",
    "print(LABELS_ORDERED[:5])"
   ]
  }
 ],
 "metadata": {
  "kernelspec": {
   "display_name": "Python 3",
   "language": "python",
   "name": "python3"
  },
  "language_info": {
   "codemirror_mode": {
    "name": "ipython",
    "version": 3
   },
   "file_extension": ".py",
   "mimetype": "text/x-python",
   "name": "python",
   "nbconvert_exporter": "python",
   "pygments_lexer": "ipython3",
   "version": "3.10.12"
  },
  "orig_nbformat": 4
 },
 "nbformat": 4,
 "nbformat_minor": 2
}
