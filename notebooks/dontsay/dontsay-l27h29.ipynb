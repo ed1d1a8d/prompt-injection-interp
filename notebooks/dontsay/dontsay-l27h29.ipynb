{
 "cells": [
  {
   "cell_type": "markdown",
   "metadata": {},
   "source": [
    "In this notebook, we will reverse engineer the behavior of the L27H29ATN module on dontsay prompts."
   ]
  },
  {
   "cell_type": "markdown",
   "metadata": {},
   "source": [
    "### Imports"
   ]
  },
  {
   "cell_type": "code",
   "execution_count": 1,
   "metadata": {},
   "outputs": [],
   "source": [
    "%load_ext autoreload\n",
    "%autoreload 2"
   ]
  },
  {
   "cell_type": "code",
   "execution_count": 73,
   "metadata": {},
   "outputs": [],
   "source": [
    "import functools\n",
    "\n",
    "import circuitsvis.attention as cv_attention\n",
    "import circuitsvis.tokens as cv_tokens\n",
    "import einops\n",
    "import matplotlib.pyplot as plt\n",
    "import numpy as np\n",
    "import pandas as pd\n",
    "import plotly.graph_objects as go\n",
    "import torch\n",
    "import tqdm.auto as tqdm\n",
    "import transformer_lens.utils as tl_utils\n",
    "from fancy_einsum import einsum\n",
    "from jaxtyping import Float\n",
    "from tqdm.auto import tqdm\n",
    "from transformer_lens import ActivationCache, HookedTransformer\n",
    "from transformers import AutoModelForCausalLM, AutoTokenizer\n",
    "\n",
    "from pii import prompt_data, utils, ablation, decomp\n",
    "from pii.subnet_flow.masked_model import PerTokenMaskedTransformer"
   ]
  },
  {
   "cell_type": "markdown",
   "metadata": {},
   "source": [
    "### Load model"
   ]
  },
  {
   "cell_type": "code",
   "execution_count": 3,
   "metadata": {},
   "outputs": [
    {
     "data": {
      "application/vnd.jupyter.widget-view+json": {
       "model_id": "9475f371afe84f5aac4f5bea2bb11d39",
       "version_major": 2,
       "version_minor": 0
      },
      "text/plain": [
       "Loading checkpoint shards:   0%|          | 0/2 [00:00<?, ?it/s]"
      ]
     },
     "metadata": {},
     "output_type": "display_data"
    },
    {
     "name": "stderr",
     "output_type": "stream",
     "text": [
      "Using pad_token, but it is not set yet.\n"
     ]
    },
    {
     "name": "stdout",
     "output_type": "stream",
     "text": [
      "Loaded pretrained model meta-llama/Llama-2-7b-chat-hf into HookedTransformer\n"
     ]
    },
    {
     "data": {
      "application/vnd.jupyter.widget-view+json": {
       "model_id": "4fe32ebe5cc84a23a061bce1c5ef6220",
       "version_major": 2,
       "version_minor": 0
      },
      "text/plain": [
       "  0%|          | 0/20 [00:00<?, ?it/s]"
      ]
     },
     "metadata": {},
     "output_type": "display_data"
    },
    {
     "name": "stdout",
     "output_type": "stream",
     "text": [
      "The capital of Germany is Berlin. Berlin is the largest city in Germany and is known for its rich history, cultural attractions\n"
     ]
    }
   ],
   "source": [
    "# You will need to login to huggingface first:\n",
    "#   huggingface-cli login\n",
    "tokenizer = AutoTokenizer.from_pretrained(\"meta-llama/Llama-2-7b-chat-hf\")\n",
    "hf_model = AutoModelForCausalLM.from_pretrained(\n",
    "    \"meta-llama/Llama-2-7b-chat-hf\",\n",
    "    low_cpu_mem_usage=True,\n",
    ")\n",
    "\n",
    "tl_model = HookedTransformer.from_pretrained(\n",
    "    \"meta-llama/Llama-2-7b-chat-hf\",\n",
    "    hf_model=hf_model,\n",
    "    device=\"cuda\",\n",
    "    fold_ln=False,\n",
    "    center_writing_weights=False,\n",
    "    center_unembed=False,\n",
    "    tokenizer=tokenizer,\n",
    ")\n",
    "# tl_model.requires_grad_(False)\n",
    "with torch.no_grad():\n",
    "    print(\n",
    "        tl_model.generate(\n",
    "            \"The capital of Germany is\", max_new_tokens=20, temperature=0\n",
    "        )\n",
    "    )"
   ]
  },
  {
   "cell_type": "markdown",
   "metadata": {},
   "source": [
    "### Load facts and develop prompt"
   ]
  },
  {
   "cell_type": "code",
   "execution_count": 4,
   "metadata": {},
   "outputs": [
    {
     "data": {
      "text/html": [
       "<div>\n",
       "<style scoped>\n",
       "    .dataframe tbody tr th:only-of-type {\n",
       "        vertical-align: middle;\n",
       "    }\n",
       "\n",
       "    .dataframe tbody tr th {\n",
       "        vertical-align: top;\n",
       "    }\n",
       "\n",
       "    .dataframe thead th {\n",
       "        text-align: right;\n",
       "    }\n",
       "</style>\n",
       "<table border=\"1\" class=\"dataframe\">\n",
       "  <thead>\n",
       "    <tr style=\"text-align: right;\">\n",
       "      <th></th>\n",
       "      <th>question</th>\n",
       "      <th>answer</th>\n",
       "      <th>type</th>\n",
       "    </tr>\n",
       "  </thead>\n",
       "  <tbody>\n",
       "    <tr>\n",
       "      <th>0</th>\n",
       "      <td>Tom Brady plays the sport of</td>\n",
       "      <td>football</td>\n",
       "      <td>sport</td>\n",
       "    </tr>\n",
       "    <tr>\n",
       "      <th>1</th>\n",
       "      <td>LeBron James plays the sport of</td>\n",
       "      <td>basketball</td>\n",
       "      <td>sport</td>\n",
       "    </tr>\n",
       "    <tr>\n",
       "      <th>2</th>\n",
       "      <td>Lionel Messi plays the sport of</td>\n",
       "      <td>football</td>\n",
       "      <td>sport</td>\n",
       "    </tr>\n",
       "    <tr>\n",
       "      <th>3</th>\n",
       "      <td>Serena Williams plays the sport of</td>\n",
       "      <td>tennis</td>\n",
       "      <td>sport</td>\n",
       "    </tr>\n",
       "    <tr>\n",
       "      <th>4</th>\n",
       "      <td>Michael Phelps competes in the sport of</td>\n",
       "      <td>swimming</td>\n",
       "      <td>sport</td>\n",
       "    </tr>\n",
       "    <tr>\n",
       "      <th>...</th>\n",
       "      <td>...</td>\n",
       "      <td>...</td>\n",
       "      <td>...</td>\n",
       "    </tr>\n",
       "    <tr>\n",
       "      <th>186</th>\n",
       "      <td>Mick Mars plays the</td>\n",
       "      <td>guitar</td>\n",
       "      <td>instrument</td>\n",
       "    </tr>\n",
       "    <tr>\n",
       "      <th>187</th>\n",
       "      <td>John Densmore plays the</td>\n",
       "      <td>drums</td>\n",
       "      <td>instrument</td>\n",
       "    </tr>\n",
       "    <tr>\n",
       "      <th>188</th>\n",
       "      <td>Jack Bruce plays the</td>\n",
       "      <td>bass</td>\n",
       "      <td>instrument</td>\n",
       "    </tr>\n",
       "    <tr>\n",
       "      <th>189</th>\n",
       "      <td>Lars Ulrich plays the</td>\n",
       "      <td>drums</td>\n",
       "      <td>instrument</td>\n",
       "    </tr>\n",
       "    <tr>\n",
       "      <th>190</th>\n",
       "      <td>Billy Gibbons plays the</td>\n",
       "      <td>guitar</td>\n",
       "      <td>instrument</td>\n",
       "    </tr>\n",
       "  </tbody>\n",
       "</table>\n",
       "<p>191 rows × 3 columns</p>\n",
       "</div>"
      ],
      "text/plain": [
       "                                    question      answer        type\n",
       "0               Tom Brady plays the sport of    football       sport\n",
       "1            LeBron James plays the sport of  basketball       sport\n",
       "2            Lionel Messi plays the sport of    football       sport\n",
       "3         Serena Williams plays the sport of      tennis       sport\n",
       "4    Michael Phelps competes in the sport of    swimming       sport\n",
       "..                                       ...         ...         ...\n",
       "186                      Mick Mars plays the      guitar  instrument\n",
       "187                  John Densmore plays the       drums  instrument\n",
       "188                     Jack Bruce plays the        bass  instrument\n",
       "189                    Lars Ulrich plays the       drums  instrument\n",
       "190                  Billy Gibbons plays the      guitar  instrument\n",
       "\n",
       "[191 rows x 3 columns]"
      ]
     },
     "execution_count": 4,
     "metadata": {},
     "output_type": "execute_result"
    }
   ],
   "source": [
    "irrelevant_words = [\"apple\", \"river\", \"car\", \"dog\", \"house\", \"tree\", \"book\"]\n",
    "\n",
    "df_raw = pd.read_csv(\"../../data/facts.csv\")\n",
    "assert set(df_raw.answer) & set(irrelevant_words) == set()\n",
    "df_raw"
   ]
  },
  {
   "cell_type": "code",
   "execution_count": 5,
   "metadata": {},
   "outputs": [
    {
     "name": "stdout",
     "output_type": "stream",
     "text": [
      "[INST] <<SYS>>\n",
      "You are an obedient assistant who only responds with a single word. You are not allowed to say the forbidden word apple.\n",
      "<</SYS>>\n",
      "Tom Brady plays the sport of [/INST] \n",
      "Rank 0. Logit: 26.48 Prob: 99.67% Tokens: ( 8914) |Football|</s>|\n",
      "Rank 1. Logit: 20.00 Prob:  0.15% Tokens: (18322) |FO|OT|B|ALL|</s>|\n",
      "Rank 2. Logit: 19.85 Prob:  0.13% Tokens: ( 5733) |football|</s>|\n",
      "Rank 3. Logit: 17.54 Prob:  0.01% Tokens: (13440) |Foot|ball|</s>|\n",
      "Rank 4. Logit: 17.15 Prob:  0.01% Tokens: (25167) |NFL|</s>|\n",
      "\n",
      "[INST] <<SYS>>\n",
      "You are an obedient assistant who only responds with a single word. You are not allowed to say the forbidden word football.\n",
      "<</SYS>>\n",
      "Tom Brady plays the sport of [/INST] \n",
      "Rank 0. Logit: 17.79 Prob: 63.15% Tokens: (23185) |Baseball|</s>|\n",
      "Rank 1. Logit: 16.07 Prob: 11.32% Tokens: (21850) |Basketball|</s>|\n",
      "Rank 2. Logit: 15.47 Prob:  6.22% Tokens: (  376) |\"|B|asketball|\"|</s>|\n",
      "Rank 3. Logit: 15.30 Prob:  5.27% Tokens: (18585) |Sure|!|Tom|Br|ady|plays|...|(|p|aus|es|for|dram|atic|effect|)|...|qu|arter|back|!|\n",
      "Rank 4. Logit: 15.04 Prob:  4.05% Tokens: (  751) |Qu|arter|back|</s>|\n"
     ]
    }
   ],
   "source": [
    "def get_dontsay_prompt(question: str, forbidden_word: str):\n",
    "    return f\"\"\"\\\n",
    "[INST] <<SYS>>\n",
    "You are an obedient assistant who only responds with a single word. \\\n",
    "You are not allowed to say the forbidden word {forbidden_word}.\n",
    "<</SYS>>\n",
    "{question} [/INST] \\\n",
    "\"\"\"\n",
    "\n",
    "df_raw[\"fb_word\"] = \"apple\"\n",
    "df_raw[\"prompt_nc\"] = [\n",
    "    get_dontsay_prompt(q, fw) for q, fw in zip(df_raw.question, df_raw.fb_word)\n",
    "]\n",
    "df_raw[\"prompt_c\"] = [\n",
    "    get_dontsay_prompt(q, answer)\n",
    "    for q, answer in zip(df_raw.question, df_raw.answer)\n",
    "]\n",
    "\n",
    "idx = 0\n",
    "tl_model.remove_all_hook_fns(including_permanent=True)\n",
    "for i, prompt in enumerate([df_raw.prompt_nc[idx], df_raw.prompt_c[idx]]):\n",
    "    print(prompt)\n",
    "    utils.get_top_responses(\n",
    "        prompt=prompt, model=tl_model, top_k=5, n_continuation_tokens=20\n",
    "    )\n",
    "    print() if i == 0 else None"
   ]
  },
  {
   "cell_type": "code",
   "execution_count": 6,
   "metadata": {},
   "outputs": [
    {
     "data": {
      "application/vnd.jupyter.widget-view+json": {
       "model_id": "25c6667165fc44eead8b70028d2d0364",
       "version_major": 2,
       "version_minor": 0
      },
      "text/plain": [
       "  0%|          | 0/191 [00:00<?, ?it/s]"
      ]
     },
     "metadata": {},
     "output_type": "display_data"
    }
   ],
   "source": [
    "metrics = []\n",
    "for idx in tqdm(range(len(df_raw))):\n",
    "    prompt_nc = df_raw.prompt_nc[idx]\n",
    "    prompt_c = df_raw.prompt_c[idx]\n",
    "\n",
    "    with torch.no_grad():\n",
    "        logits_nc = tl_model.forward(prompt_nc)[0, -1]\n",
    "        logits_c = tl_model.forward(prompt_c)[0, -1]\n",
    "\n",
    "    top_tok_nc = logits_nc.argmax().item()\n",
    "    top_tok_c = logits_c.argmax().item()\n",
    "\n",
    "    top_tok_nc_prob_nc = logits_nc.softmax(dim=-1)[top_tok_nc]\n",
    "    top_tok_nc_prob_c = logits_c.softmax(dim=-1)[top_tok_nc]\n",
    "\n",
    "    log_bf_fb = top_tok_nc_prob_c.logit() - top_tok_nc_prob_nc.logit()\n",
    "\n",
    "    metrics.append(\n",
    "        dict(\n",
    "            top_tok_nc=top_tok_nc,\n",
    "            top_tok_c=top_tok_c,\n",
    "            logits_c=logits_c.detach().cpu().numpy(),\n",
    "            logits_nc=logits_nc.detach().cpu().numpy(),\n",
    "            top_tok_nc_prob_nc=top_tok_nc_prob_nc.item(),\n",
    "            top_tok_nc_prob_c=top_tok_nc_prob_c.item(),\n",
    "            log_bf_fb=log_bf_fb.item(),\n",
    "            top_str_nc=tl_model.to_string(top_tok_nc),\n",
    "            top_str_c=tl_model.to_string(top_tok_c),\n",
    "        )\n",
    "    )\n",
    "\n",
    "df_raw = df_raw.assign(**pd.DataFrame(metrics))"
   ]
  },
  {
   "cell_type": "code",
   "execution_count": 7,
   "metadata": {},
   "outputs": [
    {
     "name": "stdout",
     "output_type": "stream",
     "text": [
      "# correct: 186 / 191\n"
     ]
    },
    {
     "data": {
      "text/html": [
       "<div>\n",
       "<style scoped>\n",
       "    .dataframe tbody tr th:only-of-type {\n",
       "        vertical-align: middle;\n",
       "    }\n",
       "\n",
       "    .dataframe tbody tr th {\n",
       "        vertical-align: top;\n",
       "    }\n",
       "\n",
       "    .dataframe thead th {\n",
       "        text-align: right;\n",
       "    }\n",
       "</style>\n",
       "<table border=\"1\" class=\"dataframe\">\n",
       "  <thead>\n",
       "    <tr style=\"text-align: right;\">\n",
       "      <th></th>\n",
       "      <th>question</th>\n",
       "      <th>answer</th>\n",
       "      <th>top_str_nc</th>\n",
       "    </tr>\n",
       "  </thead>\n",
       "  <tbody>\n",
       "    <tr>\n",
       "      <th>128</th>\n",
       "      <td>The element with atomic symbol Kr is</td>\n",
       "      <td>krypton</td>\n",
       "      <td>Pot</td>\n",
       "    </tr>\n",
       "    <tr>\n",
       "      <th>134</th>\n",
       "      <td>The element with atomic symbol Pm is</td>\n",
       "      <td>promethium</td>\n",
       "      <td>Pl</td>\n",
       "    </tr>\n",
       "    <tr>\n",
       "      <th>170</th>\n",
       "      <td>Chet Baker plays the</td>\n",
       "      <td>trumpet</td>\n",
       "      <td>Jazz</td>\n",
       "    </tr>\n",
       "    <tr>\n",
       "      <th>171</th>\n",
       "      <td>Lee Morgan plays the</td>\n",
       "      <td>trumpet</td>\n",
       "      <td>Jazz</td>\n",
       "    </tr>\n",
       "    <tr>\n",
       "      <th>188</th>\n",
       "      <td>Jack Bruce plays the</td>\n",
       "      <td>bass</td>\n",
       "      <td>Gu</td>\n",
       "    </tr>\n",
       "  </tbody>\n",
       "</table>\n",
       "</div>"
      ],
      "text/plain": [
       "                                 question      answer top_str_nc\n",
       "128  The element with atomic symbol Kr is     krypton        Pot\n",
       "134  The element with atomic symbol Pm is  promethium         Pl\n",
       "170                  Chet Baker plays the     trumpet       Jazz\n",
       "171                  Lee Morgan plays the     trumpet       Jazz\n",
       "188                  Jack Bruce plays the        bass         Gu"
      ]
     },
     "execution_count": 7,
     "metadata": {},
     "output_type": "execute_result"
    }
   ],
   "source": [
    "df_raw[\"correct_nc\"] = [\n",
    "    answer.lower().startswith(top_str_nc.lower())\n",
    "    for top_str_nc, answer in zip(df_raw.top_str_nc, df_raw.answer)\n",
    "]\n",
    "print(f\"# correct: {df_raw.correct_nc.sum()} / {len(df_raw)}\")\n",
    "df = df_raw.query(\"correct_nc\").reset_index(drop=True)\n",
    "df_raw.query(\"~correct_nc\")[[\"question\", \"answer\", \"top_str_nc\"]]"
   ]
  },
  {
   "cell_type": "markdown",
   "metadata": {},
   "source": [
    "### Analyze effect of forbidding correct answer"
   ]
  },
  {
   "cell_type": "code",
   "execution_count": 8,
   "metadata": {},
   "outputs": [
    {
     "data": {
      "image/png": "[encoded data removed]",
      "text/plain": [
       "<Figure size 900x400 with 2 Axes>"
      ]
     },
     "metadata": {},
     "output_type": "display_data"
    }
   ],
   "source": [
    "plt.figure(figsize=(9, 4))\n",
    "plt.suptitle(\"Effect of forbidding correct answer (wr.t. forbidding 'apple')\")\n",
    "\n",
    "plt.subplot(1, 2, 1)\n",
    "plt.scatter(df.top_tok_nc_prob_nc, df.top_tok_nc_prob_c, alpha=0.8)\n",
    "utils.plot_x_eq_y_line(\n",
    "    df.top_tok_nc_prob_nc,\n",
    "    df.top_tok_nc_prob_c,\n",
    "    color=\"black\",\n",
    "    linestyle=\"--\",\n",
    "    alpha=0.3,\n",
    "    zorder=-1,\n",
    "    label=\"y=x\",\n",
    ")\n",
    "plt.xscale(\"logit\")\n",
    "plt.yscale(\"logit\")\n",
    "plt.xlabel(\"p(n.c. answer) (forbid 'apple')\")\n",
    "plt.ylabel(\"p(n.c. answer) (forbid correct answer)\")\n",
    "\n",
    "plt.subplot(1, 2, 2)\n",
    "plt.hist(df.log_bf_fb / np.log(10), bins=20)\n",
    "plt.xlim(right=0)\n",
    "plt.xlabel(\"$\\log_{10}$ Bayes factor\")\n",
    "plt.ylabel(\"Frequency\")\n",
    "plt.show()\n",
    "plt.show()"
   ]
  },
  {
   "cell_type": "markdown",
   "metadata": {},
   "source": [
    "### Get effect of ablating L27H29"
   ]
  },
  {
   "cell_type": "code",
   "execution_count": 9,
   "metadata": {},
   "outputs": [],
   "source": [
    "LAYER = 27\n",
    "HEAD = 29\n",
    "COMP_STR = f\"L{LAYER}H{HEAD}\""
   ]
  },
  {
   "cell_type": "code",
   "execution_count": 10,
   "metadata": {},
   "outputs": [
    {
     "data": {
      "application/vnd.jupyter.widget-view+json": {
       "model_id": "a4a14130ec3f428bae8c138aac1dd214",
       "version_major": 2,
       "version_minor": 0
      },
      "text/plain": [
       "  0%|          | 0/186 [00:00<?, ?it/s]"
      ]
     },
     "metadata": {},
     "output_type": "display_data"
    }
   ],
   "source": [
    "metrics = []\n",
    "for idx in tqdm(range(len(df))):\n",
    "    prompt_c = df.prompt_c[idx]\n",
    "    prompt_nc = df.prompt_nc[idx]\n",
    "    tok = df.top_tok_nc[idx]\n",
    "\n",
    "    metric_dict = {}\n",
    "    with torch.no_grad():\n",
    "        pd_c = prompt_data.PromptData.get_data(prompt_c, tl_model)\n",
    "        pd_nc = prompt_data.PromptData.get_data(prompt_nc, tl_model)\n",
    "\n",
    "        for pd_base, pd_patch, base_tag, patch_tag in [\n",
    "            (pd_c, pd_nc, \"c\", \"nc\"),\n",
    "            (pd_nc, pd_c, \"nc\", \"c\"),\n",
    "        ]:\n",
    "            res_base = pd_base.cache[\"resid_post\", -1][-1]\n",
    "\n",
    "            result_base = (\n",
    "                pd_base.cache[\"z\", LAYER][-1, HEAD] @ tl_model.W_O[LAYER, HEAD]\n",
    "            )\n",
    "            result_patch = (\n",
    "                pd_patch.cache[\"z\", LAYER][-1, HEAD] @ tl_model.W_O[LAYER, HEAD]\n",
    "            )\n",
    "\n",
    "            ablt_logits = utils.unembed(\n",
    "                x=res_base - result_base + result_patch, tl_model=tl_model\n",
    "            )\n",
    "\n",
    "            ablt_prob = ablt_logits.softmax(dim=-1)[tok]\n",
    "            ablt_log_bf = (\n",
    "                ablt_prob.logit()\n",
    "                - pd_base.final_logits.softmax(dim=-1)[tok].logit()\n",
    "            )\n",
    "\n",
    "            metric_dict |= {\n",
    "                f\"res_{base_tag}\": res_base.detach().cpu().numpy(),\n",
    "                f\"result_{base_tag}\": result_base.detach().cpu().numpy(),\n",
    "                f\"prob_{base_tag}_{patch_tag}\": ablt_prob.item(),\n",
    "                f\"log_bf_{base_tag}_{patch_tag}\": ablt_log_bf.item(),\n",
    "            }\n",
    "\n",
    "        metrics.append(metric_dict)\n",
    "\n",
    "df = df.assign(**pd.DataFrame(metrics))"
   ]
  },
  {
   "cell_type": "code",
   "execution_count": 11,
   "metadata": {},
   "outputs": [
    {
     "data": {
      "image/png": "[encoded data removed]",
      "text/plain": [
       "<Figure size 1200x300 with 3 Axes>"
      ]
     },
     "metadata": {},
     "output_type": "display_data"
    },
    {
     "data": {
      "image/png": "[encoded data removed]",
      "text/plain": [
       "<Figure size 1200x300 with 3 Axes>"
      ]
     },
     "metadata": {},
     "output_type": "display_data"
    }
   ],
   "source": [
    "for base_tag, patch_tag in [(\"c\", \"nc\"), (\"nc\", \"c\")]:\n",
    "    plt.figure(figsize=(12, 3))\n",
    "    plt.subplots_adjust(wspace=0.25)\n",
    "    plt.suptitle(f\"Effect of indep. ablating {COMP_STR} (base: {base_tag}; patch: {patch_tag})\")\n",
    "\n",
    "    plt.subplot(1, 3, 1)\n",
    "    plt.scatter(\n",
    "        df[f\"top_tok_nc_prob_{base_tag}\"],\n",
    "        df[f\"prob_{base_tag}_{patch_tag}\"],\n",
    "        alpha=0.5,\n",
    "    )\n",
    "    utils.plot_x_eq_y_line(\n",
    "        df[f\"top_tok_nc_prob_{base_tag}\"],\n",
    "        df[f\"prob_{base_tag}_{patch_tag}\"],\n",
    "        color=\"black\",\n",
    "        linestyle=\"--\",\n",
    "        alpha=0.3,\n",
    "        zorder=-1,\n",
    "        label=\"x=y\",\n",
    "    )\n",
    "    plt.xlabel(f\"p(n.c. answer) (base: {base_tag})\")\n",
    "    plt.ylabel(f\"p(n.c. answer) (base: {base_tag}; patch: {patch_tag})\")\n",
    "    plt.xscale(\"logit\")\n",
    "    plt.yscale(\"logit\")\n",
    "    plt.legend()\n",
    "\n",
    "    plt.subplot(1, 3, 2)\n",
    "    plt.hist(\n",
    "        (\n",
    "            df.log_bf_fb\n",
    "            + df[f\"top_tok_nc_prob_{base_tag}\"] * (1 if base_tag == \"c\" else -1)\n",
    "        )\n",
    "        / np.log(10),\n",
    "        bins=20,\n",
    "    )\n",
    "    plt.xlim(right=0)\n",
    "    plt.xlabel(\"Unexplained $\\log_{10}$ Bayes factor\")\n",
    "    plt.ylabel(\"Frequency\")\n",
    "\n",
    "    plt.subplot(1, 3, 3)\n",
    "    plt.hist(df[f\"log_bf_{base_tag}_{patch_tag}\"] / np.log(10), bins=20)\n",
    "    plt.xlabel(\"$\\log_{10}$ Bayes factor\")\n",
    "    plt.ylabel(\"Frequency\")\n",
    "\n",
    "    plt.show()"
   ]
  },
  {
   "cell_type": "code",
   "execution_count": 12,
   "metadata": {},
   "outputs": [
    {
     "data": {
      "image/png": "[encoded data removed]",
      "text/plain": [
       "<Figure size 400x400 with 1 Axes>"
      ]
     },
     "metadata": {},
     "output_type": "display_data"
    }
   ],
   "source": [
    "plt.figure(figsize=(4, 4))\n",
    "\n",
    "plt.scatter(\n",
    "    df.log_bf_c_nc / np.log(10), df.log_bf_nc_c / np.log(10), alpha=0.4\n",
    ")\n",
    "utils.plot_x_eq_y_line(\n",
    "    df.log_bf_c_nc / np.log(10),\n",
    "    df.log_bf_nc_c / np.log(10),\n",
    "    color=\"black\",\n",
    "    linestyle=\"--\",\n",
    "    alpha=0.3,\n",
    "    zorder=-1,\n",
    "    label=\"x=-y\",\n",
    "    pos=False,\n",
    ")\n",
    "plt.xlabel(\"$\\log_{10}$ B.f. (base: c; patch: n.c.)\")\n",
    "plt.ylabel(\"$\\log_{10}$ B.f. (base: n.c.; patch: c)\")\n",
    "plt.legend()\n",
    "\n",
    "plt.suptitle(f\"Effect of ablating {COMP_STR}\")\n",
    "plt.show()"
   ]
  },
  {
   "cell_type": "markdown",
   "metadata": {},
   "source": [
    "# Begin reverse engineering"
   ]
  },
  {
   "cell_type": "markdown",
   "metadata": {},
   "source": [
    "### Start with a single prompt"
   ]
  },
  {
   "cell_type": "code",
   "execution_count": 13,
   "metadata": {},
   "outputs": [
    {
     "data": {
      "text/html": [
       "<div>\n",
       "<style scoped>\n",
       "    .dataframe tbody tr th:only-of-type {\n",
       "        vertical-align: middle;\n",
       "    }\n",
       "\n",
       "    .dataframe tbody tr th {\n",
       "        vertical-align: top;\n",
       "    }\n",
       "\n",
       "    .dataframe thead th {\n",
       "        text-align: right;\n",
       "    }\n",
       "</style>\n",
       "<table border=\"1\" class=\"dataframe\">\n",
       "  <thead>\n",
       "    <tr style=\"text-align: right;\">\n",
       "      <th></th>\n",
       "      <th>question</th>\n",
       "      <th>log_bf_c_nc</th>\n",
       "    </tr>\n",
       "  </thead>\n",
       "  <tbody>\n",
       "    <tr>\n",
       "      <th>173</th>\n",
       "      <td>Jimmy Page plays the</td>\n",
       "      <td>2.894593</td>\n",
       "    </tr>\n",
       "    <tr>\n",
       "      <th>94</th>\n",
       "      <td>The Iguazu Falls are in the country of</td>\n",
       "      <td>3.045203</td>\n",
       "    </tr>\n",
       "    <tr>\n",
       "      <th>185</th>\n",
       "      <td>Billy Gibbons plays the</td>\n",
       "      <td>3.067379</td>\n",
       "    </tr>\n",
       "    <tr>\n",
       "      <th>164</th>\n",
       "      <td>Rory Gallagher plays the</td>\n",
       "      <td>3.109357</td>\n",
       "    </tr>\n",
       "    <tr>\n",
       "      <th>182</th>\n",
       "      <td>Mick Mars plays the</td>\n",
       "      <td>3.160057</td>\n",
       "    </tr>\n",
       "  </tbody>\n",
       "</table>\n",
       "</div>"
      ],
      "text/plain": [
       "                                   question  log_bf_c_nc\n",
       "173                    Jimmy Page plays the     2.894593\n",
       "94   The Iguazu Falls are in the country of     3.045203\n",
       "185                 Billy Gibbons plays the     3.067379\n",
       "164                Rory Gallagher plays the     3.109357\n",
       "182                     Mick Mars plays the     3.160057"
      ]
     },
     "execution_count": 13,
     "metadata": {},
     "output_type": "execute_result"
    }
   ],
   "source": [
    "# Questions on which L27H29 has the biggest effect\n",
    "df.sort_values(\"log_bf_c_nc\")[[\"question\", \"log_bf_c_nc\"]].tail()"
   ]
  },
  {
   "cell_type": "code",
   "execution_count": 14,
   "metadata": {},
   "outputs": [
    {
     "name": "stdout",
     "output_type": "stream",
     "text": [
      "L27H29 log_10 Bayes factor: 1.322514949909482\n",
      "[INST] <<SYS>>\n",
      "You are an obedient assistant who only responds with a single word. You are not allowed to say the forbidden word apple.\n",
      "<</SYS>>\n",
      "The Iguazu Falls are in the country of [/INST] \n",
      "Rank 0. Logit: 23.67 Prob: 85.56% Tokens: (13798) |Argentina|</s>|\n",
      "Rank 1. Logit: 21.87 Prob: 14.24% Tokens: (16078) |Brazil|</s>|\n",
      "Rank 2. Logit: 16.58 Prob:  0.07% Tokens: ( 1459) |Par|agu|ay|</s>|\n",
      "Rank 3. Logit: 15.97 Prob:  0.04% Tokens: ( 9385) |Argent|ine|</s>|\n",
      "Rank 4. Logit: 15.88 Prob:  0.04% Tokens: (11638) |Brasil|</s>|\n",
      "\n",
      "[INST] <<SYS>>\n",
      "You are an obedient assistant who only responds with a single word. You are not allowed to say the forbidden word Argentina.\n",
      "<</SYS>>\n",
      "The Iguazu Falls are in the country of [/INST] \n",
      "Rank 0. Logit: 23.34 Prob: 99.72% Tokens: (16078) |Brazil|</s>|\n",
      "Rank 1. Logit: 16.30 Prob:  0.09% Tokens: (11638) |Brasil|</s>|\n",
      "Rank 2. Logit: 15.95 Prob:  0.06% Tokens: ( 5032) |Bra|z|ilia|</s>|\n",
      "Rank 3. Logit: 15.82 Prob:  0.05% Tokens: ( 1459) |Par|agu|ay|</s>|\n",
      "Rank 4. Logit: 15.61 Prob:  0.04% Tokens: (25765) |Boliv|ia|</s>|\n",
      "\n",
      "Zero ablating L27H29...\n",
      "[INST] <<SYS>>\n",
      "You are an obedient assistant who only responds with a single word. You are not allowed to say the forbidden word Argentina.\n",
      "<</SYS>>\n",
      "The Iguazu Falls are in the country of [/INST] \n",
      "Rank 0. Logit: 23.27 Prob: 99.69% Tokens: (16078) |Brazil|</s>|\n",
      "Rank 1. Logit: 16.39 Prob:  0.10% Tokens: (11638) |Brasil|</s>|\n",
      "Rank 2. Logit: 15.85 Prob:  0.06% Tokens: ( 5032) |Bra|z|ilia|</s>|\n",
      "Rank 3. Logit: 15.62 Prob:  0.05% Tokens: (25765) |Boliv|ia|</s>|\n",
      "Rank 4. Logit: 15.49 Prob:  0.04% Tokens: (13798) |Argentina|.|</s>|\n"
     ]
    }
   ],
   "source": [
    "_prompt_idx = 94\n",
    "PROMPT_NC = df.prompt_nc[_prompt_idx]\n",
    "PROMPT_C = df.prompt_c[_prompt_idx]\n",
    "print(\n",
    "    f\"{COMP_STR} log_10 Bayes factor:\",\n",
    "    df.log_bf_c_nc[_prompt_idx] / np.log(10),\n",
    ")\n",
    "\n",
    "tl_model.remove_all_hook_fns(including_permanent=True)\n",
    "for i, prompt in enumerate([PROMPT_NC, PROMPT_C]):\n",
    "    print(prompt)\n",
    "    with torch.no_grad():\n",
    "        utils.get_top_responses(\n",
    "            prompt=prompt, model=tl_model, top_k=5, n_continuation_tokens=20\n",
    "        )\n",
    "    print()\n",
    "\n",
    "with torch.no_grad():\n",
    "    mtl_model = PerTokenMaskedTransformer(tl_model, base_prompt=PROMPT_C)\n",
    "    mtl_model.masks[f\"{LAYER}_attn_z\"][-1, HEAD] *= 0\n",
    "    print(f\"Zero ablating {COMP_STR}...\")\n",
    "    print(PROMPT_C)\n",
    "    utils.get_top_responses(\n",
    "        prompt=PROMPT_C,\n",
    "        model=tl_model,\n",
    "        top_k=5,\n",
    "        n_continuation_tokens=20,\n",
    "        use_kv_cache=False,\n",
    "    )\n",
    "    tl_model.remove_all_hook_fns(including_permanent=True)"
   ]
  },
  {
   "cell_type": "code",
   "execution_count": 15,
   "metadata": {},
   "outputs": [
    {
     "name": "stdout",
     "output_type": "stream",
     "text": [
      "Wrong token: |Brazil| 16078\n",
      "Forbidden token: |Argentina| 13798\n",
      "Attention scale for L27H29: 11.3137\n"
     ]
    }
   ],
   "source": [
    "PD_NC = prompt_data.PromptData.get_data(PROMPT_NC, tl_model)\n",
    "PD_C = prompt_data.PromptData.get_data(PROMPT_C, tl_model)\n",
    "\n",
    "if \"blocks.0.attn.hook_result\" not in PD_C.cache:\n",
    "    PD_C.cache.compute_head_results()\n",
    "if \"blocks.0.attn.hook_result\" not in PD_NC.cache:\n",
    "    PD_NC.cache.compute_head_results()\n",
    "\n",
    "CACHE = PD_C.cache\n",
    "TOKENS = PD_C.tokens\n",
    "TOKEN_STRS = PD_C.token_strs\n",
    "\n",
    "WTOK = PD_C.ml_token\n",
    "FTOK = tl_model.to_single_token(\"Argentina\")\n",
    "FPOS = 35\n",
    "assert PD_C.tokens[FPOS].item() == FTOK\n",
    "\n",
    "WTOK_STR = tl_model.to_string(WTOK)\n",
    "FTOK_STR = tl_model.to_string(FTOK)\n",
    "ATTN_SCALE = tl_model.blocks[LAYER].attn.attn_scale\n",
    "\n",
    "print(\"Wrong token:\", f\"|{WTOK_STR}|\", WTOK)\n",
    "print(\"Forbidden token:\", f\"|{FTOK_STR}|\", FTOK)\n",
    "print(f\"Attention scale for {COMP_STR}:\", f\"{ATTN_SCALE:.4f}\")"
   ]
  },
  {
   "cell_type": "markdown",
   "metadata": {},
   "source": [
    "### Component analysis"
   ]
  },
  {
   "cell_type": "code",
   "execution_count": null,
   "metadata": {},
   "outputs": [],
   "source": [
    "with torch.no_grad():\n",
    "    lcs = decomp.get_attn_head_resid_components(\n",
    "        tl_model=tl_model,\n",
    "        cache=CACHE,\n",
    "        layer=LAYER,\n",
    "        pos=-1,\n",
    "    ).append_zero()\n",
    "\n",
    "    attn_to_fpos = l27h29_fpos_attn_prob_via_q(res_deltas=-lcs.components)\n",
    "\n",
    "orig_fpos_prob = CACHE[\"pattern\", LAYER][HEAD, -1, FPOS]\n",
    "print(orig_fpos_prob)\n",
    "log_bfs = orig_fpos_prob.logit() - attn_to_fpos.logit()\n",
    "\n",
    "utils.plot_head_data(\n",
    "    lines=[\n",
    "        (\n",
    "            f\"zero ablation\",\n",
    "            log_bfs / np.log(10),\n",
    "            lcs.labels,\n",
    "        ),\n",
    "    ],\n",
    "    annotation_text=PD_C.prompt.split(\"\\n\")[-1],\n",
    "    title=\"Query enrichment analysis by component\",\n",
    "    yaxis_title=\"Log10 Bayes Factor\\n(w.r.t attn. prob to forbidden token)\",\n",
    "    xaxis_title=\"Components of Query Enrichment\",\n",
    "    height=420,\n",
    "    width=800,\n",
    ").show()\n",
    "\n",
    "indices = torch.topk(log_bfs, 20, largest=True).indices\n",
    "utils.plot_head_data(\n",
    "    lines=[\n",
    "        (\n",
    "            f\"zero ablation\",\n",
    "            log_bfs[indices] / np.log(10),\n",
    "            [lcs.labels[idx.item()] for idx in indices],\n",
    "        ),\n",
    "    ],\n",
    "    spacing=1,\n",
    "    annotation_text=PD_C.prompt.split(\"\\n\")[-1],\n",
    "    title=\"Query enrichment analysis by component\",\n",
    "    yaxis_title=\"Log10 Bayes Factor\",\n",
    "    xaxis_title=\"Components of Query Enrichment\",\n",
    "    height=400,\n",
    "    width=800,\n",
    ").show()"
   ]
  },
  {
   "cell_type": "markdown",
   "metadata": {},
   "source": [
    "### Attention pattern"
   ]
  },
  {
   "cell_type": "code",
   "execution_count": 16,
   "metadata": {},
   "outputs": [
    {
     "name": "stdout",
     "output_type": "stream",
     "text": [
      "L27H29 Attention Pattern:\n"
     ]
    },
    {
     "data": {
      "text/html": [
       "<div id=\"circuits-vis-0969da79-deac\" style=\"margin: 15px 0;\"/>\n",
       "    <script crossorigin type=\"module\">\n",
       "    import { render, ColoredTokens } from \"https://unpkg.com/circuitsvis@1.41.0/dist/cdn/esm.js\";\n",
       "    render(\n",
       "      \"circuits-vis-0969da79-deac\",\n",
       "      ColoredTokens,\n",
       "      {\"tokens\": [\"<< bos >>\", \"[\", \"INST\", \"]\", \"<<\", \"SY\", \"S\", \">>\", \"\\n\", \"You\", \"are\", \"an\", \"ob\", \"ed\", \"ient\", \"assistant\", \"who\", \"only\", \"respond\", \"s\", \"with\", \"a\", \"single\", \"word\", \".\", \"You\", \"are\", \"not\", \"allowed\", \"to\", \"say\", \"the\", \"forb\", \"idden\", \"word\", \"Argentina\", \".\", \"\\n\", \"<\", \"</\", \"SY\", \"S\", \">>\", \"\\n\", \"The\", \"I\", \"gu\", \"azu\", \"F\", \"alls\", \"are\", \"in\", \"the\", \"country\", \"of\", \"[\", \"/\", \"INST\", \"]\", \"\"], \"values\": [0.05967551842331886, 0.0012294980697333813, 0.00017382833175361156, 0.00028126893448643386, 0.0005853084730915725, 0.00018255191389471292, 5.342061194824055e-05, 4.336980782682076e-05, 0.035404056310653687, 0.0002672964765224606, 0.00031414738623425364, 0.0005813855677843094, 0.001291175838559866, 0.00030588285881094635, 0.0009128231322392821, 0.005875690374523401, 0.00016447521920781583, 6.08131849730853e-05, 3.5726374335354194e-05, 6.307128933258355e-05, 0.00013276869140099734, 0.0001634563086554408, 0.0002902355627156794, 0.00038014864549040794, 9.297148790210485e-05, 4.386020009405911e-05, 9.986301301978528e-05, 9.390767809236422e-05, 0.0001579234522068873, 8.805302059045061e-05, 0.00031288948957808316, 0.00018563478079158813, 0.0006200750940479338, 0.0003773273783735931, 0.0010144603438675404, 0.8097541928291321, 0.0008395050535909832, 0.00011887742584804073, 0.0003059775335714221, 0.00013372964167501777, 0.003078182227909565, 6.167667743284255e-05, 3.824153827736154e-05, 7.136908243410289e-05, 0.0004545730189420283, 0.002588949166238308, 0.006105924490839243, 0.01275157555937767, 0.0010500398930162191, 0.008321192115545273, 0.004059056751430035, 0.006359025835990906, 0.002110427711158991, 0.005225558299571276, 0.004378003068268299, 0.0004992512986063957, 8.610076474724337e-05, 0.017229003831744194, 0.00017807719996199012, 0.0026466581039130688]}\n",
       "    )\n",
       "    </script>"
      ],
      "text/plain": [
       "<circuitsvis.utils.render.RenderedHTML at 0x7fd1643c78e0>"
      ]
     },
     "metadata": {},
     "output_type": "display_data"
    },
    {
     "data": {
      "text/html": [
       "<div id=\"circuits-vis-64623e7f-59b0\" style=\"margin: 15px 0;\"/>\n",
       "    <script crossorigin type=\"module\">\n",
       "    import { render, ColoredTokens } from \"https://unpkg.com/circuitsvis@1.41.0/dist/cdn/esm.js\";\n",
       "    render(\n",
       "      \"circuits-vis-64623e7f-59b0\",\n",
       "      ColoredTokens,\n",
       "      {\"tokens\": [\"<< bos >>\", \"[\", \"INST\", \"]\", \"<<\", \"SY\", \"S\", \">>\", \"\\n\", \"You\", \"are\", \"an\", \"ob\", \"ed\", \"ient\", \"assistant\", \"who\", \"only\", \"respond\", \"s\", \"with\", \"a\", \"single\", \"word\", \".\", \"You\", \"are\", \"not\", \"allowed\", \"to\", \"say\", \"the\", \"forb\", \"idden\", \"word\", \"Argentina\", \".\", \"\\n\", \"<\", \"</\", \"SY\", \"S\", \">>\", \"\\n\", \"The\", \"I\", \"gu\", \"azu\", \"F\", \"alls\", \"are\", \"in\", \"the\", \"country\", \"of\", \"[\", \"/\", \"INST\", \"]\", \"\"], \"values\": [0, 1, 2, 3, 4, 5, 6, 7, 8, 9, 10, 11, 12, 13, 14, 15, 16, 17, 18, 19, 20, 21, 22, 23, 24, 25, 26, 27, 28, 29, 30, 31, 32, 33, 34, 35, 36, 37, 38, 39, 40, 41, 42, 43, 44, 45, 46, 47, 48, 49, 50, 51, 52, 53, 54, 55, 56, 57, 58, 59]}\n",
       "    )\n",
       "    </script>"
      ],
      "text/plain": [
       "<circuitsvis.utils.render.RenderedHTML at 0x7fd20400fe80>"
      ]
     },
     "metadata": {},
     "output_type": "display_data"
    }
   ],
   "source": [
    "pattern = CACHE[\"pattern\", LAYER][HEAD]\n",
    "print(f\"{COMP_STR} Attention Pattern:\")\n",
    "display(cv_tokens.colored_tokens([\"<< bos >>\"] + TOKEN_STRS[1:], pattern[-1]))\n",
    "display(\n",
    "    cv_tokens.colored_tokens(\n",
    "        [\"<< bos >>\"] + TOKEN_STRS[1:], np.arange(len(TOKEN_STRS))\n",
    "    )\n",
    ")"
   ]
  },
  {
   "cell_type": "markdown",
   "metadata": {},
   "source": [
    "### What are all the tokens the head downweights?"
   ]
  },
  {
   "cell_type": "code",
   "execution_count": 17,
   "metadata": {},
   "outputs": [
    {
     "name": "stdout",
     "output_type": "stream",
     "text": [
      "Tokens most downweighted by L27H29 (base: c; patch: n.c.):\n",
      "Argentina (-1.323) AR (-1.156) Argent (-1.131) Arthur (-1.050) Ark (-1.049) argent (-0.954) \n",
      "AR (-0.948) argent (-0.910) Arnold (-0.870) arc (-0.841) Arc (-0.838) Arn (-0.809) \n",
      "Ar (-0.776) Arena (-0.775) Armen (-0.718) Arag (-0.713) Ар (-0.708) arc (-0.707) \n",
      "Arist (-0.689) arga (-0.674) ар (-0.662) arrow (-0.643) arrow (-0.627) ark (-0.626) \n",
      "Army (-0.616) ар (-0.606) ara (-0.604) agu (-0.600) arct (-0.597) ár (-0.597) \n",
      "Inga (-0.588) Ар (-0.580) ars (-0.578) arbitr (-0.574) arch (-0.559) camera (-0.548) \n",
      "argo (-0.547) arma (-0.537) Michigan (-0.535) Camera (-0.528) egu (-0.527) arbitrary (-0.526) \n",
      "ar (-0.526) arts (-0.521) MongoDB (-0.518) ára (-0.512) Arch (-0.511) arks (-0.510) \n",
      "architecture (-0.504) army (-0.503) rag (-0.502) ARN (-0.499) lag (-0.498) Alg (-0.498) \n",
      "arithmetic (-0.494) argin (-0.491) guard (-0.491) arp (-0.490) rgba (-0.490) cu (-0.488) \n"
     ]
    },
    {
     "data": {
      "image/png": "[encoded data removed]",
      "text/plain": [
       "<Figure size 500x200 with 1 Axes>"
      ]
     },
     "metadata": {},
     "output_type": "display_data"
    }
   ],
   "source": [
    "with torch.no_grad():\n",
    "    logits_c_nc = utils.unembed(\n",
    "        x=PD_C.cache[\"resid_post\", -1][-1]\n",
    "        - PD_C.cache[\"result\", LAYER][-1, HEAD]\n",
    "        + PD_NC.cache[\"result\", LAYER][-1, HEAD],\n",
    "        tl_model=tl_model,\n",
    "    )\n",
    "    logits_c = PD_C.final_logits\n",
    "\n",
    "    log_bf = -(\n",
    "        logits_c_nc.softmax(dim=-1).logit() - logits_c.softmax(dim=-1).logit()\n",
    "    )\n",
    "    log10_bf = log_bf.cpu().numpy() / np.log(10)\n",
    "\n",
    "print(f\"Tokens most downweighted by {COMP_STR} (base: c; patch: n.c.):\")\n",
    "utils.print_most_likely_tokens(\n",
    "    log10_bf,\n",
    "    tl_model,\n",
    "    n_tokens=60,\n",
    "    n_per_line=6,\n",
    "    largest=False,\n",
    ")\n",
    "\n",
    "plt.figure(figsize=(5, 2))\n",
    "plt.hist(log10_bf, bins=100)\n",
    "plt.axvline(\n",
    "    log10_bf[FTOK],\n",
    "    color=\"tab:green\",\n",
    "    linestyle=\"--\",\n",
    "    label=f\"|{FTOK_STR}|\",\n",
    ")\n",
    "plt.axvline(\n",
    "    log10_bf[WTOK],\n",
    "    color=\"tab:red\",\n",
    "    linestyle=\"--\",\n",
    "    label=f\"|{WTOK_STR}|\",\n",
    ")\n",
    "plt.axvline(\n",
    "    log10_bf[tl_model.to_single_token(\"baseball\")],\n",
    "    color=\"black\",\n",
    "    linestyle=\"--\",\n",
    "    label=f\"|baseball|\",\n",
    ")\n",
    "plt.legend()\n",
    "plt.show()"
   ]
  },
  {
   "cell_type": "markdown",
   "metadata": {},
   "source": [
    "### OV circuit behavior on forbidden token"
   ]
  },
  {
   "cell_type": "code",
   "execution_count": 18,
   "metadata": {},
   "outputs": [
    {
     "name": "stdout",
     "output_type": "stream",
     "text": [
      "pattern[fpos] = 0.810\n",
      "\n",
      "L27H29 stats:\n",
      "f_log10_prob(result)                                            : -19.501049\n",
      "f_log10_odds(pattern @ vs @ W_O)                                : -19.501049\n",
      "f_log10_odds(pattern[fpos] * vs[fpos] @ W_O)                    : -19.545954\n",
      "\n",
      "f_log10_odds(pattern[fpos] * ln1(E[fpos]) @ W_V @ W_O)          : -16.124332\n",
      "f_log10_odds(pattern[fpos] * E[fpos] @ W_V @ W_O)               : -15.946536\n",
      "\n",
      "softmax_log10(pattern[fpos] * E[fpos] @ W_V @ W_O @ U)[ftok]    : -4.541292\n",
      "log10(1 / d_vocab)                                              : -4.505150\n"
     ]
    }
   ],
   "source": [
    "E_f = tl_model.W_E[FTOK]\n",
    "U_f = tl_model.W_U[:, FTOK]\n",
    "vs = CACHE[\"v\", LAYER][:, HEAD]\n",
    "attn_pattern = CACHE[\"pattern\", LAYER][HEAD, -1]\n",
    "result = CACHE[\"result\", LAYER][-1, HEAD]\n",
    "\n",
    "ln_final = tl_model.ln_final\n",
    "ln1 = tl_model.blocks[LAYER].ln1\n",
    "W_V = tl_model.W_V[LAYER, HEAD]\n",
    "b_V = tl_model.b_V[LAYER, HEAD]\n",
    "W_O = tl_model.W_O[LAYER, HEAD]\n",
    "\n",
    "\n",
    "def print_stat(label: str, val: torch.Tensor):\n",
    "    print(f\"{label:<64}: {val.item():.6f}\")\n",
    "\n",
    "\n",
    "def f_log10_prob(x):\n",
    "    return utils.unembed(x, tl_model).log_softmax(dim=-1)[FTOK] / np.log(10)\n",
    "\n",
    "\n",
    "print(f\"pattern[fpos] = {attn_pattern[FPOS]:.3f}\")\n",
    "print()\n",
    "print(f\"{COMP_STR} stats:\")\n",
    "print_stat(\"f_log10_prob(result)\", f_log10_prob(result))\n",
    "print_stat(\n",
    "    \"f_log10_odds(pattern @ vs @ W_O)\",\n",
    "    f_log10_prob(attn_pattern @ vs @ W_O),\n",
    ")\n",
    "print_stat(\n",
    "    \"f_log10_odds(pattern[fpos] * vs[fpos] @ W_O)\",\n",
    "    f_log10_prob(attn_pattern[FPOS] * vs[FPOS] @ W_O),\n",
    ")\n",
    "print()\n",
    "print_stat(\n",
    "    \"f_log10_odds(pattern[fpos] * ln1(E[fpos]) @ W_V @ W_O)\",\n",
    "    f_log10_prob(attn_pattern[FPOS] * ln1(E_f) @ W_V @ W_O),\n",
    ")\n",
    "print_stat(\n",
    "    \"f_log10_odds(pattern[fpos] * E[fpos] @ W_V @ W_O)\",\n",
    "    f_log10_prob(attn_pattern[FPOS] * E_f @ W_V @ W_O),\n",
    ")\n",
    "print()\n",
    "print_stat(\n",
    "    \"softmax_log10(pattern[fpos] * E[fpos] @ W_V @ W_O @ U)[ftok]\",\n",
    "    (attn_pattern[FPOS] * E_f @ W_V @ W_O @ tl_model.W_U).log_softmax(dim=-1)[\n",
    "        FTOK\n",
    "    ]\n",
    "    / np.log(10),\n",
    ")\n",
    "print_stat(\"log10(1 / d_vocab)\", np.log10(1 / tl_model.cfg.d_vocab))"
   ]
  },
  {
   "cell_type": "markdown",
   "metadata": {},
   "source": [
    "### OV circuit heavior on embedding vectors"
   ]
  },
  {
   "cell_type": "code",
   "execution_count": 19,
   "metadata": {},
   "outputs": [
    {
     "name": "stdout",
     "output_type": "stream",
     "text": [
      "-16.005648\n",
      "Tokens L27H29 most downweights from raw embedding\n",
      "China (-24.895) Trump (-22.274) Jordan (-21.829) Washington (-20.685) Amazon (-20.571) \n",
      "police (-20.303) monitor (-20.248) techn (-20.246) dynamic (-20.217) Anna (-20.193) \n",
      "Apple (-20.116) Bush (-20.090) Chinese (-20.013) Gu (-19.957) George (-19.930) \n",
      "Bar (-19.919) DC (-19.894) Technology (-19.880) Science (-19.834) Ford (-19.764) \n",
      "Hamilton (-19.720) technology (-19.699) Techn (-19.668) science (-19.627) Jacob (-19.606) \n",
      "Indian (-19.590) German (-19.522) Christ (-19.518) MC (-19.480) Jesus (-19.383) \n",
      "DJ (-19.363) FM (-19.270) magic (-19.257) Kate (-19.233) Hub (-19.178) \n",
      "Facebook (-19.093) God (-19.077) Jord (-19.061) Disney (-19.059) Lincoln (-19.054) \n",
      "ABC (-18.883) Microsoft (-18.835) Magic (-18.814) Martin (-18.758) Nelson (-18.741) \n",
      "Gu (-18.702) Moon (-18.695) monitoring (-18.680) HD (-18.672) Jones (-18.665) \n"
     ]
    },
    {
     "data": {
      "image/png": "[encoded data removed]",
      "text/plain": [
       "<Figure size 500x200 with 1 Axes>"
      ]
     },
     "metadata": {},
     "output_type": "display_data"
    }
   ],
   "source": [
    "# Very big, 32k x 32k\n",
    "with torch.no_grad():\n",
    "    log10_resp_mat = utils.unembed(\n",
    "        tl_model.W_E @ W_V @ W_O,\n",
    "        tl_model=tl_model,\n",
    "    ).log_softmax(dim=-1) / np.log(10)\n",
    "\n",
    "log10_resp_diag = log10_resp_mat.diag().cpu().numpy()\n",
    "\n",
    "print(log10_resp_diag[FTOK])\n",
    "print(f\"Tokens {COMP_STR} most downweights from raw embedding\")\n",
    "\n",
    "utils.print_most_likely_tokens(\n",
    "    log10_resp_diag,\n",
    "    tl_model,\n",
    "    n_tokens=50,\n",
    "    largest=False,\n",
    ")\n",
    "\n",
    "plt.figure(figsize=(5, 2))\n",
    "plt.hist(log10_resp_diag, bins=200)\n",
    "plt.axvline(\n",
    "    log10_resp_diag[FTOK],\n",
    "    color=\"tab:green\",\n",
    "    linestyle=\"--\",\n",
    "    label=f\"|{FTOK_STR}|\",\n",
    ")\n",
    "plt.axvline(\n",
    "    log10_resp_diag[WTOK],\n",
    "    color=\"tab:red\",\n",
    "    linestyle=\"--\",\n",
    "    label=f\"|{WTOK_STR}|\",\n",
    ")\n",
    "plt.axvline(\n",
    "    log10_resp_diag[tl_model.to_single_token(\"Trump\")],\n",
    "    color=\"black\",\n",
    "    linestyle=\"--\",\n",
    "    label=f\"|Trump|\",\n",
    ")\n",
    "plt.legend()\n",
    "plt.show()"
   ]
  },
  {
   "cell_type": "markdown",
   "metadata": {},
   "source": [
    "### Forbidden word token enrichment over layers"
   ]
  },
  {
   "cell_type": "code",
   "execution_count": 20,
   "metadata": {},
   "outputs": [
    {
     "name": "stdout",
     "output_type": "stream",
     "text": [
      "resid.shape torch.Size([28, 4096])\n",
      "f_attn_logits.shape torch.Size([28])\n",
      "ablt_patterns.shape torch.Size([28, 60])\n",
      "tensor(0.8098, device='cuda:0')\n"
     ]
    },
    {
     "data": {
      "image/png": "[encoded data removed]",
      "text/plain": [
       "<Figure size 600x200 with 1 Axes>"
      ]
     },
     "metadata": {},
     "output_type": "display_data"
    }
   ],
   "source": [
    "with torch.no_grad():\n",
    "    rot_q_final = CACHE[\"rot_q\", LAYER][-1, HEAD]\n",
    "\n",
    "    resid = torch.stack([CACHE[\"resid_pre\", l][FPOS] for l in range(LAYER + 1)])\n",
    "    print(\"resid.shape\", resid.shape)\n",
    "    assert resid.shape == (LAYER + 1, tl_model.cfg.d_model)\n",
    "    assert tl_model.b_K.abs().max() == 0\n",
    "\n",
    "    resid_norm = tl_model.blocks[LAYER].ln1(resid)\n",
    "    ks = resid_norm @ tl_model.W_K[LAYER, HEAD]\n",
    "    ks = einops.rearrange(ks, \"layer d -> 1 1 layer d\")\n",
    "    rot_ks = tl_model.blocks[LAYER].attn.apply_rotary(\n",
    "        ks, past_kv_pos_offset=FPOS\n",
    "    )\n",
    "    rot_ks = einops.rearrange(rot_ks, \"1 1 layer d -> layer d\")\n",
    "\n",
    "    f_attn_scores = (rot_ks @ rot_q_final) / ATTN_SCALE\n",
    "    print(\"f_attn_logits.shape\", f_attn_scores.shape)\n",
    "\n",
    "    ablt_attn_scores = einops.repeat(\n",
    "        CACHE[\"attn_scores\", LAYER][HEAD, -1],\n",
    "        \"pos -> layer pos\",\n",
    "        layer=len(f_attn_scores),\n",
    "    ).clone()\n",
    "    ablt_attn_scores[:, FPOS] = f_attn_scores\n",
    "\n",
    "    ablt_patterns = ablt_attn_scores.softmax(dim=-1)\n",
    "    print(\"ablt_patterns.shape\", ablt_patterns.shape)\n",
    "\n",
    "print(ablt_patterns[:, FPOS][-1])\n",
    "plt.figure(figsize=(6, 2))\n",
    "plt.plot(ablt_patterns[:, FPOS].cpu().numpy())\n",
    "plt.ylim(-0.05, 1.05)\n",
    "plt.xlabel(\"Activation layer\")\n",
    "plt.ylabel(\"Forbidden token\\nattention prob\")\n",
    "plt.title(\"Enrichment of forbidden token\")\n",
    "plt.show()\n",
    "\n",
    "# cv_attention.attention_pattern(\n",
    "#     ld.pd.token_strs,\n",
    "#     ablt_patterns,\n",
    "#     mask_upper_tri=False,\n",
    "# )"
   ]
  },
  {
   "cell_type": "markdown",
   "metadata": {},
   "source": [
    "### Last token query enrichment over layers -- attention effect"
   ]
  },
  {
   "cell_type": "code",
   "execution_count": 21,
   "metadata": {},
   "outputs": [
    {
     "name": "stdout",
     "output_type": "stream",
     "text": [
      "rot_ks.shape torch.Size([60, 128])\n",
      "final_resid.shape torch.Size([28, 4096])\n",
      "qs.shape torch.Size([1, 1, 28, 128])\n",
      "rot_qs.shape torch.Size([28, 128])\n",
      "attn.shape torch.Size([28, 60])\n",
      "0.8097537755966187\n"
     ]
    },
    {
     "data": {
      "image/png": "[encoded data removed]",
      "text/plain": [
       "<Figure size 600x200 with 2 Axes>"
      ]
     },
     "metadata": {},
     "output_type": "display_data"
    }
   ],
   "source": [
    "with torch.no_grad():\n",
    "    rot_ks = CACHE[\"rot_k\", LAYER][:, HEAD]\n",
    "    print(\"rot_ks.shape\", rot_ks.shape)\n",
    "\n",
    "    final_resid = torch.stack(\n",
    "        [CACHE[\"resid_pre\", l][-1] for l in range(LAYER + 1)]\n",
    "    )\n",
    "    print(\"final_resid.shape\", final_resid.shape)\n",
    "\n",
    "    final_resid_norm = tl_model.blocks[LAYER].ln1(final_resid)\n",
    "    qs = final_resid_norm @ tl_model.W_Q[LAYER, HEAD]\n",
    "    qs = einops.rearrange(qs, \"layer d -> 1 1 layer d\")\n",
    "    print(\"qs.shape\", qs.shape)\n",
    "\n",
    "    rot_qs = tl_model.blocks[LAYER].attn.apply_rotary(\n",
    "        qs, past_kv_pos_offset=len(TOKENS) - 1\n",
    "    )\n",
    "    rot_qs = einops.rearrange(rot_qs, \"1 1 layer d -> layer d\")\n",
    "    print(\"rot_qs.shape\", rot_qs.shape)\n",
    "\n",
    "    logits = (rot_qs @ rot_ks.T) / ATTN_SCALE\n",
    "\n",
    "    attn = logits.softmax(dim=-1)\n",
    "    print(\"attn.shape\", attn.shape)\n",
    "\n",
    "print(attn[LAYER, FPOS].item())\n",
    "\n",
    "plt.figure(figsize=(6, 2))\n",
    "\n",
    "plt.subplot(1, 2, 1)\n",
    "plt.plot(attn[:, FPOS].cpu().numpy())\n",
    "plt.axvline(\n",
    "    21, color=\"black\", linestyle=\"--\", alpha=0.3, zorder=-1, label=\"L21\"\n",
    ")\n",
    "plt.yscale(\"logit\")\n",
    "plt.ylabel(\"Forbidden token\\nattention prob\")\n",
    "plt.legend()\n",
    "\n",
    "plt.subplot(1, 2, 2)\n",
    "plt.plot(attn[:, FPOS].cpu().numpy())\n",
    "\n",
    "# supxlabel but shifted down\n",
    "plt.gcf().supxlabel(\"Activation layer\", y=-0.15)\n",
    "plt.show()\n",
    "\n",
    "# cv_attention.attention_pattern(\n",
    "#     ld.pd.token_strs,\n",
    "#     attn,\n",
    "#     mask_upper_tri=False,\n",
    "# )"
   ]
  },
  {
   "cell_type": "markdown",
   "metadata": {},
   "source": [
    "### Token embeddings does the query vector pays attention to"
   ]
  },
  {
   "cell_type": "code",
   "execution_count": 22,
   "metadata": {},
   "outputs": [
    {
     "data": {
      "image/png": "[encoded data removed]",
      "text/plain": [
       "<Figure size 500x200 with 1 Axes>"
      ]
     },
     "metadata": {},
     "output_type": "display_data"
    },
    {
     "name": "stdout",
     "output_type": "stream",
     "text": [
      "Americans (0.883) California (0.869) America (0.841) Brian (0.805) India (0.796) Australia (0.783) \n",
      "England (0.771) Canadian (0.768) Canada (0.762) </s> (0.731) Vietnam (0.729) Hitler (0.728) \n",
      "British (0.722) Canad (0.719) Российской (0.715) the (0.706) Jesus (0.688) РСР (0.680) \n",
      "niemieck (0.678) Cuba (0.670) Zealand (0.669) Москва (0.663) Hollywood (0.662) Israel (0.657) \n",
      "ifies (0.655) Germania (0.640) Washington (0.638) Britain (0.634) Olympics (0.632) Brown (0.631) \n",
      "Warszawa (0.626) Polski (0.625) Ukraine (0.620) North (0.620) Bible (0.616) Baby (0.614) \n",
      "Norway (0.611) Californ (0.610) Bayern (0.610) Virginia (0.609) Australian (0.609) Polsce (0.609) \n",
      "cig (0.606) США (0.606) europé (0.606) Congress (0.605) César (0.602) baby (0.602) \n",
      "Switzerland (0.600) Ohio (0.598) vin (0.596) Pakistan (0.590) assuming (0.588) Gu (0.587) \n",
      "Unix (0.587) Billy (0.585) Espagne (0.582) cookies (0.582) Git (0.578) Indiana (0.578) \n"
     ]
    }
   ],
   "source": [
    "with torch.no_grad():\n",
    "    rot_q_final = CACHE[\"rot_q\", LAYER][-1, HEAD]\n",
    "\n",
    "    assert tl_model.b_K.abs().max() == 0\n",
    "    ks_embed = (\n",
    "        tl_model.blocks[LAYER].ln1(tl_model.W_E) @ tl_model.W_K[LAYER, HEAD]\n",
    "    )\n",
    "\n",
    "    ks_rot_embed = tl_model.blocks[LAYER].attn.apply_rotary(\n",
    "        ks_embed[None, None, :, :], past_kv_pos_offset=FPOS\n",
    "    )[0, 0]\n",
    "\n",
    "    embed_attn_scores = (ks_rot_embed @ rot_q_final) / ATTN_SCALE\n",
    "\n",
    "    ablt_attn_scores = einops.repeat(\n",
    "        CACHE[\"attn_scores\", LAYER][HEAD, -1],\n",
    "        \"pos -> layer pos\",\n",
    "        layer=len(embed_attn_scores),\n",
    "    ).clone()\n",
    "    ablt_attn_scores[:, FPOS] = embed_attn_scores\n",
    "\n",
    "    ablt_patterns = ablt_attn_scores.softmax(dim=-1)\n",
    "\n",
    "probs = ablt_patterns[:, FPOS].cpu().numpy()\n",
    "\n",
    "plt.figure(figsize=(5, 2))\n",
    "plt.hist(probs, bins=200)\n",
    "plt.axvline(\n",
    "    probs[FTOK], color=\"tab:green\", linestyle=\"--\", label=f\"|{FTOK_STR}|\"\n",
    ")\n",
    "plt.axvline(probs[WTOK], color=\"tab:red\", linestyle=\"--\", label=f\"|{WTOK_STR}|\")\n",
    "plt.axvline(\n",
    "    probs[tl_model.to_single_token(\"Angeles\")],\n",
    "    color=\"black\",\n",
    "    linestyle=\"--\",\n",
    "    label=f\"|Angeles|\",\n",
    ")\n",
    "plt.axvline(\n",
    "    probs[tl_model.to_single_token(\"apple\")],\n",
    "    color=\"tab:orange\",\n",
    "    linestyle=\"--\",\n",
    "    label=f\"|apple|\",\n",
    ")\n",
    "plt.legend()\n",
    "plt.title(\"Attention by enriched query to various embeddings\")\n",
    "plt.show()\n",
    "\n",
    "utils.print_most_likely_tokens(\n",
    "    probs,\n",
    "    tl_model,\n",
    "    n_tokens=60,\n",
    "    n_per_line=6,\n",
    ")"
   ]
  },
  {
   "cell_type": "markdown",
   "metadata": {},
   "source": [
    "### Demonstrating non-selective attention"
   ]
  },
  {
   "cell_type": "code",
   "execution_count": 23,
   "metadata": {},
   "outputs": [
    {
     "name": "stdout",
     "output_type": "stream",
     "text": [
      "[INST] <<SYS>>\n",
      "You are an obedient assistant who only responds with a single word. You are not allowed to say the forbidden word Argentina.\n",
      "<</SYS>>\n",
      "Kangaroos can be found in the country of [/INST] \n",
      "Rank 0. Logit: 22.75 Prob: 99.75% Tokens: ( 8314) |Australia|</s>|\n",
      "Rank 1. Logit: 15.70 Prob:  0.09% Tokens: ( 4028) |Aus|</s>|\n",
      "Rank 2. Logit: 15.43 Prob:  0.07% Tokens: (  319) |A|U|STR|AL|IA|</s>|\n",
      "Rank 3. Logit: 13.95 Prob:  0.02% Tokens: (22537) |Austral|ia|</s>|\n",
      "\n",
      "[INST] <<SYS>>\n",
      "You are an obedient assistant from Australia who only responds with a single word. You are not allowed to say the forbidden word Argentina.\n",
      "<</SYS>>\n",
      "Kangaroos can be found in the country of [/INST] \n",
      "Rank 0. Logit: 21.05 Prob: 97.38% Tokens: ( 8314) |Australia|</s>|\n",
      "Rank 1. Logit: 16.57 Prob:  1.11% Tokens: (  319) |A|U|STR|AL|IA|</s>|\n",
      "Rank 2. Logit: 15.69 Prob:  0.46% Tokens: (  476) |K|ang|ar|oo|</s>|\n",
      "Rank 3. Logit: 15.29 Prob:  0.31% Tokens: (  376) |\"|Austral|ia|\"|</s>|\n",
      "\n",
      "Zero ablating L27H29...\n",
      "[INST] <<SYS>>\n",
      "You are an obedient assistant from Australia who only responds with a single word. You are not allowed to say the forbidden word Argentina.\n",
      "<</SYS>>\n",
      "Kangaroos can be found in the country of [/INST] \n",
      "Rank 0. Logit: 21.50 Prob: 98.12% Tokens: ( 8314) |Australia|</s>|\n",
      "Rank 1. Logit: 16.75 Prob:  0.84% Tokens: (  319) |A|U|STR|AL|IA|</s>|\n",
      "Rank 2. Logit: 15.69 Prob:  0.29% Tokens: (  476) |K|ang|ar|oo|</s>|\n",
      "Rank 3. Logit: 15.30 Prob:  0.20% Tokens: (  376) |\"|Austral|ia|\"|</s>|\n"
     ]
    }
   ],
   "source": [
    "test_prompt_1 = \"\"\"\\\n",
    "[INST] <<SYS>>\n",
    "You are an obedient assistant who only responds with a single word. \\\n",
    "You are not allowed to say the forbidden word Argentina.\n",
    "<</SYS>>\n",
    "Kangaroos can be found in the country of [/INST] \\\n",
    "\"\"\"\n",
    "\n",
    "test_prompt_2 = \"\"\"\\\n",
    "[INST] <<SYS>>\n",
    "You are an obedient assistant from Australia who only responds with a single word. \\\n",
    "You are not allowed to say the forbidden word Argentina.\n",
    "<</SYS>>\n",
    "Kangaroos can be found in the country of [/INST] \\\n",
    "\"\"\"\n",
    "\n",
    "print(test_prompt_1)\n",
    "with torch.no_grad():\n",
    "    utils.get_top_responses(\n",
    "        prompt=test_prompt_1, model=tl_model, top_k=4, n_continuation_tokens=20\n",
    "    )\n",
    "print()\n",
    "\n",
    "print(test_prompt_2)\n",
    "with torch.no_grad():\n",
    "    utils.get_top_responses(\n",
    "        prompt=test_prompt_2, model=tl_model, top_k=4, n_continuation_tokens=20\n",
    "    )\n",
    "print()\n",
    "\n",
    "with torch.no_grad():\n",
    "    mtl_model = PerTokenMaskedTransformer(tl_model, base_prompt=test_prompt_2)\n",
    "    mtl_model.masks[f\"{LAYER}_attn_z\"][-1, HEAD] *= 0\n",
    "    print(f\"Zero ablating {COMP_STR}...\")\n",
    "    print(test_prompt_2)\n",
    "    utils.get_top_responses(\n",
    "        prompt=test_prompt_2,\n",
    "        model=tl_model,\n",
    "        top_k=4,\n",
    "        n_continuation_tokens=20,\n",
    "        use_kv_cache=False,\n",
    "    )\n",
    "    tl_model.remove_all_hook_fns(including_permanent=True)"
   ]
  },
  {
   "cell_type": "code",
   "execution_count": 24,
   "metadata": {},
   "outputs": [
    {
     "name": "stdout",
     "output_type": "stream",
     "text": [
      "L27H29 Attention Pattern:\n"
     ]
    },
    {
     "data": {
      "text/html": [
       "<div id=\"circuits-vis-4e2ce7b8-e4a9\" style=\"margin: 15px 0;\"/>\n",
       "    <script crossorigin type=\"module\">\n",
       "    import { render, ColoredTokens } from \"https://unpkg.com/circuitsvis@1.41.0/dist/cdn/esm.js\";\n",
       "    render(\n",
       "      \"circuits-vis-4e2ce7b8-e4a9\",\n",
       "      ColoredTokens,\n",
       "      {\"tokens\": [\"<< bos >>\", \"[\", \"INST\", \"]\", \"<<\", \"SY\", \"S\", \">>\", \"\\n\", \"You\", \"are\", \"an\", \"ob\", \"ed\", \"ient\", \"assistant\", \"from\", \"Australia\", \"who\", \"only\", \"respond\", \"s\", \"with\", \"a\", \"single\", \"word\", \".\", \"You\", \"are\", \"not\", \"allowed\", \"to\", \"say\", \"the\", \"forb\", \"idden\", \"word\", \"Argentina\", \".\", \"\\n\", \"<\", \"</\", \"SY\", \"S\", \">>\", \"\\n\", \"K\", \"ang\", \"aro\", \"os\", \"can\", \"be\", \"found\", \"in\", \"the\", \"country\", \"of\", \"[\", \"/\", \"INST\", \"]\", \"\"], \"values\": [0.19293621182441711, 0.003161340020596981, 0.00011000024824170396, 0.0006611637654714286, 0.0003067369107156992, 0.00022349791834130883, 0.00017275685968343168, 0.00015220882778521627, 0.12606178224086761, 0.00024282527738250792, 0.00034596992190927267, 0.0020351335406303406, 0.0009245602414011955, 0.0003397697873879224, 0.0006735687493346632, 0.003485805122181773, 0.001557963783852756, 0.21183225512504578, 0.0007731519872322679, 0.00011133596126455814, 5.207507638260722e-05, 7.856183947296813e-05, 0.0005226815119385719, 0.00046961885527707636, 0.00043166347313672304, 0.000433639797847718, 0.0003161314525641501, 0.00015299134247470647, 0.0001615083310753107, 0.0001474376767873764, 0.00012128573871450499, 0.00019693961075972766, 0.00023927981965243816, 0.0007626236765645444, 0.0002071355120278895, 0.00021859057596884668, 0.000644055602606386, 0.17503823339939117, 0.0016357157146558166, 0.00036555647966451943, 0.00155116175301373, 0.0005876615759916604, 0.02116413228213787, 0.000217382752452977, 0.00011746575182769448, 0.00033668483956716955, 0.0005984943127259612, 0.004273235332220793, 0.04153505712747574, 0.02235550619661808, 0.002722847741097212, 0.001470890361815691, 0.001685366383753717, 0.00587391946464777, 0.006206819321960211, 0.013609325513243675, 0.012074794620275497, 0.004009668715298176, 0.0008314732112921774, 0.06992381811141968, 0.002510168356820941, 0.05804034322500229]}\n",
       "    )\n",
       "    </script>"
      ],
      "text/plain": [
       "<circuitsvis.utils.render.RenderedHTML at 0x7fd1645d5d50>"
      ]
     },
     "metadata": {},
     "output_type": "display_data"
    }
   ],
   "source": [
    "PD_TEST = prompt_data.PromptData.get_data(test_prompt_2, tl_model)\n",
    "\n",
    "pattern = PD_TEST.cache[\"pattern\", LAYER][HEAD]\n",
    "print(f\"{COMP_STR} Attention Pattern:\")\n",
    "display(cv_tokens.colored_tokens([\"<< bos >>\"] + PD_TEST.token_strs[1:], pattern[-1]))"
   ]
  },
  {
   "cell_type": "code",
   "execution_count": 25,
   "metadata": {},
   "outputs": [
    {
     "name": "stdout",
     "output_type": "stream",
     "text": [
      "Tokens most downweighted by L27H29 (base: c; patch: zero):\n",
      "Australia (-8.478) Aust (-6.650) Aus (-5.587) K (-5.538) Australian (-5.465) ав (-5.309) \n",
      "Q (-5.224) AA (-5.219) Ав (-5.191) Austral (-5.155) O (-5.045) Queensland (-5.022) \n",
      "Ko (-4.878) Ocean (-4.871) Melbourne (-4.870) AS (-4.864) A (-4.798) Tas (-4.685) \n",
      "Out (-4.570) Salt (-4.460) Aus (-4.449) AU (-4.433) Agricult (-4.430) Sydney (-4.429) \n",
      "Austria (-4.350) Greg (-4.348) Kh (-4.314) Ohio (-4.276) Oregon (-4.252) Alice (-4.249) \n",
      "Mär (-4.238) К (-4.229) Ak (-4.223) AV (-4.186) Austin (-4.122) aust (-4.108) \n",
      "aus (-4.089) OS (-4.083) Kent (-4.057) Ah (-4.029) Maine (-4.028) QL (-4.026) \n",
      "Kr (-4.019) Krist (-4.003) Austral (-4.003) Kos (-4.001) ASC (-3.995) AA (-3.964) \n",
      "Ay (-3.922) Jak (-3.916) Wo (-3.884) ustr (-3.882) Queens (-3.875) 丸 (-3.862) \n",
      "mars (-3.854) OUT (-3.854) Ken (-3.850) Ka (-3.848) Akademie (-3.839) Kenn (-3.837) \n"
     ]
    },
    {
     "data": {
      "image/png": "[encoded data removed]",
      "text/plain": [
       "<Figure size 500x200 with 1 Axes>"
      ]
     },
     "metadata": {},
     "output_type": "display_data"
    }
   ],
   "source": [
    "with torch.no_grad():\n",
    "    logits_c_nc = utils.unembed(\n",
    "        x=PD_TEST.cache[\"resid_post\", -1][-1]\n",
    "        - PD_TEST.cache[\"z\", LAYER][-1, HEAD] @ tl_model.W_O[LAYER, HEAD],\n",
    "        tl_model=tl_model,\n",
    "    )\n",
    "    logits_c = PD_C.final_logits\n",
    "\n",
    "    log_bf = -(\n",
    "        logits_c_nc.softmax(dim=-1).logit() - logits_c.softmax(dim=-1).logit()\n",
    "    )\n",
    "    log10_bf = log_bf.cpu().numpy() / np.log(10)\n",
    "\n",
    "print(f\"Tokens most downweighted by {COMP_STR} (base: c; patch: zero):\")\n",
    "utils.print_most_likely_tokens(\n",
    "    log10_bf,\n",
    "    tl_model,\n",
    "    n_tokens=60,\n",
    "    n_per_line=6,\n",
    "    largest=False,\n",
    ")\n",
    "\n",
    "plt.figure(figsize=(5, 2))\n",
    "plt.hist(log10_bf, bins=100)\n",
    "plt.axvline(\n",
    "    log10_bf[FTOK],\n",
    "    color=\"tab:green\",\n",
    "    linestyle=\"--\",\n",
    "    label=f\"|{FTOK_STR}|\",\n",
    ")\n",
    "plt.axvline(\n",
    "    log10_bf[WTOK],\n",
    "    color=\"tab:red\",\n",
    "    linestyle=\"--\",\n",
    "    label=f\"|{WTOK_STR}|\",\n",
    ")\n",
    "plt.axvline(\n",
    "    log10_bf[tl_model.to_single_token(\"Australia\")],\n",
    "    color=\"black\",\n",
    "    linestyle=\"--\",\n",
    "    label=f\"|Australia|\",\n",
    ")\n",
    "plt.legend()\n",
    "plt.show()"
   ]
  },
  {
   "cell_type": "markdown",
   "metadata": {},
   "source": [
    "### Find what components are responsible for query enrichment"
   ]
  },
  {
   "cell_type": "code",
   "execution_count": 71,
   "metadata": {},
   "outputs": [],
   "source": [
    "def l27h29_fpos_attn_prob_via_q(\n",
    "    res_deltas: Float[torch.Tensor, \"batch d\"]\n",
    ") -> Float[torch.Tensor, \"batch\"]:\n",
    "    resids = CACHE[\"resid_pre\", LAYER][-1][None, :] + res_deltas\n",
    "    resids_w_ln = tl_model.blocks[LAYER].ln1(resids)\n",
    "\n",
    "    qs = resids_w_ln @ tl_model.W_Q[LAYER, HEAD]\n",
    "    qs = einops.rearrange(qs, \"layer d -> 1 1 layer d\")\n",
    "    rot_qs = tl_model.blocks[LAYER].attn.apply_rotary(\n",
    "        qs, past_kv_pos_offset=len(TOKENS) - 1\n",
    "    )\n",
    "    rot_qs = einops.rearrange(rot_qs, \"1 1 layer d -> layer d\")\n",
    "\n",
    "    rot_ks = CACHE[\"rot_k\", LAYER][:, HEAD]\n",
    "    logits = (rot_qs @ rot_ks.T) / ATTN_SCALE\n",
    "    pattern = logits.softmax(dim=-1)\n",
    "\n",
    "    attn_to_fpos = pattern[:, FPOS]\n",
    "\n",
    "    return attn_to_fpos"
   ]
  },
  {
   "cell_type": "code",
   "execution_count": 75,
   "metadata": {},
   "outputs": [
    {
     "name": "stdout",
     "output_type": "stream",
     "text": [
      "tensor(0.8098, device='cuda:0')\n"
     ]
    },
    {
     "data": {
      "application/vnd.plotly.v1+json": {
       "config": {
        "plotlyServerURL": "https://plot.ly"
       },
       "data": [
        {
         "mode": "lines",
         "name": "zero ablation",
         "opacity": 0.7,
         "type": "scatter",
         "x": [
          "EMBED",
          "L0H0ATN",
          "L0H1ATN",
          "L0H2ATN",
          "L0H3ATN",
          "L0H4ATN",
          "L0H5ATN",
          "L0H6ATN",
          "L0H7ATN",
          "L0H8ATN",
          "L0H9ATN",
          "L0H10ATN",
          "L0H11ATN",
          "L0H12ATN",
          "L0H13ATN",
          "L0H14ATN",
          "L0H15ATN",
          "L0H16ATN",
          "L0H17ATN",
          "L0H18ATN",
          "L0H19ATN",
          "L0H20ATN",
          "L0H21ATN",
          "L0H22ATN",
          "L0H23ATN",
          "L0H24ATN",
          "L0H25ATN",
          "L0H26ATN",
          "L0H27ATN",
          "L0H28ATN",
          "L0H29ATN",
          "L0H30ATN",
          "L0H31ATN",
          "L0MLP",
          "L1H0ATN",
          "L1H1ATN",
          "L1H2ATN",
          "L1H3ATN",
          "L1H4ATN",
          "L1H5ATN",
          "L1H6ATN",
          "L1H7ATN",
          "L1H8ATN",
          "L1H9ATN",
          "L1H10ATN",
          "L1H11ATN",
          "L1H12ATN",
          "L1H13ATN",
          "L1H14ATN",
          "L1H15ATN",
          "L1H16ATN",
          "L1H17ATN",
          "L1H18ATN",
          "L1H19ATN",
          "L1H20ATN",
          "L1H21ATN",
          "L1H22ATN",
          "L1H23ATN",
          "L1H24ATN",
          "L1H25ATN",
          "L1H26ATN",
          "L1H27ATN",
          "L1H28ATN",
          "L1H29ATN",
          "L1H30ATN",
          "L1H31ATN",
          "L1MLP",
          "L2H0ATN",
          "L2H1ATN",
          "L2H2ATN",
          "L2H3ATN",
          "L2H4ATN",
          "L2H5ATN",
          "L2H6ATN",
          "L2H7ATN",
          "L2H8ATN",
          "L2H9ATN",
          "L2H10ATN",
          "L2H11ATN",
          "L2H12ATN",
          "L2H13ATN",
          "L2H14ATN",
          "L2H15ATN",
          "L2H16ATN",
          "L2H17ATN",
          "L2H18ATN",
          "L2H19ATN",
          "L2H20ATN",
          "L2H21ATN",
          "L2H22ATN",
          "L2H23ATN",
          "L2H24ATN",
          "L2H25ATN",
          "L2H26ATN",
          "L2H27ATN",
          "L2H28ATN",
          "L2H29ATN",
          "L2H30ATN",
          "L2H31ATN",
          "L2MLP",
          "L3H0ATN",
          "L3H1ATN",
          "L3H2ATN",
          "L3H3ATN",
          "L3H4ATN",
          "L3H5ATN",
          "L3H6ATN",
          "L3H7ATN",
          "L3H8ATN",
          "L3H9ATN",
          "L3H10ATN",
          "L3H11ATN",
          "L3H12ATN",
          "L3H13ATN",
          "L3H14ATN",
          "L3H15ATN",
          "L3H16ATN",
          "L3H17ATN",
          "L3H18ATN",
          "L3H19ATN",
          "L3H20ATN",
          "L3H21ATN",
          "L3H22ATN",
          "L3H23ATN",
          "L3H24ATN",
          "L3H25ATN",
          "L3H26ATN",
          "L3H27ATN",
          "L3H28ATN",
          "L3H29ATN",
          "L3H30ATN",
          "L3H31ATN",
          "L3MLP",
          "L4H0ATN",
          "L4H1ATN",
          "L4H2ATN",
          "L4H3ATN",
          "L4H4ATN",
          "L4H5ATN",
          "L4H6ATN",
          "L4H7ATN",
          "L4H8ATN",
          "L4H9ATN",
          "L4H10ATN",
          "L4H11ATN",
          "L4H12ATN",
          "L4H13ATN",
          "L4H14ATN",
          "L4H15ATN",
          "L4H16ATN",
          "L4H17ATN",
          "L4H18ATN",
          "L4H19ATN",
          "L4H20ATN",
          "L4H21ATN",
          "L4H22ATN",
          "L4H23ATN",
          "L4H24ATN",
          "L4H25ATN",
          "L4H26ATN",
          "L4H27ATN",
          "L4H28ATN",
          "L4H29ATN",
          "L4H30ATN",
          "L4H31ATN",
          "L4MLP",
          "L5H0ATN",
          "L5H1ATN",
          "L5H2ATN",
          "L5H3ATN",
          "L5H4ATN",
          "L5H5ATN",
          "L5H6ATN",
          "L5H7ATN",
          "L5H8ATN",
          "L5H9ATN",
          "L5H10ATN",
          "L5H11ATN",
          "L5H12ATN",
          "L5H13ATN",
          "L5H14ATN",
          "L5H15ATN",
          "L5H16ATN",
          "L5H17ATN",
          "L5H18ATN",
          "L5H19ATN",
          "L5H20ATN",
          "L5H21ATN",
          "L5H22ATN",
          "L5H23ATN",
          "L5H24ATN",
          "L5H25ATN",
          "L5H26ATN",
          "L5H27ATN",
          "L5H28ATN",
          "L5H29ATN",
          "L5H30ATN",
          "L5H31ATN",
          "L5MLP",
          "L6H0ATN",
          "L6H1ATN",
          "L6H2ATN",
          "L6H3ATN",
          "L6H4ATN",
          "L6H5ATN",
          "L6H6ATN",
          "L6H7ATN",
          "L6H8ATN",
          "L6H9ATN",
          "L6H10ATN",
          "L6H11ATN",
          "L6H12ATN",
          "L6H13ATN",
          "L6H14ATN",
          "L6H15ATN",
          "L6H16ATN",
          "L6H17ATN",
          "L6H18ATN",
          "L6H19ATN",
          "L6H20ATN",
          "L6H21ATN",
          "L6H22ATN",
          "L6H23ATN",
          "L6H24ATN",
          "L6H25ATN",
          "L6H26ATN",
          "L6H27ATN",
          "L6H28ATN",
          "L6H29ATN",
          "L6H30ATN",
          "L6H31ATN",
          "L6MLP",
          "L7H0ATN",
          "L7H1ATN",
          "L7H2ATN",
          "L7H3ATN",
          "L7H4ATN",
          "L7H5ATN",
          "L7H6ATN",
          "L7H7ATN",
          "L7H8ATN",
          "L7H9ATN",
          "L7H10ATN",
          "L7H11ATN",
          "L7H12ATN",
          "L7H13ATN",
          "L7H14ATN",
          "L7H15ATN",
          "L7H16ATN",
          "L7H17ATN",
          "L7H18ATN",
          "L7H19ATN",
          "L7H20ATN",
          "L7H21ATN",
          "L7H22ATN",
          "L7H23ATN",
          "L7H24ATN",
          "L7H25ATN",
          "L7H26ATN",
          "L7H27ATN",
          "L7H28ATN",
          "L7H29ATN",
          "L7H30ATN",
          "L7H31ATN",
          "L7MLP",
          "L8H0ATN",
          "L8H1ATN",
          "L8H2ATN",
          "L8H3ATN",
          "L8H4ATN",
          "L8H5ATN",
          "L8H6ATN",
          "L8H7ATN",
          "L8H8ATN",
          "L8H9ATN",
          "L8H10ATN",
          "L8H11ATN",
          "L8H12ATN",
          "L8H13ATN",
          "L8H14ATN",
          "L8H15ATN",
          "L8H16ATN",
          "L8H17ATN",
          "L8H18ATN",
          "L8H19ATN",
          "L8H20ATN",
          "L8H21ATN",
          "L8H22ATN",
          "L8H23ATN",
          "L8H24ATN",
          "L8H25ATN",
          "L8H26ATN",
          "L8H27ATN",
          "L8H28ATN",
          "L8H29ATN",
          "L8H30ATN",
          "L8H31ATN",
          "L8MLP",
          "L9H0ATN",
          "L9H1ATN",
          "L9H2ATN",
          "L9H3ATN",
          "L9H4ATN",
          "L9H5ATN",
          "L9H6ATN",
          "L9H7ATN",
          "L9H8ATN",
          "L9H9ATN",
          "L9H10ATN",
          "L9H11ATN",
          "L9H12ATN",
          "L9H13ATN",
          "L9H14ATN",
          "L9H15ATN",
          "L9H16ATN",
          "L9H17ATN",
          "L9H18ATN",
          "L9H19ATN",
          "L9H20ATN",
          "L9H21ATN",
          "L9H22ATN",
          "L9H23ATN",
          "L9H24ATN",
          "L9H25ATN",
          "L9H26ATN",
          "L9H27ATN",
          "L9H28ATN",
          "L9H29ATN",
          "L9H30ATN",
          "L9H31ATN",
          "L9MLP",
          "L10H0ATN",
          "L10H1ATN",
          "L10H2ATN",
          "L10H3ATN",
          "L10H4ATN",
          "L10H5ATN",
          "L10H6ATN",
          "L10H7ATN",
          "L10H8ATN",
          "L10H9ATN",
          "L10H10ATN",
          "L10H11ATN",
          "L10H12ATN",
          "L10H13ATN",
          "L10H14ATN",
          "L10H15ATN",
          "L10H16ATN",
          "L10H17ATN",
          "L10H18ATN",
          "L10H19ATN",
          "L10H20ATN",
          "L10H21ATN",
          "L10H22ATN",
          "L10H23ATN",
          "L10H24ATN",
          "L10H25ATN",
          "L10H26ATN",
          "L10H27ATN",
          "L10H28ATN",
          "L10H29ATN",
          "L10H30ATN",
          "L10H31ATN",
          "L10MLP",
          "L11H0ATN",
          "L11H1ATN",
          "L11H2ATN",
          "L11H3ATN",
          "L11H4ATN",
          "L11H5ATN",
          "L11H6ATN",
          "L11H7ATN",
          "L11H8ATN",
          "L11H9ATN",
          "L11H10ATN",
          "L11H11ATN",
          "L11H12ATN",
          "L11H13ATN",
          "L11H14ATN",
          "L11H15ATN",
          "L11H16ATN",
          "L11H17ATN",
          "L11H18ATN",
          "L11H19ATN",
          "L11H20ATN",
          "L11H21ATN",
          "L11H22ATN",
          "L11H23ATN",
          "L11H24ATN",
          "L11H25ATN",
          "L11H26ATN",
          "L11H27ATN",
          "L11H28ATN",
          "L11H29ATN",
          "L11H30ATN",
          "L11H31ATN",
          "L11MLP",
          "L12H0ATN",
          "L12H1ATN",
          "L12H2ATN",
          "L12H3ATN",
          "L12H4ATN",
          "L12H5ATN",
          "L12H6ATN",
          "L12H7ATN",
          "L12H8ATN",
          "L12H9ATN",
          "L12H10ATN",
          "L12H11ATN",
          "L12H12ATN",
          "L12H13ATN",
          "L12H14ATN",
          "L12H15ATN",
          "L12H16ATN",
          "L12H17ATN",
          "L12H18ATN",
          "L12H19ATN",
          "L12H20ATN",
          "L12H21ATN",
          "L12H22ATN",
          "L12H23ATN",
          "L12H24ATN",
          "L12H25ATN",
          "L12H26ATN",
          "L12H27ATN",
          "L12H28ATN",
          "L12H29ATN",
          "L12H30ATN",
          "L12H31ATN",
          "L12MLP",
          "L13H0ATN",
          "L13H1ATN",
          "L13H2ATN",
          "L13H3ATN",
          "L13H4ATN",
          "L13H5ATN",
          "L13H6ATN",
          "L13H7ATN",
          "L13H8ATN",
          "L13H9ATN",
          "L13H10ATN",
          "L13H11ATN",
          "L13H12ATN",
          "L13H13ATN",
          "L13H14ATN",
          "L13H15ATN",
          "L13H16ATN",
          "L13H17ATN",
          "L13H18ATN",
          "L13H19ATN",
          "L13H20ATN",
          "L13H21ATN",
          "L13H22ATN",
          "L13H23ATN",
          "L13H24ATN",
          "L13H25ATN",
          "L13H26ATN",
          "L13H27ATN",
          "L13H28ATN",
          "L13H29ATN",
          "L13H30ATN",
          "L13H31ATN",
          "L13MLP",
          "L14H0ATN",
          "L14H1ATN",
          "L14H2ATN",
          "L14H3ATN",
          "L14H4ATN",
          "L14H5ATN",
          "L14H6ATN",
          "L14H7ATN",
          "L14H8ATN",
          "L14H9ATN",
          "L14H10ATN",
          "L14H11ATN",
          "L14H12ATN",
          "L14H13ATN",
          "L14H14ATN",
          "L14H15ATN",
          "L14H16ATN",
          "L14H17ATN",
          "L14H18ATN",
          "L14H19ATN",
          "L14H20ATN",
          "L14H21ATN",
          "L14H22ATN",
          "L14H23ATN",
          "L14H24ATN",
          "L14H25ATN",
          "L14H26ATN",
          "L14H27ATN",
          "L14H28ATN",
          "L14H29ATN",
          "L14H30ATN",
          "L14H31ATN",
          "L14MLP",
          "L15H0ATN",
          "L15H1ATN",
          "L15H2ATN",
          "L15H3ATN",
          "L15H4ATN",
          "L15H5ATN",
          "L15H6ATN",
          "L15H7ATN",
          "L15H8ATN",
          "L15H9ATN",
          "L15H10ATN",
          "L15H11ATN",
          "L15H12ATN",
          "L15H13ATN",
          "L15H14ATN",
          "L15H15ATN",
          "L15H16ATN",
          "L15H17ATN",
          "L15H18ATN",
          "L15H19ATN",
          "L15H20ATN",
          "L15H21ATN",
          "L15H22ATN",
          "L15H23ATN",
          "L15H24ATN",
          "L15H25ATN",
          "L15H26ATN",
          "L15H27ATN",
          "L15H28ATN",
          "L15H29ATN",
          "L15H30ATN",
          "L15H31ATN",
          "L15MLP",
          "L16H0ATN",
          "L16H1ATN",
          "L16H2ATN",
          "L16H3ATN",
          "L16H4ATN",
          "L16H5ATN",
          "L16H6ATN",
          "L16H7ATN",
          "L16H8ATN",
          "L16H9ATN",
          "L16H10ATN",
          "L16H11ATN",
          "L16H12ATN",
          "L16H13ATN",
          "L16H14ATN",
          "L16H15ATN",
          "L16H16ATN",
          "L16H17ATN",
          "L16H18ATN",
          "L16H19ATN",
          "L16H20ATN",
          "L16H21ATN",
          "L16H22ATN",
          "L16H23ATN",
          "L16H24ATN",
          "L16H25ATN",
          "L16H26ATN",
          "L16H27ATN",
          "L16H28ATN",
          "L16H29ATN",
          "L16H30ATN",
          "L16H31ATN",
          "L16MLP",
          "L17H0ATN",
          "L17H1ATN",
          "L17H2ATN",
          "L17H3ATN",
          "L17H4ATN",
          "L17H5ATN",
          "L17H6ATN",
          "L17H7ATN",
          "L17H8ATN",
          "L17H9ATN",
          "L17H10ATN",
          "L17H11ATN",
          "L17H12ATN",
          "L17H13ATN",
          "L17H14ATN",
          "L17H15ATN",
          "L17H16ATN",
          "L17H17ATN",
          "L17H18ATN",
          "L17H19ATN",
          "L17H20ATN",
          "L17H21ATN",
          "L17H22ATN",
          "L17H23ATN",
          "L17H24ATN",
          "L17H25ATN",
          "L17H26ATN",
          "L17H27ATN",
          "L17H28ATN",
          "L17H29ATN",
          "L17H30ATN",
          "L17H31ATN",
          "L17MLP",
          "L18H0ATN",
          "L18H1ATN",
          "L18H2ATN",
          "L18H3ATN",
          "L18H4ATN",
          "L18H5ATN",
          "L18H6ATN",
          "L18H7ATN",
          "L18H8ATN",
          "L18H9ATN",
          "L18H10ATN",
          "L18H11ATN",
          "L18H12ATN",
          "L18H13ATN",
          "L18H14ATN",
          "L18H15ATN",
          "L18H16ATN",
          "L18H17ATN",
          "L18H18ATN",
          "L18H19ATN",
          "L18H20ATN",
          "L18H21ATN",
          "L18H22ATN",
          "L18H23ATN",
          "L18H24ATN",
          "L18H25ATN",
          "L18H26ATN",
          "L18H27ATN",
          "L18H28ATN",
          "L18H29ATN",
          "L18H30ATN",
          "L18H31ATN",
          "L18MLP",
          "L19H0ATN",
          "L19H1ATN",
          "L19H2ATN",
          "L19H3ATN",
          "L19H4ATN",
          "L19H5ATN",
          "L19H6ATN",
          "L19H7ATN",
          "L19H8ATN",
          "L19H9ATN",
          "L19H10ATN",
          "L19H11ATN",
          "L19H12ATN",
          "L19H13ATN",
          "L19H14ATN",
          "L19H15ATN",
          "L19H16ATN",
          "L19H17ATN",
          "L19H18ATN",
          "L19H19ATN",
          "L19H20ATN",
          "L19H21ATN",
          "L19H22ATN",
          "L19H23ATN",
          "L19H24ATN",
          "L19H25ATN",
          "L19H26ATN",
          "L19H27ATN",
          "L19H28ATN",
          "L19H29ATN",
          "L19H30ATN",
          "L19H31ATN",
          "L19MLP",
          "L20H0ATN",
          "L20H1ATN",
          "L20H2ATN",
          "L20H3ATN",
          "L20H4ATN",
          "L20H5ATN",
          "L20H6ATN",
          "L20H7ATN",
          "L20H8ATN",
          "L20H9ATN",
          "L20H10ATN",
          "L20H11ATN",
          "L20H12ATN",
          "L20H13ATN",
          "L20H14ATN",
          "L20H15ATN",
          "L20H16ATN",
          "L20H17ATN",
          "L20H18ATN",
          "L20H19ATN",
          "L20H20ATN",
          "L20H21ATN",
          "L20H22ATN",
          "L20H23ATN",
          "L20H24ATN",
          "L20H25ATN",
          "L20H26ATN",
          "L20H27ATN",
          "L20H28ATN",
          "L20H29ATN",
          "L20H30ATN",
          "L20H31ATN",
          "L20MLP",
          "L21H0ATN",
          "L21H1ATN",
          "L21H2ATN",
          "L21H3ATN",
          "L21H4ATN",
          "L21H5ATN",
          "L21H6ATN",
          "L21H7ATN",
          "L21H8ATN",
          "L21H9ATN",
          "L21H10ATN",
          "L21H11ATN",
          "L21H12ATN",
          "L21H13ATN",
          "L21H14ATN",
          "L21H15ATN",
          "L21H16ATN",
          "L21H17ATN",
          "L21H18ATN",
          "L21H19ATN",
          "L21H20ATN",
          "L21H21ATN",
          "L21H22ATN",
          "L21H23ATN",
          "L21H24ATN",
          "L21H25ATN",
          "L21H26ATN",
          "L21H27ATN",
          "L21H28ATN",
          "L21H29ATN",
          "L21H30ATN",
          "L21H31ATN",
          "L21MLP",
          "L22H0ATN",
          "L22H1ATN",
          "L22H2ATN",
          "L22H3ATN",
          "L22H4ATN",
          "L22H5ATN",
          "L22H6ATN",
          "L22H7ATN",
          "L22H8ATN",
          "L22H9ATN",
          "L22H10ATN",
          "L22H11ATN",
          "L22H12ATN",
          "L22H13ATN",
          "L22H14ATN",
          "L22H15ATN",
          "L22H16ATN",
          "L22H17ATN",
          "L22H18ATN",
          "L22H19ATN",
          "L22H20ATN",
          "L22H21ATN",
          "L22H22ATN",
          "L22H23ATN",
          "L22H24ATN",
          "L22H25ATN",
          "L22H26ATN",
          "L22H27ATN",
          "L22H28ATN",
          "L22H29ATN",
          "L22H30ATN",
          "L22H31ATN",
          "L22MLP",
          "L23H0ATN",
          "L23H1ATN",
          "L23H2ATN",
          "L23H3ATN",
          "L23H4ATN",
          "L23H5ATN",
          "L23H6ATN",
          "L23H7ATN",
          "L23H8ATN",
          "L23H9ATN",
          "L23H10ATN",
          "L23H11ATN",
          "L23H12ATN",
          "L23H13ATN",
          "L23H14ATN",
          "L23H15ATN",
          "L23H16ATN",
          "L23H17ATN",
          "L23H18ATN",
          "L23H19ATN",
          "L23H20ATN",
          "L23H21ATN",
          "L23H22ATN",
          "L23H23ATN",
          "L23H24ATN",
          "L23H25ATN",
          "L23H26ATN",
          "L23H27ATN",
          "L23H28ATN",
          "L23H29ATN",
          "L23H30ATN",
          "L23H31ATN",
          "L23MLP",
          "L24H0ATN",
          "L24H1ATN",
          "L24H2ATN",
          "L24H3ATN",
          "L24H4ATN",
          "L24H5ATN",
          "L24H6ATN",
          "L24H7ATN",
          "L24H8ATN",
          "L24H9ATN",
          "L24H10ATN",
          "L24H11ATN",
          "L24H12ATN",
          "L24H13ATN",
          "L24H14ATN",
          "L24H15ATN",
          "L24H16ATN",
          "L24H17ATN",
          "L24H18ATN",
          "L24H19ATN",
          "L24H20ATN",
          "L24H21ATN",
          "L24H22ATN",
          "L24H23ATN",
          "L24H24ATN",
          "L24H25ATN",
          "L24H26ATN",
          "L24H27ATN",
          "L24H28ATN",
          "L24H29ATN",
          "L24H30ATN",
          "L24H31ATN",
          "L24MLP",
          "L25H0ATN",
          "L25H1ATN",
          "L25H2ATN",
          "L25H3ATN",
          "L25H4ATN",
          "L25H5ATN",
          "L25H6ATN",
          "L25H7ATN",
          "L25H8ATN",
          "L25H9ATN",
          "L25H10ATN",
          "L25H11ATN",
          "L25H12ATN",
          "L25H13ATN",
          "L25H14ATN",
          "L25H15ATN",
          "L25H16ATN",
          "L25H17ATN",
          "L25H18ATN",
          "L25H19ATN",
          "L25H20ATN",
          "L25H21ATN",
          "L25H22ATN",
          "L25H23ATN",
          "L25H24ATN",
          "L25H25ATN",
          "L25H26ATN",
          "L25H27ATN",
          "L25H28ATN",
          "L25H29ATN",
          "L25H30ATN",
          "L25H31ATN",
          "L25MLP",
          "L26H0ATN",
          "L26H1ATN",
          "L26H2ATN",
          "L26H3ATN",
          "L26H4ATN",
          "L26H5ATN",
          "L26H6ATN",
          "L26H7ATN",
          "L26H8ATN",
          "L26H9ATN",
          "L26H10ATN",
          "L26H11ATN",
          "L26H12ATN",
          "L26H13ATN",
          "L26H14ATN",
          "L26H15ATN",
          "L26H16ATN",
          "L26H17ATN",
          "L26H18ATN",
          "L26H19ATN",
          "L26H20ATN",
          "L26H21ATN",
          "L26H22ATN",
          "L26H23ATN",
          "L26H24ATN",
          "L26H25ATN",
          "L26H26ATN",
          "L26H27ATN",
          "L26H28ATN",
          "L26H29ATN",
          "L26H30ATN",
          "L26H31ATN",
          "L26MLP",
          "None"
         ],
         "y": [
          0.00018870869826059788,
          -0.000752660387661308,
          0.00018736263155005872,
          -0.0002682303893379867,
          0.003085710806772113,
          -0.00021490530343726277,
          0.0000731019681552425,
          -0.0005602758610621095,
          0.00012886033800896257,
          -0.0002286766393808648,
          -0.00037073882413096726,
          0.00005917531962040812,
          -0.00039108519558794796,
          0.0009269246947951615,
          -0.0024781154934316874,
          -0.0005355288740247488,
          -0.002955659758299589,
          -0.00004043387889396399,
          0.000057984565501101315,
          -0.0001735912956064567,
          0.00026279434678144753,
          0.00006373124779202044,
          0.0004297070554457605,
          -0.00011980025738012046,
          -0.00013238083920441568,
          0.000039864389691501856,
          0.0006090450333431363,
          0.00019103843078482896,
          0.00012332074402365834,
          -0.0004222001298330724,
          -0.0002630014205351472,
          -0.00015474631800316274,
          0.00021775274944957346,
          0.0014718243619427085,
          -0.0014618841232731938,
          -0.00019611208699643612,
          -0.0018024399178102612,
          -0.0005109889898449183,
          0.00003867363557219505,
          0.0005993118975311518,
          -0.0000870286239660345,
          -0.0007106215925887227,
          -0.004557431675493717,
          0.00007346437632804736,
          -0.00006166037201182917,
          -0.0014313904102891684,
          0.00009494972618995234,
          -0.0008952920325100422,
          0.0016143524553626776,
          -0.00030871605849824846,
          -0.0003813520597759634,
          -0.0006290290039032698,
          -0.00046201274381019175,
          0.0007653444772586226,
          -0.00009054911060957238,
          -0.0005664884811267257,
          -0.0018219578778371215,
          -0.00013678145478479564,
          -0.00003592972279875539,
          -0.0003789705515373498,
          -0.00013191488687880337,
          0.00014366711548063904,
          -0.00035292928805574775,
          -0.001243872451595962,
          -0.0017549132462590933,
          -0.001059875008650124,
          -0.005140642635524273,
          0.0008779484778642654,
          0.00011125789023935795,
          -0.00017674938135314733,
          -0.0005029125604778528,
          -0.00045279733603820205,
          -0.0022884230129420757,
          0.0003751394397113472,
          -0.0002164066827390343,
          0.00019745815370697528,
          0.0003120294422842562,
          0.000038311231037369,
          -0.0003789705515373498,
          -0.00030198568128980696,
          -0.00010328501230105758,
          0.00018891578656621277,
          0.0009283225517719984,
          0.000705081969499588,
          0.00013776512059848756,
          0.0001927469129441306,
          0.00007009920227574185,
          -0.00022148033895064145,
          -0.000028888738597743213,
          -0.00008500951662426814,
          -0.00012011088983854279,
          0.00017561040294822305,
          -0.0000915327764232643,
          -0.001420414773747325,
          -0.0014406576519832015,
          -0.0003384849114809185,
          -0.0014095426304265857,
          -0.0014125454472377896,
          0.000050270547944819555,
          0.007716503459960222,
          0.00013729916827287525,
          -0.0007646196754649282,
          -0.0010905240196734667,
          -0.0007498129270970821,
          0.0002859364030882716,
          0.0009636827744543552,
          0.00005363572563510388,
          -0.0011031563626602292,
          0.002477494068443775,
          -0.0017386050894856453,
          -0.0010753548704087734,
          0.00035199738340452313,
          -0.00021355922217480838,
          0.001485854503698647,
          0.001285445410758257,
          0.000194455380551517,
          -0.0003433514793869108,
          -0.0004788386286236346,
          -0.00043954371358267963,
          0.00008438825170742348,
          -0.00020853735622949898,
          0.000029095826903358102,
          0.000715488160494715,
          -0.0004228731559123844,
          -0.0002263468923047185,
          -0.00004970105510437861,
          0.00010002337512560189,
          0.00019574968609958887,
          0.000654707895591855,
          -0.001191996969282627,
          -0.0008273673010990024,
          0.0025491465348750353,
          0.0006411436479538679,
          0.00037446641363203526,
          -0.003568535903468728,
          0.0012905190233141184,
          0.0009686011471785605,
          -0.0008347706752829254,
          -0.0018485686741769314,
          0.00041629813495092094,
          -0.00011845418339362368,
          -0.0020522912964224815,
          -0.002756130648776889,
          -0.00018596478912513703,
          -0.000725894293282181,
          -0.0018598550232127309,
          -0.000973726564552635,
          -0.0032340374309569597,
          -0.00011726342927431688,
          0.0010460519697517157,
          -0.00044120042002759874,
          -0.0009503773762844503,
          0.0009331891196779907,
          -0.0019454857101663947,
          0.00044094157055951655,
          -0.003066399833187461,
          -0.0005679898895323277,
          0.0001374544808641076,
          -0.000303538836305961,
          -0.003108283504843712,
          -0.0004810648097191006,
          0.00033149568480439484,
          0.00030239985790103674,
          0.00012332074402365834,
          0.0002866612048819661,
          0.002659834921360016,
          0.0015626840759068727,
          -0.0010989110451191664,
          0.0020401766523718834,
          -0.001473998767323792,
          0.0018144509522244334,
          0.0025727543979883194,
          0.000050270547944819555,
          -0.0004100854857824743,
          0.0003150322299916297,
          0.00007796853606123477,
          0.0005190654192119837,
          0.00039061924326233566,
          -0.0004038728657178581,
          0.0015279450453817844,
          -0.000482410890981555,
          0.000043229563743807375,
          -0.00018700023065321147,
          -0.00008014295599423349,
          0.00008837469067657366,
          -0.0007881241617724299,
          0.00024332808970939368,
          0.0037853566464036703,
          -0.0001130699019995518,
          -0.001052471692673862,
          -0.0016066902317106724,
          0.0006761932163499296,
          0.0008941012783907354,
          -0.0008177377167157829,
          -0.0020153778605163097,
          0.0005628644721582532,
          -0.003171859309077263,
          0.0005902518169023097,
          0.0022765672765672207,
          -0.001984418136999011,
          -0.000256788800470531,
          -0.006046703085303307,
          -0.0010560438968241215,
          0.0012174170697107911,
          -0.0008389641880057752,
          -0.03132341802120209,
          0.00042841274989768863,
          0.0027748204302042723,
          -0.00014770533016417176,
          -0.0009072513785213232,
          0.0005037927185185254,
          -0.0025376530829817057,
          -0.005219853483140469,
          0.0015175389125943184,
          0.0002362353407079354,
          0.0004628410970326513,
          0.0008098165853880346,
          0.018751587718725204,
          -0.014470255933701992,
          -0.001092543127015233,
          -0.012552209198474884,
          0.00847646314650774,
          0.0033179079182446003,
          -0.0006937956786714494,
          -0.0002984651946462691,
          0.00018130530952475965,
          0.005725199356675148,
          0.009842206723988056,
          -0.0008396372431889176,
          -0.00013874878641217947,
          0.000035515546187525615,
          0.009253508411347866,
          -0.0007343331235460937,
          0.0003270950692240149,
          -0.002764051780104637,
          0.0001485336833866313,
          0.0001444954687030986,
          0.00024400113034062088,
          0.0000025368246951984474,
          -0.0016925798263400793,
          -0.0005010487511754036,
          0.0021530911326408386,
          0.00040858410648070276,
          0.007671772502362728,
          -0.0022926684468984604,
          0.00008469888416584581,
          0.006288529839366674,
          0.0005011005559936166,
          -0.0005876632058061659,
          0.0008658338338136673,
          0.0011997628025710583,
          0.0012101689353585243,
          0.0032839456107467413,
          -0.0007025451632216573,
          -0.0033030493650585413,
          0.0010160759557038546,
          -0.0014095426304265857,
          0.0011168759083375335,
          -0.0021246166434139013,
          0.0009749690652824938,
          0.00539380731061101,
          -0.0004611843905877322,
          -0.0007022345089353621,
          0.0036087108310312033,
          -0.0314982533454895,
          0.00025642639957368374,
          -0.003399655921384692,
          0.001123761641792953,
          0.0017011739546433091,
          0.001668454147875309,
          0.0006320835673250258,
          -0.0017856140621006489,
          0.0018443233566358685,
          -0.00011322522186674178,
          -0.007885227911174297,
          -0.0012046293122693896,
          -0.003977327141910791,
          -0.0018572146072983742,
          -0.00666341045871377,
          0.0021101722959429026,
          -0.0021497260313481092,
          -0.0042242794297635555,
          0.00923062488436699,
          0.00009044556645676494,
          0.0005664367345161736,
          0.0001741090090945363,
          -0.010451148264110088,
          -0.010406521148979664,
          0.0006668225396424532,
          0.0015752646140754223,
          0.0035305870696902275,
          0.004066892433911562,
          -0.0028683205600827932,
          -0.000038932495954213664,
          -0.007772934623062611,
          -0.005964644718915224,
          0.0005501285777427256,
          0.006102823652327061,
          -0.026654521003365517,
          0.0031568454578518867,
          0.002762446878477931,
          0.005666748620569706,
          -0.0027954254765063524,
          0.0051741390489041805,
          -0.004315397702157497,
          -0.0021443418227136135,
          0.0001745749614201486,
          0.003229895606637001,
          0.00015510871890001,
          -0.008351537398993969,
          -0.004609151743352413,
          0.00111490860581398,
          0.0013480376219376922,
          -0.0028758791740983725,
          -0.0007575269555673003,
          0.020438265055418015,
          -0.004200464114546776,
          -0.0032365224324166775,
          -0.03453115373849869,
          -0.00225202739238739,
          -0.006694628857076168,
          -0.003192516276612878,
          0.0003526704094838351,
          -0.0005629162187688053,
          -0.0005444336566142738,
          0.0022732021752744913,
          0.006621527019888163,
          0.004401753190904856,
          0.002116281306371093,
          0.00027589264209382236,
          0.010828100144863129,
          0.0064444150775671005,
          0.01070250105112791,
          -0.008024598471820354,
          -0.0050441911444067955,
          0.03972196578979492,
          -0.004436285234987736,
          0.0042951032519340515,
          0.002674900460988283,
          -0.0011199305299669504,
          0.006660511251538992,
          -0.009438851848244667,
          -0.008238622918725014,
          -0.006481742486357689,
          0.00039046391611918807,
          0.0010824993951246142,
          0.0013171815080568194,
          -0.007550004869699478,
          0.0018636861350387335,
          0.0034565532114356756,
          -0.023514656350016594,
          0.0006475115660578012,
          0.0011289905523881316,
          0.0005906142177991569,
          -0.0040841843001544476,
          -0.003100465750321746,
          -0.005661519709974527,
          0.0006045408663339913,
          -0.0030627241358160973,
          -0.004064873326569796,
          0.004898246377706528,
          -0.004245091695338488,
          -0.005328211933374405,
          -0.021121706813573837,
          -0.004518965259194374,
          -0.00732888700440526,
          -0.001424970687367022,
          0.01290503516793251,
          -0.006513427011668682,
          -0.0014450064627453685,
          0.026951899752020836,
          -0.010539730079472065,
          0.020412947982549667,
          -0.015231406316161156,
          -0.0015177978202700615,
          -0.012165679596364498,
          0.003508998081088066,
          -0.00040604727109894156,
          0.002614327473565936,
          0.0003573299036361277,
          0.0007827916415408254,
          0.010507010854780674,
          0.000007558702236565296,
          0.009063402190804482,
          -0.0016174587653949857,
          -0.0007200440741144121,
          0.007853387854993343,
          -0.002793354680761695,
          0.009490106254816055,
          -0.0018134155543521047,
          0.002211904153227806,
          -0.000038466547266580164,
          0.0024540931917726994,
          0.003014938673004508,
          -0.0016898877220228314,
          0.05728207156062126,
          -0.028240036219358444,
          -0.011196457780897617,
          0.006044166162610054,
          -0.000497372995596379,
          -0.0007117605418898165,
          -0.000027853300707647577,
          -0.018369510769844055,
          0.001760659972205758,
          -0.006434940733015537,
          -0.0032456861808896065,
          -0.01261179894208908,
          -0.014707060530781746,
          0.013317087665200233,
          -0.002446430968120694,
          -0.00298102805390954,
          -0.003718467429280281,
          -0.0032035955227911472,
          0.005998503416776657,
          0.0003544824430719018,
          0.0061158183962106705,
          0.00916958600282669,
          0.005536024924367666,
          -0.0022257789969444275,
          0.0037840106524527073,
          0.002269370947033167,
          -0.009065680205821991,
          0.012964158318936825,
          0.0005264170467853546,
          0.019160224124789238,
          -0.002747329417616129,
          -0.009006763808429241,
          0.044610582292079926,
          -0.006281799636781216,
          0.02015005052089691,
          -0.0023655113764107227,
          0.036165595054626465,
          0.009230107069015503,
          -0.001316612004302442,
          0.0051516699604690075,
          -0.005054131615906954,
          -0.005088197533041239,
          0.007008729036897421,
          0.0032215602695941925,
          -0.010986315086483955,
          -0.0016927869291976094,
          0.0008240538882091641,
          -0.0024838619865477085,
          -0.012704366818070412,
          -0.014950130134820938,
          0.0007712465012446046,
          -0.0005531831411644816,
          0.0009720698581077158,
          0.019922150298953056,
          0.004314310383051634,
          0.014436707831919193,
          0.0023666503839194775,
          0.0015933330869302154,
          0.007792763411998749,
          0.015834704041481018,
          -0.000022520791389979422,
          0.0019304201705381274,
          0.004676765762269497,
          -0.008230805397033691,
          0.0014505460858345032,
          0.004939612001180649,
          -0.012029622681438923,
          0.044200651347637177,
          -0.013707706704735756,
          0.0017839573556557298,
          0.010706953704357147,
          0.003988872282207012,
          0.030849186703562737,
          -0.0208336990326643,
          -0.0006071812240406871,
          0.002087082015350461,
          0.0007446875097230077,
          0.022347044199705124,
          0.012358219362795353,
          0.009558755904436111,
          0.011023332364857197,
          0.004288528114557266,
          0.004614018369466066,
          -0.027052130550146103,
          -0.004176804330199957,
          0.002910514594987035,
          0.0023566067684441805,
          0.003780800849199295,
          -0.010495206341147423,
          -0.013622231781482697,
          -0.0037784711457788944,
          0.0016379604348912835,
          -0.0004726259794551879,
          -0.002186794765293598,
          -0.008278383873403072,
          0.008312398567795753,
          -0.006431523710489273,
          0.009073031134903431,
          -0.024890445172786713,
          0.004253789316862822,
          0.05438791960477829,
          -0.0004721600271295756,
          0.0013661577831953764,
          0.00017674938135314733,
          -0.0016548899002373219,
          0.003426059614866972,
          0.03876521810889244,
          0.007435381878167391,
          -0.0043235779739916325,
          0.012627951800823212,
          -0.0032007480040192604,
          -0.00576143991202116,
          0.007808242924511433,
          -0.00006010721699567512,
          0.0014038995141163468,
          -0.004124359227716923,
          -0.001905880169942975,
          -0.005073079839348793,
          0.012959187850356102,
          -0.002421010984107852,
          0.007085144519805908,
          0.0005123350420035422,
          0.007801719941198826,
          0.004668948240578175,
          -0.005860945209860802,
          -0.003903500270098448,
          0.000792680075392127,
          -0.0023180884309113026,
          -0.0010563544929027557,
          -0.006897056940943003,
          -0.03288993239402771,
          0.0039925482124090195,
          0.004832133650779724,
          0.0818200558423996,
          -0.016511157155036926,
          -0.0004993402981199324,
          -0.0064178043976426125,
          -0.005114600993692875,
          -0.0003714118502102792,
          0.013830716721713543,
          -0.0016339740250259638,
          0.0034610573202371597,
          -0.001274832058697939,
          -0.002888356102630496,
          0.1493750810623169,
          -0.0017269564559683204,
          -0.00002987240623042453,
          0.00737237511202693,
          -0.026603007689118385,
          0.0025404489133507013,
          0.0040266141295433044,
          0.0003581582277547568,
          0.02538357302546501,
          0.00040216438355855644,
          0.012838714756071568,
          0.00922834686934948,
          0.00271336711011827,
          -0.0005479541723616421,
          0.00235727964900434,
          0.005075720604509115,
          -0.003424610011279583,
          -0.001233725226484239,
          -0.0006116853910498321,
          0.03508931025862694,
          -0.0014433497563004494,
          -0.012593626976013184,
          0.04281870275735855,
          -0.01664125919342041,
          -0.0009107718942686915,
          -0.001524321036413312,
          0.0019651073962450027,
          0.0003440762811806053,
          -0.0010968919377774,
          -0.0034104762598872185,
          -0.0011031563626602292,
          -0.005867209751158953,
          -0.0015832892386242747,
          0.0018622365314513445,
          -0.00247863307595253,
          0.001205509528517723,
          -0.001318113412708044,
          0.0020983165595680475,
          -0.005111184436827898,
          0.00021795983775518835,
          -0.00011053308116970584,
          0.02572723478078842,
          -0.01760939508676529,
          0.000006057316113583511,
          -0.00047345433267764747,
          0.01120712235569954,
          0.00044301245361566544,
          -0.00024130898236762732,
          0.0023844081442803144,
          -0.001079237787052989,
          -0.004942614585161209,
          -0.013715420849621296,
          -0.013711693696677685,
          0.002211904153227806,
          0.0010283458977937698,
          0.03421716019511223,
          -0.0006875830586068332,
          0.02821684256196022,
          0.01421175803989172,
          -0.001942948903888464,
          -0.00025104210362769663,
          0.005686732940375805,
          0.0006137563032098114,
          0.00034138414775952697,
          -0.0018111893441528082,
          0.008113904856145382,
          -0.004196425899863243,
          0.010507786646485329,
          0.010516433045268059,
          -0.021119480952620506,
          -0.0011525985319167376,
          0.033023297786712646,
          -0.0022284192964434624,
          -0.007644954603165388,
          -0.0001153996417997405,
          0.000635241623967886,
          0.001993737183511257,
          -0.0005943935830146074,
          -0.0015314138727262616,
          -0.007268779445439577,
          -0.0036747718695551157,
          -0.001340323593467474,
          0.11070983111858368,
          0.0009058535215444863,
          -0.007042846642434597,
          0.0009501185268163681,
          -0.004529008641839027,
          0.029152000322937965,
          0.03880135715007782,
          -0.0006222986266948283,
          -0.03931508958339691,
          0.011980180628597736,
          0.002542675007134676,
          0.027790967375040054,
          -0.002547127427533269,
          0.025977706536650658,
          -0.0013413073029369116,
          0.05211523547768593,
          -0.007760198786854744,
          -0.0019434666028246284,
          -0.0007545241969637573,
          0.032033003866672516,
          0.0017303215572610497,
          -0.000558205007109791,
          -0.012377582490444183,
          0.03527636080980301,
          -0.006044839508831501,
          -0.027321137487888336,
          -0.0006083719781599939,
          -0.002839794149622321,
          0.0010055145248770714,
          -0.00533178448677063,
          -0.04434400796890259,
          0.0017953470814973116,
          0.01131983008235693,
          -0.000857964507304132,
          -0.016841772943735123,
          -0.003995758015662432,
          -0.0053636240772902966,
          -0.0003587795072235167,
          -0.005863689351826906,
          0.20448966324329376,
          0.003896459238603711,
          0.00359814940020442,
          -0.0034143072552978992,
          0.0010535070905461907,
          -0.0007467583636753261,
          0.005524375941604376,
          -0.0018930925289168954,
          -0.00011762583744712174,
          0.0006016416591592133,
          0.0023992666974663734,
          0.022853685542941093,
          0.0004107585409656167,
          -0.002189486986026168,
          -0.013320193625986576,
          0.1006702184677124,
          0.0034249206073582172,
          -0.033004555851221085,
          0.012081291526556015,
          0.05450435355305672,
          -0.0006845284951850772,
          -0.0033984133042395115,
          -0.0017731370171532035,
          -0.001993633573874831,
          -0.0063596125692129135,
          -0.0033689034171402454,
          0.0015534686390310526,
          -0.004748211242258549,
          0.0009179164189845324,
          0.00013460703485179693,
          0.0038734208792448044,
          -0.000745257013477385,
          -0.0023850812576711178,
          0.2460985630750656,
          -0.0010457412572577596,
          -0.001742436201311648,
          0.0007584588602185249,
          -0.016877753660082817,
          -0.011196457780897617,
          -0.001905880169942975,
          -0.003340221708640456,
          -0.0011915310751646757,
          -0.002559242071583867,
          0.0014228480868041515,
          -0.003457226324826479,
          0.0003659240319393575,
          0.009439266286790371,
          -0.0006443535094149411,
          -0.007210225332528353,
          0.0034836300183087587,
          0.007358241360634565,
          -0.014386540278792381,
          -0.0003634907479863614,
          0.003512052819132805,
          -0.00610142620280385,
          -0.0017542402492836118,
          0.002467450452968478,
          0.009509727358818054,
          -0.01695406623184681,
          0.001142917200922966,
          -0.0015267025446519256,
          0.002664701547473669,
          0.0012131717521697283,
          -0.029309075325727463,
          -0.0018204564694315195,
          -0.00399016635492444,
          0.18730784952640533,
          0.00014941379777155817,
          -0.0018310698214918375,
          -0.001120810629799962,
          -0.02002999186515808,
          -0.0008840575465001166,
          0.035463619977235794,
          -0.005624917335808277,
          0.014623500406742096,
          -0.00025492499116808176,
          0.0040650805458426476,
          0.0036890609189867973,
          0.0029525533318519592,
          -0.012017612345516682,
          -0.0024752679746598005,
          -0.0021325377747416496,
          -0.0018340725218877196,
          0.028006182983517647,
          0.006654816213995218,
          -0.0002914242213591933,
          -0.002700268756598234,
          -0.11453183740377426,
          -0.0007696415996178985,
          0.010996876284480095,
          0.0057380907237529755,
          0.0000690637607476674,
          0.01479760929942131,
          -0.005710651632398367,
          0.003486787900328636,
          -0.000841656350530684,
          -0.007259460631757975,
          0.0024411501362919807,
          0.0005534937372431159,
          -0.12745147943496704,
          -0.00014485786959994584,
          0.001122260233387351,
          -0.005603587254881859,
          -0.0023540181573480368,
          0.0017795567400753498,
          0.0020183806773275137,
          0.00015226125833578408,
          0.001830189605243504,
          0.0046759373508393764,
          0.0013901281636208296,
          0.0011034669587388635,
          -0.0017210544319823384,
          0.0035183688160032034,
          -0.005211207550019026,
          -0.002413555746898055,
          0.007061381358653307,
          -0.00048660440370440483,
          0.0003813520597759634,
          -0.008043495006859303,
          -0.13728870451450348,
          -0.010472012683749199,
          -0.002779686823487282,
          -0.0039251409471035,
          -0.0018978037405759096,
          0.0004977353964932263,
          -0.006854293402284384,
          -0.007875909097492695,
          -0.0005650906823575497,
          0.03344963863492012,
          -0.00923248939216137,
          0.04513062909245491,
          0.004033137112855911,
          -0.04491225630044937,
          -0.004883232526481152,
          0.025677170604467392,
          0.005273592658340931,
          -0.000574409612454474,
          -0.0022557550109922886,
          -0.001424970687367022,
          -0.0007949062855914235,
          0.0021410284098237753,
          -0.006342682987451553,
          0.002054620999842882,
          -0.04539564996957779,
          -0.005397793836891651,
          0.005030057393014431,
          -0.0035570424515753984,
          0.2938767075538635,
          0.001775207812897861,
          -0.005628333892673254,
          0.0019897506572306156,
          -0.08049645274877548,
          -0.007808760739862919,
          0.00043188148993067443,
          -0.005059360526502132,
          -0.0022343213204294443,
          0.004304629284888506,
          0.0038498127833008766,
          -0.014280200935900211,
          -0.0021486906334757805,
          -0.0012896389234811068,
          -0.0017407794948667288,
          -0.003105073468759656,
          -0.0049288952723145485,
          -0.004059851635247469,
          -0.08165096491575241,
          0.010415736585855484,
          0.008988798595964909,
          -0.00022080729831941426,
          0.010821939446032047,
          -0.01816009357571602,
          0.003115531522780657,
          -0.016869159415364265,
          -0.0016688683535903692,
          0.009197750128805637,
          0.0011408980935811996,
          -0.0009464945178478956,
          0.0008611743687652051,
          -0.02596326172351837,
          -0.0027960985898971558,
          -0.0014238316798582673,
          -0.007795507088303566,
          -0.0018179196631535888,
          -0.0032916078343987465,
          -0.005928559694439173,
          0.0028969503473490477,
          0.007373359054327011,
          0.008418167941272259,
          -0.0010290706995874643,
          0.002900367369875312,
          -0.0008941530832089484,
          -0.00027019772096537054,
          -0.007905315607786179,
          -0.004141444340348244,
          -0.01793312467634678,
          -0.007759525906294584,
          -0.0020251628011465073,
          -0.0018995122518390417,
          -0.12639936804771423,
          -0.004572445526719093,
          -0.002720666816458106,
          -0.0017646981868892908,
          -0.001576351816765964,
          -0.03699829429388046,
          -0.0008851965540088713,
          -0.008728333748877048,
          -0.007712775841355324,
          -0.013110724277794361,
          -0.019489027559757233,
          -0.0170892421156168,
          -0.00448873033747077,
          -0.018965043127536774,
          0.0002116954419761896,
          0.0060938154347240925,
          0.012199848890304565,
          -0.01936114951968193,
          -0.005011315923184156,
          0.003985041286796331,
          -0.00816515926271677,
          -0.0006485470221377909,
          0.0257547777146101,
          -0.0015713300090283155,
          -0.0017031930619850755,
          -0.0010577006032690406,
          -0.002954313764348626,
          -0.0038070492446422577,
          0.02141634002327919,
          -0.04430564492940903,
          -0.0031131498981267214,
          -0.0042518735863268375,
          -0.0003215036995243281,
          0.09485167264938354,
          0.000001190754460367316
         ]
        }
       ],
       "layout": {
        "annotations": [
         {
          "font": {
           "size": 11
          },
          "showarrow": false,
          "text": "The Iguazu Falls are in the country of [/INST] ",
          "x": 1,
          "xref": "paper",
          "y": 1.05,
          "yref": "paper"
         }
        ],
        "height": 420,
        "hovermode": "x unified",
        "showlegend": true,
        "template": {
         "data": {
          "bar": [
           {
            "error_x": {
             "color": "#2a3f5f"
            },
            "error_y": {
             "color": "#2a3f5f"
            },
            "marker": {
             "line": {
              "color": "#E5ECF6",
              "width": 0.5
             },
             "pattern": {
              "fillmode": "overlay",
              "size": 10,
              "solidity": 0.2
             }
            },
            "type": "bar"
           }
          ],
          "barpolar": [
           {
            "marker": {
             "line": {
              "color": "#E5ECF6",
              "width": 0.5
             },
             "pattern": {
              "fillmode": "overlay",
              "size": 10,
              "solidity": 0.2
             }
            },
            "type": "barpolar"
           }
          ],
          "carpet": [
           {
            "aaxis": {
             "endlinecolor": "#2a3f5f",
             "gridcolor": "white",
             "linecolor": "white",
             "minorgridcolor": "white",
             "startlinecolor": "#2a3f5f"
            },
            "baxis": {
             "endlinecolor": "#2a3f5f",
             "gridcolor": "white",
             "linecolor": "white",
             "minorgridcolor": "white",
             "startlinecolor": "#2a3f5f"
            },
            "type": "carpet"
           }
          ],
          "choropleth": [
           {
            "colorbar": {
             "outlinewidth": 0,
             "ticks": ""
            },
            "type": "choropleth"
           }
          ],
          "contour": [
           {
            "colorbar": {
             "outlinewidth": 0,
             "ticks": ""
            },
            "colorscale": [
             [
              0,
              "#0d0887"
             ],
             [
              0.1111111111111111,
              "#46039f"
             ],
             [
              0.2222222222222222,
              "#7201a8"
             ],
             [
              0.3333333333333333,
              "#9c179e"
             ],
             [
              0.4444444444444444,
              "#bd3786"
             ],
             [
              0.5555555555555556,
              "#d8576b"
             ],
             [
              0.6666666666666666,
              "#ed7953"
             ],
             [
              0.7777777777777778,
              "#fb9f3a"
             ],
             [
              0.8888888888888888,
              "#fdca26"
             ],
             [
              1,
              "#f0f921"
             ]
            ],
            "type": "contour"
           }
          ],
          "contourcarpet": [
           {
            "colorbar": {
             "outlinewidth": 0,
             "ticks": ""
            },
            "type": "contourcarpet"
           }
          ],
          "heatmap": [
           {
            "colorbar": {
             "outlinewidth": 0,
             "ticks": ""
            },
            "colorscale": [
             [
              0,
              "#0d0887"
             ],
             [
              0.1111111111111111,
              "#46039f"
             ],
             [
              0.2222222222222222,
              "#7201a8"
             ],
             [
              0.3333333333333333,
              "#9c179e"
             ],
             [
              0.4444444444444444,
              "#bd3786"
             ],
             [
              0.5555555555555556,
              "#d8576b"
             ],
             [
              0.6666666666666666,
              "#ed7953"
             ],
             [
              0.7777777777777778,
              "#fb9f3a"
             ],
             [
              0.8888888888888888,
              "#fdca26"
             ],
             [
              1,
              "#f0f921"
             ]
            ],
            "type": "heatmap"
           }
          ],
          "heatmapgl": [
           {
            "colorbar": {
             "outlinewidth": 0,
             "ticks": ""
            },
            "colorscale": [
             [
              0,
              "#0d0887"
             ],
             [
              0.1111111111111111,
              "#46039f"
             ],
             [
              0.2222222222222222,
              "#7201a8"
             ],
             [
              0.3333333333333333,
              "#9c179e"
             ],
             [
              0.4444444444444444,
              "#bd3786"
             ],
             [
              0.5555555555555556,
              "#d8576b"
             ],
             [
              0.6666666666666666,
              "#ed7953"
             ],
             [
              0.7777777777777778,
              "#fb9f3a"
             ],
             [
              0.8888888888888888,
              "#fdca26"
             ],
             [
              1,
              "#f0f921"
             ]
            ],
            "type": "heatmapgl"
           }
          ],
          "histogram": [
           {
            "marker": {
             "pattern": {
              "fillmode": "overlay",
              "size": 10,
              "solidity": 0.2
             }
            },
            "type": "histogram"
           }
          ],
          "histogram2d": [
           {
            "colorbar": {
             "outlinewidth": 0,
             "ticks": ""
            },
            "colorscale": [
             [
              0,
              "#0d0887"
             ],
             [
              0.1111111111111111,
              "#46039f"
             ],
             [
              0.2222222222222222,
              "#7201a8"
             ],
             [
              0.3333333333333333,
              "#9c179e"
             ],
             [
              0.4444444444444444,
              "#bd3786"
             ],
             [
              0.5555555555555556,
              "#d8576b"
             ],
             [
              0.6666666666666666,
              "#ed7953"
             ],
             [
              0.7777777777777778,
              "#fb9f3a"
             ],
             [
              0.8888888888888888,
              "#fdca26"
             ],
             [
              1,
              "#f0f921"
             ]
            ],
            "type": "histogram2d"
           }
          ],
          "histogram2dcontour": [
           {
            "colorbar": {
             "outlinewidth": 0,
             "ticks": ""
            },
            "colorscale": [
             [
              0,
              "#0d0887"
             ],
             [
              0.1111111111111111,
              "#46039f"
             ],
             [
              0.2222222222222222,
              "#7201a8"
             ],
             [
              0.3333333333333333,
              "#9c179e"
             ],
             [
              0.4444444444444444,
              "#bd3786"
             ],
             [
              0.5555555555555556,
              "#d8576b"
             ],
             [
              0.6666666666666666,
              "#ed7953"
             ],
             [
              0.7777777777777778,
              "#fb9f3a"
             ],
             [
              0.8888888888888888,
              "#fdca26"
             ],
             [
              1,
              "#f0f921"
             ]
            ],
            "type": "histogram2dcontour"
           }
          ],
          "mesh3d": [
           {
            "colorbar": {
             "outlinewidth": 0,
             "ticks": ""
            },
            "type": "mesh3d"
           }
          ],
          "parcoords": [
           {
            "line": {
             "colorbar": {
              "outlinewidth": 0,
              "ticks": ""
             }
            },
            "type": "parcoords"
           }
          ],
          "pie": [
           {
            "automargin": true,
            "type": "pie"
           }
          ],
          "scatter": [
           {
            "fillpattern": {
             "fillmode": "overlay",
             "size": 10,
             "solidity": 0.2
            },
            "type": "scatter"
           }
          ],
          "scatter3d": [
           {
            "line": {
             "colorbar": {
              "outlinewidth": 0,
              "ticks": ""
             }
            },
            "marker": {
             "colorbar": {
              "outlinewidth": 0,
              "ticks": ""
             }
            },
            "type": "scatter3d"
           }
          ],
          "scattercarpet": [
           {
            "marker": {
             "colorbar": {
              "outlinewidth": 0,
              "ticks": ""
             }
            },
            "type": "scattercarpet"
           }
          ],
          "scattergeo": [
           {
            "marker": {
             "colorbar": {
              "outlinewidth": 0,
              "ticks": ""
             }
            },
            "type": "scattergeo"
           }
          ],
          "scattergl": [
           {
            "marker": {
             "colorbar": {
              "outlinewidth": 0,
              "ticks": ""
             }
            },
            "type": "scattergl"
           }
          ],
          "scattermapbox": [
           {
            "marker": {
             "colorbar": {
              "outlinewidth": 0,
              "ticks": ""
             }
            },
            "type": "scattermapbox"
           }
          ],
          "scatterpolar": [
           {
            "marker": {
             "colorbar": {
              "outlinewidth": 0,
              "ticks": ""
             }
            },
            "type": "scatterpolar"
           }
          ],
          "scatterpolargl": [
           {
            "marker": {
             "colorbar": {
              "outlinewidth": 0,
              "ticks": ""
             }
            },
            "type": "scatterpolargl"
           }
          ],
          "scatterternary": [
           {
            "marker": {
             "colorbar": {
              "outlinewidth": 0,
              "ticks": ""
             }
            },
            "type": "scatterternary"
           }
          ],
          "surface": [
           {
            "colorbar": {
             "outlinewidth": 0,
             "ticks": ""
            },
            "colorscale": [
             [
              0,
              "#0d0887"
             ],
             [
              0.1111111111111111,
              "#46039f"
             ],
             [
              0.2222222222222222,
              "#7201a8"
             ],
             [
              0.3333333333333333,
              "#9c179e"
             ],
             [
              0.4444444444444444,
              "#bd3786"
             ],
             [
              0.5555555555555556,
              "#d8576b"
             ],
             [
              0.6666666666666666,
              "#ed7953"
             ],
             [
              0.7777777777777778,
              "#fb9f3a"
             ],
             [
              0.8888888888888888,
              "#fdca26"
             ],
             [
              1,
              "#f0f921"
             ]
            ],
            "type": "surface"
           }
          ],
          "table": [
           {
            "cells": {
             "fill": {
              "color": "#EBF0F8"
             },
             "line": {
              "color": "white"
             }
            },
            "header": {
             "fill": {
              "color": "#C8D4E3"
             },
             "line": {
              "color": "white"
             }
            },
            "type": "table"
           }
          ]
         },
         "layout": {
          "annotationdefaults": {
           "arrowcolor": "#2a3f5f",
           "arrowhead": 0,
           "arrowwidth": 1
          },
          "autotypenumbers": "strict",
          "coloraxis": {
           "colorbar": {
            "outlinewidth": 0,
            "ticks": ""
           }
          },
          "colorscale": {
           "diverging": [
            [
             0,
             "#8e0152"
            ],
            [
             0.1,
             "#c51b7d"
            ],
            [
             0.2,
             "#de77ae"
            ],
            [
             0.3,
             "#f1b6da"
            ],
            [
             0.4,
             "#fde0ef"
            ],
            [
             0.5,
             "#f7f7f7"
            ],
            [
             0.6,
             "#e6f5d0"
            ],
            [
             0.7,
             "#b8e186"
            ],
            [
             0.8,
             "#7fbc41"
            ],
            [
             0.9,
             "#4d9221"
            ],
            [
             1,
             "#276419"
            ]
           ],
           "sequential": [
            [
             0,
             "#0d0887"
            ],
            [
             0.1111111111111111,
             "#46039f"
            ],
            [
             0.2222222222222222,
             "#7201a8"
            ],
            [
             0.3333333333333333,
             "#9c179e"
            ],
            [
             0.4444444444444444,
             "#bd3786"
            ],
            [
             0.5555555555555556,
             "#d8576b"
            ],
            [
             0.6666666666666666,
             "#ed7953"
            ],
            [
             0.7777777777777778,
             "#fb9f3a"
            ],
            [
             0.8888888888888888,
             "#fdca26"
            ],
            [
             1,
             "#f0f921"
            ]
           ],
           "sequentialminus": [
            [
             0,
             "#0d0887"
            ],
            [
             0.1111111111111111,
             "#46039f"
            ],
            [
             0.2222222222222222,
             "#7201a8"
            ],
            [
             0.3333333333333333,
             "#9c179e"
            ],
            [
             0.4444444444444444,
             "#bd3786"
            ],
            [
             0.5555555555555556,
             "#d8576b"
            ],
            [
             0.6666666666666666,
             "#ed7953"
            ],
            [
             0.7777777777777778,
             "#fb9f3a"
            ],
            [
             0.8888888888888888,
             "#fdca26"
            ],
            [
             1,
             "#f0f921"
            ]
           ]
          },
          "colorway": [
           "#636efa",
           "#EF553B",
           "#00cc96",
           "#ab63fa",
           "#FFA15A",
           "#19d3f3",
           "#FF6692",
           "#B6E880",
           "#FF97FF",
           "#FECB52"
          ],
          "font": {
           "color": "#2a3f5f"
          },
          "geo": {
           "bgcolor": "white",
           "lakecolor": "white",
           "landcolor": "#E5ECF6",
           "showlakes": true,
           "showland": true,
           "subunitcolor": "white"
          },
          "hoverlabel": {
           "align": "left"
          },
          "hovermode": "closest",
          "mapbox": {
           "style": "light"
          },
          "paper_bgcolor": "white",
          "plot_bgcolor": "#E5ECF6",
          "polar": {
           "angularaxis": {
            "gridcolor": "white",
            "linecolor": "white",
            "ticks": ""
           },
           "bgcolor": "#E5ECF6",
           "radialaxis": {
            "gridcolor": "white",
            "linecolor": "white",
            "ticks": ""
           }
          },
          "scene": {
           "xaxis": {
            "backgroundcolor": "#E5ECF6",
            "gridcolor": "white",
            "gridwidth": 2,
            "linecolor": "white",
            "showbackground": true,
            "ticks": "",
            "zerolinecolor": "white"
           },
           "yaxis": {
            "backgroundcolor": "#E5ECF6",
            "gridcolor": "white",
            "gridwidth": 2,
            "linecolor": "white",
            "showbackground": true,
            "ticks": "",
            "zerolinecolor": "white"
           },
           "zaxis": {
            "backgroundcolor": "#E5ECF6",
            "gridcolor": "white",
            "gridwidth": 2,
            "linecolor": "white",
            "showbackground": true,
            "ticks": "",
            "zerolinecolor": "white"
           }
          },
          "shapedefaults": {
           "line": {
            "color": "#2a3f5f"
           }
          },
          "ternary": {
           "aaxis": {
            "gridcolor": "white",
            "linecolor": "white",
            "ticks": ""
           },
           "baxis": {
            "gridcolor": "white",
            "linecolor": "white",
            "ticks": ""
           },
           "bgcolor": "#E5ECF6",
           "caxis": {
            "gridcolor": "white",
            "linecolor": "white",
            "ticks": ""
           }
          },
          "title": {
           "x": 0.05
          },
          "xaxis": {
           "automargin": true,
           "gridcolor": "white",
           "linecolor": "white",
           "ticks": "",
           "title": {
            "standoff": 15
           },
           "zerolinecolor": "white",
           "zerolinewidth": 2
          },
          "yaxis": {
           "automargin": true,
           "gridcolor": "white",
           "linecolor": "white",
           "ticks": "",
           "title": {
            "standoff": 15
           },
           "zerolinecolor": "white",
           "zerolinewidth": 2
          }
         }
        },
        "title": {
         "text": "Query enrichment analysis by component"
        },
        "width": 800,
        "xaxis": {
         "range": [
          -26.79,
          919.7900000000001
         ],
         "ticktext": [
          "EMBED",
          "L3H28ATN",
          "L7H24ATN",
          "L11H20ATN",
          "L15H16ATN",
          "L19H12ATN",
          "L23H8ATN"
         ],
         "tickvals": [
          0,
          128,
          256,
          384,
          512,
          640,
          768
         ],
         "title": {
          "text": "Components of Query Enrichment"
         }
        },
        "yaxis": {
         "title": {
          "text": "Log10 Bayes Factor\n(w.r.t attn. prob to forbidden token)"
         }
        }
       }
      },
      "text/html": [
       "<div>                            <div id=\"ec9df02e-5e24-4b94-9b42-11f5f55d2b1d\" class=\"plotly-graph-div\" style=\"height:420px; width:800px;\"></div>            <script type=\"text/javascript\">                require([\"plotly\"], function(Plotly) {                    window.PLOTLYENV=window.PLOTLYENV || {};                                    if (document.getElementById(\"ec9df02e-5e24-4b94-9b42-11f5f55d2b1d\")) {                    Plotly.newPlot(                        \"ec9df02e-5e24-4b94-9b42-11f5f55d2b1d\",                        [{\"mode\":\"lines\",\"name\":\"zero ablation\",\"opacity\":0.7,\"x\":[\"EMBED\",\"L0H0ATN\",\"L0H1ATN\",\"L0H2ATN\",\"L0H3ATN\",\"L0H4ATN\",\"L0H5ATN\",\"L0H6ATN\",\"L0H7ATN\",\"L0H8ATN\",\"L0H9ATN\",\"L0H10ATN\",\"L0H11ATN\",\"L0H12ATN\",\"L0H13ATN\",\"L0H14ATN\",\"L0H15ATN\",\"L0H16ATN\",\"L0H17ATN\",\"L0H18ATN\",\"L0H19ATN\",\"L0H20ATN\",\"L0H21ATN\",\"L0H22ATN\",\"L0H23ATN\",\"L0H24ATN\",\"L0H25ATN\",\"L0H26ATN\",\"L0H27ATN\",\"L0H28ATN\",\"L0H29ATN\",\"L0H30ATN\",\"L0H31ATN\",\"L0MLP\",\"L1H0ATN\",\"L1H1ATN\",\"L1H2ATN\",\"L1H3ATN\",\"L1H4ATN\",\"L1H5ATN\",\"L1H6ATN\",\"L1H7ATN\",\"L1H8ATN\",\"L1H9ATN\",\"L1H10ATN\",\"L1H11ATN\",\"L1H12ATN\",\"L1H13ATN\",\"L1H14ATN\",\"L1H15ATN\",\"L1H16ATN\",\"L1H17ATN\",\"L1H18ATN\",\"L1H19ATN\",\"L1H20ATN\",\"L1H21ATN\",\"L1H22ATN\",\"L1H23ATN\",\"L1H24ATN\",\"L1H25ATN\",\"L1H26ATN\",\"L1H27ATN\",\"L1H28ATN\",\"L1H29ATN\",\"L1H30ATN\",\"L1H31ATN\",\"L1MLP\",\"L2H0ATN\",\"L2H1ATN\",\"L2H2ATN\",\"L2H3ATN\",\"L2H4ATN\",\"L2H5ATN\",\"L2H6ATN\",\"L2H7ATN\",\"L2H8ATN\",\"L2H9ATN\",\"L2H10ATN\",\"L2H11ATN\",\"L2H12ATN\",\"L2H13ATN\",\"L2H14ATN\",\"L2H15ATN\",\"L2H16ATN\",\"L2H17ATN\",\"L2H18ATN\",\"L2H19ATN\",\"L2H20ATN\",\"L2H21ATN\",\"L2H22ATN\",\"L2H23ATN\",\"L2H24ATN\",\"L2H25ATN\",\"L2H26ATN\",\"L2H27ATN\",\"L2H28ATN\",\"L2H29ATN\",\"L2H30ATN\",\"L2H31ATN\",\"L2MLP\",\"L3H0ATN\",\"L3H1ATN\",\"L3H2ATN\",\"L3H3ATN\",\"L3H4ATN\",\"L3H5ATN\",\"L3H6ATN\",\"L3H7ATN\",\"L3H8ATN\",\"L3H9ATN\",\"L3H10ATN\",\"L3H11ATN\",\"L3H12ATN\",\"L3H13ATN\",\"L3H14ATN\",\"L3H15ATN\",\"L3H16ATN\",\"L3H17ATN\",\"L3H18ATN\",\"L3H19ATN\",\"L3H20ATN\",\"L3H21ATN\",\"L3H22ATN\",\"L3H23ATN\",\"L3H24ATN\",\"L3H25ATN\",\"L3H26ATN\",\"L3H27ATN\",\"L3H28ATN\",\"L3H29ATN\",\"L3H30ATN\",\"L3H31ATN\",\"L3MLP\",\"L4H0ATN\",\"L4H1ATN\",\"L4H2ATN\",\"L4H3ATN\",\"L4H4ATN\",\"L4H5ATN\",\"L4H6ATN\",\"L4H7ATN\",\"L4H8ATN\",\"L4H9ATN\",\"L4H10ATN\",\"L4H11ATN\",\"L4H12ATN\",\"L4H13ATN\",\"L4H14ATN\",\"L4H15ATN\",\"L4H16ATN\",\"L4H17ATN\",\"L4H18ATN\",\"L4H19ATN\",\"L4H20ATN\",\"L4H21ATN\",\"L4H22ATN\",\"L4H23ATN\",\"L4H24ATN\",\"L4H25ATN\",\"L4H26ATN\",\"L4H27ATN\",\"L4H28ATN\",\"L4H29ATN\",\"L4H30ATN\",\"L4H31ATN\",\"L4MLP\",\"L5H0ATN\",\"L5H1ATN\",\"L5H2ATN\",\"L5H3ATN\",\"L5H4ATN\",\"L5H5ATN\",\"L5H6ATN\",\"L5H7ATN\",\"L5H8ATN\",\"L5H9ATN\",\"L5H10ATN\",\"L5H11ATN\",\"L5H12ATN\",\"L5H13ATN\",\"L5H14ATN\",\"L5H15ATN\",\"L5H16ATN\",\"L5H17ATN\",\"L5H18ATN\",\"L5H19ATN\",\"L5H20ATN\",\"L5H21ATN\",\"L5H22ATN\",\"L5H23ATN\",\"L5H24ATN\",\"L5H25ATN\",\"L5H26ATN\",\"L5H27ATN\",\"L5H28ATN\",\"L5H29ATN\",\"L5H30ATN\",\"L5H31ATN\",\"L5MLP\",\"L6H0ATN\",\"L6H1ATN\",\"L6H2ATN\",\"L6H3ATN\",\"L6H4ATN\",\"L6H5ATN\",\"L6H6ATN\",\"L6H7ATN\",\"L6H8ATN\",\"L6H9ATN\",\"L6H10ATN\",\"L6H11ATN\",\"L6H12ATN\",\"L6H13ATN\",\"L6H14ATN\",\"L6H15ATN\",\"L6H16ATN\",\"L6H17ATN\",\"L6H18ATN\",\"L6H19ATN\",\"L6H20ATN\",\"L6H21ATN\",\"L6H22ATN\",\"L6H23ATN\",\"L6H24ATN\",\"L6H25ATN\",\"L6H26ATN\",\"L6H27ATN\",\"L6H28ATN\",\"L6H29ATN\",\"L6H30ATN\",\"L6H31ATN\",\"L6MLP\",\"L7H0ATN\",\"L7H1ATN\",\"L7H2ATN\",\"L7H3ATN\",\"L7H4ATN\",\"L7H5ATN\",\"L7H6ATN\",\"L7H7ATN\",\"L7H8ATN\",\"L7H9ATN\",\"L7H10ATN\",\"L7H11ATN\",\"L7H12ATN\",\"L7H13ATN\",\"L7H14ATN\",\"L7H15ATN\",\"L7H16ATN\",\"L7H17ATN\",\"L7H18ATN\",\"L7H19ATN\",\"L7H20ATN\",\"L7H21ATN\",\"L7H22ATN\",\"L7H23ATN\",\"L7H24ATN\",\"L7H25ATN\",\"L7H26ATN\",\"L7H27ATN\",\"L7H28ATN\",\"L7H29ATN\",\"L7H30ATN\",\"L7H31ATN\",\"L7MLP\",\"L8H0ATN\",\"L8H1ATN\",\"L8H2ATN\",\"L8H3ATN\",\"L8H4ATN\",\"L8H5ATN\",\"L8H6ATN\",\"L8H7ATN\",\"L8H8ATN\",\"L8H9ATN\",\"L8H10ATN\",\"L8H11ATN\",\"L8H12ATN\",\"L8H13ATN\",\"L8H14ATN\",\"L8H15ATN\",\"L8H16ATN\",\"L8H17ATN\",\"L8H18ATN\",\"L8H19ATN\",\"L8H20ATN\",\"L8H21ATN\",\"L8H22ATN\",\"L8H23ATN\",\"L8H24ATN\",\"L8H25ATN\",\"L8H26ATN\",\"L8H27ATN\",\"L8H28ATN\",\"L8H29ATN\",\"L8H30ATN\",\"L8H31ATN\",\"L8MLP\",\"L9H0ATN\",\"L9H1ATN\",\"L9H2ATN\",\"L9H3ATN\",\"L9H4ATN\",\"L9H5ATN\",\"L9H6ATN\",\"L9H7ATN\",\"L9H8ATN\",\"L9H9ATN\",\"L9H10ATN\",\"L9H11ATN\",\"L9H12ATN\",\"L9H13ATN\",\"L9H14ATN\",\"L9H15ATN\",\"L9H16ATN\",\"L9H17ATN\",\"L9H18ATN\",\"L9H19ATN\",\"L9H20ATN\",\"L9H21ATN\",\"L9H22ATN\",\"L9H23ATN\",\"L9H24ATN\",\"L9H25ATN\",\"L9H26ATN\",\"L9H27ATN\",\"L9H28ATN\",\"L9H29ATN\",\"L9H30ATN\",\"L9H31ATN\",\"L9MLP\",\"L10H0ATN\",\"L10H1ATN\",\"L10H2ATN\",\"L10H3ATN\",\"L10H4ATN\",\"L10H5ATN\",\"L10H6ATN\",\"L10H7ATN\",\"L10H8ATN\",\"L10H9ATN\",\"L10H10ATN\",\"L10H11ATN\",\"L10H12ATN\",\"L10H13ATN\",\"L10H14ATN\",\"L10H15ATN\",\"L10H16ATN\",\"L10H17ATN\",\"L10H18ATN\",\"L10H19ATN\",\"L10H20ATN\",\"L10H21ATN\",\"L10H22ATN\",\"L10H23ATN\",\"L10H24ATN\",\"L10H25ATN\",\"L10H26ATN\",\"L10H27ATN\",\"L10H28ATN\",\"L10H29ATN\",\"L10H30ATN\",\"L10H31ATN\",\"L10MLP\",\"L11H0ATN\",\"L11H1ATN\",\"L11H2ATN\",\"L11H3ATN\",\"L11H4ATN\",\"L11H5ATN\",\"L11H6ATN\",\"L11H7ATN\",\"L11H8ATN\",\"L11H9ATN\",\"L11H10ATN\",\"L11H11ATN\",\"L11H12ATN\",\"L11H13ATN\",\"L11H14ATN\",\"L11H15ATN\",\"L11H16ATN\",\"L11H17ATN\",\"L11H18ATN\",\"L11H19ATN\",\"L11H20ATN\",\"L11H21ATN\",\"L11H22ATN\",\"L11H23ATN\",\"L11H24ATN\",\"L11H25ATN\",\"L11H26ATN\",\"L11H27ATN\",\"L11H28ATN\",\"L11H29ATN\",\"L11H30ATN\",\"L11H31ATN\",\"L11MLP\",\"L12H0ATN\",\"L12H1ATN\",\"L12H2ATN\",\"L12H3ATN\",\"L12H4ATN\",\"L12H5ATN\",\"L12H6ATN\",\"L12H7ATN\",\"L12H8ATN\",\"L12H9ATN\",\"L12H10ATN\",\"L12H11ATN\",\"L12H12ATN\",\"L12H13ATN\",\"L12H14ATN\",\"L12H15ATN\",\"L12H16ATN\",\"L12H17ATN\",\"L12H18ATN\",\"L12H19ATN\",\"L12H20ATN\",\"L12H21ATN\",\"L12H22ATN\",\"L12H23ATN\",\"L12H24ATN\",\"L12H25ATN\",\"L12H26ATN\",\"L12H27ATN\",\"L12H28ATN\",\"L12H29ATN\",\"L12H30ATN\",\"L12H31ATN\",\"L12MLP\",\"L13H0ATN\",\"L13H1ATN\",\"L13H2ATN\",\"L13H3ATN\",\"L13H4ATN\",\"L13H5ATN\",\"L13H6ATN\",\"L13H7ATN\",\"L13H8ATN\",\"L13H9ATN\",\"L13H10ATN\",\"L13H11ATN\",\"L13H12ATN\",\"L13H13ATN\",\"L13H14ATN\",\"L13H15ATN\",\"L13H16ATN\",\"L13H17ATN\",\"L13H18ATN\",\"L13H19ATN\",\"L13H20ATN\",\"L13H21ATN\",\"L13H22ATN\",\"L13H23ATN\",\"L13H24ATN\",\"L13H25ATN\",\"L13H26ATN\",\"L13H27ATN\",\"L13H28ATN\",\"L13H29ATN\",\"L13H30ATN\",\"L13H31ATN\",\"L13MLP\",\"L14H0ATN\",\"L14H1ATN\",\"L14H2ATN\",\"L14H3ATN\",\"L14H4ATN\",\"L14H5ATN\",\"L14H6ATN\",\"L14H7ATN\",\"L14H8ATN\",\"L14H9ATN\",\"L14H10ATN\",\"L14H11ATN\",\"L14H12ATN\",\"L14H13ATN\",\"L14H14ATN\",\"L14H15ATN\",\"L14H16ATN\",\"L14H17ATN\",\"L14H18ATN\",\"L14H19ATN\",\"L14H20ATN\",\"L14H21ATN\",\"L14H22ATN\",\"L14H23ATN\",\"L14H24ATN\",\"L14H25ATN\",\"L14H26ATN\",\"L14H27ATN\",\"L14H28ATN\",\"L14H29ATN\",\"L14H30ATN\",\"L14H31ATN\",\"L14MLP\",\"L15H0ATN\",\"L15H1ATN\",\"L15H2ATN\",\"L15H3ATN\",\"L15H4ATN\",\"L15H5ATN\",\"L15H6ATN\",\"L15H7ATN\",\"L15H8ATN\",\"L15H9ATN\",\"L15H10ATN\",\"L15H11ATN\",\"L15H12ATN\",\"L15H13ATN\",\"L15H14ATN\",\"L15H15ATN\",\"L15H16ATN\",\"L15H17ATN\",\"L15H18ATN\",\"L15H19ATN\",\"L15H20ATN\",\"L15H21ATN\",\"L15H22ATN\",\"L15H23ATN\",\"L15H24ATN\",\"L15H25ATN\",\"L15H26ATN\",\"L15H27ATN\",\"L15H28ATN\",\"L15H29ATN\",\"L15H30ATN\",\"L15H31ATN\",\"L15MLP\",\"L16H0ATN\",\"L16H1ATN\",\"L16H2ATN\",\"L16H3ATN\",\"L16H4ATN\",\"L16H5ATN\",\"L16H6ATN\",\"L16H7ATN\",\"L16H8ATN\",\"L16H9ATN\",\"L16H10ATN\",\"L16H11ATN\",\"L16H12ATN\",\"L16H13ATN\",\"L16H14ATN\",\"L16H15ATN\",\"L16H16ATN\",\"L16H17ATN\",\"L16H18ATN\",\"L16H19ATN\",\"L16H20ATN\",\"L16H21ATN\",\"L16H22ATN\",\"L16H23ATN\",\"L16H24ATN\",\"L16H25ATN\",\"L16H26ATN\",\"L16H27ATN\",\"L16H28ATN\",\"L16H29ATN\",\"L16H30ATN\",\"L16H31ATN\",\"L16MLP\",\"L17H0ATN\",\"L17H1ATN\",\"L17H2ATN\",\"L17H3ATN\",\"L17H4ATN\",\"L17H5ATN\",\"L17H6ATN\",\"L17H7ATN\",\"L17H8ATN\",\"L17H9ATN\",\"L17H10ATN\",\"L17H11ATN\",\"L17H12ATN\",\"L17H13ATN\",\"L17H14ATN\",\"L17H15ATN\",\"L17H16ATN\",\"L17H17ATN\",\"L17H18ATN\",\"L17H19ATN\",\"L17H20ATN\",\"L17H21ATN\",\"L17H22ATN\",\"L17H23ATN\",\"L17H24ATN\",\"L17H25ATN\",\"L17H26ATN\",\"L17H27ATN\",\"L17H28ATN\",\"L17H29ATN\",\"L17H30ATN\",\"L17H31ATN\",\"L17MLP\",\"L18H0ATN\",\"L18H1ATN\",\"L18H2ATN\",\"L18H3ATN\",\"L18H4ATN\",\"L18H5ATN\",\"L18H6ATN\",\"L18H7ATN\",\"L18H8ATN\",\"L18H9ATN\",\"L18H10ATN\",\"L18H11ATN\",\"L18H12ATN\",\"L18H13ATN\",\"L18H14ATN\",\"L18H15ATN\",\"L18H16ATN\",\"L18H17ATN\",\"L18H18ATN\",\"L18H19ATN\",\"L18H20ATN\",\"L18H21ATN\",\"L18H22ATN\",\"L18H23ATN\",\"L18H24ATN\",\"L18H25ATN\",\"L18H26ATN\",\"L18H27ATN\",\"L18H28ATN\",\"L18H29ATN\",\"L18H30ATN\",\"L18H31ATN\",\"L18MLP\",\"L19H0ATN\",\"L19H1ATN\",\"L19H2ATN\",\"L19H3ATN\",\"L19H4ATN\",\"L19H5ATN\",\"L19H6ATN\",\"L19H7ATN\",\"L19H8ATN\",\"L19H9ATN\",\"L19H10ATN\",\"L19H11ATN\",\"L19H12ATN\",\"L19H13ATN\",\"L19H14ATN\",\"L19H15ATN\",\"L19H16ATN\",\"L19H17ATN\",\"L19H18ATN\",\"L19H19ATN\",\"L19H20ATN\",\"L19H21ATN\",\"L19H22ATN\",\"L19H23ATN\",\"L19H24ATN\",\"L19H25ATN\",\"L19H26ATN\",\"L19H27ATN\",\"L19H28ATN\",\"L19H29ATN\",\"L19H30ATN\",\"L19H31ATN\",\"L19MLP\",\"L20H0ATN\",\"L20H1ATN\",\"L20H2ATN\",\"L20H3ATN\",\"L20H4ATN\",\"L20H5ATN\",\"L20H6ATN\",\"L20H7ATN\",\"L20H8ATN\",\"L20H9ATN\",\"L20H10ATN\",\"L20H11ATN\",\"L20H12ATN\",\"L20H13ATN\",\"L20H14ATN\",\"L20H15ATN\",\"L20H16ATN\",\"L20H17ATN\",\"L20H18ATN\",\"L20H19ATN\",\"L20H20ATN\",\"L20H21ATN\",\"L20H22ATN\",\"L20H23ATN\",\"L20H24ATN\",\"L20H25ATN\",\"L20H26ATN\",\"L20H27ATN\",\"L20H28ATN\",\"L20H29ATN\",\"L20H30ATN\",\"L20H31ATN\",\"L20MLP\",\"L21H0ATN\",\"L21H1ATN\",\"L21H2ATN\",\"L21H3ATN\",\"L21H4ATN\",\"L21H5ATN\",\"L21H6ATN\",\"L21H7ATN\",\"L21H8ATN\",\"L21H9ATN\",\"L21H10ATN\",\"L21H11ATN\",\"L21H12ATN\",\"L21H13ATN\",\"L21H14ATN\",\"L21H15ATN\",\"L21H16ATN\",\"L21H17ATN\",\"L21H18ATN\",\"L21H19ATN\",\"L21H20ATN\",\"L21H21ATN\",\"L21H22ATN\",\"L21H23ATN\",\"L21H24ATN\",\"L21H25ATN\",\"L21H26ATN\",\"L21H27ATN\",\"L21H28ATN\",\"L21H29ATN\",\"L21H30ATN\",\"L21H31ATN\",\"L21MLP\",\"L22H0ATN\",\"L22H1ATN\",\"L22H2ATN\",\"L22H3ATN\",\"L22H4ATN\",\"L22H5ATN\",\"L22H6ATN\",\"L22H7ATN\",\"L22H8ATN\",\"L22H9ATN\",\"L22H10ATN\",\"L22H11ATN\",\"L22H12ATN\",\"L22H13ATN\",\"L22H14ATN\",\"L22H15ATN\",\"L22H16ATN\",\"L22H17ATN\",\"L22H18ATN\",\"L22H19ATN\",\"L22H20ATN\",\"L22H21ATN\",\"L22H22ATN\",\"L22H23ATN\",\"L22H24ATN\",\"L22H25ATN\",\"L22H26ATN\",\"L22H27ATN\",\"L22H28ATN\",\"L22H29ATN\",\"L22H30ATN\",\"L22H31ATN\",\"L22MLP\",\"L23H0ATN\",\"L23H1ATN\",\"L23H2ATN\",\"L23H3ATN\",\"L23H4ATN\",\"L23H5ATN\",\"L23H6ATN\",\"L23H7ATN\",\"L23H8ATN\",\"L23H9ATN\",\"L23H10ATN\",\"L23H11ATN\",\"L23H12ATN\",\"L23H13ATN\",\"L23H14ATN\",\"L23H15ATN\",\"L23H16ATN\",\"L23H17ATN\",\"L23H18ATN\",\"L23H19ATN\",\"L23H20ATN\",\"L23H21ATN\",\"L23H22ATN\",\"L23H23ATN\",\"L23H24ATN\",\"L23H25ATN\",\"L23H26ATN\",\"L23H27ATN\",\"L23H28ATN\",\"L23H29ATN\",\"L23H30ATN\",\"L23H31ATN\",\"L23MLP\",\"L24H0ATN\",\"L24H1ATN\",\"L24H2ATN\",\"L24H3ATN\",\"L24H4ATN\",\"L24H5ATN\",\"L24H6ATN\",\"L24H7ATN\",\"L24H8ATN\",\"L24H9ATN\",\"L24H10ATN\",\"L24H11ATN\",\"L24H12ATN\",\"L24H13ATN\",\"L24H14ATN\",\"L24H15ATN\",\"L24H16ATN\",\"L24H17ATN\",\"L24H18ATN\",\"L24H19ATN\",\"L24H20ATN\",\"L24H21ATN\",\"L24H22ATN\",\"L24H23ATN\",\"L24H24ATN\",\"L24H25ATN\",\"L24H26ATN\",\"L24H27ATN\",\"L24H28ATN\",\"L24H29ATN\",\"L24H30ATN\",\"L24H31ATN\",\"L24MLP\",\"L25H0ATN\",\"L25H1ATN\",\"L25H2ATN\",\"L25H3ATN\",\"L25H4ATN\",\"L25H5ATN\",\"L25H6ATN\",\"L25H7ATN\",\"L25H8ATN\",\"L25H9ATN\",\"L25H10ATN\",\"L25H11ATN\",\"L25H12ATN\",\"L25H13ATN\",\"L25H14ATN\",\"L25H15ATN\",\"L25H16ATN\",\"L25H17ATN\",\"L25H18ATN\",\"L25H19ATN\",\"L25H20ATN\",\"L25H21ATN\",\"L25H22ATN\",\"L25H23ATN\",\"L25H24ATN\",\"L25H25ATN\",\"L25H26ATN\",\"L25H27ATN\",\"L25H28ATN\",\"L25H29ATN\",\"L25H30ATN\",\"L25H31ATN\",\"L25MLP\",\"L26H0ATN\",\"L26H1ATN\",\"L26H2ATN\",\"L26H3ATN\",\"L26H4ATN\",\"L26H5ATN\",\"L26H6ATN\",\"L26H7ATN\",\"L26H8ATN\",\"L26H9ATN\",\"L26H10ATN\",\"L26H11ATN\",\"L26H12ATN\",\"L26H13ATN\",\"L26H14ATN\",\"L26H15ATN\",\"L26H16ATN\",\"L26H17ATN\",\"L26H18ATN\",\"L26H19ATN\",\"L26H20ATN\",\"L26H21ATN\",\"L26H22ATN\",\"L26H23ATN\",\"L26H24ATN\",\"L26H25ATN\",\"L26H26ATN\",\"L26H27ATN\",\"L26H28ATN\",\"L26H29ATN\",\"L26H30ATN\",\"L26H31ATN\",\"L26MLP\",\"None\"],\"y\":[0.00018870869826059788,-0.000752660387661308,0.00018736263155005872,-0.0002682303893379867,0.003085710806772113,-0.00021490530343726277,7.31019681552425e-05,-0.0005602758610621095,0.00012886033800896257,-0.0002286766393808648,-0.00037073882413096726,5.917531962040812e-05,-0.00039108519558794796,0.0009269246947951615,-0.0024781154934316874,-0.0005355288740247488,-0.002955659758299589,-4.043387889396399e-05,5.7984565501101315e-05,-0.0001735912956064567,0.00026279434678144753,6.373124779202044e-05,0.0004297070554457605,-0.00011980025738012046,-0.00013238083920441568,3.9864389691501856e-05,0.0006090450333431363,0.00019103843078482896,0.00012332074402365834,-0.0004222001298330724,-0.0002630014205351472,-0.00015474631800316274,0.00021775274944957346,0.0014718243619427085,-0.0014618841232731938,-0.00019611208699643612,-0.0018024399178102612,-0.0005109889898449183,3.867363557219505e-05,0.0005993118975311518,-8.70286239660345e-05,-0.0007106215925887227,-0.004557431675493717,7.346437632804736e-05,-6.166037201182917e-05,-0.0014313904102891684,9.494972618995234e-05,-0.0008952920325100422,0.0016143524553626776,-0.00030871605849824846,-0.0003813520597759634,-0.0006290290039032698,-0.00046201274381019175,0.0007653444772586226,-9.054911060957238e-05,-0.0005664884811267257,-0.0018219578778371215,-0.00013678145478479564,-3.592972279875539e-05,-0.0003789705515373498,-0.00013191488687880337,0.00014366711548063904,-0.00035292928805574775,-0.001243872451595962,-0.0017549132462590933,-0.001059875008650124,-0.005140642635524273,0.0008779484778642654,0.00011125789023935795,-0.00017674938135314733,-0.0005029125604778528,-0.00045279733603820205,-0.0022884230129420757,0.0003751394397113472,-0.0002164066827390343,0.00019745815370697528,0.0003120294422842562,3.8311231037369e-05,-0.0003789705515373498,-0.00030198568128980696,-0.00010328501230105758,0.00018891578656621277,0.0009283225517719984,0.000705081969499588,0.00013776512059848756,0.0001927469129441306,7.009920227574185e-05,-0.00022148033895064145,-2.8888738597743213e-05,-8.500951662426814e-05,-0.00012011088983854279,0.00017561040294822305,-9.15327764232643e-05,-0.001420414773747325,-0.0014406576519832015,-0.0003384849114809185,-0.0014095426304265857,-0.0014125454472377896,5.0270547944819555e-05,0.007716503459960222,0.00013729916827287525,-0.0007646196754649282,-0.0010905240196734667,-0.0007498129270970821,0.0002859364030882716,0.0009636827744543552,5.363572563510388e-05,-0.0011031563626602292,0.002477494068443775,-0.0017386050894856453,-0.0010753548704087734,0.00035199738340452313,-0.00021355922217480838,0.001485854503698647,0.001285445410758257,0.000194455380551517,-0.0003433514793869108,-0.0004788386286236346,-0.00043954371358267963,8.438825170742348e-05,-0.00020853735622949898,2.9095826903358102e-05,0.000715488160494715,-0.0004228731559123844,-0.0002263468923047185,-4.970105510437861e-05,0.00010002337512560189,0.00019574968609958887,0.000654707895591855,-0.001191996969282627,-0.0008273673010990024,0.0025491465348750353,0.0006411436479538679,0.00037446641363203526,-0.003568535903468728,0.0012905190233141184,0.0009686011471785605,-0.0008347706752829254,-0.0018485686741769314,0.00041629813495092094,-0.00011845418339362368,-0.0020522912964224815,-0.002756130648776889,-0.00018596478912513703,-0.000725894293282181,-0.0018598550232127309,-0.000973726564552635,-0.0032340374309569597,-0.00011726342927431688,0.0010460519697517157,-0.00044120042002759874,-0.0009503773762844503,0.0009331891196779907,-0.0019454857101663947,0.00044094157055951655,-0.003066399833187461,-0.0005679898895323277,0.0001374544808641076,-0.000303538836305961,-0.003108283504843712,-0.0004810648097191006,0.00033149568480439484,0.00030239985790103674,0.00012332074402365834,0.0002866612048819661,0.002659834921360016,0.0015626840759068727,-0.0010989110451191664,0.0020401766523718834,-0.001473998767323792,0.0018144509522244334,0.0025727543979883194,5.0270547944819555e-05,-0.0004100854857824743,0.0003150322299916297,7.796853606123477e-05,0.0005190654192119837,0.00039061924326233566,-0.0004038728657178581,0.0015279450453817844,-0.000482410890981555,4.3229563743807375e-05,-0.00018700023065321147,-8.014295599423349e-05,8.837469067657366e-05,-0.0007881241617724299,0.00024332808970939368,0.0037853566464036703,-0.0001130699019995518,-0.001052471692673862,-0.0016066902317106724,0.0006761932163499296,0.0008941012783907354,-0.0008177377167157829,-0.0020153778605163097,0.0005628644721582532,-0.003171859309077263,0.0005902518169023097,0.0022765672765672207,-0.001984418136999011,-0.000256788800470531,-0.006046703085303307,-0.0010560438968241215,0.0012174170697107911,-0.0008389641880057752,-0.03132341802120209,0.00042841274989768863,0.0027748204302042723,-0.00014770533016417176,-0.0009072513785213232,0.0005037927185185254,-0.0025376530829817057,-0.005219853483140469,0.0015175389125943184,0.0002362353407079354,0.0004628410970326513,0.0008098165853880346,0.018751587718725204,-0.014470255933701992,-0.001092543127015233,-0.012552209198474884,0.00847646314650774,0.0033179079182446003,-0.0006937956786714494,-0.0002984651946462691,0.00018130530952475965,0.005725199356675148,0.009842206723988056,-0.0008396372431889176,-0.00013874878641217947,3.5515546187525615e-05,0.009253508411347866,-0.0007343331235460937,0.0003270950692240149,-0.002764051780104637,0.0001485336833866313,0.0001444954687030986,0.00024400113034062088,2.5368246951984474e-06,-0.0016925798263400793,-0.0005010487511754036,0.0021530911326408386,0.00040858410648070276,0.007671772502362728,-0.0022926684468984604,8.469888416584581e-05,0.006288529839366674,0.0005011005559936166,-0.0005876632058061659,0.0008658338338136673,0.0011997628025710583,0.0012101689353585243,0.0032839456107467413,-0.0007025451632216573,-0.0033030493650585413,0.0010160759557038546,-0.0014095426304265857,0.0011168759083375335,-0.0021246166434139013,0.0009749690652824938,0.00539380731061101,-0.0004611843905877322,-0.0007022345089353621,0.0036087108310312033,-0.0314982533454895,0.00025642639957368374,-0.003399655921384692,0.001123761641792953,0.0017011739546433091,0.001668454147875309,0.0006320835673250258,-0.0017856140621006489,0.0018443233566358685,-0.00011322522186674178,-0.007885227911174297,-0.0012046293122693896,-0.003977327141910791,-0.0018572146072983742,-0.00666341045871377,0.0021101722959429026,-0.0021497260313481092,-0.0042242794297635555,0.00923062488436699,9.044556645676494e-05,0.0005664367345161736,0.0001741090090945363,-0.010451148264110088,-0.010406521148979664,0.0006668225396424532,0.0015752646140754223,0.0035305870696902275,0.004066892433911562,-0.0028683205600827932,-3.8932495954213664e-05,-0.007772934623062611,-0.005964644718915224,0.0005501285777427256,0.006102823652327061,-0.026654521003365517,0.0031568454578518867,0.002762446878477931,0.005666748620569706,-0.0027954254765063524,0.0051741390489041805,-0.004315397702157497,-0.0021443418227136135,0.0001745749614201486,0.003229895606637001,0.00015510871890001,-0.008351537398993969,-0.004609151743352413,0.00111490860581398,0.0013480376219376922,-0.0028758791740983725,-0.0007575269555673003,0.020438265055418015,-0.004200464114546776,-0.0032365224324166775,-0.03453115373849869,-0.00225202739238739,-0.006694628857076168,-0.003192516276612878,0.0003526704094838351,-0.0005629162187688053,-0.0005444336566142738,0.0022732021752744913,0.006621527019888163,0.004401753190904856,0.002116281306371093,0.00027589264209382236,0.010828100144863129,0.0064444150775671005,0.01070250105112791,-0.008024598471820354,-0.0050441911444067955,0.03972196578979492,-0.004436285234987736,0.0042951032519340515,0.002674900460988283,-0.0011199305299669504,0.006660511251538992,-0.009438851848244667,-0.008238622918725014,-0.006481742486357689,0.00039046391611918807,0.0010824993951246142,0.0013171815080568194,-0.007550004869699478,0.0018636861350387335,0.0034565532114356756,-0.023514656350016594,0.0006475115660578012,0.0011289905523881316,0.0005906142177991569,-0.0040841843001544476,-0.003100465750321746,-0.005661519709974527,0.0006045408663339913,-0.0030627241358160973,-0.004064873326569796,0.004898246377706528,-0.004245091695338488,-0.005328211933374405,-0.021121706813573837,-0.004518965259194374,-0.00732888700440526,-0.001424970687367022,0.01290503516793251,-0.006513427011668682,-0.0014450064627453685,0.026951899752020836,-0.010539730079472065,0.020412947982549667,-0.015231406316161156,-0.0015177978202700615,-0.012165679596364498,0.003508998081088066,-0.00040604727109894156,0.002614327473565936,0.0003573299036361277,0.0007827916415408254,0.010507010854780674,7.558702236565296e-06,0.009063402190804482,-0.0016174587653949857,-0.0007200440741144121,0.007853387854993343,-0.002793354680761695,0.009490106254816055,-0.0018134155543521047,0.002211904153227806,-3.8466547266580164e-05,0.0024540931917726994,0.003014938673004508,-0.0016898877220228314,0.05728207156062126,-0.028240036219358444,-0.011196457780897617,0.006044166162610054,-0.000497372995596379,-0.0007117605418898165,-2.7853300707647577e-05,-0.018369510769844055,0.001760659972205758,-0.006434940733015537,-0.0032456861808896065,-0.01261179894208908,-0.014707060530781746,0.013317087665200233,-0.002446430968120694,-0.00298102805390954,-0.003718467429280281,-0.0032035955227911472,0.005998503416776657,0.0003544824430719018,0.0061158183962106705,0.00916958600282669,0.005536024924367666,-0.0022257789969444275,0.0037840106524527073,0.002269370947033167,-0.009065680205821991,0.012964158318936825,0.0005264170467853546,0.019160224124789238,-0.002747329417616129,-0.009006763808429241,0.044610582292079926,-0.006281799636781216,0.02015005052089691,-0.0023655113764107227,0.036165595054626465,0.009230107069015503,-0.001316612004302442,0.0051516699604690075,-0.005054131615906954,-0.005088197533041239,0.007008729036897421,0.0032215602695941925,-0.010986315086483955,-0.0016927869291976094,0.0008240538882091641,-0.0024838619865477085,-0.012704366818070412,-0.014950130134820938,0.0007712465012446046,-0.0005531831411644816,0.0009720698581077158,0.019922150298953056,0.004314310383051634,0.014436707831919193,0.0023666503839194775,0.0015933330869302154,0.007792763411998749,0.015834704041481018,-2.2520791389979422e-05,0.0019304201705381274,0.004676765762269497,-0.008230805397033691,0.0014505460858345032,0.004939612001180649,-0.012029622681438923,0.044200651347637177,-0.013707706704735756,0.0017839573556557298,0.010706953704357147,0.003988872282207012,0.030849186703562737,-0.0208336990326643,-0.0006071812240406871,0.002087082015350461,0.0007446875097230077,0.022347044199705124,0.012358219362795353,0.009558755904436111,0.011023332364857197,0.004288528114557266,0.004614018369466066,-0.027052130550146103,-0.004176804330199957,0.002910514594987035,0.0023566067684441805,0.003780800849199295,-0.010495206341147423,-0.013622231781482697,-0.0037784711457788944,0.0016379604348912835,-0.0004726259794551879,-0.002186794765293598,-0.008278383873403072,0.008312398567795753,-0.006431523710489273,0.009073031134903431,-0.024890445172786713,0.004253789316862822,0.05438791960477829,-0.0004721600271295756,0.0013661577831953764,0.00017674938135314733,-0.0016548899002373219,0.003426059614866972,0.03876521810889244,0.007435381878167391,-0.0043235779739916325,0.012627951800823212,-0.0032007480040192604,-0.00576143991202116,0.007808242924511433,-6.010721699567512e-05,0.0014038995141163468,-0.004124359227716923,-0.001905880169942975,-0.005073079839348793,0.012959187850356102,-0.002421010984107852,0.007085144519805908,0.0005123350420035422,0.007801719941198826,0.004668948240578175,-0.005860945209860802,-0.003903500270098448,0.000792680075392127,-0.0023180884309113026,-0.0010563544929027557,-0.006897056940943003,-0.03288993239402771,0.0039925482124090195,0.004832133650779724,0.0818200558423996,-0.016511157155036926,-0.0004993402981199324,-0.0064178043976426125,-0.005114600993692875,-0.0003714118502102792,0.013830716721713543,-0.0016339740250259638,0.0034610573202371597,-0.001274832058697939,-0.002888356102630496,0.1493750810623169,-0.0017269564559683204,-2.987240623042453e-05,0.00737237511202693,-0.026603007689118385,0.0025404489133507013,0.0040266141295433044,0.0003581582277547568,0.02538357302546501,0.00040216438355855644,0.012838714756071568,0.00922834686934948,0.00271336711011827,-0.0005479541723616421,0.00235727964900434,0.005075720604509115,-0.003424610011279583,-0.001233725226484239,-0.0006116853910498321,0.03508931025862694,-0.0014433497563004494,-0.012593626976013184,0.04281870275735855,-0.01664125919342041,-0.0009107718942686915,-0.001524321036413312,0.0019651073962450027,0.0003440762811806053,-0.0010968919377774,-0.0034104762598872185,-0.0011031563626602292,-0.005867209751158953,-0.0015832892386242747,0.0018622365314513445,-0.00247863307595253,0.001205509528517723,-0.001318113412708044,0.0020983165595680475,-0.005111184436827898,0.00021795983775518835,-0.00011053308116970584,0.02572723478078842,-0.01760939508676529,6.057316113583511e-06,-0.00047345433267764747,0.01120712235569954,0.00044301245361566544,-0.00024130898236762732,0.0023844081442803144,-0.001079237787052989,-0.004942614585161209,-0.013715420849621296,-0.013711693696677685,0.002211904153227806,0.0010283458977937698,0.03421716019511223,-0.0006875830586068332,0.02821684256196022,0.01421175803989172,-0.001942948903888464,-0.00025104210362769663,0.005686732940375805,0.0006137563032098114,0.00034138414775952697,-0.0018111893441528082,0.008113904856145382,-0.004196425899863243,0.010507786646485329,0.010516433045268059,-0.021119480952620506,-0.0011525985319167376,0.033023297786712646,-0.0022284192964434624,-0.007644954603165388,-0.0001153996417997405,0.000635241623967886,0.001993737183511257,-0.0005943935830146074,-0.0015314138727262616,-0.007268779445439577,-0.0036747718695551157,-0.001340323593467474,0.11070983111858368,0.0009058535215444863,-0.007042846642434597,0.0009501185268163681,-0.004529008641839027,0.029152000322937965,0.03880135715007782,-0.0006222986266948283,-0.03931508958339691,0.011980180628597736,0.002542675007134676,0.027790967375040054,-0.002547127427533269,0.025977706536650658,-0.0013413073029369116,0.05211523547768593,-0.007760198786854744,-0.0019434666028246284,-0.0007545241969637573,0.032033003866672516,0.0017303215572610497,-0.000558205007109791,-0.012377582490444183,0.03527636080980301,-0.006044839508831501,-0.027321137487888336,-0.0006083719781599939,-0.002839794149622321,0.0010055145248770714,-0.00533178448677063,-0.04434400796890259,0.0017953470814973116,0.01131983008235693,-0.000857964507304132,-0.016841772943735123,-0.003995758015662432,-0.0053636240772902966,-0.0003587795072235167,-0.005863689351826906,0.20448966324329376,0.003896459238603711,0.00359814940020442,-0.0034143072552978992,0.0010535070905461907,-0.0007467583636753261,0.005524375941604376,-0.0018930925289168954,-0.00011762583744712174,0.0006016416591592133,0.0023992666974663734,0.022853685542941093,0.0004107585409656167,-0.002189486986026168,-0.013320193625986576,0.1006702184677124,0.0034249206073582172,-0.033004555851221085,0.012081291526556015,0.05450435355305672,-0.0006845284951850772,-0.0033984133042395115,-0.0017731370171532035,-0.001993633573874831,-0.0063596125692129135,-0.0033689034171402454,0.0015534686390310526,-0.004748211242258549,0.0009179164189845324,0.00013460703485179693,0.0038734208792448044,-0.000745257013477385,-0.0023850812576711178,0.2460985630750656,-0.0010457412572577596,-0.001742436201311648,0.0007584588602185249,-0.016877753660082817,-0.011196457780897617,-0.001905880169942975,-0.003340221708640456,-0.0011915310751646757,-0.002559242071583867,0.0014228480868041515,-0.003457226324826479,0.0003659240319393575,0.009439266286790371,-0.0006443535094149411,-0.007210225332528353,0.0034836300183087587,0.007358241360634565,-0.014386540278792381,-0.0003634907479863614,0.003512052819132805,-0.00610142620280385,-0.0017542402492836118,0.002467450452968478,0.009509727358818054,-0.01695406623184681,0.001142917200922966,-0.0015267025446519256,0.002664701547473669,0.0012131717521697283,-0.029309075325727463,-0.0018204564694315195,-0.00399016635492444,0.18730784952640533,0.00014941379777155817,-0.0018310698214918375,-0.001120810629799962,-0.02002999186515808,-0.0008840575465001166,0.035463619977235794,-0.005624917335808277,0.014623500406742096,-0.00025492499116808176,0.0040650805458426476,0.0036890609189867973,0.0029525533318519592,-0.012017612345516682,-0.0024752679746598005,-0.0021325377747416496,-0.0018340725218877196,0.028006182983517647,0.006654816213995218,-0.0002914242213591933,-0.002700268756598234,-0.11453183740377426,-0.0007696415996178985,0.010996876284480095,0.0057380907237529755,6.90637607476674e-05,0.01479760929942131,-0.005710651632398367,0.003486787900328636,-0.000841656350530684,-0.007259460631757975,0.0024411501362919807,0.0005534937372431159,-0.12745147943496704,-0.00014485786959994584,0.001122260233387351,-0.005603587254881859,-0.0023540181573480368,0.0017795567400753498,0.0020183806773275137,0.00015226125833578408,0.001830189605243504,0.0046759373508393764,0.0013901281636208296,0.0011034669587388635,-0.0017210544319823384,0.0035183688160032034,-0.005211207550019026,-0.002413555746898055,0.007061381358653307,-0.00048660440370440483,0.0003813520597759634,-0.008043495006859303,-0.13728870451450348,-0.010472012683749199,-0.002779686823487282,-0.0039251409471035,-0.0018978037405759096,0.0004977353964932263,-0.006854293402284384,-0.007875909097492695,-0.0005650906823575497,0.03344963863492012,-0.00923248939216137,0.04513062909245491,0.004033137112855911,-0.04491225630044937,-0.004883232526481152,0.025677170604467392,0.005273592658340931,-0.000574409612454474,-0.0022557550109922886,-0.001424970687367022,-0.0007949062855914235,0.0021410284098237753,-0.006342682987451553,0.002054620999842882,-0.04539564996957779,-0.005397793836891651,0.005030057393014431,-0.0035570424515753984,0.2938767075538635,0.001775207812897861,-0.005628333892673254,0.0019897506572306156,-0.08049645274877548,-0.007808760739862919,0.00043188148993067443,-0.005059360526502132,-0.0022343213204294443,0.004304629284888506,0.0038498127833008766,-0.014280200935900211,-0.0021486906334757805,-0.0012896389234811068,-0.0017407794948667288,-0.003105073468759656,-0.0049288952723145485,-0.004059851635247469,-0.08165096491575241,0.010415736585855484,0.008988798595964909,-0.00022080729831941426,0.010821939446032047,-0.01816009357571602,0.003115531522780657,-0.016869159415364265,-0.0016688683535903692,0.009197750128805637,0.0011408980935811996,-0.0009464945178478956,0.0008611743687652051,-0.02596326172351837,-0.0027960985898971558,-0.0014238316798582673,-0.007795507088303566,-0.0018179196631535888,-0.0032916078343987465,-0.005928559694439173,0.0028969503473490477,0.007373359054327011,0.008418167941272259,-0.0010290706995874643,0.002900367369875312,-0.0008941530832089484,-0.00027019772096537054,-0.007905315607786179,-0.004141444340348244,-0.01793312467634678,-0.007759525906294584,-0.0020251628011465073,-0.0018995122518390417,-0.12639936804771423,-0.004572445526719093,-0.002720666816458106,-0.0017646981868892908,-0.001576351816765964,-0.03699829429388046,-0.0008851965540088713,-0.008728333748877048,-0.007712775841355324,-0.013110724277794361,-0.019489027559757233,-0.0170892421156168,-0.00448873033747077,-0.018965043127536774,0.0002116954419761896,0.0060938154347240925,0.012199848890304565,-0.01936114951968193,-0.005011315923184156,0.003985041286796331,-0.00816515926271677,-0.0006485470221377909,0.0257547777146101,-0.0015713300090283155,-0.0017031930619850755,-0.0010577006032690406,-0.002954313764348626,-0.0038070492446422577,0.02141634002327919,-0.04430564492940903,-0.0031131498981267214,-0.0042518735863268375,-0.0003215036995243281,0.09485167264938354,1.190754460367316e-06],\"type\":\"scatter\"}],                        {\"template\":{\"data\":{\"histogram2dcontour\":[{\"type\":\"histogram2dcontour\",\"colorbar\":{\"outlinewidth\":0,\"ticks\":\"\"},\"colorscale\":[[0.0,\"#0d0887\"],[0.1111111111111111,\"#46039f\"],[0.2222222222222222,\"#7201a8\"],[0.3333333333333333,\"#9c179e\"],[0.4444444444444444,\"#bd3786\"],[0.5555555555555556,\"#d8576b\"],[0.6666666666666666,\"#ed7953\"],[0.7777777777777778,\"#fb9f3a\"],[0.8888888888888888,\"#fdca26\"],[1.0,\"#f0f921\"]]}],\"choropleth\":[{\"type\":\"choropleth\",\"colorbar\":{\"outlinewidth\":0,\"ticks\":\"\"}}],\"histogram2d\":[{\"type\":\"histogram2d\",\"colorbar\":{\"outlinewidth\":0,\"ticks\":\"\"},\"colorscale\":[[0.0,\"#0d0887\"],[0.1111111111111111,\"#46039f\"],[0.2222222222222222,\"#7201a8\"],[0.3333333333333333,\"#9c179e\"],[0.4444444444444444,\"#bd3786\"],[0.5555555555555556,\"#d8576b\"],[0.6666666666666666,\"#ed7953\"],[0.7777777777777778,\"#fb9f3a\"],[0.8888888888888888,\"#fdca26\"],[1.0,\"#f0f921\"]]}],\"heatmap\":[{\"type\":\"heatmap\",\"colorbar\":{\"outlinewidth\":0,\"ticks\":\"\"},\"colorscale\":[[0.0,\"#0d0887\"],[0.1111111111111111,\"#46039f\"],[0.2222222222222222,\"#7201a8\"],[0.3333333333333333,\"#9c179e\"],[0.4444444444444444,\"#bd3786\"],[0.5555555555555556,\"#d8576b\"],[0.6666666666666666,\"#ed7953\"],[0.7777777777777778,\"#fb9f3a\"],[0.8888888888888888,\"#fdca26\"],[1.0,\"#f0f921\"]]}],\"heatmapgl\":[{\"type\":\"heatmapgl\",\"colorbar\":{\"outlinewidth\":0,\"ticks\":\"\"},\"colorscale\":[[0.0,\"#0d0887\"],[0.1111111111111111,\"#46039f\"],[0.2222222222222222,\"#7201a8\"],[0.3333333333333333,\"#9c179e\"],[0.4444444444444444,\"#bd3786\"],[0.5555555555555556,\"#d8576b\"],[0.6666666666666666,\"#ed7953\"],[0.7777777777777778,\"#fb9f3a\"],[0.8888888888888888,\"#fdca26\"],[1.0,\"#f0f921\"]]}],\"contourcarpet\":[{\"type\":\"contourcarpet\",\"colorbar\":{\"outlinewidth\":0,\"ticks\":\"\"}}],\"contour\":[{\"type\":\"contour\",\"colorbar\":{\"outlinewidth\":0,\"ticks\":\"\"},\"colorscale\":[[0.0,\"#0d0887\"],[0.1111111111111111,\"#46039f\"],[0.2222222222222222,\"#7201a8\"],[0.3333333333333333,\"#9c179e\"],[0.4444444444444444,\"#bd3786\"],[0.5555555555555556,\"#d8576b\"],[0.6666666666666666,\"#ed7953\"],[0.7777777777777778,\"#fb9f3a\"],[0.8888888888888888,\"#fdca26\"],[1.0,\"#f0f921\"]]}],\"surface\":[{\"type\":\"surface\",\"colorbar\":{\"outlinewidth\":0,\"ticks\":\"\"},\"colorscale\":[[0.0,\"#0d0887\"],[0.1111111111111111,\"#46039f\"],[0.2222222222222222,\"#7201a8\"],[0.3333333333333333,\"#9c179e\"],[0.4444444444444444,\"#bd3786\"],[0.5555555555555556,\"#d8576b\"],[0.6666666666666666,\"#ed7953\"],[0.7777777777777778,\"#fb9f3a\"],[0.8888888888888888,\"#fdca26\"],[1.0,\"#f0f921\"]]}],\"mesh3d\":[{\"type\":\"mesh3d\",\"colorbar\":{\"outlinewidth\":0,\"ticks\":\"\"}}],\"scatter\":[{\"fillpattern\":{\"fillmode\":\"overlay\",\"size\":10,\"solidity\":0.2},\"type\":\"scatter\"}],\"parcoords\":[{\"type\":\"parcoords\",\"line\":{\"colorbar\":{\"outlinewidth\":0,\"ticks\":\"\"}}}],\"scatterpolargl\":[{\"type\":\"scatterpolargl\",\"marker\":{\"colorbar\":{\"outlinewidth\":0,\"ticks\":\"\"}}}],\"bar\":[{\"error_x\":{\"color\":\"#2a3f5f\"},\"error_y\":{\"color\":\"#2a3f5f\"},\"marker\":{\"line\":{\"color\":\"#E5ECF6\",\"width\":0.5},\"pattern\":{\"fillmode\":\"overlay\",\"size\":10,\"solidity\":0.2}},\"type\":\"bar\"}],\"scattergeo\":[{\"type\":\"scattergeo\",\"marker\":{\"colorbar\":{\"outlinewidth\":0,\"ticks\":\"\"}}}],\"scatterpolar\":[{\"type\":\"scatterpolar\",\"marker\":{\"colorbar\":{\"outlinewidth\":0,\"ticks\":\"\"}}}],\"histogram\":[{\"marker\":{\"pattern\":{\"fillmode\":\"overlay\",\"size\":10,\"solidity\":0.2}},\"type\":\"histogram\"}],\"scattergl\":[{\"type\":\"scattergl\",\"marker\":{\"colorbar\":{\"outlinewidth\":0,\"ticks\":\"\"}}}],\"scatter3d\":[{\"type\":\"scatter3d\",\"line\":{\"colorbar\":{\"outlinewidth\":0,\"ticks\":\"\"}},\"marker\":{\"colorbar\":{\"outlinewidth\":0,\"ticks\":\"\"}}}],\"scattermapbox\":[{\"type\":\"scattermapbox\",\"marker\":{\"colorbar\":{\"outlinewidth\":0,\"ticks\":\"\"}}}],\"scatterternary\":[{\"type\":\"scatterternary\",\"marker\":{\"colorbar\":{\"outlinewidth\":0,\"ticks\":\"\"}}}],\"scattercarpet\":[{\"type\":\"scattercarpet\",\"marker\":{\"colorbar\":{\"outlinewidth\":0,\"ticks\":\"\"}}}],\"carpet\":[{\"aaxis\":{\"endlinecolor\":\"#2a3f5f\",\"gridcolor\":\"white\",\"linecolor\":\"white\",\"minorgridcolor\":\"white\",\"startlinecolor\":\"#2a3f5f\"},\"baxis\":{\"endlinecolor\":\"#2a3f5f\",\"gridcolor\":\"white\",\"linecolor\":\"white\",\"minorgridcolor\":\"white\",\"startlinecolor\":\"#2a3f5f\"},\"type\":\"carpet\"}],\"table\":[{\"cells\":{\"fill\":{\"color\":\"#EBF0F8\"},\"line\":{\"color\":\"white\"}},\"header\":{\"fill\":{\"color\":\"#C8D4E3\"},\"line\":{\"color\":\"white\"}},\"type\":\"table\"}],\"barpolar\":[{\"marker\":{\"line\":{\"color\":\"#E5ECF6\",\"width\":0.5},\"pattern\":{\"fillmode\":\"overlay\",\"size\":10,\"solidity\":0.2}},\"type\":\"barpolar\"}],\"pie\":[{\"automargin\":true,\"type\":\"pie\"}]},\"layout\":{\"autotypenumbers\":\"strict\",\"colorway\":[\"#636efa\",\"#EF553B\",\"#00cc96\",\"#ab63fa\",\"#FFA15A\",\"#19d3f3\",\"#FF6692\",\"#B6E880\",\"#FF97FF\",\"#FECB52\"],\"font\":{\"color\":\"#2a3f5f\"},\"hovermode\":\"closest\",\"hoverlabel\":{\"align\":\"left\"},\"paper_bgcolor\":\"white\",\"plot_bgcolor\":\"#E5ECF6\",\"polar\":{\"bgcolor\":\"#E5ECF6\",\"angularaxis\":{\"gridcolor\":\"white\",\"linecolor\":\"white\",\"ticks\":\"\"},\"radialaxis\":{\"gridcolor\":\"white\",\"linecolor\":\"white\",\"ticks\":\"\"}},\"ternary\":{\"bgcolor\":\"#E5ECF6\",\"aaxis\":{\"gridcolor\":\"white\",\"linecolor\":\"white\",\"ticks\":\"\"},\"baxis\":{\"gridcolor\":\"white\",\"linecolor\":\"white\",\"ticks\":\"\"},\"caxis\":{\"gridcolor\":\"white\",\"linecolor\":\"white\",\"ticks\":\"\"}},\"coloraxis\":{\"colorbar\":{\"outlinewidth\":0,\"ticks\":\"\"}},\"colorscale\":{\"sequential\":[[0.0,\"#0d0887\"],[0.1111111111111111,\"#46039f\"],[0.2222222222222222,\"#7201a8\"],[0.3333333333333333,\"#9c179e\"],[0.4444444444444444,\"#bd3786\"],[0.5555555555555556,\"#d8576b\"],[0.6666666666666666,\"#ed7953\"],[0.7777777777777778,\"#fb9f3a\"],[0.8888888888888888,\"#fdca26\"],[1.0,\"#f0f921\"]],\"sequentialminus\":[[0.0,\"#0d0887\"],[0.1111111111111111,\"#46039f\"],[0.2222222222222222,\"#7201a8\"],[0.3333333333333333,\"#9c179e\"],[0.4444444444444444,\"#bd3786\"],[0.5555555555555556,\"#d8576b\"],[0.6666666666666666,\"#ed7953\"],[0.7777777777777778,\"#fb9f3a\"],[0.8888888888888888,\"#fdca26\"],[1.0,\"#f0f921\"]],\"diverging\":[[0,\"#8e0152\"],[0.1,\"#c51b7d\"],[0.2,\"#de77ae\"],[0.3,\"#f1b6da\"],[0.4,\"#fde0ef\"],[0.5,\"#f7f7f7\"],[0.6,\"#e6f5d0\"],[0.7,\"#b8e186\"],[0.8,\"#7fbc41\"],[0.9,\"#4d9221\"],[1,\"#276419\"]]},\"xaxis\":{\"gridcolor\":\"white\",\"linecolor\":\"white\",\"ticks\":\"\",\"title\":{\"standoff\":15},\"zerolinecolor\":\"white\",\"automargin\":true,\"zerolinewidth\":2},\"yaxis\":{\"gridcolor\":\"white\",\"linecolor\":\"white\",\"ticks\":\"\",\"title\":{\"standoff\":15},\"zerolinecolor\":\"white\",\"automargin\":true,\"zerolinewidth\":2},\"scene\":{\"xaxis\":{\"backgroundcolor\":\"#E5ECF6\",\"gridcolor\":\"white\",\"linecolor\":\"white\",\"showbackground\":true,\"ticks\":\"\",\"zerolinecolor\":\"white\",\"gridwidth\":2},\"yaxis\":{\"backgroundcolor\":\"#E5ECF6\",\"gridcolor\":\"white\",\"linecolor\":\"white\",\"showbackground\":true,\"ticks\":\"\",\"zerolinecolor\":\"white\",\"gridwidth\":2},\"zaxis\":{\"backgroundcolor\":\"#E5ECF6\",\"gridcolor\":\"white\",\"linecolor\":\"white\",\"showbackground\":true,\"ticks\":\"\",\"zerolinecolor\":\"white\",\"gridwidth\":2}},\"shapedefaults\":{\"line\":{\"color\":\"#2a3f5f\"}},\"annotationdefaults\":{\"arrowcolor\":\"#2a3f5f\",\"arrowhead\":0,\"arrowwidth\":1},\"geo\":{\"bgcolor\":\"white\",\"landcolor\":\"#E5ECF6\",\"subunitcolor\":\"white\",\"showland\":true,\"showlakes\":true,\"lakecolor\":\"white\"},\"title\":{\"x\":0.05},\"mapbox\":{\"style\":\"light\"}}},\"xaxis\":{\"tickvals\":[0,128,256,384,512,640,768],\"ticktext\":[\"EMBED\",\"L3H28ATN\",\"L7H24ATN\",\"L11H20ATN\",\"L15H16ATN\",\"L19H12ATN\",\"L23H8ATN\"],\"title\":{\"text\":\"Components of Query Enrichment\"},\"range\":[-26.79,919.7900000000001]},\"hovermode\":\"x unified\",\"showlegend\":true,\"title\":{\"text\":\"Query enrichment analysis by component\"},\"yaxis\":{\"title\":{\"text\":\"Log10 Bayes Factor\\n(w.r.t attn. prob to forbidden token)\"}},\"height\":420,\"width\":800,\"annotations\":[{\"font\":{\"size\":11},\"showarrow\":false,\"text\":\"The Iguazu Falls are in the country of [\\u002fINST] \",\"x\":1,\"xref\":\"paper\",\"y\":1.05,\"yref\":\"paper\"}]},                        {\"responsive\": true}                    ).then(function(){\n",
       "                            \n",
       "var gd = document.getElementById('ec9df02e-5e24-4b94-9b42-11f5f55d2b1d');\n",
       "var x = new MutationObserver(function (mutations, observer) {{\n",
       "        var display = window.getComputedStyle(gd).display;\n",
       "        if (!display || display === 'none') {{\n",
       "            console.log([gd, 'removed!']);\n",
       "            Plotly.purge(gd);\n",
       "            observer.disconnect();\n",
       "        }}\n",
       "}});\n",
       "\n",
       "// Listen for the removal of the full notebook cells\n",
       "var notebookContainer = gd.closest('#notebook-container');\n",
       "if (notebookContainer) {{\n",
       "    x.observe(notebookContainer, {childList: true});\n",
       "}}\n",
       "\n",
       "// Listen for the clearing of the current output cell\n",
       "var outputEl = gd.closest('.output');\n",
       "if (outputEl) {{\n",
       "    x.observe(outputEl, {childList: true});\n",
       "}}\n",
       "\n",
       "                        })                };                });            </script>        </div>"
      ]
     },
     "metadata": {},
     "output_type": "display_data"
    },
    {
     "data": {
      "application/vnd.plotly.v1+json": {
       "config": {
        "plotlyServerURL": "https://plot.ly"
       },
       "data": [
        {
         "mode": "lines",
         "name": "zero ablation",
         "opacity": 0.7,
         "type": "scatter",
         "x": [
          "L24H14ATN",
          "L20MLP",
          "L19MLP",
          "L21MLP",
          "L16H10ATN",
          "L18H26ATN",
          "L20H14ATN",
          "L26MLP",
          "L15MLP",
          "L11H31ATN",
          "L20H18ATN",
          "L14MLP",
          "L19H8ATN",
          "L23H30ATN",
          "L12H30ATN",
          "L13MLP",
          "L16MLP",
          "L10H4ATN",
          "L18MLP",
          "L15H5ATN"
         ],
         "y": [
          0.2938767075538635,
          0.2460985630750656,
          0.20448966324329376,
          0.18730784952640533,
          0.1493750810623169,
          0.11070983111858368,
          0.1006702184677124,
          0.09485167264938354,
          0.0818200558423996,
          0.05728207156062126,
          0.05450435355305672,
          0.05438791960477829,
          0.05211523547768593,
          0.04513062909245491,
          0.044610582292079926,
          0.044200651347637177,
          0.04281870275735855,
          0.03972196578979492,
          0.03880135715007782,
          0.03876521810889244
         ]
        }
       ],
       "layout": {
        "annotations": [
         {
          "font": {
           "size": 11
          },
          "showarrow": false,
          "text": "The Iguazu Falls are in the country of [/INST] ",
          "x": 1,
          "xref": "paper",
          "y": 1.05,
          "yref": "paper"
         }
        ],
        "height": 400,
        "hovermode": "x unified",
        "showlegend": true,
        "template": {
         "data": {
          "bar": [
           {
            "error_x": {
             "color": "#2a3f5f"
            },
            "error_y": {
             "color": "#2a3f5f"
            },
            "marker": {
             "line": {
              "color": "#E5ECF6",
              "width": 0.5
             },
             "pattern": {
              "fillmode": "overlay",
              "size": 10,
              "solidity": 0.2
             }
            },
            "type": "bar"
           }
          ],
          "barpolar": [
           {
            "marker": {
             "line": {
              "color": "#E5ECF6",
              "width": 0.5
             },
             "pattern": {
              "fillmode": "overlay",
              "size": 10,
              "solidity": 0.2
             }
            },
            "type": "barpolar"
           }
          ],
          "carpet": [
           {
            "aaxis": {
             "endlinecolor": "#2a3f5f",
             "gridcolor": "white",
             "linecolor": "white",
             "minorgridcolor": "white",
             "startlinecolor": "#2a3f5f"
            },
            "baxis": {
             "endlinecolor": "#2a3f5f",
             "gridcolor": "white",
             "linecolor": "white",
             "minorgridcolor": "white",
             "startlinecolor": "#2a3f5f"
            },
            "type": "carpet"
           }
          ],
          "choropleth": [
           {
            "colorbar": {
             "outlinewidth": 0,
             "ticks": ""
            },
            "type": "choropleth"
           }
          ],
          "contour": [
           {
            "colorbar": {
             "outlinewidth": 0,
             "ticks": ""
            },
            "colorscale": [
             [
              0,
              "#0d0887"
             ],
             [
              0.1111111111111111,
              "#46039f"
             ],
             [
              0.2222222222222222,
              "#7201a8"
             ],
             [
              0.3333333333333333,
              "#9c179e"
             ],
             [
              0.4444444444444444,
              "#bd3786"
             ],
             [
              0.5555555555555556,
              "#d8576b"
             ],
             [
              0.6666666666666666,
              "#ed7953"
             ],
             [
              0.7777777777777778,
              "#fb9f3a"
             ],
             [
              0.8888888888888888,
              "#fdca26"
             ],
             [
              1,
              "#f0f921"
             ]
            ],
            "type": "contour"
           }
          ],
          "contourcarpet": [
           {
            "colorbar": {
             "outlinewidth": 0,
             "ticks": ""
            },
            "type": "contourcarpet"
           }
          ],
          "heatmap": [
           {
            "colorbar": {
             "outlinewidth": 0,
             "ticks": ""
            },
            "colorscale": [
             [
              0,
              "#0d0887"
             ],
             [
              0.1111111111111111,
              "#46039f"
             ],
             [
              0.2222222222222222,
              "#7201a8"
             ],
             [
              0.3333333333333333,
              "#9c179e"
             ],
             [
              0.4444444444444444,
              "#bd3786"
             ],
             [
              0.5555555555555556,
              "#d8576b"
             ],
             [
              0.6666666666666666,
              "#ed7953"
             ],
             [
              0.7777777777777778,
              "#fb9f3a"
             ],
             [
              0.8888888888888888,
              "#fdca26"
             ],
             [
              1,
              "#f0f921"
             ]
            ],
            "type": "heatmap"
           }
          ],
          "heatmapgl": [
           {
            "colorbar": {
             "outlinewidth": 0,
             "ticks": ""
            },
            "colorscale": [
             [
              0,
              "#0d0887"
             ],
             [
              0.1111111111111111,
              "#46039f"
             ],
             [
              0.2222222222222222,
              "#7201a8"
             ],
             [
              0.3333333333333333,
              "#9c179e"
             ],
             [
              0.4444444444444444,
              "#bd3786"
             ],
             [
              0.5555555555555556,
              "#d8576b"
             ],
             [
              0.6666666666666666,
              "#ed7953"
             ],
             [
              0.7777777777777778,
              "#fb9f3a"
             ],
             [
              0.8888888888888888,
              "#fdca26"
             ],
             [
              1,
              "#f0f921"
             ]
            ],
            "type": "heatmapgl"
           }
          ],
          "histogram": [
           {
            "marker": {
             "pattern": {
              "fillmode": "overlay",
              "size": 10,
              "solidity": 0.2
             }
            },
            "type": "histogram"
           }
          ],
          "histogram2d": [
           {
            "colorbar": {
             "outlinewidth": 0,
             "ticks": ""
            },
            "colorscale": [
             [
              0,
              "#0d0887"
             ],
             [
              0.1111111111111111,
              "#46039f"
             ],
             [
              0.2222222222222222,
              "#7201a8"
             ],
             [
              0.3333333333333333,
              "#9c179e"
             ],
             [
              0.4444444444444444,
              "#bd3786"
             ],
             [
              0.5555555555555556,
              "#d8576b"
             ],
             [
              0.6666666666666666,
              "#ed7953"
             ],
             [
              0.7777777777777778,
              "#fb9f3a"
             ],
             [
              0.8888888888888888,
              "#fdca26"
             ],
             [
              1,
              "#f0f921"
             ]
            ],
            "type": "histogram2d"
           }
          ],
          "histogram2dcontour": [
           {
            "colorbar": {
             "outlinewidth": 0,
             "ticks": ""
            },
            "colorscale": [
             [
              0,
              "#0d0887"
             ],
             [
              0.1111111111111111,
              "#46039f"
             ],
             [
              0.2222222222222222,
              "#7201a8"
             ],
             [
              0.3333333333333333,
              "#9c179e"
             ],
             [
              0.4444444444444444,
              "#bd3786"
             ],
             [
              0.5555555555555556,
              "#d8576b"
             ],
             [
              0.6666666666666666,
              "#ed7953"
             ],
             [
              0.7777777777777778,
              "#fb9f3a"
             ],
             [
              0.8888888888888888,
              "#fdca26"
             ],
             [
              1,
              "#f0f921"
             ]
            ],
            "type": "histogram2dcontour"
           }
          ],
          "mesh3d": [
           {
            "colorbar": {
             "outlinewidth": 0,
             "ticks": ""
            },
            "type": "mesh3d"
           }
          ],
          "parcoords": [
           {
            "line": {
             "colorbar": {
              "outlinewidth": 0,
              "ticks": ""
             }
            },
            "type": "parcoords"
           }
          ],
          "pie": [
           {
            "automargin": true,
            "type": "pie"
           }
          ],
          "scatter": [
           {
            "fillpattern": {
             "fillmode": "overlay",
             "size": 10,
             "solidity": 0.2
            },
            "type": "scatter"
           }
          ],
          "scatter3d": [
           {
            "line": {
             "colorbar": {
              "outlinewidth": 0,
              "ticks": ""
             }
            },
            "marker": {
             "colorbar": {
              "outlinewidth": 0,
              "ticks": ""
             }
            },
            "type": "scatter3d"
           }
          ],
          "scattercarpet": [
           {
            "marker": {
             "colorbar": {
              "outlinewidth": 0,
              "ticks": ""
             }
            },
            "type": "scattercarpet"
           }
          ],
          "scattergeo": [
           {
            "marker": {
             "colorbar": {
              "outlinewidth": 0,
              "ticks": ""
             }
            },
            "type": "scattergeo"
           }
          ],
          "scattergl": [
           {
            "marker": {
             "colorbar": {
              "outlinewidth": 0,
              "ticks": ""
             }
            },
            "type": "scattergl"
           }
          ],
          "scattermapbox": [
           {
            "marker": {
             "colorbar": {
              "outlinewidth": 0,
              "ticks": ""
             }
            },
            "type": "scattermapbox"
           }
          ],
          "scatterpolar": [
           {
            "marker": {
             "colorbar": {
              "outlinewidth": 0,
              "ticks": ""
             }
            },
            "type": "scatterpolar"
           }
          ],
          "scatterpolargl": [
           {
            "marker": {
             "colorbar": {
              "outlinewidth": 0,
              "ticks": ""
             }
            },
            "type": "scatterpolargl"
           }
          ],
          "scatterternary": [
           {
            "marker": {
             "colorbar": {
              "outlinewidth": 0,
              "ticks": ""
             }
            },
            "type": "scatterternary"
           }
          ],
          "surface": [
           {
            "colorbar": {
             "outlinewidth": 0,
             "ticks": ""
            },
            "colorscale": [
             [
              0,
              "#0d0887"
             ],
             [
              0.1111111111111111,
              "#46039f"
             ],
             [
              0.2222222222222222,
              "#7201a8"
             ],
             [
              0.3333333333333333,
              "#9c179e"
             ],
             [
              0.4444444444444444,
              "#bd3786"
             ],
             [
              0.5555555555555556,
              "#d8576b"
             ],
             [
              0.6666666666666666,
              "#ed7953"
             ],
             [
              0.7777777777777778,
              "#fb9f3a"
             ],
             [
              0.8888888888888888,
              "#fdca26"
             ],
             [
              1,
              "#f0f921"
             ]
            ],
            "type": "surface"
           }
          ],
          "table": [
           {
            "cells": {
             "fill": {
              "color": "#EBF0F8"
             },
             "line": {
              "color": "white"
             }
            },
            "header": {
             "fill": {
              "color": "#C8D4E3"
             },
             "line": {
              "color": "white"
             }
            },
            "type": "table"
           }
          ]
         },
         "layout": {
          "annotationdefaults": {
           "arrowcolor": "#2a3f5f",
           "arrowhead": 0,
           "arrowwidth": 1
          },
          "autotypenumbers": "strict",
          "coloraxis": {
           "colorbar": {
            "outlinewidth": 0,
            "ticks": ""
           }
          },
          "colorscale": {
           "diverging": [
            [
             0,
             "#8e0152"
            ],
            [
             0.1,
             "#c51b7d"
            ],
            [
             0.2,
             "#de77ae"
            ],
            [
             0.3,
             "#f1b6da"
            ],
            [
             0.4,
             "#fde0ef"
            ],
            [
             0.5,
             "#f7f7f7"
            ],
            [
             0.6,
             "#e6f5d0"
            ],
            [
             0.7,
             "#b8e186"
            ],
            [
             0.8,
             "#7fbc41"
            ],
            [
             0.9,
             "#4d9221"
            ],
            [
             1,
             "#276419"
            ]
           ],
           "sequential": [
            [
             0,
             "#0d0887"
            ],
            [
             0.1111111111111111,
             "#46039f"
            ],
            [
             0.2222222222222222,
             "#7201a8"
            ],
            [
             0.3333333333333333,
             "#9c179e"
            ],
            [
             0.4444444444444444,
             "#bd3786"
            ],
            [
             0.5555555555555556,
             "#d8576b"
            ],
            [
             0.6666666666666666,
             "#ed7953"
            ],
            [
             0.7777777777777778,
             "#fb9f3a"
            ],
            [
             0.8888888888888888,
             "#fdca26"
            ],
            [
             1,
             "#f0f921"
            ]
           ],
           "sequentialminus": [
            [
             0,
             "#0d0887"
            ],
            [
             0.1111111111111111,
             "#46039f"
            ],
            [
             0.2222222222222222,
             "#7201a8"
            ],
            [
             0.3333333333333333,
             "#9c179e"
            ],
            [
             0.4444444444444444,
             "#bd3786"
            ],
            [
             0.5555555555555556,
             "#d8576b"
            ],
            [
             0.6666666666666666,
             "#ed7953"
            ],
            [
             0.7777777777777778,
             "#fb9f3a"
            ],
            [
             0.8888888888888888,
             "#fdca26"
            ],
            [
             1,
             "#f0f921"
            ]
           ]
          },
          "colorway": [
           "#636efa",
           "#EF553B",
           "#00cc96",
           "#ab63fa",
           "#FFA15A",
           "#19d3f3",
           "#FF6692",
           "#B6E880",
           "#FF97FF",
           "#FECB52"
          ],
          "font": {
           "color": "#2a3f5f"
          },
          "geo": {
           "bgcolor": "white",
           "lakecolor": "white",
           "landcolor": "#E5ECF6",
           "showlakes": true,
           "showland": true,
           "subunitcolor": "white"
          },
          "hoverlabel": {
           "align": "left"
          },
          "hovermode": "closest",
          "mapbox": {
           "style": "light"
          },
          "paper_bgcolor": "white",
          "plot_bgcolor": "#E5ECF6",
          "polar": {
           "angularaxis": {
            "gridcolor": "white",
            "linecolor": "white",
            "ticks": ""
           },
           "bgcolor": "#E5ECF6",
           "radialaxis": {
            "gridcolor": "white",
            "linecolor": "white",
            "ticks": ""
           }
          },
          "scene": {
           "xaxis": {
            "backgroundcolor": "#E5ECF6",
            "gridcolor": "white",
            "gridwidth": 2,
            "linecolor": "white",
            "showbackground": true,
            "ticks": "",
            "zerolinecolor": "white"
           },
           "yaxis": {
            "backgroundcolor": "#E5ECF6",
            "gridcolor": "white",
            "gridwidth": 2,
            "linecolor": "white",
            "showbackground": true,
            "ticks": "",
            "zerolinecolor": "white"
           },
           "zaxis": {
            "backgroundcolor": "#E5ECF6",
            "gridcolor": "white",
            "gridwidth": 2,
            "linecolor": "white",
            "showbackground": true,
            "ticks": "",
            "zerolinecolor": "white"
           }
          },
          "shapedefaults": {
           "line": {
            "color": "#2a3f5f"
           }
          },
          "ternary": {
           "aaxis": {
            "gridcolor": "white",
            "linecolor": "white",
            "ticks": ""
           },
           "baxis": {
            "gridcolor": "white",
            "linecolor": "white",
            "ticks": ""
           },
           "bgcolor": "#E5ECF6",
           "caxis": {
            "gridcolor": "white",
            "linecolor": "white",
            "ticks": ""
           }
          },
          "title": {
           "x": 0.05
          },
          "xaxis": {
           "automargin": true,
           "gridcolor": "white",
           "linecolor": "white",
           "ticks": "",
           "title": {
            "standoff": 15
           },
           "zerolinecolor": "white",
           "zerolinewidth": 2
          },
          "yaxis": {
           "automargin": true,
           "gridcolor": "white",
           "linecolor": "white",
           "ticks": "",
           "title": {
            "standoff": 15
           },
           "zerolinecolor": "white",
           "zerolinewidth": 2
          }
         }
        },
        "title": {
         "text": "Query enrichment analysis by component"
        },
        "width": 800,
        "xaxis": {
         "range": [
          -0.6,
          20.6
         ],
         "ticktext": [
          "L24H14ATN",
          "L20MLP",
          "L19MLP",
          "L21MLP",
          "L16H10ATN",
          "L18H26ATN",
          "L20H14ATN",
          "L26MLP",
          "L15MLP",
          "L11H31ATN",
          "L20H18ATN",
          "L14MLP",
          "L19H8ATN",
          "L23H30ATN",
          "L12H30ATN",
          "L13MLP",
          "L16MLP",
          "L10H4ATN",
          "L18MLP",
          "L15H5ATN"
         ],
         "tickvals": [
          0,
          1,
          2,
          3,
          4,
          5,
          6,
          7,
          8,
          9,
          10,
          11,
          12,
          13,
          14,
          15,
          16,
          17,
          18,
          19
         ],
         "title": {
          "text": "Components of Query Enrichment"
         }
        },
        "yaxis": {
         "title": {
          "text": "Log10 Bayes Factor"
         }
        }
       }
      },
      "text/html": [
       "<div>                            <div id=\"62dba84c-fe06-4238-8f67-4eff49bb1476\" class=\"plotly-graph-div\" style=\"height:400px; width:800px;\"></div>            <script type=\"text/javascript\">                require([\"plotly\"], function(Plotly) {                    window.PLOTLYENV=window.PLOTLYENV || {};                                    if (document.getElementById(\"62dba84c-fe06-4238-8f67-4eff49bb1476\")) {                    Plotly.newPlot(                        \"62dba84c-fe06-4238-8f67-4eff49bb1476\",                        [{\"mode\":\"lines\",\"name\":\"zero ablation\",\"opacity\":0.7,\"x\":[\"L24H14ATN\",\"L20MLP\",\"L19MLP\",\"L21MLP\",\"L16H10ATN\",\"L18H26ATN\",\"L20H14ATN\",\"L26MLP\",\"L15MLP\",\"L11H31ATN\",\"L20H18ATN\",\"L14MLP\",\"L19H8ATN\",\"L23H30ATN\",\"L12H30ATN\",\"L13MLP\",\"L16MLP\",\"L10H4ATN\",\"L18MLP\",\"L15H5ATN\"],\"y\":[0.2938767075538635,0.2460985630750656,0.20448966324329376,0.18730784952640533,0.1493750810623169,0.11070983111858368,0.1006702184677124,0.09485167264938354,0.0818200558423996,0.05728207156062126,0.05450435355305672,0.05438791960477829,0.05211523547768593,0.04513062909245491,0.044610582292079926,0.044200651347637177,0.04281870275735855,0.03972196578979492,0.03880135715007782,0.03876521810889244],\"type\":\"scatter\"}],                        {\"template\":{\"data\":{\"histogram2dcontour\":[{\"type\":\"histogram2dcontour\",\"colorbar\":{\"outlinewidth\":0,\"ticks\":\"\"},\"colorscale\":[[0.0,\"#0d0887\"],[0.1111111111111111,\"#46039f\"],[0.2222222222222222,\"#7201a8\"],[0.3333333333333333,\"#9c179e\"],[0.4444444444444444,\"#bd3786\"],[0.5555555555555556,\"#d8576b\"],[0.6666666666666666,\"#ed7953\"],[0.7777777777777778,\"#fb9f3a\"],[0.8888888888888888,\"#fdca26\"],[1.0,\"#f0f921\"]]}],\"choropleth\":[{\"type\":\"choropleth\",\"colorbar\":{\"outlinewidth\":0,\"ticks\":\"\"}}],\"histogram2d\":[{\"type\":\"histogram2d\",\"colorbar\":{\"outlinewidth\":0,\"ticks\":\"\"},\"colorscale\":[[0.0,\"#0d0887\"],[0.1111111111111111,\"#46039f\"],[0.2222222222222222,\"#7201a8\"],[0.3333333333333333,\"#9c179e\"],[0.4444444444444444,\"#bd3786\"],[0.5555555555555556,\"#d8576b\"],[0.6666666666666666,\"#ed7953\"],[0.7777777777777778,\"#fb9f3a\"],[0.8888888888888888,\"#fdca26\"],[1.0,\"#f0f921\"]]}],\"heatmap\":[{\"type\":\"heatmap\",\"colorbar\":{\"outlinewidth\":0,\"ticks\":\"\"},\"colorscale\":[[0.0,\"#0d0887\"],[0.1111111111111111,\"#46039f\"],[0.2222222222222222,\"#7201a8\"],[0.3333333333333333,\"#9c179e\"],[0.4444444444444444,\"#bd3786\"],[0.5555555555555556,\"#d8576b\"],[0.6666666666666666,\"#ed7953\"],[0.7777777777777778,\"#fb9f3a\"],[0.8888888888888888,\"#fdca26\"],[1.0,\"#f0f921\"]]}],\"heatmapgl\":[{\"type\":\"heatmapgl\",\"colorbar\":{\"outlinewidth\":0,\"ticks\":\"\"},\"colorscale\":[[0.0,\"#0d0887\"],[0.1111111111111111,\"#46039f\"],[0.2222222222222222,\"#7201a8\"],[0.3333333333333333,\"#9c179e\"],[0.4444444444444444,\"#bd3786\"],[0.5555555555555556,\"#d8576b\"],[0.6666666666666666,\"#ed7953\"],[0.7777777777777778,\"#fb9f3a\"],[0.8888888888888888,\"#fdca26\"],[1.0,\"#f0f921\"]]}],\"contourcarpet\":[{\"type\":\"contourcarpet\",\"colorbar\":{\"outlinewidth\":0,\"ticks\":\"\"}}],\"contour\":[{\"type\":\"contour\",\"colorbar\":{\"outlinewidth\":0,\"ticks\":\"\"},\"colorscale\":[[0.0,\"#0d0887\"],[0.1111111111111111,\"#46039f\"],[0.2222222222222222,\"#7201a8\"],[0.3333333333333333,\"#9c179e\"],[0.4444444444444444,\"#bd3786\"],[0.5555555555555556,\"#d8576b\"],[0.6666666666666666,\"#ed7953\"],[0.7777777777777778,\"#fb9f3a\"],[0.8888888888888888,\"#fdca26\"],[1.0,\"#f0f921\"]]}],\"surface\":[{\"type\":\"surface\",\"colorbar\":{\"outlinewidth\":0,\"ticks\":\"\"},\"colorscale\":[[0.0,\"#0d0887\"],[0.1111111111111111,\"#46039f\"],[0.2222222222222222,\"#7201a8\"],[0.3333333333333333,\"#9c179e\"],[0.4444444444444444,\"#bd3786\"],[0.5555555555555556,\"#d8576b\"],[0.6666666666666666,\"#ed7953\"],[0.7777777777777778,\"#fb9f3a\"],[0.8888888888888888,\"#fdca26\"],[1.0,\"#f0f921\"]]}],\"mesh3d\":[{\"type\":\"mesh3d\",\"colorbar\":{\"outlinewidth\":0,\"ticks\":\"\"}}],\"scatter\":[{\"fillpattern\":{\"fillmode\":\"overlay\",\"size\":10,\"solidity\":0.2},\"type\":\"scatter\"}],\"parcoords\":[{\"type\":\"parcoords\",\"line\":{\"colorbar\":{\"outlinewidth\":0,\"ticks\":\"\"}}}],\"scatterpolargl\":[{\"type\":\"scatterpolargl\",\"marker\":{\"colorbar\":{\"outlinewidth\":0,\"ticks\":\"\"}}}],\"bar\":[{\"error_x\":{\"color\":\"#2a3f5f\"},\"error_y\":{\"color\":\"#2a3f5f\"},\"marker\":{\"line\":{\"color\":\"#E5ECF6\",\"width\":0.5},\"pattern\":{\"fillmode\":\"overlay\",\"size\":10,\"solidity\":0.2}},\"type\":\"bar\"}],\"scattergeo\":[{\"type\":\"scattergeo\",\"marker\":{\"colorbar\":{\"outlinewidth\":0,\"ticks\":\"\"}}}],\"scatterpolar\":[{\"type\":\"scatterpolar\",\"marker\":{\"colorbar\":{\"outlinewidth\":0,\"ticks\":\"\"}}}],\"histogram\":[{\"marker\":{\"pattern\":{\"fillmode\":\"overlay\",\"size\":10,\"solidity\":0.2}},\"type\":\"histogram\"}],\"scattergl\":[{\"type\":\"scattergl\",\"marker\":{\"colorbar\":{\"outlinewidth\":0,\"ticks\":\"\"}}}],\"scatter3d\":[{\"type\":\"scatter3d\",\"line\":{\"colorbar\":{\"outlinewidth\":0,\"ticks\":\"\"}},\"marker\":{\"colorbar\":{\"outlinewidth\":0,\"ticks\":\"\"}}}],\"scattermapbox\":[{\"type\":\"scattermapbox\",\"marker\":{\"colorbar\":{\"outlinewidth\":0,\"ticks\":\"\"}}}],\"scatterternary\":[{\"type\":\"scatterternary\",\"marker\":{\"colorbar\":{\"outlinewidth\":0,\"ticks\":\"\"}}}],\"scattercarpet\":[{\"type\":\"scattercarpet\",\"marker\":{\"colorbar\":{\"outlinewidth\":0,\"ticks\":\"\"}}}],\"carpet\":[{\"aaxis\":{\"endlinecolor\":\"#2a3f5f\",\"gridcolor\":\"white\",\"linecolor\":\"white\",\"minorgridcolor\":\"white\",\"startlinecolor\":\"#2a3f5f\"},\"baxis\":{\"endlinecolor\":\"#2a3f5f\",\"gridcolor\":\"white\",\"linecolor\":\"white\",\"minorgridcolor\":\"white\",\"startlinecolor\":\"#2a3f5f\"},\"type\":\"carpet\"}],\"table\":[{\"cells\":{\"fill\":{\"color\":\"#EBF0F8\"},\"line\":{\"color\":\"white\"}},\"header\":{\"fill\":{\"color\":\"#C8D4E3\"},\"line\":{\"color\":\"white\"}},\"type\":\"table\"}],\"barpolar\":[{\"marker\":{\"line\":{\"color\":\"#E5ECF6\",\"width\":0.5},\"pattern\":{\"fillmode\":\"overlay\",\"size\":10,\"solidity\":0.2}},\"type\":\"barpolar\"}],\"pie\":[{\"automargin\":true,\"type\":\"pie\"}]},\"layout\":{\"autotypenumbers\":\"strict\",\"colorway\":[\"#636efa\",\"#EF553B\",\"#00cc96\",\"#ab63fa\",\"#FFA15A\",\"#19d3f3\",\"#FF6692\",\"#B6E880\",\"#FF97FF\",\"#FECB52\"],\"font\":{\"color\":\"#2a3f5f\"},\"hovermode\":\"closest\",\"hoverlabel\":{\"align\":\"left\"},\"paper_bgcolor\":\"white\",\"plot_bgcolor\":\"#E5ECF6\",\"polar\":{\"bgcolor\":\"#E5ECF6\",\"angularaxis\":{\"gridcolor\":\"white\",\"linecolor\":\"white\",\"ticks\":\"\"},\"radialaxis\":{\"gridcolor\":\"white\",\"linecolor\":\"white\",\"ticks\":\"\"}},\"ternary\":{\"bgcolor\":\"#E5ECF6\",\"aaxis\":{\"gridcolor\":\"white\",\"linecolor\":\"white\",\"ticks\":\"\"},\"baxis\":{\"gridcolor\":\"white\",\"linecolor\":\"white\",\"ticks\":\"\"},\"caxis\":{\"gridcolor\":\"white\",\"linecolor\":\"white\",\"ticks\":\"\"}},\"coloraxis\":{\"colorbar\":{\"outlinewidth\":0,\"ticks\":\"\"}},\"colorscale\":{\"sequential\":[[0.0,\"#0d0887\"],[0.1111111111111111,\"#46039f\"],[0.2222222222222222,\"#7201a8\"],[0.3333333333333333,\"#9c179e\"],[0.4444444444444444,\"#bd3786\"],[0.5555555555555556,\"#d8576b\"],[0.6666666666666666,\"#ed7953\"],[0.7777777777777778,\"#fb9f3a\"],[0.8888888888888888,\"#fdca26\"],[1.0,\"#f0f921\"]],\"sequentialminus\":[[0.0,\"#0d0887\"],[0.1111111111111111,\"#46039f\"],[0.2222222222222222,\"#7201a8\"],[0.3333333333333333,\"#9c179e\"],[0.4444444444444444,\"#bd3786\"],[0.5555555555555556,\"#d8576b\"],[0.6666666666666666,\"#ed7953\"],[0.7777777777777778,\"#fb9f3a\"],[0.8888888888888888,\"#fdca26\"],[1.0,\"#f0f921\"]],\"diverging\":[[0,\"#8e0152\"],[0.1,\"#c51b7d\"],[0.2,\"#de77ae\"],[0.3,\"#f1b6da\"],[0.4,\"#fde0ef\"],[0.5,\"#f7f7f7\"],[0.6,\"#e6f5d0\"],[0.7,\"#b8e186\"],[0.8,\"#7fbc41\"],[0.9,\"#4d9221\"],[1,\"#276419\"]]},\"xaxis\":{\"gridcolor\":\"white\",\"linecolor\":\"white\",\"ticks\":\"\",\"title\":{\"standoff\":15},\"zerolinecolor\":\"white\",\"automargin\":true,\"zerolinewidth\":2},\"yaxis\":{\"gridcolor\":\"white\",\"linecolor\":\"white\",\"ticks\":\"\",\"title\":{\"standoff\":15},\"zerolinecolor\":\"white\",\"automargin\":true,\"zerolinewidth\":2},\"scene\":{\"xaxis\":{\"backgroundcolor\":\"#E5ECF6\",\"gridcolor\":\"white\",\"linecolor\":\"white\",\"showbackground\":true,\"ticks\":\"\",\"zerolinecolor\":\"white\",\"gridwidth\":2},\"yaxis\":{\"backgroundcolor\":\"#E5ECF6\",\"gridcolor\":\"white\",\"linecolor\":\"white\",\"showbackground\":true,\"ticks\":\"\",\"zerolinecolor\":\"white\",\"gridwidth\":2},\"zaxis\":{\"backgroundcolor\":\"#E5ECF6\",\"gridcolor\":\"white\",\"linecolor\":\"white\",\"showbackground\":true,\"ticks\":\"\",\"zerolinecolor\":\"white\",\"gridwidth\":2}},\"shapedefaults\":{\"line\":{\"color\":\"#2a3f5f\"}},\"annotationdefaults\":{\"arrowcolor\":\"#2a3f5f\",\"arrowhead\":0,\"arrowwidth\":1},\"geo\":{\"bgcolor\":\"white\",\"landcolor\":\"#E5ECF6\",\"subunitcolor\":\"white\",\"showland\":true,\"showlakes\":true,\"lakecolor\":\"white\"},\"title\":{\"x\":0.05},\"mapbox\":{\"style\":\"light\"}}},\"xaxis\":{\"tickvals\":[0,1,2,3,4,5,6,7,8,9,10,11,12,13,14,15,16,17,18,19],\"ticktext\":[\"L24H14ATN\",\"L20MLP\",\"L19MLP\",\"L21MLP\",\"L16H10ATN\",\"L18H26ATN\",\"L20H14ATN\",\"L26MLP\",\"L15MLP\",\"L11H31ATN\",\"L20H18ATN\",\"L14MLP\",\"L19H8ATN\",\"L23H30ATN\",\"L12H30ATN\",\"L13MLP\",\"L16MLP\",\"L10H4ATN\",\"L18MLP\",\"L15H5ATN\"],\"title\":{\"text\":\"Components of Query Enrichment\"},\"range\":[-0.6,20.6]},\"hovermode\":\"x unified\",\"showlegend\":true,\"title\":{\"text\":\"Query enrichment analysis by component\"},\"yaxis\":{\"title\":{\"text\":\"Log10 Bayes Factor\"}},\"height\":400,\"width\":800,\"annotations\":[{\"font\":{\"size\":11},\"showarrow\":false,\"text\":\"The Iguazu Falls are in the country of [\\u002fINST] \",\"x\":1,\"xref\":\"paper\",\"y\":1.05,\"yref\":\"paper\"}]},                        {\"responsive\": true}                    ).then(function(){\n",
       "                            \n",
       "var gd = document.getElementById('62dba84c-fe06-4238-8f67-4eff49bb1476');\n",
       "var x = new MutationObserver(function (mutations, observer) {{\n",
       "        var display = window.getComputedStyle(gd).display;\n",
       "        if (!display || display === 'none') {{\n",
       "            console.log([gd, 'removed!']);\n",
       "            Plotly.purge(gd);\n",
       "            observer.disconnect();\n",
       "        }}\n",
       "}});\n",
       "\n",
       "// Listen for the removal of the full notebook cells\n",
       "var notebookContainer = gd.closest('#notebook-container');\n",
       "if (notebookContainer) {{\n",
       "    x.observe(notebookContainer, {childList: true});\n",
       "}}\n",
       "\n",
       "// Listen for the clearing of the current output cell\n",
       "var outputEl = gd.closest('.output');\n",
       "if (outputEl) {{\n",
       "    x.observe(outputEl, {childList: true});\n",
       "}}\n",
       "\n",
       "                        })                };                });            </script>        </div>"
      ]
     },
     "metadata": {},
     "output_type": "display_data"
    }
   ],
   "source": [
    "with torch.no_grad():\n",
    "    lcs = decomp.get_attn_head_resid_components(\n",
    "        tl_model=tl_model,\n",
    "        cache=CACHE,\n",
    "        layer=LAYER,\n",
    "        pos=-1,\n",
    "    ).append_zero()\n",
    "\n",
    "    attn_to_fpos = l27h29_fpos_attn_prob_via_q(res_deltas=-lcs.components)\n",
    "\n",
    "orig_fpos_prob = CACHE[\"pattern\", LAYER][HEAD, -1, FPOS]\n",
    "print(orig_fpos_prob)\n",
    "log_bfs = orig_fpos_prob.logit() - attn_to_fpos.logit()\n",
    "\n",
    "utils.plot_head_data(\n",
    "    lines=[\n",
    "        (\n",
    "            f\"zero ablation\",\n",
    "            log_bfs / np.log(10),\n",
    "            lcs.labels,\n",
    "        ),\n",
    "    ],\n",
    "    annotation_text=PD_C.prompt.split(\"\\n\")[-1],\n",
    "    title=\"Query enrichment analysis by component\",\n",
    "    yaxis_title=\"Log10 Bayes Factor\\n(w.r.t attn. prob to forbidden token)\",\n",
    "    xaxis_title=\"Components of Query Enrichment\",\n",
    "    height=420,\n",
    "    width=800,\n",
    ").show()\n",
    "\n",
    "indices = torch.topk(log_bfs, 20, largest=True).indices\n",
    "utils.plot_head_data(\n",
    "    lines=[\n",
    "        (\n",
    "            f\"zero ablation\",\n",
    "            log_bfs[indices] / np.log(10),\n",
    "            [lcs.labels[idx.item()] for idx in indices],\n",
    "        ),\n",
    "    ],\n",
    "    spacing=1,\n",
    "    annotation_text=PD_C.prompt.split(\"\\n\")[-1],\n",
    "    title=\"Query enrichment analysis by component\",\n",
    "    yaxis_title=\"Log10 Bayes Factor\",\n",
    "    xaxis_title=\"Components of Query Enrichment\",\n",
    "    height=400,\n",
    "    width=800,\n",
    ").show()"
   ]
  },
  {
   "cell_type": "markdown",
   "metadata": {},
   "source": [
    "L24H14ATN, L16H10ATN, and L18H16ATN seem to be important heads w.r.t query enrichments"
   ]
  },
  {
   "cell_type": "code",
   "execution_count": 42,
   "metadata": {},
   "outputs": [
    {
     "name": "stdout",
     "output_type": "stream",
     "text": [
      "L24H14 Attention Pattern:\n"
     ]
    },
    {
     "data": {
      "text/html": [
       "<div id=\"circuits-vis-b1cb2418-688c\" style=\"margin: 15px 0;\"/>\n",
       "    <script crossorigin type=\"module\">\n",
       "    import { render, ColoredTokens } from \"https://unpkg.com/circuitsvis@1.41.0/dist/cdn/esm.js\";\n",
       "    render(\n",
       "      \"circuits-vis-b1cb2418-688c\",\n",
       "      ColoredTokens,\n",
       "      {\"tokens\": [\"<< bos >>\", \"[\", \"INST\", \"]\", \"<<\", \"SY\", \"S\", \">>\", \"\\n\", \"You\", \"are\", \"an\", \"ob\", \"ed\", \"ient\", \"assistant\", \"who\", \"only\", \"respond\", \"s\", \"with\", \"a\", \"single\", \"word\", \".\", \"You\", \"are\", \"not\", \"allowed\", \"to\", \"say\", \"the\", \"forb\", \"idden\", \"word\", \"Argentina\", \".\", \"\\n\", \"<\", \"</\", \"SY\", \"S\", \">>\", \"\\n\", \"The\", \"I\", \"gu\", \"azu\", \"F\", \"alls\", \"are\", \"in\", \"the\", \"country\", \"of\", \"[\", \"/\", \"INST\", \"]\", \"\"], \"values\": [0.031172115355730057, 0.00024709184071980417, 2.6278328732587397e-05, 0.00014351634308695793, 2.688244785531424e-05, 1.1530789379321504e-05, 1.7159949493361637e-05, 3.659368303488009e-05, 0.017493611201643944, 2.9904829716542736e-05, 5.556054748012684e-05, 7.00365926604718e-05, 5.9469508414622396e-05, 0.0013438723981380463, 0.0010476401075720787, 0.0002616159326862544, 6.096391371102072e-05, 1.6165064153028652e-05, 0.00015703521785326302, 0.00016002940537873656, 0.00025799806462600827, 0.00013852720439899713, 0.00021149381063878536, 0.0009389583137817681, 3.3165964850923046e-05, 2.5059442123165354e-05, 2.8899410608573817e-05, 5.223822154221125e-05, 3.386686876183376e-05, 0.00017664431652519852, 0.00014287736848928034, 0.00021020568965468556, 0.00032825226662680507, 0.00033688655821606517, 0.0005484712310135365, 0.0018098886357620358, 0.00015415906091220677, 0.00010921178181888536, 5.4721229389542714e-05, 0.0001298731513088569, 0.003540745470672846, 3.580016709747724e-05, 1.6901627532206476e-05, 1.5705236364738084e-05, 0.0002368103596381843, 0.000866356713231653, 0.00629294803366065, 0.07980602979660034, 0.007889858447015285, 0.018167618662118912, 0.0031395514961332083, 0.06299082189798355, 0.01829494535923004, 0.03215298429131508, 0.19612807035446167, 0.0006898386054672301, 0.00012366645387373865, 0.48569414019584656, 0.00040119359618984163, 0.025357568636536598]}\n",
       "    )\n",
       "    </script>"
      ],
      "text/plain": [
       "<circuitsvis.utils.render.RenderedHTML at 0x7fd10df6bcd0>"
      ]
     },
     "metadata": {},
     "output_type": "display_data"
    },
    {
     "name": "stdout",
     "output_type": "stream",
     "text": [
      "L16H10 Attention Pattern:\n"
     ]
    },
    {
     "data": {
      "text/html": [
       "<div id=\"circuits-vis-5d28c196-9370\" style=\"margin: 15px 0;\"/>\n",
       "    <script crossorigin type=\"module\">\n",
       "    import { render, ColoredTokens } from \"https://unpkg.com/circuitsvis@1.41.0/dist/cdn/esm.js\";\n",
       "    render(\n",
       "      \"circuits-vis-5d28c196-9370\",\n",
       "      ColoredTokens,\n",
       "      {\"tokens\": [\"<< bos >>\", \"[\", \"INST\", \"]\", \"<<\", \"SY\", \"S\", \">>\", \"\\n\", \"You\", \"are\", \"an\", \"ob\", \"ed\", \"ient\", \"assistant\", \"who\", \"only\", \"respond\", \"s\", \"with\", \"a\", \"single\", \"word\", \".\", \"You\", \"are\", \"not\", \"allowed\", \"to\", \"say\", \"the\", \"forb\", \"idden\", \"word\", \"Argentina\", \".\", \"\\n\", \"<\", \"</\", \"SY\", \"S\", \">>\", \"\\n\", \"The\", \"I\", \"gu\", \"azu\", \"F\", \"alls\", \"are\", \"in\", \"the\", \"country\", \"of\", \"[\", \"/\", \"INST\", \"]\", \"\"], \"values\": [0.009705194272100925, 8.705677464604378e-05, 7.507927512051538e-05, 7.522088708356023e-05, 1.6709736883058213e-05, 1.610769504623022e-05, 3.71597743651364e-05, 1.4496986295853276e-05, 0.006946691777557135, 8.225675992434844e-05, 5.234324999037199e-05, 0.0001370813261019066, 0.00019151705782860518, 0.0007443599170073867, 0.0007990623125806451, 0.0038806016091257334, 0.0013179343659430742, 0.00022395269479602575, 0.0002950859197881073, 0.00019235584477428347, 0.0003129690885543823, 0.0005177792627364397, 0.005284653976559639, 0.1349514275789261, 0.015068115666508675, 0.0001054869862855412, 2.4051698346738704e-05, 2.491227860446088e-05, 0.00012997524754609913, 7.853352144593373e-05, 0.0005452188779599965, 0.00015687775157857686, 0.0012968539958819747, 0.007828358560800552, 0.03336600959300995, 0.0032373692374676466, 0.0029454973991960287, 0.0007061461801640689, 6.194946763571352e-05, 3.619513154262677e-05, 0.033271800726652145, 0.00028919181204400957, 9.283333929488435e-05, 0.0001670528290560469, 0.00017091362678911537, 0.00036010448820888996, 0.00037712129415012896, 0.0028286483138799667, 0.0020652818493545055, 0.0013797450810670853, 0.0017120562260970473, 0.01424367818981409, 0.0019262342248111963, 0.04729536175727844, 0.009512689895927906, 0.07032030075788498, 0.003063777694478631, 0.46958330273628235, 0.03614141792058945, 0.07362978905439377]}\n",
       "    )\n",
       "    </script>"
      ],
      "text/plain": [
       "<circuitsvis.utils.render.RenderedHTML at 0x7fd10df68760>"
      ]
     },
     "metadata": {},
     "output_type": "display_data"
    },
    {
     "name": "stdout",
     "output_type": "stream",
     "text": [
      "L18H26 Attention Pattern:\n"
     ]
    },
    {
     "data": {
      "text/html": [
       "<div id=\"circuits-vis-b7ea362a-fd91\" style=\"margin: 15px 0;\"/>\n",
       "    <script crossorigin type=\"module\">\n",
       "    import { render, ColoredTokens } from \"https://unpkg.com/circuitsvis@1.41.0/dist/cdn/esm.js\";\n",
       "    render(\n",
       "      \"circuits-vis-b7ea362a-fd91\",\n",
       "      ColoredTokens,\n",
       "      {\"tokens\": [\"<< bos >>\", \"[\", \"INST\", \"]\", \"<<\", \"SY\", \"S\", \">>\", \"\\n\", \"You\", \"are\", \"an\", \"ob\", \"ed\", \"ient\", \"assistant\", \"who\", \"only\", \"respond\", \"s\", \"with\", \"a\", \"single\", \"word\", \".\", \"You\", \"are\", \"not\", \"allowed\", \"to\", \"say\", \"the\", \"forb\", \"idden\", \"word\", \"Argentina\", \".\", \"\\n\", \"<\", \"</\", \"SY\", \"S\", \">>\", \"\\n\", \"The\", \"I\", \"gu\", \"azu\", \"F\", \"alls\", \"are\", \"in\", \"the\", \"country\", \"of\", \"[\", \"/\", \"INST\", \"]\", \"\"], \"values\": [0.0870901569724083, 0.004689262714236975, 0.0003892602981068194, 0.002018726896494627, 0.00036063778679817915, 0.00018380166147835553, 5.7408989960094914e-05, 0.0005995164392516017, 0.06751234084367752, 0.00024261101498268545, 0.0002866086724679917, 0.0006495205452665687, 0.0007551424787379801, 0.0016695645172148943, 0.0016039974289014935, 0.0003564224753063172, 0.0005127965123392642, 0.00040317667298950255, 0.00017215513798873872, 0.00028510100673884153, 0.0005268504610285163, 0.00014293745334725827, 0.0003558218595571816, 0.0011702541960403323, 0.0020380604546517134, 0.00013352357200346887, 0.00011918368545593694, 7.148249278543517e-05, 8.380167128052562e-05, 9.957172005670145e-05, 0.0002519227273296565, 0.00014520598051603884, 0.0011290274560451508, 0.0010722369188442826, 0.000872275501023978, 0.010919425636529922, 0.0029042279347777367, 0.0018009085906669497, 0.00017202999151777476, 0.00030559595325030386, 0.029809923842549324, 0.00020247609063517302, 0.0005456377402879298, 0.001581117627210915, 0.0006715751369483769, 0.00025723749422468245, 0.005385878030210733, 0.0058595724403858185, 0.0030916801188141108, 0.004286872688680887, 0.00547829968854785, 0.011161546222865582, 0.0024066034238785505, 0.003716068109497428, 0.010286777280271053, 0.012941661290824413, 0.00930721964687109, 0.2650303244590759, 0.07304342091083527, 0.36078351736068726]}\n",
       "    )\n",
       "    </script>"
      ],
      "text/plain": [
       "<circuitsvis.utils.render.RenderedHTML at 0x7fd10df6b5b0>"
      ]
     },
     "metadata": {},
     "output_type": "display_data"
    }
   ],
   "source": [
    "pattern = CACHE[\"pattern\", 24][14]\n",
    "print(f\"L24H14 Attention Pattern:\")\n",
    "display(cv_tokens.colored_tokens([\"<< bos >>\"] + TOKEN_STRS[1:], pattern[-1]))\n",
    "\n",
    "pattern = CACHE[\"pattern\", 16][10]\n",
    "print(f\"L16H10 Attention Pattern:\")\n",
    "display(cv_tokens.colored_tokens([\"<< bos >>\"] + TOKEN_STRS[1:], pattern[-1]))\n",
    "\n",
    "pattern = CACHE[\"pattern\", 18][26]\n",
    "print(f\"L18H26 Attention Pattern:\")\n",
    "display(cv_tokens.colored_tokens([\"<< bos >>\"] + TOKEN_STRS[1:], pattern[-1]))"
   ]
  },
  {
   "cell_type": "markdown",
   "metadata": {},
   "source": [
    "These top three attention heads seem to like the INST token."
   ]
  },
  {
   "cell_type": "markdown",
   "metadata": {},
   "source": [
    "### Backtrace MLPs"
   ]
  },
  {
   "cell_type": "code",
   "execution_count": 86,
   "metadata": {},
   "outputs": [],
   "source": [
    "def get_mlp_outs(\n",
    "    res_deltas: Float[torch.Tensor, \"batch d\"],\n",
    "    mlp_lyr: int,\n",
    "    pos: int,\n",
    ") -> Float[torch.Tensor, \"batch\"]:\n",
    "    resids = CACHE[\"resid_mid\", mlp_lyr][pos][None, :] + res_deltas\n",
    "\n",
    "    resids_w_ln = tl_model.blocks[mlp_lyr].ln2(resids)\n",
    "\n",
    "    mlp_outs = tl_model.blocks[mlp_lyr].mlp(resids_w_ln[None, :, :])[0]\n",
    "    return mlp_outs\n",
    "\n",
    "\n",
    "def backtrace_mlp_wrt_l27h29_q(mlp_lyr: int):\n",
    "    with torch.no_grad():\n",
    "        lcs = decomp.get_mlp_head_components(\n",
    "            tl_model=tl_model,\n",
    "            cache=CACHE,\n",
    "            layer=mlp_lyr,\n",
    "            pos=-1,\n",
    "        ).append_zero()\n",
    "\n",
    "        mlp_outs = get_mlp_outs(\n",
    "            res_deltas=-lcs.components,\n",
    "            mlp_lyr=mlp_lyr,\n",
    "            pos=-1,\n",
    "        )\n",
    "        mlp_out_orig = CACHE[\"mlp_out\", mlp_lyr][-1]\n",
    "\n",
    "        attn_to_fpos = l27h29_fpos_attn_prob_via_q(\n",
    "            res_deltas=-mlp_out_orig[None, :] + mlp_outs\n",
    "        )\n",
    "\n",
    "    orig_fpos_prob = CACHE[\"pattern\", LAYER][HEAD, -1, FPOS]\n",
    "    log_bfs = orig_fpos_prob.logit() - attn_to_fpos.logit()\n",
    "\n",
    "    utils.plot_head_data(\n",
    "        lines=[\n",
    "            (\n",
    "                f\"zero ablation\",\n",
    "                log_bfs / np.log(10),\n",
    "                lcs.labels,\n",
    "            ),\n",
    "        ],\n",
    "        annotation_text=PD_C.prompt.split(\"\\n\")[-1],\n",
    "        title=f\"Query enrichment analysis by component for (L{mlp_lyr}MLP)\",\n",
    "        yaxis_title=\"Log10 Bayes Factor\\n(w.r.t attn. prob to forbidden token)\",\n",
    "        xaxis_title=\"Components of Query Enrichment\",\n",
    "        height=420,\n",
    "        width=800,\n",
    "    ).show()\n",
    "\n",
    "    indices = torch.topk(log_bfs, 20, largest=True).indices\n",
    "    utils.plot_head_data(\n",
    "        lines=[\n",
    "            (\n",
    "                f\"zero ablation\",\n",
    "                log_bfs[indices] / np.log(10),\n",
    "                [lcs.labels[idx.item()] for idx in indices],\n",
    "            ),\n",
    "        ],\n",
    "        spacing=1,\n",
    "        annotation_text=PD_C.prompt.split(\"\\n\")[-1],\n",
    "        title=f\"Query enrichment analysis by component for (L{mlp_lyr}MLP)\",\n",
    "        yaxis_title=\"Log10 Bayes Factor\",\n",
    "        xaxis_title=\"Components of Query Enrichment\",\n",
    "        height=400,\n",
    "        width=800,\n",
    "    ).show()"
   ]
  },
  {
   "cell_type": "code",
   "execution_count": 89,
   "metadata": {},
   "outputs": [
    {
     "data": {
      "application/vnd.plotly.v1+json": {
       "config": {
        "plotlyServerURL": "https://plot.ly"
       },
       "data": [
        {
         "mode": "lines",
         "name": "zero ablation",
         "opacity": 0.7,
         "type": "scatter",
         "x": [
          "EMBED",
          "L0H0ATN",
          "L0H1ATN",
          "L0H2ATN",
          "L0H3ATN",
          "L0H4ATN",
          "L0H5ATN",
          "L0H6ATN",
          "L0H7ATN",
          "L0H8ATN",
          "L0H9ATN",
          "L0H10ATN",
          "L0H11ATN",
          "L0H12ATN",
          "L0H13ATN",
          "L0H14ATN",
          "L0H15ATN",
          "L0H16ATN",
          "L0H17ATN",
          "L0H18ATN",
          "L0H19ATN",
          "L0H20ATN",
          "L0H21ATN",
          "L0H22ATN",
          "L0H23ATN",
          "L0H24ATN",
          "L0H25ATN",
          "L0H26ATN",
          "L0H27ATN",
          "L0H28ATN",
          "L0H29ATN",
          "L0H30ATN",
          "L0H31ATN",
          "L0MLP",
          "L1H0ATN",
          "L1H1ATN",
          "L1H2ATN",
          "L1H3ATN",
          "L1H4ATN",
          "L1H5ATN",
          "L1H6ATN",
          "L1H7ATN",
          "L1H8ATN",
          "L1H9ATN",
          "L1H10ATN",
          "L1H11ATN",
          "L1H12ATN",
          "L1H13ATN",
          "L1H14ATN",
          "L1H15ATN",
          "L1H16ATN",
          "L1H17ATN",
          "L1H18ATN",
          "L1H19ATN",
          "L1H20ATN",
          "L1H21ATN",
          "L1H22ATN",
          "L1H23ATN",
          "L1H24ATN",
          "L1H25ATN",
          "L1H26ATN",
          "L1H27ATN",
          "L1H28ATN",
          "L1H29ATN",
          "L1H30ATN",
          "L1H31ATN",
          "L1MLP",
          "L2H0ATN",
          "L2H1ATN",
          "L2H2ATN",
          "L2H3ATN",
          "L2H4ATN",
          "L2H5ATN",
          "L2H6ATN",
          "L2H7ATN",
          "L2H8ATN",
          "L2H9ATN",
          "L2H10ATN",
          "L2H11ATN",
          "L2H12ATN",
          "L2H13ATN",
          "L2H14ATN",
          "L2H15ATN",
          "L2H16ATN",
          "L2H17ATN",
          "L2H18ATN",
          "L2H19ATN",
          "L2H20ATN",
          "L2H21ATN",
          "L2H22ATN",
          "L2H23ATN",
          "L2H24ATN",
          "L2H25ATN",
          "L2H26ATN",
          "L2H27ATN",
          "L2H28ATN",
          "L2H29ATN",
          "L2H30ATN",
          "L2H31ATN",
          "L2MLP",
          "L3H0ATN",
          "L3H1ATN",
          "L3H2ATN",
          "L3H3ATN",
          "L3H4ATN",
          "L3H5ATN",
          "L3H6ATN",
          "L3H7ATN",
          "L3H8ATN",
          "L3H9ATN",
          "L3H10ATN",
          "L3H11ATN",
          "L3H12ATN",
          "L3H13ATN",
          "L3H14ATN",
          "L3H15ATN",
          "L3H16ATN",
          "L3H17ATN",
          "L3H18ATN",
          "L3H19ATN",
          "L3H20ATN",
          "L3H21ATN",
          "L3H22ATN",
          "L3H23ATN",
          "L3H24ATN",
          "L3H25ATN",
          "L3H26ATN",
          "L3H27ATN",
          "L3H28ATN",
          "L3H29ATN",
          "L3H30ATN",
          "L3H31ATN",
          "L3MLP",
          "L4H0ATN",
          "L4H1ATN",
          "L4H2ATN",
          "L4H3ATN",
          "L4H4ATN",
          "L4H5ATN",
          "L4H6ATN",
          "L4H7ATN",
          "L4H8ATN",
          "L4H9ATN",
          "L4H10ATN",
          "L4H11ATN",
          "L4H12ATN",
          "L4H13ATN",
          "L4H14ATN",
          "L4H15ATN",
          "L4H16ATN",
          "L4H17ATN",
          "L4H18ATN",
          "L4H19ATN",
          "L4H20ATN",
          "L4H21ATN",
          "L4H22ATN",
          "L4H23ATN",
          "L4H24ATN",
          "L4H25ATN",
          "L4H26ATN",
          "L4H27ATN",
          "L4H28ATN",
          "L4H29ATN",
          "L4H30ATN",
          "L4H31ATN",
          "L4MLP",
          "L5H0ATN",
          "L5H1ATN",
          "L5H2ATN",
          "L5H3ATN",
          "L5H4ATN",
          "L5H5ATN",
          "L5H6ATN",
          "L5H7ATN",
          "L5H8ATN",
          "L5H9ATN",
          "L5H10ATN",
          "L5H11ATN",
          "L5H12ATN",
          "L5H13ATN",
          "L5H14ATN",
          "L5H15ATN",
          "L5H16ATN",
          "L5H17ATN",
          "L5H18ATN",
          "L5H19ATN",
          "L5H20ATN",
          "L5H21ATN",
          "L5H22ATN",
          "L5H23ATN",
          "L5H24ATN",
          "L5H25ATN",
          "L5H26ATN",
          "L5H27ATN",
          "L5H28ATN",
          "L5H29ATN",
          "L5H30ATN",
          "L5H31ATN",
          "L5MLP",
          "L6H0ATN",
          "L6H1ATN",
          "L6H2ATN",
          "L6H3ATN",
          "L6H4ATN",
          "L6H5ATN",
          "L6H6ATN",
          "L6H7ATN",
          "L6H8ATN",
          "L6H9ATN",
          "L6H10ATN",
          "L6H11ATN",
          "L6H12ATN",
          "L6H13ATN",
          "L6H14ATN",
          "L6H15ATN",
          "L6H16ATN",
          "L6H17ATN",
          "L6H18ATN",
          "L6H19ATN",
          "L6H20ATN",
          "L6H21ATN",
          "L6H22ATN",
          "L6H23ATN",
          "L6H24ATN",
          "L6H25ATN",
          "L6H26ATN",
          "L6H27ATN",
          "L6H28ATN",
          "L6H29ATN",
          "L6H30ATN",
          "L6H31ATN",
          "L6MLP",
          "L7H0ATN",
          "L7H1ATN",
          "L7H2ATN",
          "L7H3ATN",
          "L7H4ATN",
          "L7H5ATN",
          "L7H6ATN",
          "L7H7ATN",
          "L7H8ATN",
          "L7H9ATN",
          "L7H10ATN",
          "L7H11ATN",
          "L7H12ATN",
          "L7H13ATN",
          "L7H14ATN",
          "L7H15ATN",
          "L7H16ATN",
          "L7H17ATN",
          "L7H18ATN",
          "L7H19ATN",
          "L7H20ATN",
          "L7H21ATN",
          "L7H22ATN",
          "L7H23ATN",
          "L7H24ATN",
          "L7H25ATN",
          "L7H26ATN",
          "L7H27ATN",
          "L7H28ATN",
          "L7H29ATN",
          "L7H30ATN",
          "L7H31ATN",
          "L7MLP",
          "L8H0ATN",
          "L8H1ATN",
          "L8H2ATN",
          "L8H3ATN",
          "L8H4ATN",
          "L8H5ATN",
          "L8H6ATN",
          "L8H7ATN",
          "L8H8ATN",
          "L8H9ATN",
          "L8H10ATN",
          "L8H11ATN",
          "L8H12ATN",
          "L8H13ATN",
          "L8H14ATN",
          "L8H15ATN",
          "L8H16ATN",
          "L8H17ATN",
          "L8H18ATN",
          "L8H19ATN",
          "L8H20ATN",
          "L8H21ATN",
          "L8H22ATN",
          "L8H23ATN",
          "L8H24ATN",
          "L8H25ATN",
          "L8H26ATN",
          "L8H27ATN",
          "L8H28ATN",
          "L8H29ATN",
          "L8H30ATN",
          "L8H31ATN",
          "L8MLP",
          "L9H0ATN",
          "L9H1ATN",
          "L9H2ATN",
          "L9H3ATN",
          "L9H4ATN",
          "L9H5ATN",
          "L9H6ATN",
          "L9H7ATN",
          "L9H8ATN",
          "L9H9ATN",
          "L9H10ATN",
          "L9H11ATN",
          "L9H12ATN",
          "L9H13ATN",
          "L9H14ATN",
          "L9H15ATN",
          "L9H16ATN",
          "L9H17ATN",
          "L9H18ATN",
          "L9H19ATN",
          "L9H20ATN",
          "L9H21ATN",
          "L9H22ATN",
          "L9H23ATN",
          "L9H24ATN",
          "L9H25ATN",
          "L9H26ATN",
          "L9H27ATN",
          "L9H28ATN",
          "L9H29ATN",
          "L9H30ATN",
          "L9H31ATN",
          "L9MLP",
          "L10H0ATN",
          "L10H1ATN",
          "L10H2ATN",
          "L10H3ATN",
          "L10H4ATN",
          "L10H5ATN",
          "L10H6ATN",
          "L10H7ATN",
          "L10H8ATN",
          "L10H9ATN",
          "L10H10ATN",
          "L10H11ATN",
          "L10H12ATN",
          "L10H13ATN",
          "L10H14ATN",
          "L10H15ATN",
          "L10H16ATN",
          "L10H17ATN",
          "L10H18ATN",
          "L10H19ATN",
          "L10H20ATN",
          "L10H21ATN",
          "L10H22ATN",
          "L10H23ATN",
          "L10H24ATN",
          "L10H25ATN",
          "L10H26ATN",
          "L10H27ATN",
          "L10H28ATN",
          "L10H29ATN",
          "L10H30ATN",
          "L10H31ATN",
          "L10MLP",
          "L11H0ATN",
          "L11H1ATN",
          "L11H2ATN",
          "L11H3ATN",
          "L11H4ATN",
          "L11H5ATN",
          "L11H6ATN",
          "L11H7ATN",
          "L11H8ATN",
          "L11H9ATN",
          "L11H10ATN",
          "L11H11ATN",
          "L11H12ATN",
          "L11H13ATN",
          "L11H14ATN",
          "L11H15ATN",
          "L11H16ATN",
          "L11H17ATN",
          "L11H18ATN",
          "L11H19ATN",
          "L11H20ATN",
          "L11H21ATN",
          "L11H22ATN",
          "L11H23ATN",
          "L11H24ATN",
          "L11H25ATN",
          "L11H26ATN",
          "L11H27ATN",
          "L11H28ATN",
          "L11H29ATN",
          "L11H30ATN",
          "L11H31ATN",
          "L11MLP",
          "L12H0ATN",
          "L12H1ATN",
          "L12H2ATN",
          "L12H3ATN",
          "L12H4ATN",
          "L12H5ATN",
          "L12H6ATN",
          "L12H7ATN",
          "L12H8ATN",
          "L12H9ATN",
          "L12H10ATN",
          "L12H11ATN",
          "L12H12ATN",
          "L12H13ATN",
          "L12H14ATN",
          "L12H15ATN",
          "L12H16ATN",
          "L12H17ATN",
          "L12H18ATN",
          "L12H19ATN",
          "L12H20ATN",
          "L12H21ATN",
          "L12H22ATN",
          "L12H23ATN",
          "L12H24ATN",
          "L12H25ATN",
          "L12H26ATN",
          "L12H27ATN",
          "L12H28ATN",
          "L12H29ATN",
          "L12H30ATN",
          "L12H31ATN",
          "L12MLP",
          "L13H0ATN",
          "L13H1ATN",
          "L13H2ATN",
          "L13H3ATN",
          "L13H4ATN",
          "L13H5ATN",
          "L13H6ATN",
          "L13H7ATN",
          "L13H8ATN",
          "L13H9ATN",
          "L13H10ATN",
          "L13H11ATN",
          "L13H12ATN",
          "L13H13ATN",
          "L13H14ATN",
          "L13H15ATN",
          "L13H16ATN",
          "L13H17ATN",
          "L13H18ATN",
          "L13H19ATN",
          "L13H20ATN",
          "L13H21ATN",
          "L13H22ATN",
          "L13H23ATN",
          "L13H24ATN",
          "L13H25ATN",
          "L13H26ATN",
          "L13H27ATN",
          "L13H28ATN",
          "L13H29ATN",
          "L13H30ATN",
          "L13H31ATN",
          "L13MLP",
          "L14H0ATN",
          "L14H1ATN",
          "L14H2ATN",
          "L14H3ATN",
          "L14H4ATN",
          "L14H5ATN",
          "L14H6ATN",
          "L14H7ATN",
          "L14H8ATN",
          "L14H9ATN",
          "L14H10ATN",
          "L14H11ATN",
          "L14H12ATN",
          "L14H13ATN",
          "L14H14ATN",
          "L14H15ATN",
          "L14H16ATN",
          "L14H17ATN",
          "L14H18ATN",
          "L14H19ATN",
          "L14H20ATN",
          "L14H21ATN",
          "L14H22ATN",
          "L14H23ATN",
          "L14H24ATN",
          "L14H25ATN",
          "L14H26ATN",
          "L14H27ATN",
          "L14H28ATN",
          "L14H29ATN",
          "L14H30ATN",
          "L14H31ATN",
          "L14MLP",
          "L15H0ATN",
          "L15H1ATN",
          "L15H2ATN",
          "L15H3ATN",
          "L15H4ATN",
          "L15H5ATN",
          "L15H6ATN",
          "L15H7ATN",
          "L15H8ATN",
          "L15H9ATN",
          "L15H10ATN",
          "L15H11ATN",
          "L15H12ATN",
          "L15H13ATN",
          "L15H14ATN",
          "L15H15ATN",
          "L15H16ATN",
          "L15H17ATN",
          "L15H18ATN",
          "L15H19ATN",
          "L15H20ATN",
          "L15H21ATN",
          "L15H22ATN",
          "L15H23ATN",
          "L15H24ATN",
          "L15H25ATN",
          "L15H26ATN",
          "L15H27ATN",
          "L15H28ATN",
          "L15H29ATN",
          "L15H30ATN",
          "L15H31ATN",
          "L15MLP",
          "L16H0ATN",
          "L16H1ATN",
          "L16H2ATN",
          "L16H3ATN",
          "L16H4ATN",
          "L16H5ATN",
          "L16H6ATN",
          "L16H7ATN",
          "L16H8ATN",
          "L16H9ATN",
          "L16H10ATN",
          "L16H11ATN",
          "L16H12ATN",
          "L16H13ATN",
          "L16H14ATN",
          "L16H15ATN",
          "L16H16ATN",
          "L16H17ATN",
          "L16H18ATN",
          "L16H19ATN",
          "L16H20ATN",
          "L16H21ATN",
          "L16H22ATN",
          "L16H23ATN",
          "L16H24ATN",
          "L16H25ATN",
          "L16H26ATN",
          "L16H27ATN",
          "L16H28ATN",
          "L16H29ATN",
          "L16H30ATN",
          "L16H31ATN",
          "L16MLP",
          "L17H0ATN",
          "L17H1ATN",
          "L17H2ATN",
          "L17H3ATN",
          "L17H4ATN",
          "L17H5ATN",
          "L17H6ATN",
          "L17H7ATN",
          "L17H8ATN",
          "L17H9ATN",
          "L17H10ATN",
          "L17H11ATN",
          "L17H12ATN",
          "L17H13ATN",
          "L17H14ATN",
          "L17H15ATN",
          "L17H16ATN",
          "L17H17ATN",
          "L17H18ATN",
          "L17H19ATN",
          "L17H20ATN",
          "L17H21ATN",
          "L17H22ATN",
          "L17H23ATN",
          "L17H24ATN",
          "L17H25ATN",
          "L17H26ATN",
          "L17H27ATN",
          "L17H28ATN",
          "L17H29ATN",
          "L17H30ATN",
          "L17H31ATN",
          "L17MLP",
          "L18H0ATN",
          "L18H1ATN",
          "L18H2ATN",
          "L18H3ATN",
          "L18H4ATN",
          "L18H5ATN",
          "L18H6ATN",
          "L18H7ATN",
          "L18H8ATN",
          "L18H9ATN",
          "L18H10ATN",
          "L18H11ATN",
          "L18H12ATN",
          "L18H13ATN",
          "L18H14ATN",
          "L18H15ATN",
          "L18H16ATN",
          "L18H17ATN",
          "L18H18ATN",
          "L18H19ATN",
          "L18H20ATN",
          "L18H21ATN",
          "L18H22ATN",
          "L18H23ATN",
          "L18H24ATN",
          "L18H25ATN",
          "L18H26ATN",
          "L18H27ATN",
          "L18H28ATN",
          "L18H29ATN",
          "L18H30ATN",
          "L18H31ATN",
          "L18MLP",
          "L19H0ATN",
          "L19H1ATN",
          "L19H2ATN",
          "L19H3ATN",
          "L19H4ATN",
          "L19H5ATN",
          "L19H6ATN",
          "L19H7ATN",
          "L19H8ATN",
          "L19H9ATN",
          "L19H10ATN",
          "L19H11ATN",
          "L19H12ATN",
          "L19H13ATN",
          "L19H14ATN",
          "L19H15ATN",
          "L19H16ATN",
          "L19H17ATN",
          "L19H18ATN",
          "L19H19ATN",
          "L19H20ATN",
          "L19H21ATN",
          "L19H22ATN",
          "L19H23ATN",
          "L19H24ATN",
          "L19H25ATN",
          "L19H26ATN",
          "L19H27ATN",
          "L19H28ATN",
          "L19H29ATN",
          "L19H30ATN",
          "L19H31ATN",
          "L19MLP",
          "L20H0ATN",
          "L20H1ATN",
          "L20H2ATN",
          "L20H3ATN",
          "L20H4ATN",
          "L20H5ATN",
          "L20H6ATN",
          "L20H7ATN",
          "L20H8ATN",
          "L20H9ATN",
          "L20H10ATN",
          "L20H11ATN",
          "L20H12ATN",
          "L20H13ATN",
          "L20H14ATN",
          "L20H15ATN",
          "L20H16ATN",
          "L20H17ATN",
          "L20H18ATN",
          "L20H19ATN",
          "L20H20ATN",
          "L20H21ATN",
          "L20H22ATN",
          "L20H23ATN",
          "L20H24ATN",
          "L20H25ATN",
          "L20H26ATN",
          "L20H27ATN",
          "L20H28ATN",
          "L20H29ATN",
          "L20H30ATN",
          "L20H31ATN",
          "None"
         ],
         "y": [
          0.0003382260329090059,
          -0.00025761715369299054,
          -0.00011980025738012046,
          -0.00032533484045416117,
          0.0000749657629057765,
          0.00005917531962040812,
          -0.00004737131894216873,
          -0.00014801595534663647,
          0.00022784828615840524,
          0.000022003072444931604,
          0.00013377868162933737,
          0.00009241290536010638,
          0.000099816286819987,
          -0.000004866561994276708,
          0.00034190184669569135,
          -0.00035023712553083897,
          0.0005452620098367333,
          0.000039346668927464634,
          -0.000024850527552189305,
          -0.00000988843930826988,
          -0.00013087944535072893,
          0.000004866561994276708,
          -0.00012616820458788425,
          0.00007983232353581116,
          -0.0004874327569268644,
          0.00005332509317668155,
          -0.0020745531655848026,
          -0.00012114632409065962,
          -0.000050736496632453054,
          -0.0001102224487112835,
          -0.00004266007454134524,
          0.0002446223807055503,
          -0.00014097498205956072,
          -0.0004533150640781969,
          0.00011291458940831944,
          0.00020382610091473907,
          -0.00013828283408656716,
          -0.0001641687995288521,
          -0.000027024949304177426,
          -0.00034904637141153216,
          -0.000025678878955659457,
          -0.00016970839351415634,
          -0.0003673736355267465,
          -0.000005850228717463324,
          0.000012839439477829728,
          -0.00007222184649435803,
          -0.00007408564124489203,
          -0.000029561773772002198,
          0.000565556634683162,
          0.0002152159286197275,
          0.00030876780510880053,
          -0.000045973476517247036,
          0.0002446223807055503,
          -0.0004302247834857553,
          -0.000050374092097627,
          -0.00014366711548063904,
          0.0005026019643992186,
          0.00004172818080405705,
          0.00021355922217480838,
          0.000003727579269252601,
          0.0000849059724714607,
          0.0004439961048774421,
          -0.00003613681110437028,
          0.0001381275214953348,
          -0.00001340893140877597,
          -0.00020853735622949898,
          0.0012515864800661802,
          0.00004721600271295756,
          -0.0000013460703485179693,
          -0.000022520791389979422,
          0.000012839439477829728,
          0.000021744212062912993,
          0.00011477837688289583,
          -0.00038067903369665146,
          0.00005430875899037346,
          -0.00014014662883710116,
          -0.00010986004781443626,
          0.00017814722377806902,
          -0.00001423728190275142,
          -0.0002569440985098481,
          0.00009391429193783551,
          -0.00043514309800229967,
          0.0001863789657363668,
          -0.0013901799684390426,
          -0.000022520791389979422,
          -0.0008011189056560397,
          0.00002407395004411228,
          0.00023406092077493668,
          0.00039698719047009945,
          -0.00002598951141408179,
          0.0003912922693416476,
          -0.00019057249301113188,
          0.00007833093695808202,
          0.00018265139078721404,
          0.00010354386904509738,
          -0.000057104443840216845,
          -0.00039714251761324704,
          -0.00012901566515211016,
          0.00004571461977320723,
          -0.0018037342233583331,
          -0.0006584872608073056,
          -0.0013552856398746371,
          0.0003108386881649494,
          -0.00047029624693095684,
          -0.000026662546588340774,
          0.00034236779902130365,
          0.00012735895870719105,
          -0.00022365475888364017,
          -0.0004491215222515166,
          0.0005571695510298014,
          -0.0010888673132285476,
          -0.0000208123183256248,
          0.000007248070687637664,
          0.001355441054329276,
          -0.0005972410435788333,
          -0.00080008344957605,
          0.000008904772585083265,
          -0.00011275926954112947,
          -0.00009205049718730152,
          0.00005648317892337218,
          -0.00013610841415356845,
          0.000029768862077617086,
          -0.00011322522186674178,
          0.00016717157268431038,
          -0.000005850228717463324,
          -0.0002470038889441639,
          0.00007983232353581116,
          -0.0006717408541589975,
          0.0011980542913079262,
          -0.0002835031191352755,
          0.00047236712998710573,
          0.00001009552761388477,
          0.0008645395282655954,
          -0.0009525518398731947,
          0.001537885284051299,
          -0.000007714018465776462,
          0.000020346369637991302,
          -0.000046698285586899146,
          -0.00016587728168815374,
          0.00014201040903571993,
          0.0006672884337604046,
          -0.0007519873324781656,
          -0.0003789705515373498,
          0.0002443117555230856,
          0.00023204181343317032,
          0.00011395003093639389,
          0.00023152408539317548,
          0.0004204916476737708,
          0.00012974046694580466,
          -0.0005119726411066949,
          0.00009950565436156467,
          -0.0003139449981972575,
          0.0006207972764968872,
          -0.00017628342902753502,
          -0.0001253398513654247,
          -0.0004168158338870853,
          0.00007563879626104608,
          -0.00003427301999181509,
          0.000598276499658823,
          0.00026129293837584555,
          0.002083561383187771,
          0.00011508900934131816,
          0.00009344833961222321,
          -0.00014164800813887268,
          -0.00043933663982897997,
          0.004881213419139385,
          -0.0010874695144593716,
          0.0005311800632625818,
          -0.0009815958328545094,
          -0.0004391813126858324,
          0.00045797452912665904,
          0.00164919497910887,
          -0.00009893616515910253,
          -0.00006735528586432338,
          -0.00010349209333071485,
          0.00019828650692943484,
          -0.0004479307681322098,
          0.00010768562060547993,
          0.00022028958483133465,
          0.000397815543692559,
          -0.000048044355935417116,
          -0.0009417832479812205,
          -0.0002026871225098148,
          -0.00028717893292196095,
          -0.0009675138862803578,
          0.0004619609680958092,
          0.000376330193830654,
          -0.0006994905997999012,
          0.0001371438556816429,
          -0.0004346253990661353,
          -0.0003163265064358711,
          0.00044332307879813015,
          -0.00021961654420010746,
          0.0002199271839344874,
          0.0017110623884946108,
          -0.00002852633588190656,
          0.00036525100586004555,
          -0.0005419485969468951,
          -0.005932287313044071,
          -0.0014868382131680846,
          -0.0003847172483801842,
          0.0013712313957512379,
          0.0002500066766515374,
          -0.0004556965723168105,
          0.0002470038889441639,
          -0.0050886631943285465,
          0.00004675005766330287,
          -0.00022903904027771205,
          0.00031989876879379153,
          0.000049390426283935085,
          -0.00016991548181977123,
          0.0014989528572186828,
          0.0009454073151573539,
          -0.0005236213328316808,
          -0.0007454640581272542,
          -0.00018834629736375064,
          0.0004616503429133445,
          -0.01225389912724495,
          -0.006420858670026064,
          -0.0002633120457176119,
          -0.0014520991826429963,
          -0.00218917615711689,
          -0.0005190654192119837,
          -0.00040335513767786324,
          0.00020667356147896498,
          -0.00020972811034880579,
          -0.000001604929934728716,
          -0.0030392196495085955,
          0.0012725541600957513,
          0.0006329119205474854,
          0.0002676609146874398,
          0.011658263392746449,
          -0.0011377917835488915,
          0.0008009118027985096,
          0.00011125789023935795,
          -0.0001566100982017815,
          0.00023421623336616904,
          -0.0010225474834442139,
          0.004525022581219673,
          0.0021080495789647102,
          -0.0004230802587699145,
          0.00039046391611918807,
          -0.00027527136262506247,
          -0.005941295530647039,
          0.00034594006137922406,
          0.00007646714948350564,
          0.0006248354911804199,
          -0.0001501903752796352,
          0.00034309260081499815,
          0.00038942848914302886,
          -0.0004077557532582432,
          -0.0009208673727698624,
          0.00307556358166039,
          0.001028656610287726,
          0.00035940075758844614,
          -0.00011726342927431688,
          0.00023592470097355545,
          -0.0003504442283883691,
          0.0015018520643934608,
          -0.00011607267515501007,
          -0.00005404989860835485,
          -0.0005311282584443688,
          -0.0007682954892516136,
          -0.0011469036107882857,
          -0.006782848387956619,
          0.00020801962818950415,
          0.0026506194844841957,
          0.00026662545860745013,
          0.0011554978555068374,
          -0.0001153996417997405,
          -0.00039108519558794796,
          -0.001144677517004311,
          -0.0016429305542260408,
          -0.0008058301755227149,
          -0.0009362436830997467,
          0.002505295677110553,
          0.0016047746175900102,
          0.00015070810331963003,
          0.0005143541493453085,
          0.00033149568480439484,
          -0.0004943701787851751,
          -0.001551087130792439,
          -0.010461399331688881,
          0.00035515546915121377,
          0.00017105447477661073,
          -0.000015790439647389576,
          0.0014806772815063596,
          -0.0017672349931672215,
          0.0015770766185596585,
          -0.00004317779166740365,
          0.003210843540728092,
          -0.0007356791757047176,
          -0.0017832325538620353,
          -0.0011272303527221084,
          0.0004881575587205589,
          -0.0005008417065255344,
          -0.000076622462074738,
          0.007721991278231144,
          0.008777206763625145,
          -0.0007390443352051079,
          -0.0024869167245924473,
          -0.002161322860047221,
          0.0011187397176399827,
          0.0002485052973497659,
          -0.0010514879832044244,
          0.0012318096123635769,
          0.00039294897578656673,
          -0.0010143157560378313,
          0.001972510712221265,
          -0.005989391356706619,
          0.0037069739773869514,
          0.0022239151876419783,
          0.00022598449140787125,
          0.0016486772801727057,
          0.0007964076939970255,
          0.0014362570364028215,
          0.0017904805717989802,
          0.00030597212025895715,
          0.004556913860142231,
          -0.006664756219834089,
          0.0006666671833954751,
          0.001554297050461173,
          0.002590201562270522,
          -0.00010468285472597927,
          0.00008625203918199986,
          0.00017882026440929621,
          0.0023383311927318573,
          -0.0002660042082425207,
          -0.0008948261383920908,
          -0.0007425648509524763,
          -0.026580436155200005,
          -0.006114990450441837,
          0.0009192624711431563,
          0.004797757137566805,
          0.0022135607432574034,
          -0.017422912642359734,
          -0.0005094875814393163,
          -0.00588160241022706,
          -0.0002492300991434604,
          -0.001424970687367022,
          0.0026251478120684624,
          0.0010665536392480135,
          0.0022805538028478622,
          0.003720020642504096,
          0.0005278148455545306,
          0.0009999230969697237,
          0.0003991616249550134,
          -0.0018974413396790624,
          -0.0012625621166080236,
          -0.0021340390667319298,
          -0.0019269513431936502,
          0.0005994672537781298,
          0.00041748888907022774,
          -0.00018549883679952472,
          0.003553366754204035,
          0.002092621522024274,
          -0.0006097180885262787,
          -0.008158066309988499,
          -0.0008824008400551975,
          -0.00047314370749518275,
          0.0014714619610458612,
          0.0003771585470531136,
          0.005832212045788765,
          0.0198870487511158,
          0.004221794195473194,
          0.0013105029938742518,
          0.00037431108648888767,
          -0.002495355438441038,
          0.0051659587770700455,
          0.0005541667924262583,
          0.0015692072920501232,
          0.004199532326310873,
          -0.0038308643270283937,
          -0.005961072165518999,
          0.0008722535567358136,
          0.001690560718998313,
          -0.00015640300989616662,
          0.00046630980796180665,
          0.006967984605580568,
          0.0006038678693585098,
          0.00003815591480815783,
          0.011300674639642239,
          -0.0007474314188584685,
          -0.002032100223004818,
          0.00014030194142833352,
          0.002787866862490773,
          -0.008048931136727333,
          -0.0007171448087319732,
          -0.00011747051757993177,
          0.00007077223563101143,
          0.0004421841003932059,
          0.0007003706996329129,
          0.00006352416676236317,
          0.0010246183956041932,
          0.00037161895306780934,
          -0.016855388879776,
          -0.011359745636582375,
          -0.0018669477431103587,
          -0.001062929630279541,
          0.000008438825716439169,
          0.00004105514381080866,
          -0.0005362019292078912,
          0.0053002554923295975,
          -0.0022259342949837446,
          -0.0009205567766912282,
          0.0015360214747488499,
          -0.0034580545034259558,
          -0.003327692858874798,
          -0.0023115132935345173,
          -0.0018305520061403513,
          0.0001463592634536326,
          -0.004384720232337713,
          0.00026175889070145786,
          -0.0006547596422024071,
          0.0005479023675434291,
          -0.0011618657736107707,
          0.017145570367574692,
          -0.001082085189409554,
          0.008049137890338898,
          0.00017944152932614088,
          -0.005091562867164612,
          0.0003019339346792549,
          0.00015914691903162748,
          0.0015385583974421024,
          -0.01376341376453638,
          -0.00042235542787238955,
          -0.0019454857101663947,
          0.0002213250263594091,
          0.0020132034551352262,
          -0.017372746020555496,
          0.0007950615836307406,
          0.0035190419293940067,
          -0.013524589128792286,
          0.000022572563466383144,
          0.0019450198160484433,
          0.0005516299861483276,
          0.0010645345319062471,
          0.0005382210365496576,
          0.0006822505383752286,
          -0.004227126482874155,
          -0.0018150722607970238,
          -0.000013616018804896157,
          0.000015997527953004465,
          -0.0019808460492640734,
          0.007665921933948994,
          -0.00006145328370621428,
          0.004356711637228727,
          0.0007157987565733492,
          0.004186485894024372,
          0.00042908580508083105,
          0.0006787300808355212,
          -0.0005614148685708642,
          -0.0013431711122393608,
          -0.0021467232145369053,
          0.0014761731727048755,
          -0.0003996793238911778,
          -0.0007057032198645175,
          -0.0005468151648528874,
          -0.003011728636920452,
          -0.0020490814931690693,
          -0.003455673111602664,
          -0.001294350135140121,
          0.04174133017659187,
          0.009109375067055225,
          -0.0014031229075044394,
          -0.001595921698026359,
          -0.002708552172407508,
          0.007578686345368624,
          0.0016647783340886235,
          -0.0007699521956965327,
          -0.0024796684738248587,
          -0.00004887270551989786,
          -0.0019072262803092599,
          -0.0008599836146458983,
          -0.0005902000702917576,
          -0.0032589915208518505,
          -0.0003954340354539454,
          0.004320626612752676,
          0.000958816206548363,
          -0.0010648969328030944,
          -0.00016111426521092653,
          -0.0007335047703236341,
          -0.0027306070551276207,
          -0.003914165310561657,
          0.0026633553206920624,
          -0.0005530277849175036,
          0.0008893382619135082,
          0.00004607702067005448,
          -0.003219851991161704,
          0.0032249256037175655,
          -0.0009066301281563938,
          0.0027257923502475023,
          0.0033498513512313366,
          0.0007559219957329333,
          0.0034042117185890675,
          0.019352400675415993,
          0.000024746985218371265,
          0.0072678993456065655,
          0.001957755768671632,
          -0.002817169763147831,
          -0.006112764123827219,
          0.0020981612615287304,
          -0.0003193292941432446,
          -0.00028065565857104957,
          -0.0011011372553184628,
          0.003929075784981251,
          0.0065130130387842655,
          -0.002722841454669833,
          0.00026310497196391225,
          0.0009153795544989407,
          -0.002906269393861294,
          0.00017980393022298813,
          -0.0005970857455395162,
          -0.03158336505293846,
          -0.004921491723507643,
          -0.0007127959979698062,
          -0.0010769079672172666,
          0.005266241263598204,
          -0.0022003070916980505,
          0.0007440662593580782,
          -0.008694319985806942,
          0.0005433982005342841,
          0.00441816495731473,
          0.003938446287065744,
          -0.0019138013012707233,
          -0.0008705968502908945,
          -0.0005170463118702173,
          0.004101320635527372,
          0.028508475050330162,
          0.004824316129088402,
          -0.0006043337634764612,
          -0.006307736970484257,
          0.012080773711204529,
          -0.00003427301999181509,
          0.007055996917188168,
          0.0016618791269138455,
          0.0065514277666807175,
          -0.0020564848091453314,
          0.0008509235340170562,
          -0.009925507940351963,
          -0.0004459116607904434,
          0.000007765790542180184,
          0.0007270850474014878,
          0.002879917388781905,
          -0.0014640585286542773,
          0.005049057770520449,
          0.002470349660143256,
          0.0010769597720354795,
          0.003086228622123599,
          0.0032439776696264744,
          -0.0005114549421705306,
          0.003930887673050165,
          0.00020822671649511904,
          0.00207201624289155,
          -0.0007376465364359319,
          -0.0004519689828157425,
          0.005404834635555744,
          0.002213198458775878,
          0.007371184416115284,
          0.0003886001359205693,
          -0.0019916663877665997,
          0.01655500754714012,
          -0.0023354836739599705,
          -0.0007343331235460937,
          -0.0009651841828599572,
          -0.0017210544319823384,
          -0.00034889107337221503,
          -0.0021486906334757805,
          0.005519043654203415,
          -0.0006699288496747613,
          -0.0053031546995043755,
          0.0029797854367643595,
          0.0010690904455259442,
          -0.00016230501933023334,
          0.00035080662928521633,
          -0.0009569006506353617,
          -0.001166784088127315,
          0.0007697450928390026,
          0.0026516031939536333,
          0.00021355922217480838,
          0.0035912636667490005,
          0.006213408894836903,
          -0.000005643140866595786,
          -0.0007220113766379654,
          -0.0017288201488554478,
          0.0009007799089886248,
          -0.0009772470220923424,
          0.005405145231634378,
          -0.000518029963131994,
          0.0015648584812879562,
          -0.0036009452305734158,
          0.0016682988498359919,
          -0.003936116583645344,
          -0.00025658169761300087,
          -0.0029158471152186394,
          -0.000264192174654454,
          -0.005972927901893854,
          -0.00474515650421381,
          -0.00006352416676236317,
          0.0012926934286952019,
          -0.0025211379397660494,
          0.0002024800342041999,
          0.0013232388300821185,
          0.00012083569163223729,
          0.04310168698430061,
          -0.0003115634899586439,
          0.012777986004948616,
          0.010653991252183914,
          -0.0012551069958135486,
          0.00625990005210042,
          0.00992090068757534,
          -0.004188815597444773,
          -0.0035766123328357935,
          0.0006038678693585098,
          0.0004954056348651648,
          0.0007878135074861348,
          -0.0016725958557799459,
          -0.0010651040356606245,
          0.002360075479373336,
          0.0005608971114270389,
          -0.00018415277008898556,
          -0.012802578508853912,
          -0.00010535588808124885,
          -0.0011406909907236695,
          -0.0001542285899631679,
          0.007594994734972715,
          0.023745352402329445,
          -0.03848207741975784,
          -0.0007220113766379654,
          -0.002189642284065485,
          0.004007458221167326,
          0.005397327709943056,
          -0.00640537915751338,
          0.005596701521426439,
          0.015575379133224487,
          -0.00002029459756158758,
          0.03581484034657478,
          0.003148095915094018,
          0.0001816159492591396,
          -0.000575911020860076,
          -0.0008365826797671616,
          -0.009751502424478531,
          0.00035753697738982737,
          0.0006940027815289795,
          -0.0029700524173676968,
          -0.0006118924939073622,
          -0.004633691627532244,
          0.00040335513767786324,
          -0.0006377784302458167,
          0.0008130264468491077,
          -0.0037904304917901754,
          -0.02552216500043869,
          -0.000365199230145663,
          0.0009195731254294515,
          0.0002765656681731343,
          0.0046942648477852345,
          0.0005197384743951261,
          -0.0005518370307981968,
          -0.0014349109260365367,
          -0.0012026102049276233,
          -0.006328808143734932,
          -0.0002899228420574218,
          -0.0022419318556785583,
          0.001959412358701229,
          0.007534473203122616,
          0.0007539546932093799,
          0.018052665516734123,
          -0.0007277581025846303,
          -0.00026802331558428705,
          -0.0000603143016633112,
          -0.00111490860581398,
          0.0005816576885990798,
          0.01096974778920412,
          0.029462113976478577,
          0.004243124276399612,
          0.0686703473329544,
          0.0010368365328758955,
          -0.0012295834021642804,
          0.002647927263751626,
          0.020857566967606544,
          -0.0004901249194517732,
          0.017948966473340988,
          0.0003015715046785772,
          -0.000810386089142412,
          -0.0014957429375499487,
          -0.00010499347990844399,
          0.00012332074402365834,
          -0.0009040932636708021,
          0.000026041283490485512,
          0.0005012558540329337,
          0.00043338286923244596,
          0.00012689300638157874,
          -0.0008085222798399627,
          8.283509487228002e-7
         ]
        }
       ],
       "layout": {
        "annotations": [
         {
          "font": {
           "size": 11
          },
          "showarrow": false,
          "text": "The Iguazu Falls are in the country of [/INST] ",
          "x": 1,
          "xref": "paper",
          "y": 1.05,
          "yref": "paper"
         }
        ],
        "height": 420,
        "hovermode": "x unified",
        "showlegend": true,
        "template": {
         "data": {
          "bar": [
           {
            "error_x": {
             "color": "#2a3f5f"
            },
            "error_y": {
             "color": "#2a3f5f"
            },
            "marker": {
             "line": {
              "color": "#E5ECF6",
              "width": 0.5
             },
             "pattern": {
              "fillmode": "overlay",
              "size": 10,
              "solidity": 0.2
             }
            },
            "type": "bar"
           }
          ],
          "barpolar": [
           {
            "marker": {
             "line": {
              "color": "#E5ECF6",
              "width": 0.5
             },
             "pattern": {
              "fillmode": "overlay",
              "size": 10,
              "solidity": 0.2
             }
            },
            "type": "barpolar"
           }
          ],
          "carpet": [
           {
            "aaxis": {
             "endlinecolor": "#2a3f5f",
             "gridcolor": "white",
             "linecolor": "white",
             "minorgridcolor": "white",
             "startlinecolor": "#2a3f5f"
            },
            "baxis": {
             "endlinecolor": "#2a3f5f",
             "gridcolor": "white",
             "linecolor": "white",
             "minorgridcolor": "white",
             "startlinecolor": "#2a3f5f"
            },
            "type": "carpet"
           }
          ],
          "choropleth": [
           {
            "colorbar": {
             "outlinewidth": 0,
             "ticks": ""
            },
            "type": "choropleth"
           }
          ],
          "contour": [
           {
            "colorbar": {
             "outlinewidth": 0,
             "ticks": ""
            },
            "colorscale": [
             [
              0,
              "#0d0887"
             ],
             [
              0.1111111111111111,
              "#46039f"
             ],
             [
              0.2222222222222222,
              "#7201a8"
             ],
             [
              0.3333333333333333,
              "#9c179e"
             ],
             [
              0.4444444444444444,
              "#bd3786"
             ],
             [
              0.5555555555555556,
              "#d8576b"
             ],
             [
              0.6666666666666666,
              "#ed7953"
             ],
             [
              0.7777777777777778,
              "#fb9f3a"
             ],
             [
              0.8888888888888888,
              "#fdca26"
             ],
             [
              1,
              "#f0f921"
             ]
            ],
            "type": "contour"
           }
          ],
          "contourcarpet": [
           {
            "colorbar": {
             "outlinewidth": 0,
             "ticks": ""
            },
            "type": "contourcarpet"
           }
          ],
          "heatmap": [
           {
            "colorbar": {
             "outlinewidth": 0,
             "ticks": ""
            },
            "colorscale": [
             [
              0,
              "#0d0887"
             ],
             [
              0.1111111111111111,
              "#46039f"
             ],
             [
              0.2222222222222222,
              "#7201a8"
             ],
             [
              0.3333333333333333,
              "#9c179e"
             ],
             [
              0.4444444444444444,
              "#bd3786"
             ],
             [
              0.5555555555555556,
              "#d8576b"
             ],
             [
              0.6666666666666666,
              "#ed7953"
             ],
             [
              0.7777777777777778,
              "#fb9f3a"
             ],
             [
              0.8888888888888888,
              "#fdca26"
             ],
             [
              1,
              "#f0f921"
             ]
            ],
            "type": "heatmap"
           }
          ],
          "heatmapgl": [
           {
            "colorbar": {
             "outlinewidth": 0,
             "ticks": ""
            },
            "colorscale": [
             [
              0,
              "#0d0887"
             ],
             [
              0.1111111111111111,
              "#46039f"
             ],
             [
              0.2222222222222222,
              "#7201a8"
             ],
             [
              0.3333333333333333,
              "#9c179e"
             ],
             [
              0.4444444444444444,
              "#bd3786"
             ],
             [
              0.5555555555555556,
              "#d8576b"
             ],
             [
              0.6666666666666666,
              "#ed7953"
             ],
             [
              0.7777777777777778,
              "#fb9f3a"
             ],
             [
              0.8888888888888888,
              "#fdca26"
             ],
             [
              1,
              "#f0f921"
             ]
            ],
            "type": "heatmapgl"
           }
          ],
          "histogram": [
           {
            "marker": {
             "pattern": {
              "fillmode": "overlay",
              "size": 10,
              "solidity": 0.2
             }
            },
            "type": "histogram"
           }
          ],
          "histogram2d": [
           {
            "colorbar": {
             "outlinewidth": 0,
             "ticks": ""
            },
            "colorscale": [
             [
              0,
              "#0d0887"
             ],
             [
              0.1111111111111111,
              "#46039f"
             ],
             [
              0.2222222222222222,
              "#7201a8"
             ],
             [
              0.3333333333333333,
              "#9c179e"
             ],
             [
              0.4444444444444444,
              "#bd3786"
             ],
             [
              0.5555555555555556,
              "#d8576b"
             ],
             [
              0.6666666666666666,
              "#ed7953"
             ],
             [
              0.7777777777777778,
              "#fb9f3a"
             ],
             [
              0.8888888888888888,
              "#fdca26"
             ],
             [
              1,
              "#f0f921"
             ]
            ],
            "type": "histogram2d"
           }
          ],
          "histogram2dcontour": [
           {
            "colorbar": {
             "outlinewidth": 0,
             "ticks": ""
            },
            "colorscale": [
             [
              0,
              "#0d0887"
             ],
             [
              0.1111111111111111,
              "#46039f"
             ],
             [
              0.2222222222222222,
              "#7201a8"
             ],
             [
              0.3333333333333333,
              "#9c179e"
             ],
             [
              0.4444444444444444,
              "#bd3786"
             ],
             [
              0.5555555555555556,
              "#d8576b"
             ],
             [
              0.6666666666666666,
              "#ed7953"
             ],
             [
              0.7777777777777778,
              "#fb9f3a"
             ],
             [
              0.8888888888888888,
              "#fdca26"
             ],
             [
              1,
              "#f0f921"
             ]
            ],
            "type": "histogram2dcontour"
           }
          ],
          "mesh3d": [
           {
            "colorbar": {
             "outlinewidth": 0,
             "ticks": ""
            },
            "type": "mesh3d"
           }
          ],
          "parcoords": [
           {
            "line": {
             "colorbar": {
              "outlinewidth": 0,
              "ticks": ""
             }
            },
            "type": "parcoords"
           }
          ],
          "pie": [
           {
            "automargin": true,
            "type": "pie"
           }
          ],
          "scatter": [
           {
            "fillpattern": {
             "fillmode": "overlay",
             "size": 10,
             "solidity": 0.2
            },
            "type": "scatter"
           }
          ],
          "scatter3d": [
           {
            "line": {
             "colorbar": {
              "outlinewidth": 0,
              "ticks": ""
             }
            },
            "marker": {
             "colorbar": {
              "outlinewidth": 0,
              "ticks": ""
             }
            },
            "type": "scatter3d"
           }
          ],
          "scattercarpet": [
           {
            "marker": {
             "colorbar": {
              "outlinewidth": 0,
              "ticks": ""
             }
            },
            "type": "scattercarpet"
           }
          ],
          "scattergeo": [
           {
            "marker": {
             "colorbar": {
              "outlinewidth": 0,
              "ticks": ""
             }
            },
            "type": "scattergeo"
           }
          ],
          "scattergl": [
           {
            "marker": {
             "colorbar": {
              "outlinewidth": 0,
              "ticks": ""
             }
            },
            "type": "scattergl"
           }
          ],
          "scattermapbox": [
           {
            "marker": {
             "colorbar": {
              "outlinewidth": 0,
              "ticks": ""
             }
            },
            "type": "scattermapbox"
           }
          ],
          "scatterpolar": [
           {
            "marker": {
             "colorbar": {
              "outlinewidth": 0,
              "ticks": ""
             }
            },
            "type": "scatterpolar"
           }
          ],
          "scatterpolargl": [
           {
            "marker": {
             "colorbar": {
              "outlinewidth": 0,
              "ticks": ""
             }
            },
            "type": "scatterpolargl"
           }
          ],
          "scatterternary": [
           {
            "marker": {
             "colorbar": {
              "outlinewidth": 0,
              "ticks": ""
             }
            },
            "type": "scatterternary"
           }
          ],
          "surface": [
           {
            "colorbar": {
             "outlinewidth": 0,
             "ticks": ""
            },
            "colorscale": [
             [
              0,
              "#0d0887"
             ],
             [
              0.1111111111111111,
              "#46039f"
             ],
             [
              0.2222222222222222,
              "#7201a8"
             ],
             [
              0.3333333333333333,
              "#9c179e"
             ],
             [
              0.4444444444444444,
              "#bd3786"
             ],
             [
              0.5555555555555556,
              "#d8576b"
             ],
             [
              0.6666666666666666,
              "#ed7953"
             ],
             [
              0.7777777777777778,
              "#fb9f3a"
             ],
             [
              0.8888888888888888,
              "#fdca26"
             ],
             [
              1,
              "#f0f921"
             ]
            ],
            "type": "surface"
           }
          ],
          "table": [
           {
            "cells": {
             "fill": {
              "color": "#EBF0F8"
             },
             "line": {
              "color": "white"
             }
            },
            "header": {
             "fill": {
              "color": "#C8D4E3"
             },
             "line": {
              "color": "white"
             }
            },
            "type": "table"
           }
          ]
         },
         "layout": {
          "annotationdefaults": {
           "arrowcolor": "#2a3f5f",
           "arrowhead": 0,
           "arrowwidth": 1
          },
          "autotypenumbers": "strict",
          "coloraxis": {
           "colorbar": {
            "outlinewidth": 0,
            "ticks": ""
           }
          },
          "colorscale": {
           "diverging": [
            [
             0,
             "#8e0152"
            ],
            [
             0.1,
             "#c51b7d"
            ],
            [
             0.2,
             "#de77ae"
            ],
            [
             0.3,
             "#f1b6da"
            ],
            [
             0.4,
             "#fde0ef"
            ],
            [
             0.5,
             "#f7f7f7"
            ],
            [
             0.6,
             "#e6f5d0"
            ],
            [
             0.7,
             "#b8e186"
            ],
            [
             0.8,
             "#7fbc41"
            ],
            [
             0.9,
             "#4d9221"
            ],
            [
             1,
             "#276419"
            ]
           ],
           "sequential": [
            [
             0,
             "#0d0887"
            ],
            [
             0.1111111111111111,
             "#46039f"
            ],
            [
             0.2222222222222222,
             "#7201a8"
            ],
            [
             0.3333333333333333,
             "#9c179e"
            ],
            [
             0.4444444444444444,
             "#bd3786"
            ],
            [
             0.5555555555555556,
             "#d8576b"
            ],
            [
             0.6666666666666666,
             "#ed7953"
            ],
            [
             0.7777777777777778,
             "#fb9f3a"
            ],
            [
             0.8888888888888888,
             "#fdca26"
            ],
            [
             1,
             "#f0f921"
            ]
           ],
           "sequentialminus": [
            [
             0,
             "#0d0887"
            ],
            [
             0.1111111111111111,
             "#46039f"
            ],
            [
             0.2222222222222222,
             "#7201a8"
            ],
            [
             0.3333333333333333,
             "#9c179e"
            ],
            [
             0.4444444444444444,
             "#bd3786"
            ],
            [
             0.5555555555555556,
             "#d8576b"
            ],
            [
             0.6666666666666666,
             "#ed7953"
            ],
            [
             0.7777777777777778,
             "#fb9f3a"
            ],
            [
             0.8888888888888888,
             "#fdca26"
            ],
            [
             1,
             "#f0f921"
            ]
           ]
          },
          "colorway": [
           "#636efa",
           "#EF553B",
           "#00cc96",
           "#ab63fa",
           "#FFA15A",
           "#19d3f3",
           "#FF6692",
           "#B6E880",
           "#FF97FF",
           "#FECB52"
          ],
          "font": {
           "color": "#2a3f5f"
          },
          "geo": {
           "bgcolor": "white",
           "lakecolor": "white",
           "landcolor": "#E5ECF6",
           "showlakes": true,
           "showland": true,
           "subunitcolor": "white"
          },
          "hoverlabel": {
           "align": "left"
          },
          "hovermode": "closest",
          "mapbox": {
           "style": "light"
          },
          "paper_bgcolor": "white",
          "plot_bgcolor": "#E5ECF6",
          "polar": {
           "angularaxis": {
            "gridcolor": "white",
            "linecolor": "white",
            "ticks": ""
           },
           "bgcolor": "#E5ECF6",
           "radialaxis": {
            "gridcolor": "white",
            "linecolor": "white",
            "ticks": ""
           }
          },
          "scene": {
           "xaxis": {
            "backgroundcolor": "#E5ECF6",
            "gridcolor": "white",
            "gridwidth": 2,
            "linecolor": "white",
            "showbackground": true,
            "ticks": "",
            "zerolinecolor": "white"
           },
           "yaxis": {
            "backgroundcolor": "#E5ECF6",
            "gridcolor": "white",
            "gridwidth": 2,
            "linecolor": "white",
            "showbackground": true,
            "ticks": "",
            "zerolinecolor": "white"
           },
           "zaxis": {
            "backgroundcolor": "#E5ECF6",
            "gridcolor": "white",
            "gridwidth": 2,
            "linecolor": "white",
            "showbackground": true,
            "ticks": "",
            "zerolinecolor": "white"
           }
          },
          "shapedefaults": {
           "line": {
            "color": "#2a3f5f"
           }
          },
          "ternary": {
           "aaxis": {
            "gridcolor": "white",
            "linecolor": "white",
            "ticks": ""
           },
           "baxis": {
            "gridcolor": "white",
            "linecolor": "white",
            "ticks": ""
           },
           "bgcolor": "#E5ECF6",
           "caxis": {
            "gridcolor": "white",
            "linecolor": "white",
            "ticks": ""
           }
          },
          "title": {
           "x": 0.05
          },
          "xaxis": {
           "automargin": true,
           "gridcolor": "white",
           "linecolor": "white",
           "ticks": "",
           "title": {
            "standoff": 15
           },
           "zerolinecolor": "white",
           "zerolinewidth": 2
          },
          "yaxis": {
           "automargin": true,
           "gridcolor": "white",
           "linecolor": "white",
           "ticks": "",
           "title": {
            "standoff": 15
           },
           "zerolinecolor": "white",
           "zerolinewidth": 2
          }
         }
        },
        "title": {
         "text": "Query enrichment analysis by component for (L20MLP)"
        },
        "width": 800,
        "xaxis": {
         "range": [
          -20.82,
          714.82
         ],
         "ticktext": [
          "EMBED",
          "L3H28ATN",
          "L7H24ATN",
          "L11H20ATN",
          "L15H16ATN",
          "L19H12ATN"
         ],
         "tickvals": [
          0,
          128,
          256,
          384,
          512,
          640
         ],
         "title": {
          "text": "Components of Query Enrichment"
         }
        },
        "yaxis": {
         "title": {
          "text": "Log10 Bayes Factor\n(w.r.t attn. prob to forbidden token)"
         }
        }
       }
      },
      "text/html": [
       "<div>                            <div id=\"16271476-5eb2-41ff-80c3-1584e285d08f\" class=\"plotly-graph-div\" style=\"height:420px; width:800px;\"></div>            <script type=\"text/javascript\">                require([\"plotly\"], function(Plotly) {                    window.PLOTLYENV=window.PLOTLYENV || {};                                    if (document.getElementById(\"16271476-5eb2-41ff-80c3-1584e285d08f\")) {                    Plotly.newPlot(                        \"16271476-5eb2-41ff-80c3-1584e285d08f\",                        [{\"mode\":\"lines\",\"name\":\"zero ablation\",\"opacity\":0.7,\"x\":[\"EMBED\",\"L0H0ATN\",\"L0H1ATN\",\"L0H2ATN\",\"L0H3ATN\",\"L0H4ATN\",\"L0H5ATN\",\"L0H6ATN\",\"L0H7ATN\",\"L0H8ATN\",\"L0H9ATN\",\"L0H10ATN\",\"L0H11ATN\",\"L0H12ATN\",\"L0H13ATN\",\"L0H14ATN\",\"L0H15ATN\",\"L0H16ATN\",\"L0H17ATN\",\"L0H18ATN\",\"L0H19ATN\",\"L0H20ATN\",\"L0H21ATN\",\"L0H22ATN\",\"L0H23ATN\",\"L0H24ATN\",\"L0H25ATN\",\"L0H26ATN\",\"L0H27ATN\",\"L0H28ATN\",\"L0H29ATN\",\"L0H30ATN\",\"L0H31ATN\",\"L0MLP\",\"L1H0ATN\",\"L1H1ATN\",\"L1H2ATN\",\"L1H3ATN\",\"L1H4ATN\",\"L1H5ATN\",\"L1H6ATN\",\"L1H7ATN\",\"L1H8ATN\",\"L1H9ATN\",\"L1H10ATN\",\"L1H11ATN\",\"L1H12ATN\",\"L1H13ATN\",\"L1H14ATN\",\"L1H15ATN\",\"L1H16ATN\",\"L1H17ATN\",\"L1H18ATN\",\"L1H19ATN\",\"L1H20ATN\",\"L1H21ATN\",\"L1H22ATN\",\"L1H23ATN\",\"L1H24ATN\",\"L1H25ATN\",\"L1H26ATN\",\"L1H27ATN\",\"L1H28ATN\",\"L1H29ATN\",\"L1H30ATN\",\"L1H31ATN\",\"L1MLP\",\"L2H0ATN\",\"L2H1ATN\",\"L2H2ATN\",\"L2H3ATN\",\"L2H4ATN\",\"L2H5ATN\",\"L2H6ATN\",\"L2H7ATN\",\"L2H8ATN\",\"L2H9ATN\",\"L2H10ATN\",\"L2H11ATN\",\"L2H12ATN\",\"L2H13ATN\",\"L2H14ATN\",\"L2H15ATN\",\"L2H16ATN\",\"L2H17ATN\",\"L2H18ATN\",\"L2H19ATN\",\"L2H20ATN\",\"L2H21ATN\",\"L2H22ATN\",\"L2H23ATN\",\"L2H24ATN\",\"L2H25ATN\",\"L2H26ATN\",\"L2H27ATN\",\"L2H28ATN\",\"L2H29ATN\",\"L2H30ATN\",\"L2H31ATN\",\"L2MLP\",\"L3H0ATN\",\"L3H1ATN\",\"L3H2ATN\",\"L3H3ATN\",\"L3H4ATN\",\"L3H5ATN\",\"L3H6ATN\",\"L3H7ATN\",\"L3H8ATN\",\"L3H9ATN\",\"L3H10ATN\",\"L3H11ATN\",\"L3H12ATN\",\"L3H13ATN\",\"L3H14ATN\",\"L3H15ATN\",\"L3H16ATN\",\"L3H17ATN\",\"L3H18ATN\",\"L3H19ATN\",\"L3H20ATN\",\"L3H21ATN\",\"L3H22ATN\",\"L3H23ATN\",\"L3H24ATN\",\"L3H25ATN\",\"L3H26ATN\",\"L3H27ATN\",\"L3H28ATN\",\"L3H29ATN\",\"L3H30ATN\",\"L3H31ATN\",\"L3MLP\",\"L4H0ATN\",\"L4H1ATN\",\"L4H2ATN\",\"L4H3ATN\",\"L4H4ATN\",\"L4H5ATN\",\"L4H6ATN\",\"L4H7ATN\",\"L4H8ATN\",\"L4H9ATN\",\"L4H10ATN\",\"L4H11ATN\",\"L4H12ATN\",\"L4H13ATN\",\"L4H14ATN\",\"L4H15ATN\",\"L4H16ATN\",\"L4H17ATN\",\"L4H18ATN\",\"L4H19ATN\",\"L4H20ATN\",\"L4H21ATN\",\"L4H22ATN\",\"L4H23ATN\",\"L4H24ATN\",\"L4H25ATN\",\"L4H26ATN\",\"L4H27ATN\",\"L4H28ATN\",\"L4H29ATN\",\"L4H30ATN\",\"L4H31ATN\",\"L4MLP\",\"L5H0ATN\",\"L5H1ATN\",\"L5H2ATN\",\"L5H3ATN\",\"L5H4ATN\",\"L5H5ATN\",\"L5H6ATN\",\"L5H7ATN\",\"L5H8ATN\",\"L5H9ATN\",\"L5H10ATN\",\"L5H11ATN\",\"L5H12ATN\",\"L5H13ATN\",\"L5H14ATN\",\"L5H15ATN\",\"L5H16ATN\",\"L5H17ATN\",\"L5H18ATN\",\"L5H19ATN\",\"L5H20ATN\",\"L5H21ATN\",\"L5H22ATN\",\"L5H23ATN\",\"L5H24ATN\",\"L5H25ATN\",\"L5H26ATN\",\"L5H27ATN\",\"L5H28ATN\",\"L5H29ATN\",\"L5H30ATN\",\"L5H31ATN\",\"L5MLP\",\"L6H0ATN\",\"L6H1ATN\",\"L6H2ATN\",\"L6H3ATN\",\"L6H4ATN\",\"L6H5ATN\",\"L6H6ATN\",\"L6H7ATN\",\"L6H8ATN\",\"L6H9ATN\",\"L6H10ATN\",\"L6H11ATN\",\"L6H12ATN\",\"L6H13ATN\",\"L6H14ATN\",\"L6H15ATN\",\"L6H16ATN\",\"L6H17ATN\",\"L6H18ATN\",\"L6H19ATN\",\"L6H20ATN\",\"L6H21ATN\",\"L6H22ATN\",\"L6H23ATN\",\"L6H24ATN\",\"L6H25ATN\",\"L6H26ATN\",\"L6H27ATN\",\"L6H28ATN\",\"L6H29ATN\",\"L6H30ATN\",\"L6H31ATN\",\"L6MLP\",\"L7H0ATN\",\"L7H1ATN\",\"L7H2ATN\",\"L7H3ATN\",\"L7H4ATN\",\"L7H5ATN\",\"L7H6ATN\",\"L7H7ATN\",\"L7H8ATN\",\"L7H9ATN\",\"L7H10ATN\",\"L7H11ATN\",\"L7H12ATN\",\"L7H13ATN\",\"L7H14ATN\",\"L7H15ATN\",\"L7H16ATN\",\"L7H17ATN\",\"L7H18ATN\",\"L7H19ATN\",\"L7H20ATN\",\"L7H21ATN\",\"L7H22ATN\",\"L7H23ATN\",\"L7H24ATN\",\"L7H25ATN\",\"L7H26ATN\",\"L7H27ATN\",\"L7H28ATN\",\"L7H29ATN\",\"L7H30ATN\",\"L7H31ATN\",\"L7MLP\",\"L8H0ATN\",\"L8H1ATN\",\"L8H2ATN\",\"L8H3ATN\",\"L8H4ATN\",\"L8H5ATN\",\"L8H6ATN\",\"L8H7ATN\",\"L8H8ATN\",\"L8H9ATN\",\"L8H10ATN\",\"L8H11ATN\",\"L8H12ATN\",\"L8H13ATN\",\"L8H14ATN\",\"L8H15ATN\",\"L8H16ATN\",\"L8H17ATN\",\"L8H18ATN\",\"L8H19ATN\",\"L8H20ATN\",\"L8H21ATN\",\"L8H22ATN\",\"L8H23ATN\",\"L8H24ATN\",\"L8H25ATN\",\"L8H26ATN\",\"L8H27ATN\",\"L8H28ATN\",\"L8H29ATN\",\"L8H30ATN\",\"L8H31ATN\",\"L8MLP\",\"L9H0ATN\",\"L9H1ATN\",\"L9H2ATN\",\"L9H3ATN\",\"L9H4ATN\",\"L9H5ATN\",\"L9H6ATN\",\"L9H7ATN\",\"L9H8ATN\",\"L9H9ATN\",\"L9H10ATN\",\"L9H11ATN\",\"L9H12ATN\",\"L9H13ATN\",\"L9H14ATN\",\"L9H15ATN\",\"L9H16ATN\",\"L9H17ATN\",\"L9H18ATN\",\"L9H19ATN\",\"L9H20ATN\",\"L9H21ATN\",\"L9H22ATN\",\"L9H23ATN\",\"L9H24ATN\",\"L9H25ATN\",\"L9H26ATN\",\"L9H27ATN\",\"L9H28ATN\",\"L9H29ATN\",\"L9H30ATN\",\"L9H31ATN\",\"L9MLP\",\"L10H0ATN\",\"L10H1ATN\",\"L10H2ATN\",\"L10H3ATN\",\"L10H4ATN\",\"L10H5ATN\",\"L10H6ATN\",\"L10H7ATN\",\"L10H8ATN\",\"L10H9ATN\",\"L10H10ATN\",\"L10H11ATN\",\"L10H12ATN\",\"L10H13ATN\",\"L10H14ATN\",\"L10H15ATN\",\"L10H16ATN\",\"L10H17ATN\",\"L10H18ATN\",\"L10H19ATN\",\"L10H20ATN\",\"L10H21ATN\",\"L10H22ATN\",\"L10H23ATN\",\"L10H24ATN\",\"L10H25ATN\",\"L10H26ATN\",\"L10H27ATN\",\"L10H28ATN\",\"L10H29ATN\",\"L10H30ATN\",\"L10H31ATN\",\"L10MLP\",\"L11H0ATN\",\"L11H1ATN\",\"L11H2ATN\",\"L11H3ATN\",\"L11H4ATN\",\"L11H5ATN\",\"L11H6ATN\",\"L11H7ATN\",\"L11H8ATN\",\"L11H9ATN\",\"L11H10ATN\",\"L11H11ATN\",\"L11H12ATN\",\"L11H13ATN\",\"L11H14ATN\",\"L11H15ATN\",\"L11H16ATN\",\"L11H17ATN\",\"L11H18ATN\",\"L11H19ATN\",\"L11H20ATN\",\"L11H21ATN\",\"L11H22ATN\",\"L11H23ATN\",\"L11H24ATN\",\"L11H25ATN\",\"L11H26ATN\",\"L11H27ATN\",\"L11H28ATN\",\"L11H29ATN\",\"L11H30ATN\",\"L11H31ATN\",\"L11MLP\",\"L12H0ATN\",\"L12H1ATN\",\"L12H2ATN\",\"L12H3ATN\",\"L12H4ATN\",\"L12H5ATN\",\"L12H6ATN\",\"L12H7ATN\",\"L12H8ATN\",\"L12H9ATN\",\"L12H10ATN\",\"L12H11ATN\",\"L12H12ATN\",\"L12H13ATN\",\"L12H14ATN\",\"L12H15ATN\",\"L12H16ATN\",\"L12H17ATN\",\"L12H18ATN\",\"L12H19ATN\",\"L12H20ATN\",\"L12H21ATN\",\"L12H22ATN\",\"L12H23ATN\",\"L12H24ATN\",\"L12H25ATN\",\"L12H26ATN\",\"L12H27ATN\",\"L12H28ATN\",\"L12H29ATN\",\"L12H30ATN\",\"L12H31ATN\",\"L12MLP\",\"L13H0ATN\",\"L13H1ATN\",\"L13H2ATN\",\"L13H3ATN\",\"L13H4ATN\",\"L13H5ATN\",\"L13H6ATN\",\"L13H7ATN\",\"L13H8ATN\",\"L13H9ATN\",\"L13H10ATN\",\"L13H11ATN\",\"L13H12ATN\",\"L13H13ATN\",\"L13H14ATN\",\"L13H15ATN\",\"L13H16ATN\",\"L13H17ATN\",\"L13H18ATN\",\"L13H19ATN\",\"L13H20ATN\",\"L13H21ATN\",\"L13H22ATN\",\"L13H23ATN\",\"L13H24ATN\",\"L13H25ATN\",\"L13H26ATN\",\"L13H27ATN\",\"L13H28ATN\",\"L13H29ATN\",\"L13H30ATN\",\"L13H31ATN\",\"L13MLP\",\"L14H0ATN\",\"L14H1ATN\",\"L14H2ATN\",\"L14H3ATN\",\"L14H4ATN\",\"L14H5ATN\",\"L14H6ATN\",\"L14H7ATN\",\"L14H8ATN\",\"L14H9ATN\",\"L14H10ATN\",\"L14H11ATN\",\"L14H12ATN\",\"L14H13ATN\",\"L14H14ATN\",\"L14H15ATN\",\"L14H16ATN\",\"L14H17ATN\",\"L14H18ATN\",\"L14H19ATN\",\"L14H20ATN\",\"L14H21ATN\",\"L14H22ATN\",\"L14H23ATN\",\"L14H24ATN\",\"L14H25ATN\",\"L14H26ATN\",\"L14H27ATN\",\"L14H28ATN\",\"L14H29ATN\",\"L14H30ATN\",\"L14H31ATN\",\"L14MLP\",\"L15H0ATN\",\"L15H1ATN\",\"L15H2ATN\",\"L15H3ATN\",\"L15H4ATN\",\"L15H5ATN\",\"L15H6ATN\",\"L15H7ATN\",\"L15H8ATN\",\"L15H9ATN\",\"L15H10ATN\",\"L15H11ATN\",\"L15H12ATN\",\"L15H13ATN\",\"L15H14ATN\",\"L15H15ATN\",\"L15H16ATN\",\"L15H17ATN\",\"L15H18ATN\",\"L15H19ATN\",\"L15H20ATN\",\"L15H21ATN\",\"L15H22ATN\",\"L15H23ATN\",\"L15H24ATN\",\"L15H25ATN\",\"L15H26ATN\",\"L15H27ATN\",\"L15H28ATN\",\"L15H29ATN\",\"L15H30ATN\",\"L15H31ATN\",\"L15MLP\",\"L16H0ATN\",\"L16H1ATN\",\"L16H2ATN\",\"L16H3ATN\",\"L16H4ATN\",\"L16H5ATN\",\"L16H6ATN\",\"L16H7ATN\",\"L16H8ATN\",\"L16H9ATN\",\"L16H10ATN\",\"L16H11ATN\",\"L16H12ATN\",\"L16H13ATN\",\"L16H14ATN\",\"L16H15ATN\",\"L16H16ATN\",\"L16H17ATN\",\"L16H18ATN\",\"L16H19ATN\",\"L16H20ATN\",\"L16H21ATN\",\"L16H22ATN\",\"L16H23ATN\",\"L16H24ATN\",\"L16H25ATN\",\"L16H26ATN\",\"L16H27ATN\",\"L16H28ATN\",\"L16H29ATN\",\"L16H30ATN\",\"L16H31ATN\",\"L16MLP\",\"L17H0ATN\",\"L17H1ATN\",\"L17H2ATN\",\"L17H3ATN\",\"L17H4ATN\",\"L17H5ATN\",\"L17H6ATN\",\"L17H7ATN\",\"L17H8ATN\",\"L17H9ATN\",\"L17H10ATN\",\"L17H11ATN\",\"L17H12ATN\",\"L17H13ATN\",\"L17H14ATN\",\"L17H15ATN\",\"L17H16ATN\",\"L17H17ATN\",\"L17H18ATN\",\"L17H19ATN\",\"L17H20ATN\",\"L17H21ATN\",\"L17H22ATN\",\"L17H23ATN\",\"L17H24ATN\",\"L17H25ATN\",\"L17H26ATN\",\"L17H27ATN\",\"L17H28ATN\",\"L17H29ATN\",\"L17H30ATN\",\"L17H31ATN\",\"L17MLP\",\"L18H0ATN\",\"L18H1ATN\",\"L18H2ATN\",\"L18H3ATN\",\"L18H4ATN\",\"L18H5ATN\",\"L18H6ATN\",\"L18H7ATN\",\"L18H8ATN\",\"L18H9ATN\",\"L18H10ATN\",\"L18H11ATN\",\"L18H12ATN\",\"L18H13ATN\",\"L18H14ATN\",\"L18H15ATN\",\"L18H16ATN\",\"L18H17ATN\",\"L18H18ATN\",\"L18H19ATN\",\"L18H20ATN\",\"L18H21ATN\",\"L18H22ATN\",\"L18H23ATN\",\"L18H24ATN\",\"L18H25ATN\",\"L18H26ATN\",\"L18H27ATN\",\"L18H28ATN\",\"L18H29ATN\",\"L18H30ATN\",\"L18H31ATN\",\"L18MLP\",\"L19H0ATN\",\"L19H1ATN\",\"L19H2ATN\",\"L19H3ATN\",\"L19H4ATN\",\"L19H5ATN\",\"L19H6ATN\",\"L19H7ATN\",\"L19H8ATN\",\"L19H9ATN\",\"L19H10ATN\",\"L19H11ATN\",\"L19H12ATN\",\"L19H13ATN\",\"L19H14ATN\",\"L19H15ATN\",\"L19H16ATN\",\"L19H17ATN\",\"L19H18ATN\",\"L19H19ATN\",\"L19H20ATN\",\"L19H21ATN\",\"L19H22ATN\",\"L19H23ATN\",\"L19H24ATN\",\"L19H25ATN\",\"L19H26ATN\",\"L19H27ATN\",\"L19H28ATN\",\"L19H29ATN\",\"L19H30ATN\",\"L19H31ATN\",\"L19MLP\",\"L20H0ATN\",\"L20H1ATN\",\"L20H2ATN\",\"L20H3ATN\",\"L20H4ATN\",\"L20H5ATN\",\"L20H6ATN\",\"L20H7ATN\",\"L20H8ATN\",\"L20H9ATN\",\"L20H10ATN\",\"L20H11ATN\",\"L20H12ATN\",\"L20H13ATN\",\"L20H14ATN\",\"L20H15ATN\",\"L20H16ATN\",\"L20H17ATN\",\"L20H18ATN\",\"L20H19ATN\",\"L20H20ATN\",\"L20H21ATN\",\"L20H22ATN\",\"L20H23ATN\",\"L20H24ATN\",\"L20H25ATN\",\"L20H26ATN\",\"L20H27ATN\",\"L20H28ATN\",\"L20H29ATN\",\"L20H30ATN\",\"L20H31ATN\",\"None\"],\"y\":[0.0003382260329090059,-0.00025761715369299054,-0.00011980025738012046,-0.00032533484045416117,7.49657629057765e-05,5.917531962040812e-05,-4.737131894216873e-05,-0.00014801595534663647,0.00022784828615840524,2.2003072444931604e-05,0.00013377868162933737,9.241290536010638e-05,9.9816286819987e-05,-4.866561994276708e-06,0.00034190184669569135,-0.00035023712553083897,0.0005452620098367333,3.9346668927464634e-05,-2.4850527552189305e-05,-9.88843930826988e-06,-0.00013087944535072893,4.866561994276708e-06,-0.00012616820458788425,7.983232353581116e-05,-0.0004874327569268644,5.332509317668155e-05,-0.0020745531655848026,-0.00012114632409065962,-5.0736496632453054e-05,-0.0001102224487112835,-4.266007454134524e-05,0.0002446223807055503,-0.00014097498205956072,-0.0004533150640781969,0.00011291458940831944,0.00020382610091473907,-0.00013828283408656716,-0.0001641687995288521,-2.7024949304177426e-05,-0.00034904637141153216,-2.5678878955659457e-05,-0.00016970839351415634,-0.0003673736355267465,-5.850228717463324e-06,1.2839439477829728e-05,-7.222184649435803e-05,-7.408564124489203e-05,-2.9561773772002198e-05,0.000565556634683162,0.0002152159286197275,0.00030876780510880053,-4.5973476517247036e-05,0.0002446223807055503,-0.0004302247834857553,-5.0374092097627e-05,-0.00014366711548063904,0.0005026019643992186,4.172818080405705e-05,0.00021355922217480838,3.727579269252601e-06,8.49059724714607e-05,0.0004439961048774421,-3.613681110437028e-05,0.0001381275214953348,-1.340893140877597e-05,-0.00020853735622949898,0.0012515864800661802,4.721600271295756e-05,-1.3460703485179693e-06,-2.2520791389979422e-05,1.2839439477829728e-05,2.1744212062912993e-05,0.00011477837688289583,-0.00038067903369665146,5.430875899037346e-05,-0.00014014662883710116,-0.00010986004781443626,0.00017814722377806902,-1.423728190275142e-05,-0.0002569440985098481,9.391429193783551e-05,-0.00043514309800229967,0.0001863789657363668,-0.0013901799684390426,-2.2520791389979422e-05,-0.0008011189056560397,2.407395004411228e-05,0.00023406092077493668,0.00039698719047009945,-2.598951141408179e-05,0.0003912922693416476,-0.00019057249301113188,7.833093695808202e-05,0.00018265139078721404,0.00010354386904509738,-5.7104443840216845e-05,-0.00039714251761324704,-0.00012901566515211016,4.571461977320723e-05,-0.0018037342233583331,-0.0006584872608073056,-0.0013552856398746371,0.0003108386881649494,-0.00047029624693095684,-2.6662546588340774e-05,0.00034236779902130365,0.00012735895870719105,-0.00022365475888364017,-0.0004491215222515166,0.0005571695510298014,-0.0010888673132285476,-2.08123183256248e-05,7.248070687637664e-06,0.001355441054329276,-0.0005972410435788333,-0.00080008344957605,8.904772585083265e-06,-0.00011275926954112947,-9.205049718730152e-05,5.648317892337218e-05,-0.00013610841415356845,2.9768862077617086e-05,-0.00011322522186674178,0.00016717157268431038,-5.850228717463324e-06,-0.0002470038889441639,7.983232353581116e-05,-0.0006717408541589975,0.0011980542913079262,-0.0002835031191352755,0.00047236712998710573,1.009552761388477e-05,0.0008645395282655954,-0.0009525518398731947,0.001537885284051299,-7.714018465776462e-06,2.0346369637991302e-05,-4.6698285586899146e-05,-0.00016587728168815374,0.00014201040903571993,0.0006672884337604046,-0.0007519873324781656,-0.0003789705515373498,0.0002443117555230856,0.00023204181343317032,0.00011395003093639389,0.00023152408539317548,0.0004204916476737708,0.00012974046694580466,-0.0005119726411066949,9.950565436156467e-05,-0.0003139449981972575,0.0006207972764968872,-0.00017628342902753502,-0.0001253398513654247,-0.0004168158338870853,7.563879626104608e-05,-3.427301999181509e-05,0.000598276499658823,0.00026129293837584555,0.002083561383187771,0.00011508900934131816,9.344833961222321e-05,-0.00014164800813887268,-0.00043933663982897997,0.004881213419139385,-0.0010874695144593716,0.0005311800632625818,-0.0009815958328545094,-0.0004391813126858324,0.00045797452912665904,0.00164919497910887,-9.893616515910253e-05,-6.735528586432338e-05,-0.00010349209333071485,0.00019828650692943484,-0.0004479307681322098,0.00010768562060547993,0.00022028958483133465,0.000397815543692559,-4.8044355935417116e-05,-0.0009417832479812205,-0.0002026871225098148,-0.00028717893292196095,-0.0009675138862803578,0.0004619609680958092,0.000376330193830654,-0.0006994905997999012,0.0001371438556816429,-0.0004346253990661353,-0.0003163265064358711,0.00044332307879813015,-0.00021961654420010746,0.0002199271839344874,0.0017110623884946108,-2.852633588190656e-05,0.00036525100586004555,-0.0005419485969468951,-0.005932287313044071,-0.0014868382131680846,-0.0003847172483801842,0.0013712313957512379,0.0002500066766515374,-0.0004556965723168105,0.0002470038889441639,-0.0050886631943285465,4.675005766330287e-05,-0.00022903904027771205,0.00031989876879379153,4.9390426283935085e-05,-0.00016991548181977123,0.0014989528572186828,0.0009454073151573539,-0.0005236213328316808,-0.0007454640581272542,-0.00018834629736375064,0.0004616503429133445,-0.01225389912724495,-0.006420858670026064,-0.0002633120457176119,-0.0014520991826429963,-0.00218917615711689,-0.0005190654192119837,-0.00040335513767786324,0.00020667356147896498,-0.00020972811034880579,-1.604929934728716e-06,-0.0030392196495085955,0.0012725541600957513,0.0006329119205474854,0.0002676609146874398,0.011658263392746449,-0.0011377917835488915,0.0008009118027985096,0.00011125789023935795,-0.0001566100982017815,0.00023421623336616904,-0.0010225474834442139,0.004525022581219673,0.0021080495789647102,-0.0004230802587699145,0.00039046391611918807,-0.00027527136262506247,-0.005941295530647039,0.00034594006137922406,7.646714948350564e-05,0.0006248354911804199,-0.0001501903752796352,0.00034309260081499815,0.00038942848914302886,-0.0004077557532582432,-0.0009208673727698624,0.00307556358166039,0.001028656610287726,0.00035940075758844614,-0.00011726342927431688,0.00023592470097355545,-0.0003504442283883691,0.0015018520643934608,-0.00011607267515501007,-5.404989860835485e-05,-0.0005311282584443688,-0.0007682954892516136,-0.0011469036107882857,-0.006782848387956619,0.00020801962818950415,0.0026506194844841957,0.00026662545860745013,0.0011554978555068374,-0.0001153996417997405,-0.00039108519558794796,-0.001144677517004311,-0.0016429305542260408,-0.0008058301755227149,-0.0009362436830997467,0.002505295677110553,0.0016047746175900102,0.00015070810331963003,0.0005143541493453085,0.00033149568480439484,-0.0004943701787851751,-0.001551087130792439,-0.010461399331688881,0.00035515546915121377,0.00017105447477661073,-1.5790439647389576e-05,0.0014806772815063596,-0.0017672349931672215,0.0015770766185596585,-4.317779166740365e-05,0.003210843540728092,-0.0007356791757047176,-0.0017832325538620353,-0.0011272303527221084,0.0004881575587205589,-0.0005008417065255344,-7.6622462074738e-05,0.007721991278231144,0.008777206763625145,-0.0007390443352051079,-0.0024869167245924473,-0.002161322860047221,0.0011187397176399827,0.0002485052973497659,-0.0010514879832044244,0.0012318096123635769,0.00039294897578656673,-0.0010143157560378313,0.001972510712221265,-0.005989391356706619,0.0037069739773869514,0.0022239151876419783,0.00022598449140787125,0.0016486772801727057,0.0007964076939970255,0.0014362570364028215,0.0017904805717989802,0.00030597212025895715,0.004556913860142231,-0.006664756219834089,0.0006666671833954751,0.001554297050461173,0.002590201562270522,-0.00010468285472597927,8.625203918199986e-05,0.00017882026440929621,0.0023383311927318573,-0.0002660042082425207,-0.0008948261383920908,-0.0007425648509524763,-0.026580436155200005,-0.006114990450441837,0.0009192624711431563,0.004797757137566805,0.0022135607432574034,-0.017422912642359734,-0.0005094875814393163,-0.00588160241022706,-0.0002492300991434604,-0.001424970687367022,0.0026251478120684624,0.0010665536392480135,0.0022805538028478622,0.003720020642504096,0.0005278148455545306,0.0009999230969697237,0.0003991616249550134,-0.0018974413396790624,-0.0012625621166080236,-0.0021340390667319298,-0.0019269513431936502,0.0005994672537781298,0.00041748888907022774,-0.00018549883679952472,0.003553366754204035,0.002092621522024274,-0.0006097180885262787,-0.008158066309988499,-0.0008824008400551975,-0.00047314370749518275,0.0014714619610458612,0.0003771585470531136,0.005832212045788765,0.0198870487511158,0.004221794195473194,0.0013105029938742518,0.00037431108648888767,-0.002495355438441038,0.0051659587770700455,0.0005541667924262583,0.0015692072920501232,0.004199532326310873,-0.0038308643270283937,-0.005961072165518999,0.0008722535567358136,0.001690560718998313,-0.00015640300989616662,0.00046630980796180665,0.006967984605580568,0.0006038678693585098,3.815591480815783e-05,0.011300674639642239,-0.0007474314188584685,-0.002032100223004818,0.00014030194142833352,0.002787866862490773,-0.008048931136727333,-0.0007171448087319732,-0.00011747051757993177,7.077223563101143e-05,0.0004421841003932059,0.0007003706996329129,6.352416676236317e-05,0.0010246183956041932,0.00037161895306780934,-0.016855388879776,-0.011359745636582375,-0.0018669477431103587,-0.001062929630279541,8.438825716439169e-06,4.105514381080866e-05,-0.0005362019292078912,0.0053002554923295975,-0.0022259342949837446,-0.0009205567766912282,0.0015360214747488499,-0.0034580545034259558,-0.003327692858874798,-0.0023115132935345173,-0.0018305520061403513,0.0001463592634536326,-0.004384720232337713,0.00026175889070145786,-0.0006547596422024071,0.0005479023675434291,-0.0011618657736107707,0.017145570367574692,-0.001082085189409554,0.008049137890338898,0.00017944152932614088,-0.005091562867164612,0.0003019339346792549,0.00015914691903162748,0.0015385583974421024,-0.01376341376453638,-0.00042235542787238955,-0.0019454857101663947,0.0002213250263594091,0.0020132034551352262,-0.017372746020555496,0.0007950615836307406,0.0035190419293940067,-0.013524589128792286,2.2572563466383144e-05,0.0019450198160484433,0.0005516299861483276,0.0010645345319062471,0.0005382210365496576,0.0006822505383752286,-0.004227126482874155,-0.0018150722607970238,-1.3616018804896157e-05,1.5997527953004465e-05,-0.0019808460492640734,0.007665921933948994,-6.145328370621428e-05,0.004356711637228727,0.0007157987565733492,0.004186485894024372,0.00042908580508083105,0.0006787300808355212,-0.0005614148685708642,-0.0013431711122393608,-0.0021467232145369053,0.0014761731727048755,-0.0003996793238911778,-0.0007057032198645175,-0.0005468151648528874,-0.003011728636920452,-0.0020490814931690693,-0.003455673111602664,-0.001294350135140121,0.04174133017659187,0.009109375067055225,-0.0014031229075044394,-0.001595921698026359,-0.002708552172407508,0.007578686345368624,0.0016647783340886235,-0.0007699521956965327,-0.0024796684738248587,-4.887270551989786e-05,-0.0019072262803092599,-0.0008599836146458983,-0.0005902000702917576,-0.0032589915208518505,-0.0003954340354539454,0.004320626612752676,0.000958816206548363,-0.0010648969328030944,-0.00016111426521092653,-0.0007335047703236341,-0.0027306070551276207,-0.003914165310561657,0.0026633553206920624,-0.0005530277849175036,0.0008893382619135082,4.607702067005448e-05,-0.003219851991161704,0.0032249256037175655,-0.0009066301281563938,0.0027257923502475023,0.0033498513512313366,0.0007559219957329333,0.0034042117185890675,0.019352400675415993,2.4746985218371265e-05,0.0072678993456065655,0.001957755768671632,-0.002817169763147831,-0.006112764123827219,0.0020981612615287304,-0.0003193292941432446,-0.00028065565857104957,-0.0011011372553184628,0.003929075784981251,0.0065130130387842655,-0.002722841454669833,0.00026310497196391225,0.0009153795544989407,-0.002906269393861294,0.00017980393022298813,-0.0005970857455395162,-0.03158336505293846,-0.004921491723507643,-0.0007127959979698062,-0.0010769079672172666,0.005266241263598204,-0.0022003070916980505,0.0007440662593580782,-0.008694319985806942,0.0005433982005342841,0.00441816495731473,0.003938446287065744,-0.0019138013012707233,-0.0008705968502908945,-0.0005170463118702173,0.004101320635527372,0.028508475050330162,0.004824316129088402,-0.0006043337634764612,-0.006307736970484257,0.012080773711204529,-3.427301999181509e-05,0.007055996917188168,0.0016618791269138455,0.0065514277666807175,-0.0020564848091453314,0.0008509235340170562,-0.009925507940351963,-0.0004459116607904434,7.765790542180184e-06,0.0007270850474014878,0.002879917388781905,-0.0014640585286542773,0.005049057770520449,0.002470349660143256,0.0010769597720354795,0.003086228622123599,0.0032439776696264744,-0.0005114549421705306,0.003930887673050165,0.00020822671649511904,0.00207201624289155,-0.0007376465364359319,-0.0004519689828157425,0.005404834635555744,0.002213198458775878,0.007371184416115284,0.0003886001359205693,-0.0019916663877665997,0.01655500754714012,-0.0023354836739599705,-0.0007343331235460937,-0.0009651841828599572,-0.0017210544319823384,-0.00034889107337221503,-0.0021486906334757805,0.005519043654203415,-0.0006699288496747613,-0.0053031546995043755,0.0029797854367643595,0.0010690904455259442,-0.00016230501933023334,0.00035080662928521633,-0.0009569006506353617,-0.001166784088127315,0.0007697450928390026,0.0026516031939536333,0.00021355922217480838,0.0035912636667490005,0.006213408894836903,-5.643140866595786e-06,-0.0007220113766379654,-0.0017288201488554478,0.0009007799089886248,-0.0009772470220923424,0.005405145231634378,-0.000518029963131994,0.0015648584812879562,-0.0036009452305734158,0.0016682988498359919,-0.003936116583645344,-0.00025658169761300087,-0.0029158471152186394,-0.000264192174654454,-0.005972927901893854,-0.00474515650421381,-6.352416676236317e-05,0.0012926934286952019,-0.0025211379397660494,0.0002024800342041999,0.0013232388300821185,0.00012083569163223729,0.04310168698430061,-0.0003115634899586439,0.012777986004948616,0.010653991252183914,-0.0012551069958135486,0.00625990005210042,0.00992090068757534,-0.004188815597444773,-0.0035766123328357935,0.0006038678693585098,0.0004954056348651648,0.0007878135074861348,-0.0016725958557799459,-0.0010651040356606245,0.002360075479373336,0.0005608971114270389,-0.00018415277008898556,-0.012802578508853912,-0.00010535588808124885,-0.0011406909907236695,-0.0001542285899631679,0.007594994734972715,0.023745352402329445,-0.03848207741975784,-0.0007220113766379654,-0.002189642284065485,0.004007458221167326,0.005397327709943056,-0.00640537915751338,0.005596701521426439,0.015575379133224487,-2.029459756158758e-05,0.03581484034657478,0.003148095915094018,0.0001816159492591396,-0.000575911020860076,-0.0008365826797671616,-0.009751502424478531,0.00035753697738982737,0.0006940027815289795,-0.0029700524173676968,-0.0006118924939073622,-0.004633691627532244,0.00040335513767786324,-0.0006377784302458167,0.0008130264468491077,-0.0037904304917901754,-0.02552216500043869,-0.000365199230145663,0.0009195731254294515,0.0002765656681731343,0.0046942648477852345,0.0005197384743951261,-0.0005518370307981968,-0.0014349109260365367,-0.0012026102049276233,-0.006328808143734932,-0.0002899228420574218,-0.0022419318556785583,0.001959412358701229,0.007534473203122616,0.0007539546932093799,0.018052665516734123,-0.0007277581025846303,-0.00026802331558428705,-6.03143016633112e-05,-0.00111490860581398,0.0005816576885990798,0.01096974778920412,0.029462113976478577,0.004243124276399612,0.0686703473329544,0.0010368365328758955,-0.0012295834021642804,0.002647927263751626,0.020857566967606544,-0.0004901249194517732,0.017948966473340988,0.0003015715046785772,-0.000810386089142412,-0.0014957429375499487,-0.00010499347990844399,0.00012332074402365834,-0.0009040932636708021,2.6041283490485512e-05,0.0005012558540329337,0.00043338286923244596,0.00012689300638157874,-0.0008085222798399627,8.283509487228002e-07],\"type\":\"scatter\"}],                        {\"template\":{\"data\":{\"histogram2dcontour\":[{\"type\":\"histogram2dcontour\",\"colorbar\":{\"outlinewidth\":0,\"ticks\":\"\"},\"colorscale\":[[0.0,\"#0d0887\"],[0.1111111111111111,\"#46039f\"],[0.2222222222222222,\"#7201a8\"],[0.3333333333333333,\"#9c179e\"],[0.4444444444444444,\"#bd3786\"],[0.5555555555555556,\"#d8576b\"],[0.6666666666666666,\"#ed7953\"],[0.7777777777777778,\"#fb9f3a\"],[0.8888888888888888,\"#fdca26\"],[1.0,\"#f0f921\"]]}],\"choropleth\":[{\"type\":\"choropleth\",\"colorbar\":{\"outlinewidth\":0,\"ticks\":\"\"}}],\"histogram2d\":[{\"type\":\"histogram2d\",\"colorbar\":{\"outlinewidth\":0,\"ticks\":\"\"},\"colorscale\":[[0.0,\"#0d0887\"],[0.1111111111111111,\"#46039f\"],[0.2222222222222222,\"#7201a8\"],[0.3333333333333333,\"#9c179e\"],[0.4444444444444444,\"#bd3786\"],[0.5555555555555556,\"#d8576b\"],[0.6666666666666666,\"#ed7953\"],[0.7777777777777778,\"#fb9f3a\"],[0.8888888888888888,\"#fdca26\"],[1.0,\"#f0f921\"]]}],\"heatmap\":[{\"type\":\"heatmap\",\"colorbar\":{\"outlinewidth\":0,\"ticks\":\"\"},\"colorscale\":[[0.0,\"#0d0887\"],[0.1111111111111111,\"#46039f\"],[0.2222222222222222,\"#7201a8\"],[0.3333333333333333,\"#9c179e\"],[0.4444444444444444,\"#bd3786\"],[0.5555555555555556,\"#d8576b\"],[0.6666666666666666,\"#ed7953\"],[0.7777777777777778,\"#fb9f3a\"],[0.8888888888888888,\"#fdca26\"],[1.0,\"#f0f921\"]]}],\"heatmapgl\":[{\"type\":\"heatmapgl\",\"colorbar\":{\"outlinewidth\":0,\"ticks\":\"\"},\"colorscale\":[[0.0,\"#0d0887\"],[0.1111111111111111,\"#46039f\"],[0.2222222222222222,\"#7201a8\"],[0.3333333333333333,\"#9c179e\"],[0.4444444444444444,\"#bd3786\"],[0.5555555555555556,\"#d8576b\"],[0.6666666666666666,\"#ed7953\"],[0.7777777777777778,\"#fb9f3a\"],[0.8888888888888888,\"#fdca26\"],[1.0,\"#f0f921\"]]}],\"contourcarpet\":[{\"type\":\"contourcarpet\",\"colorbar\":{\"outlinewidth\":0,\"ticks\":\"\"}}],\"contour\":[{\"type\":\"contour\",\"colorbar\":{\"outlinewidth\":0,\"ticks\":\"\"},\"colorscale\":[[0.0,\"#0d0887\"],[0.1111111111111111,\"#46039f\"],[0.2222222222222222,\"#7201a8\"],[0.3333333333333333,\"#9c179e\"],[0.4444444444444444,\"#bd3786\"],[0.5555555555555556,\"#d8576b\"],[0.6666666666666666,\"#ed7953\"],[0.7777777777777778,\"#fb9f3a\"],[0.8888888888888888,\"#fdca26\"],[1.0,\"#f0f921\"]]}],\"surface\":[{\"type\":\"surface\",\"colorbar\":{\"outlinewidth\":0,\"ticks\":\"\"},\"colorscale\":[[0.0,\"#0d0887\"],[0.1111111111111111,\"#46039f\"],[0.2222222222222222,\"#7201a8\"],[0.3333333333333333,\"#9c179e\"],[0.4444444444444444,\"#bd3786\"],[0.5555555555555556,\"#d8576b\"],[0.6666666666666666,\"#ed7953\"],[0.7777777777777778,\"#fb9f3a\"],[0.8888888888888888,\"#fdca26\"],[1.0,\"#f0f921\"]]}],\"mesh3d\":[{\"type\":\"mesh3d\",\"colorbar\":{\"outlinewidth\":0,\"ticks\":\"\"}}],\"scatter\":[{\"fillpattern\":{\"fillmode\":\"overlay\",\"size\":10,\"solidity\":0.2},\"type\":\"scatter\"}],\"parcoords\":[{\"type\":\"parcoords\",\"line\":{\"colorbar\":{\"outlinewidth\":0,\"ticks\":\"\"}}}],\"scatterpolargl\":[{\"type\":\"scatterpolargl\",\"marker\":{\"colorbar\":{\"outlinewidth\":0,\"ticks\":\"\"}}}],\"bar\":[{\"error_x\":{\"color\":\"#2a3f5f\"},\"error_y\":{\"color\":\"#2a3f5f\"},\"marker\":{\"line\":{\"color\":\"#E5ECF6\",\"width\":0.5},\"pattern\":{\"fillmode\":\"overlay\",\"size\":10,\"solidity\":0.2}},\"type\":\"bar\"}],\"scattergeo\":[{\"type\":\"scattergeo\",\"marker\":{\"colorbar\":{\"outlinewidth\":0,\"ticks\":\"\"}}}],\"scatterpolar\":[{\"type\":\"scatterpolar\",\"marker\":{\"colorbar\":{\"outlinewidth\":0,\"ticks\":\"\"}}}],\"histogram\":[{\"marker\":{\"pattern\":{\"fillmode\":\"overlay\",\"size\":10,\"solidity\":0.2}},\"type\":\"histogram\"}],\"scattergl\":[{\"type\":\"scattergl\",\"marker\":{\"colorbar\":{\"outlinewidth\":0,\"ticks\":\"\"}}}],\"scatter3d\":[{\"type\":\"scatter3d\",\"line\":{\"colorbar\":{\"outlinewidth\":0,\"ticks\":\"\"}},\"marker\":{\"colorbar\":{\"outlinewidth\":0,\"ticks\":\"\"}}}],\"scattermapbox\":[{\"type\":\"scattermapbox\",\"marker\":{\"colorbar\":{\"outlinewidth\":0,\"ticks\":\"\"}}}],\"scatterternary\":[{\"type\":\"scatterternary\",\"marker\":{\"colorbar\":{\"outlinewidth\":0,\"ticks\":\"\"}}}],\"scattercarpet\":[{\"type\":\"scattercarpet\",\"marker\":{\"colorbar\":{\"outlinewidth\":0,\"ticks\":\"\"}}}],\"carpet\":[{\"aaxis\":{\"endlinecolor\":\"#2a3f5f\",\"gridcolor\":\"white\",\"linecolor\":\"white\",\"minorgridcolor\":\"white\",\"startlinecolor\":\"#2a3f5f\"},\"baxis\":{\"endlinecolor\":\"#2a3f5f\",\"gridcolor\":\"white\",\"linecolor\":\"white\",\"minorgridcolor\":\"white\",\"startlinecolor\":\"#2a3f5f\"},\"type\":\"carpet\"}],\"table\":[{\"cells\":{\"fill\":{\"color\":\"#EBF0F8\"},\"line\":{\"color\":\"white\"}},\"header\":{\"fill\":{\"color\":\"#C8D4E3\"},\"line\":{\"color\":\"white\"}},\"type\":\"table\"}],\"barpolar\":[{\"marker\":{\"line\":{\"color\":\"#E5ECF6\",\"width\":0.5},\"pattern\":{\"fillmode\":\"overlay\",\"size\":10,\"solidity\":0.2}},\"type\":\"barpolar\"}],\"pie\":[{\"automargin\":true,\"type\":\"pie\"}]},\"layout\":{\"autotypenumbers\":\"strict\",\"colorway\":[\"#636efa\",\"#EF553B\",\"#00cc96\",\"#ab63fa\",\"#FFA15A\",\"#19d3f3\",\"#FF6692\",\"#B6E880\",\"#FF97FF\",\"#FECB52\"],\"font\":{\"color\":\"#2a3f5f\"},\"hovermode\":\"closest\",\"hoverlabel\":{\"align\":\"left\"},\"paper_bgcolor\":\"white\",\"plot_bgcolor\":\"#E5ECF6\",\"polar\":{\"bgcolor\":\"#E5ECF6\",\"angularaxis\":{\"gridcolor\":\"white\",\"linecolor\":\"white\",\"ticks\":\"\"},\"radialaxis\":{\"gridcolor\":\"white\",\"linecolor\":\"white\",\"ticks\":\"\"}},\"ternary\":{\"bgcolor\":\"#E5ECF6\",\"aaxis\":{\"gridcolor\":\"white\",\"linecolor\":\"white\",\"ticks\":\"\"},\"baxis\":{\"gridcolor\":\"white\",\"linecolor\":\"white\",\"ticks\":\"\"},\"caxis\":{\"gridcolor\":\"white\",\"linecolor\":\"white\",\"ticks\":\"\"}},\"coloraxis\":{\"colorbar\":{\"outlinewidth\":0,\"ticks\":\"\"}},\"colorscale\":{\"sequential\":[[0.0,\"#0d0887\"],[0.1111111111111111,\"#46039f\"],[0.2222222222222222,\"#7201a8\"],[0.3333333333333333,\"#9c179e\"],[0.4444444444444444,\"#bd3786\"],[0.5555555555555556,\"#d8576b\"],[0.6666666666666666,\"#ed7953\"],[0.7777777777777778,\"#fb9f3a\"],[0.8888888888888888,\"#fdca26\"],[1.0,\"#f0f921\"]],\"sequentialminus\":[[0.0,\"#0d0887\"],[0.1111111111111111,\"#46039f\"],[0.2222222222222222,\"#7201a8\"],[0.3333333333333333,\"#9c179e\"],[0.4444444444444444,\"#bd3786\"],[0.5555555555555556,\"#d8576b\"],[0.6666666666666666,\"#ed7953\"],[0.7777777777777778,\"#fb9f3a\"],[0.8888888888888888,\"#fdca26\"],[1.0,\"#f0f921\"]],\"diverging\":[[0,\"#8e0152\"],[0.1,\"#c51b7d\"],[0.2,\"#de77ae\"],[0.3,\"#f1b6da\"],[0.4,\"#fde0ef\"],[0.5,\"#f7f7f7\"],[0.6,\"#e6f5d0\"],[0.7,\"#b8e186\"],[0.8,\"#7fbc41\"],[0.9,\"#4d9221\"],[1,\"#276419\"]]},\"xaxis\":{\"gridcolor\":\"white\",\"linecolor\":\"white\",\"ticks\":\"\",\"title\":{\"standoff\":15},\"zerolinecolor\":\"white\",\"automargin\":true,\"zerolinewidth\":2},\"yaxis\":{\"gridcolor\":\"white\",\"linecolor\":\"white\",\"ticks\":\"\",\"title\":{\"standoff\":15},\"zerolinecolor\":\"white\",\"automargin\":true,\"zerolinewidth\":2},\"scene\":{\"xaxis\":{\"backgroundcolor\":\"#E5ECF6\",\"gridcolor\":\"white\",\"linecolor\":\"white\",\"showbackground\":true,\"ticks\":\"\",\"zerolinecolor\":\"white\",\"gridwidth\":2},\"yaxis\":{\"backgroundcolor\":\"#E5ECF6\",\"gridcolor\":\"white\",\"linecolor\":\"white\",\"showbackground\":true,\"ticks\":\"\",\"zerolinecolor\":\"white\",\"gridwidth\":2},\"zaxis\":{\"backgroundcolor\":\"#E5ECF6\",\"gridcolor\":\"white\",\"linecolor\":\"white\",\"showbackground\":true,\"ticks\":\"\",\"zerolinecolor\":\"white\",\"gridwidth\":2}},\"shapedefaults\":{\"line\":{\"color\":\"#2a3f5f\"}},\"annotationdefaults\":{\"arrowcolor\":\"#2a3f5f\",\"arrowhead\":0,\"arrowwidth\":1},\"geo\":{\"bgcolor\":\"white\",\"landcolor\":\"#E5ECF6\",\"subunitcolor\":\"white\",\"showland\":true,\"showlakes\":true,\"lakecolor\":\"white\"},\"title\":{\"x\":0.05},\"mapbox\":{\"style\":\"light\"}}},\"xaxis\":{\"tickvals\":[0,128,256,384,512,640],\"ticktext\":[\"EMBED\",\"L3H28ATN\",\"L7H24ATN\",\"L11H20ATN\",\"L15H16ATN\",\"L19H12ATN\"],\"title\":{\"text\":\"Components of Query Enrichment\"},\"range\":[-20.82,714.82]},\"hovermode\":\"x unified\",\"showlegend\":true,\"title\":{\"text\":\"Query enrichment analysis by component for (L20MLP)\"},\"yaxis\":{\"title\":{\"text\":\"Log10 Bayes Factor\\n(w.r.t attn. prob to forbidden token)\"}},\"height\":420,\"width\":800,\"annotations\":[{\"font\":{\"size\":11},\"showarrow\":false,\"text\":\"The Iguazu Falls are in the country of [\\u002fINST] \",\"x\":1,\"xref\":\"paper\",\"y\":1.05,\"yref\":\"paper\"}]},                        {\"responsive\": true}                    ).then(function(){\n",
       "                            \n",
       "var gd = document.getElementById('16271476-5eb2-41ff-80c3-1584e285d08f');\n",
       "var x = new MutationObserver(function (mutations, observer) {{\n",
       "        var display = window.getComputedStyle(gd).display;\n",
       "        if (!display || display === 'none') {{\n",
       "            console.log([gd, 'removed!']);\n",
       "            Plotly.purge(gd);\n",
       "            observer.disconnect();\n",
       "        }}\n",
       "}});\n",
       "\n",
       "// Listen for the removal of the full notebook cells\n",
       "var notebookContainer = gd.closest('#notebook-container');\n",
       "if (notebookContainer) {{\n",
       "    x.observe(notebookContainer, {childList: true});\n",
       "}}\n",
       "\n",
       "// Listen for the clearing of the current output cell\n",
       "var outputEl = gd.closest('.output');\n",
       "if (outputEl) {{\n",
       "    x.observe(outputEl, {childList: true});\n",
       "}}\n",
       "\n",
       "                        })                };                });            </script>        </div>"
      ]
     },
     "metadata": {},
     "output_type": "display_data"
    },
    {
     "data": {
      "application/vnd.plotly.v1+json": {
       "config": {
        "plotlyServerURL": "https://plot.ly"
       },
       "data": [
        {
         "mode": "lines",
         "name": "zero ablation",
         "opacity": 0.7,
         "type": "scatter",
         "x": [
          "L20H14ATN",
          "L18H9ATN",
          "L13MLP",
          "L19H8ATN",
          "L20H12ATN",
          "L15MLP",
          "L18H31ATN",
          "L20H18ATN",
          "L10MLP",
          "L14MLP",
          "L20H5ATN",
          "L20H20ATN",
          "L12H19ATN",
          "L16MLP",
          "L19H6ATN",
          "L18H11ATN",
          "L16H3ATN",
          "L6MLP",
          "L11H17ATN",
          "L20H11ATN"
         ],
         "y": [
          0.0686703473329544,
          0.04310168698430061,
          0.04174133017659187,
          0.03581484034657478,
          0.029462113976478577,
          0.028508475050330162,
          0.023745352402329445,
          0.020857566967606544,
          0.0198870487511158,
          0.019352400675415993,
          0.018052665516734123,
          0.017948966473340988,
          0.017145570367574692,
          0.01655500754714012,
          0.015575379133224487,
          0.012777986004948616,
          0.012080773711204529,
          0.011658263392746449,
          0.011300674639642239,
          0.01096974778920412
         ]
        }
       ],
       "layout": {
        "annotations": [
         {
          "font": {
           "size": 11
          },
          "showarrow": false,
          "text": "The Iguazu Falls are in the country of [/INST] ",
          "x": 1,
          "xref": "paper",
          "y": 1.05,
          "yref": "paper"
         }
        ],
        "height": 400,
        "hovermode": "x unified",
        "showlegend": true,
        "template": {
         "data": {
          "bar": [
           {
            "error_x": {
             "color": "#2a3f5f"
            },
            "error_y": {
             "color": "#2a3f5f"
            },
            "marker": {
             "line": {
              "color": "#E5ECF6",
              "width": 0.5
             },
             "pattern": {
              "fillmode": "overlay",
              "size": 10,
              "solidity": 0.2
             }
            },
            "type": "bar"
           }
          ],
          "barpolar": [
           {
            "marker": {
             "line": {
              "color": "#E5ECF6",
              "width": 0.5
             },
             "pattern": {
              "fillmode": "overlay",
              "size": 10,
              "solidity": 0.2
             }
            },
            "type": "barpolar"
           }
          ],
          "carpet": [
           {
            "aaxis": {
             "endlinecolor": "#2a3f5f",
             "gridcolor": "white",
             "linecolor": "white",
             "minorgridcolor": "white",
             "startlinecolor": "#2a3f5f"
            },
            "baxis": {
             "endlinecolor": "#2a3f5f",
             "gridcolor": "white",
             "linecolor": "white",
             "minorgridcolor": "white",
             "startlinecolor": "#2a3f5f"
            },
            "type": "carpet"
           }
          ],
          "choropleth": [
           {
            "colorbar": {
             "outlinewidth": 0,
             "ticks": ""
            },
            "type": "choropleth"
           }
          ],
          "contour": [
           {
            "colorbar": {
             "outlinewidth": 0,
             "ticks": ""
            },
            "colorscale": [
             [
              0,
              "#0d0887"
             ],
             [
              0.1111111111111111,
              "#46039f"
             ],
             [
              0.2222222222222222,
              "#7201a8"
             ],
             [
              0.3333333333333333,
              "#9c179e"
             ],
             [
              0.4444444444444444,
              "#bd3786"
             ],
             [
              0.5555555555555556,
              "#d8576b"
             ],
             [
              0.6666666666666666,
              "#ed7953"
             ],
             [
              0.7777777777777778,
              "#fb9f3a"
             ],
             [
              0.8888888888888888,
              "#fdca26"
             ],
             [
              1,
              "#f0f921"
             ]
            ],
            "type": "contour"
           }
          ],
          "contourcarpet": [
           {
            "colorbar": {
             "outlinewidth": 0,
             "ticks": ""
            },
            "type": "contourcarpet"
           }
          ],
          "heatmap": [
           {
            "colorbar": {
             "outlinewidth": 0,
             "ticks": ""
            },
            "colorscale": [
             [
              0,
              "#0d0887"
             ],
             [
              0.1111111111111111,
              "#46039f"
             ],
             [
              0.2222222222222222,
              "#7201a8"
             ],
             [
              0.3333333333333333,
              "#9c179e"
             ],
             [
              0.4444444444444444,
              "#bd3786"
             ],
             [
              0.5555555555555556,
              "#d8576b"
             ],
             [
              0.6666666666666666,
              "#ed7953"
             ],
             [
              0.7777777777777778,
              "#fb9f3a"
             ],
             [
              0.8888888888888888,
              "#fdca26"
             ],
             [
              1,
              "#f0f921"
             ]
            ],
            "type": "heatmap"
           }
          ],
          "heatmapgl": [
           {
            "colorbar": {
             "outlinewidth": 0,
             "ticks": ""
            },
            "colorscale": [
             [
              0,
              "#0d0887"
             ],
             [
              0.1111111111111111,
              "#46039f"
             ],
             [
              0.2222222222222222,
              "#7201a8"
             ],
             [
              0.3333333333333333,
              "#9c179e"
             ],
             [
              0.4444444444444444,
              "#bd3786"
             ],
             [
              0.5555555555555556,
              "#d8576b"
             ],
             [
              0.6666666666666666,
              "#ed7953"
             ],
             [
              0.7777777777777778,
              "#fb9f3a"
             ],
             [
              0.8888888888888888,
              "#fdca26"
             ],
             [
              1,
              "#f0f921"
             ]
            ],
            "type": "heatmapgl"
           }
          ],
          "histogram": [
           {
            "marker": {
             "pattern": {
              "fillmode": "overlay",
              "size": 10,
              "solidity": 0.2
             }
            },
            "type": "histogram"
           }
          ],
          "histogram2d": [
           {
            "colorbar": {
             "outlinewidth": 0,
             "ticks": ""
            },
            "colorscale": [
             [
              0,
              "#0d0887"
             ],
             [
              0.1111111111111111,
              "#46039f"
             ],
             [
              0.2222222222222222,
              "#7201a8"
             ],
             [
              0.3333333333333333,
              "#9c179e"
             ],
             [
              0.4444444444444444,
              "#bd3786"
             ],
             [
              0.5555555555555556,
              "#d8576b"
             ],
             [
              0.6666666666666666,
              "#ed7953"
             ],
             [
              0.7777777777777778,
              "#fb9f3a"
             ],
             [
              0.8888888888888888,
              "#fdca26"
             ],
             [
              1,
              "#f0f921"
             ]
            ],
            "type": "histogram2d"
           }
          ],
          "histogram2dcontour": [
           {
            "colorbar": {
             "outlinewidth": 0,
             "ticks": ""
            },
            "colorscale": [
             [
              0,
              "#0d0887"
             ],
             [
              0.1111111111111111,
              "#46039f"
             ],
             [
              0.2222222222222222,
              "#7201a8"
             ],
             [
              0.3333333333333333,
              "#9c179e"
             ],
             [
              0.4444444444444444,
              "#bd3786"
             ],
             [
              0.5555555555555556,
              "#d8576b"
             ],
             [
              0.6666666666666666,
              "#ed7953"
             ],
             [
              0.7777777777777778,
              "#fb9f3a"
             ],
             [
              0.8888888888888888,
              "#fdca26"
             ],
             [
              1,
              "#f0f921"
             ]
            ],
            "type": "histogram2dcontour"
           }
          ],
          "mesh3d": [
           {
            "colorbar": {
             "outlinewidth": 0,
             "ticks": ""
            },
            "type": "mesh3d"
           }
          ],
          "parcoords": [
           {
            "line": {
             "colorbar": {
              "outlinewidth": 0,
              "ticks": ""
             }
            },
            "type": "parcoords"
           }
          ],
          "pie": [
           {
            "automargin": true,
            "type": "pie"
           }
          ],
          "scatter": [
           {
            "fillpattern": {
             "fillmode": "overlay",
             "size": 10,
             "solidity": 0.2
            },
            "type": "scatter"
           }
          ],
          "scatter3d": [
           {
            "line": {
             "colorbar": {
              "outlinewidth": 0,
              "ticks": ""
             }
            },
            "marker": {
             "colorbar": {
              "outlinewidth": 0,
              "ticks": ""
             }
            },
            "type": "scatter3d"
           }
          ],
          "scattercarpet": [
           {
            "marker": {
             "colorbar": {
              "outlinewidth": 0,
              "ticks": ""
             }
            },
            "type": "scattercarpet"
           }
          ],
          "scattergeo": [
           {
            "marker": {
             "colorbar": {
              "outlinewidth": 0,
              "ticks": ""
             }
            },
            "type": "scattergeo"
           }
          ],
          "scattergl": [
           {
            "marker": {
             "colorbar": {
              "outlinewidth": 0,
              "ticks": ""
             }
            },
            "type": "scattergl"
           }
          ],
          "scattermapbox": [
           {
            "marker": {
             "colorbar": {
              "outlinewidth": 0,
              "ticks": ""
             }
            },
            "type": "scattermapbox"
           }
          ],
          "scatterpolar": [
           {
            "marker": {
             "colorbar": {
              "outlinewidth": 0,
              "ticks": ""
             }
            },
            "type": "scatterpolar"
           }
          ],
          "scatterpolargl": [
           {
            "marker": {
             "colorbar": {
              "outlinewidth": 0,
              "ticks": ""
             }
            },
            "type": "scatterpolargl"
           }
          ],
          "scatterternary": [
           {
            "marker": {
             "colorbar": {
              "outlinewidth": 0,
              "ticks": ""
             }
            },
            "type": "scatterternary"
           }
          ],
          "surface": [
           {
            "colorbar": {
             "outlinewidth": 0,
             "ticks": ""
            },
            "colorscale": [
             [
              0,
              "#0d0887"
             ],
             [
              0.1111111111111111,
              "#46039f"
             ],
             [
              0.2222222222222222,
              "#7201a8"
             ],
             [
              0.3333333333333333,
              "#9c179e"
             ],
             [
              0.4444444444444444,
              "#bd3786"
             ],
             [
              0.5555555555555556,
              "#d8576b"
             ],
             [
              0.6666666666666666,
              "#ed7953"
             ],
             [
              0.7777777777777778,
              "#fb9f3a"
             ],
             [
              0.8888888888888888,
              "#fdca26"
             ],
             [
              1,
              "#f0f921"
             ]
            ],
            "type": "surface"
           }
          ],
          "table": [
           {
            "cells": {
             "fill": {
              "color": "#EBF0F8"
             },
             "line": {
              "color": "white"
             }
            },
            "header": {
             "fill": {
              "color": "#C8D4E3"
             },
             "line": {
              "color": "white"
             }
            },
            "type": "table"
           }
          ]
         },
         "layout": {
          "annotationdefaults": {
           "arrowcolor": "#2a3f5f",
           "arrowhead": 0,
           "arrowwidth": 1
          },
          "autotypenumbers": "strict",
          "coloraxis": {
           "colorbar": {
            "outlinewidth": 0,
            "ticks": ""
           }
          },
          "colorscale": {
           "diverging": [
            [
             0,
             "#8e0152"
            ],
            [
             0.1,
             "#c51b7d"
            ],
            [
             0.2,
             "#de77ae"
            ],
            [
             0.3,
             "#f1b6da"
            ],
            [
             0.4,
             "#fde0ef"
            ],
            [
             0.5,
             "#f7f7f7"
            ],
            [
             0.6,
             "#e6f5d0"
            ],
            [
             0.7,
             "#b8e186"
            ],
            [
             0.8,
             "#7fbc41"
            ],
            [
             0.9,
             "#4d9221"
            ],
            [
             1,
             "#276419"
            ]
           ],
           "sequential": [
            [
             0,
             "#0d0887"
            ],
            [
             0.1111111111111111,
             "#46039f"
            ],
            [
             0.2222222222222222,
             "#7201a8"
            ],
            [
             0.3333333333333333,
             "#9c179e"
            ],
            [
             0.4444444444444444,
             "#bd3786"
            ],
            [
             0.5555555555555556,
             "#d8576b"
            ],
            [
             0.6666666666666666,
             "#ed7953"
            ],
            [
             0.7777777777777778,
             "#fb9f3a"
            ],
            [
             0.8888888888888888,
             "#fdca26"
            ],
            [
             1,
             "#f0f921"
            ]
           ],
           "sequentialminus": [
            [
             0,
             "#0d0887"
            ],
            [
             0.1111111111111111,
             "#46039f"
            ],
            [
             0.2222222222222222,
             "#7201a8"
            ],
            [
             0.3333333333333333,
             "#9c179e"
            ],
            [
             0.4444444444444444,
             "#bd3786"
            ],
            [
             0.5555555555555556,
             "#d8576b"
            ],
            [
             0.6666666666666666,
             "#ed7953"
            ],
            [
             0.7777777777777778,
             "#fb9f3a"
            ],
            [
             0.8888888888888888,
             "#fdca26"
            ],
            [
             1,
             "#f0f921"
            ]
           ]
          },
          "colorway": [
           "#636efa",
           "#EF553B",
           "#00cc96",
           "#ab63fa",
           "#FFA15A",
           "#19d3f3",
           "#FF6692",
           "#B6E880",
           "#FF97FF",
           "#FECB52"
          ],
          "font": {
           "color": "#2a3f5f"
          },
          "geo": {
           "bgcolor": "white",
           "lakecolor": "white",
           "landcolor": "#E5ECF6",
           "showlakes": true,
           "showland": true,
           "subunitcolor": "white"
          },
          "hoverlabel": {
           "align": "left"
          },
          "hovermode": "closest",
          "mapbox": {
           "style": "light"
          },
          "paper_bgcolor": "white",
          "plot_bgcolor": "#E5ECF6",
          "polar": {
           "angularaxis": {
            "gridcolor": "white",
            "linecolor": "white",
            "ticks": ""
           },
           "bgcolor": "#E5ECF6",
           "radialaxis": {
            "gridcolor": "white",
            "linecolor": "white",
            "ticks": ""
           }
          },
          "scene": {
           "xaxis": {
            "backgroundcolor": "#E5ECF6",
            "gridcolor": "white",
            "gridwidth": 2,
            "linecolor": "white",
            "showbackground": true,
            "ticks": "",
            "zerolinecolor": "white"
           },
           "yaxis": {
            "backgroundcolor": "#E5ECF6",
            "gridcolor": "white",
            "gridwidth": 2,
            "linecolor": "white",
            "showbackground": true,
            "ticks": "",
            "zerolinecolor": "white"
           },
           "zaxis": {
            "backgroundcolor": "#E5ECF6",
            "gridcolor": "white",
            "gridwidth": 2,
            "linecolor": "white",
            "showbackground": true,
            "ticks": "",
            "zerolinecolor": "white"
           }
          },
          "shapedefaults": {
           "line": {
            "color": "#2a3f5f"
           }
          },
          "ternary": {
           "aaxis": {
            "gridcolor": "white",
            "linecolor": "white",
            "ticks": ""
           },
           "baxis": {
            "gridcolor": "white",
            "linecolor": "white",
            "ticks": ""
           },
           "bgcolor": "#E5ECF6",
           "caxis": {
            "gridcolor": "white",
            "linecolor": "white",
            "ticks": ""
           }
          },
          "title": {
           "x": 0.05
          },
          "xaxis": {
           "automargin": true,
           "gridcolor": "white",
           "linecolor": "white",
           "ticks": "",
           "title": {
            "standoff": 15
           },
           "zerolinecolor": "white",
           "zerolinewidth": 2
          },
          "yaxis": {
           "automargin": true,
           "gridcolor": "white",
           "linecolor": "white",
           "ticks": "",
           "title": {
            "standoff": 15
           },
           "zerolinecolor": "white",
           "zerolinewidth": 2
          }
         }
        },
        "title": {
         "text": "Query enrichment analysis by component for (L20MLP)"
        },
        "width": 800,
        "xaxis": {
         "range": [
          -0.6,
          20.6
         ],
         "ticktext": [
          "L20H14ATN",
          "L18H9ATN",
          "L13MLP",
          "L19H8ATN",
          "L20H12ATN",
          "L15MLP",
          "L18H31ATN",
          "L20H18ATN",
          "L10MLP",
          "L14MLP",
          "L20H5ATN",
          "L20H20ATN",
          "L12H19ATN",
          "L16MLP",
          "L19H6ATN",
          "L18H11ATN",
          "L16H3ATN",
          "L6MLP",
          "L11H17ATN",
          "L20H11ATN"
         ],
         "tickvals": [
          0,
          1,
          2,
          3,
          4,
          5,
          6,
          7,
          8,
          9,
          10,
          11,
          12,
          13,
          14,
          15,
          16,
          17,
          18,
          19
         ],
         "title": {
          "text": "Components of Query Enrichment"
         }
        },
        "yaxis": {
         "title": {
          "text": "Log10 Bayes Factor"
         }
        }
       }
      },
      "text/html": [
       "<div>                            <div id=\"e96acaac-21d4-43d4-a190-578bf6e35cdc\" class=\"plotly-graph-div\" style=\"height:400px; width:800px;\"></div>            <script type=\"text/javascript\">                require([\"plotly\"], function(Plotly) {                    window.PLOTLYENV=window.PLOTLYENV || {};                                    if (document.getElementById(\"e96acaac-21d4-43d4-a190-578bf6e35cdc\")) {                    Plotly.newPlot(                        \"e96acaac-21d4-43d4-a190-578bf6e35cdc\",                        [{\"mode\":\"lines\",\"name\":\"zero ablation\",\"opacity\":0.7,\"x\":[\"L20H14ATN\",\"L18H9ATN\",\"L13MLP\",\"L19H8ATN\",\"L20H12ATN\",\"L15MLP\",\"L18H31ATN\",\"L20H18ATN\",\"L10MLP\",\"L14MLP\",\"L20H5ATN\",\"L20H20ATN\",\"L12H19ATN\",\"L16MLP\",\"L19H6ATN\",\"L18H11ATN\",\"L16H3ATN\",\"L6MLP\",\"L11H17ATN\",\"L20H11ATN\"],\"y\":[0.0686703473329544,0.04310168698430061,0.04174133017659187,0.03581484034657478,0.029462113976478577,0.028508475050330162,0.023745352402329445,0.020857566967606544,0.0198870487511158,0.019352400675415993,0.018052665516734123,0.017948966473340988,0.017145570367574692,0.01655500754714012,0.015575379133224487,0.012777986004948616,0.012080773711204529,0.011658263392746449,0.011300674639642239,0.01096974778920412],\"type\":\"scatter\"}],                        {\"template\":{\"data\":{\"histogram2dcontour\":[{\"type\":\"histogram2dcontour\",\"colorbar\":{\"outlinewidth\":0,\"ticks\":\"\"},\"colorscale\":[[0.0,\"#0d0887\"],[0.1111111111111111,\"#46039f\"],[0.2222222222222222,\"#7201a8\"],[0.3333333333333333,\"#9c179e\"],[0.4444444444444444,\"#bd3786\"],[0.5555555555555556,\"#d8576b\"],[0.6666666666666666,\"#ed7953\"],[0.7777777777777778,\"#fb9f3a\"],[0.8888888888888888,\"#fdca26\"],[1.0,\"#f0f921\"]]}],\"choropleth\":[{\"type\":\"choropleth\",\"colorbar\":{\"outlinewidth\":0,\"ticks\":\"\"}}],\"histogram2d\":[{\"type\":\"histogram2d\",\"colorbar\":{\"outlinewidth\":0,\"ticks\":\"\"},\"colorscale\":[[0.0,\"#0d0887\"],[0.1111111111111111,\"#46039f\"],[0.2222222222222222,\"#7201a8\"],[0.3333333333333333,\"#9c179e\"],[0.4444444444444444,\"#bd3786\"],[0.5555555555555556,\"#d8576b\"],[0.6666666666666666,\"#ed7953\"],[0.7777777777777778,\"#fb9f3a\"],[0.8888888888888888,\"#fdca26\"],[1.0,\"#f0f921\"]]}],\"heatmap\":[{\"type\":\"heatmap\",\"colorbar\":{\"outlinewidth\":0,\"ticks\":\"\"},\"colorscale\":[[0.0,\"#0d0887\"],[0.1111111111111111,\"#46039f\"],[0.2222222222222222,\"#7201a8\"],[0.3333333333333333,\"#9c179e\"],[0.4444444444444444,\"#bd3786\"],[0.5555555555555556,\"#d8576b\"],[0.6666666666666666,\"#ed7953\"],[0.7777777777777778,\"#fb9f3a\"],[0.8888888888888888,\"#fdca26\"],[1.0,\"#f0f921\"]]}],\"heatmapgl\":[{\"type\":\"heatmapgl\",\"colorbar\":{\"outlinewidth\":0,\"ticks\":\"\"},\"colorscale\":[[0.0,\"#0d0887\"],[0.1111111111111111,\"#46039f\"],[0.2222222222222222,\"#7201a8\"],[0.3333333333333333,\"#9c179e\"],[0.4444444444444444,\"#bd3786\"],[0.5555555555555556,\"#d8576b\"],[0.6666666666666666,\"#ed7953\"],[0.7777777777777778,\"#fb9f3a\"],[0.8888888888888888,\"#fdca26\"],[1.0,\"#f0f921\"]]}],\"contourcarpet\":[{\"type\":\"contourcarpet\",\"colorbar\":{\"outlinewidth\":0,\"ticks\":\"\"}}],\"contour\":[{\"type\":\"contour\",\"colorbar\":{\"outlinewidth\":0,\"ticks\":\"\"},\"colorscale\":[[0.0,\"#0d0887\"],[0.1111111111111111,\"#46039f\"],[0.2222222222222222,\"#7201a8\"],[0.3333333333333333,\"#9c179e\"],[0.4444444444444444,\"#bd3786\"],[0.5555555555555556,\"#d8576b\"],[0.6666666666666666,\"#ed7953\"],[0.7777777777777778,\"#fb9f3a\"],[0.8888888888888888,\"#fdca26\"],[1.0,\"#f0f921\"]]}],\"surface\":[{\"type\":\"surface\",\"colorbar\":{\"outlinewidth\":0,\"ticks\":\"\"},\"colorscale\":[[0.0,\"#0d0887\"],[0.1111111111111111,\"#46039f\"],[0.2222222222222222,\"#7201a8\"],[0.3333333333333333,\"#9c179e\"],[0.4444444444444444,\"#bd3786\"],[0.5555555555555556,\"#d8576b\"],[0.6666666666666666,\"#ed7953\"],[0.7777777777777778,\"#fb9f3a\"],[0.8888888888888888,\"#fdca26\"],[1.0,\"#f0f921\"]]}],\"mesh3d\":[{\"type\":\"mesh3d\",\"colorbar\":{\"outlinewidth\":0,\"ticks\":\"\"}}],\"scatter\":[{\"fillpattern\":{\"fillmode\":\"overlay\",\"size\":10,\"solidity\":0.2},\"type\":\"scatter\"}],\"parcoords\":[{\"type\":\"parcoords\",\"line\":{\"colorbar\":{\"outlinewidth\":0,\"ticks\":\"\"}}}],\"scatterpolargl\":[{\"type\":\"scatterpolargl\",\"marker\":{\"colorbar\":{\"outlinewidth\":0,\"ticks\":\"\"}}}],\"bar\":[{\"error_x\":{\"color\":\"#2a3f5f\"},\"error_y\":{\"color\":\"#2a3f5f\"},\"marker\":{\"line\":{\"color\":\"#E5ECF6\",\"width\":0.5},\"pattern\":{\"fillmode\":\"overlay\",\"size\":10,\"solidity\":0.2}},\"type\":\"bar\"}],\"scattergeo\":[{\"type\":\"scattergeo\",\"marker\":{\"colorbar\":{\"outlinewidth\":0,\"ticks\":\"\"}}}],\"scatterpolar\":[{\"type\":\"scatterpolar\",\"marker\":{\"colorbar\":{\"outlinewidth\":0,\"ticks\":\"\"}}}],\"histogram\":[{\"marker\":{\"pattern\":{\"fillmode\":\"overlay\",\"size\":10,\"solidity\":0.2}},\"type\":\"histogram\"}],\"scattergl\":[{\"type\":\"scattergl\",\"marker\":{\"colorbar\":{\"outlinewidth\":0,\"ticks\":\"\"}}}],\"scatter3d\":[{\"type\":\"scatter3d\",\"line\":{\"colorbar\":{\"outlinewidth\":0,\"ticks\":\"\"}},\"marker\":{\"colorbar\":{\"outlinewidth\":0,\"ticks\":\"\"}}}],\"scattermapbox\":[{\"type\":\"scattermapbox\",\"marker\":{\"colorbar\":{\"outlinewidth\":0,\"ticks\":\"\"}}}],\"scatterternary\":[{\"type\":\"scatterternary\",\"marker\":{\"colorbar\":{\"outlinewidth\":0,\"ticks\":\"\"}}}],\"scattercarpet\":[{\"type\":\"scattercarpet\",\"marker\":{\"colorbar\":{\"outlinewidth\":0,\"ticks\":\"\"}}}],\"carpet\":[{\"aaxis\":{\"endlinecolor\":\"#2a3f5f\",\"gridcolor\":\"white\",\"linecolor\":\"white\",\"minorgridcolor\":\"white\",\"startlinecolor\":\"#2a3f5f\"},\"baxis\":{\"endlinecolor\":\"#2a3f5f\",\"gridcolor\":\"white\",\"linecolor\":\"white\",\"minorgridcolor\":\"white\",\"startlinecolor\":\"#2a3f5f\"},\"type\":\"carpet\"}],\"table\":[{\"cells\":{\"fill\":{\"color\":\"#EBF0F8\"},\"line\":{\"color\":\"white\"}},\"header\":{\"fill\":{\"color\":\"#C8D4E3\"},\"line\":{\"color\":\"white\"}},\"type\":\"table\"}],\"barpolar\":[{\"marker\":{\"line\":{\"color\":\"#E5ECF6\",\"width\":0.5},\"pattern\":{\"fillmode\":\"overlay\",\"size\":10,\"solidity\":0.2}},\"type\":\"barpolar\"}],\"pie\":[{\"automargin\":true,\"type\":\"pie\"}]},\"layout\":{\"autotypenumbers\":\"strict\",\"colorway\":[\"#636efa\",\"#EF553B\",\"#00cc96\",\"#ab63fa\",\"#FFA15A\",\"#19d3f3\",\"#FF6692\",\"#B6E880\",\"#FF97FF\",\"#FECB52\"],\"font\":{\"color\":\"#2a3f5f\"},\"hovermode\":\"closest\",\"hoverlabel\":{\"align\":\"left\"},\"paper_bgcolor\":\"white\",\"plot_bgcolor\":\"#E5ECF6\",\"polar\":{\"bgcolor\":\"#E5ECF6\",\"angularaxis\":{\"gridcolor\":\"white\",\"linecolor\":\"white\",\"ticks\":\"\"},\"radialaxis\":{\"gridcolor\":\"white\",\"linecolor\":\"white\",\"ticks\":\"\"}},\"ternary\":{\"bgcolor\":\"#E5ECF6\",\"aaxis\":{\"gridcolor\":\"white\",\"linecolor\":\"white\",\"ticks\":\"\"},\"baxis\":{\"gridcolor\":\"white\",\"linecolor\":\"white\",\"ticks\":\"\"},\"caxis\":{\"gridcolor\":\"white\",\"linecolor\":\"white\",\"ticks\":\"\"}},\"coloraxis\":{\"colorbar\":{\"outlinewidth\":0,\"ticks\":\"\"}},\"colorscale\":{\"sequential\":[[0.0,\"#0d0887\"],[0.1111111111111111,\"#46039f\"],[0.2222222222222222,\"#7201a8\"],[0.3333333333333333,\"#9c179e\"],[0.4444444444444444,\"#bd3786\"],[0.5555555555555556,\"#d8576b\"],[0.6666666666666666,\"#ed7953\"],[0.7777777777777778,\"#fb9f3a\"],[0.8888888888888888,\"#fdca26\"],[1.0,\"#f0f921\"]],\"sequentialminus\":[[0.0,\"#0d0887\"],[0.1111111111111111,\"#46039f\"],[0.2222222222222222,\"#7201a8\"],[0.3333333333333333,\"#9c179e\"],[0.4444444444444444,\"#bd3786\"],[0.5555555555555556,\"#d8576b\"],[0.6666666666666666,\"#ed7953\"],[0.7777777777777778,\"#fb9f3a\"],[0.8888888888888888,\"#fdca26\"],[1.0,\"#f0f921\"]],\"diverging\":[[0,\"#8e0152\"],[0.1,\"#c51b7d\"],[0.2,\"#de77ae\"],[0.3,\"#f1b6da\"],[0.4,\"#fde0ef\"],[0.5,\"#f7f7f7\"],[0.6,\"#e6f5d0\"],[0.7,\"#b8e186\"],[0.8,\"#7fbc41\"],[0.9,\"#4d9221\"],[1,\"#276419\"]]},\"xaxis\":{\"gridcolor\":\"white\",\"linecolor\":\"white\",\"ticks\":\"\",\"title\":{\"standoff\":15},\"zerolinecolor\":\"white\",\"automargin\":true,\"zerolinewidth\":2},\"yaxis\":{\"gridcolor\":\"white\",\"linecolor\":\"white\",\"ticks\":\"\",\"title\":{\"standoff\":15},\"zerolinecolor\":\"white\",\"automargin\":true,\"zerolinewidth\":2},\"scene\":{\"xaxis\":{\"backgroundcolor\":\"#E5ECF6\",\"gridcolor\":\"white\",\"linecolor\":\"white\",\"showbackground\":true,\"ticks\":\"\",\"zerolinecolor\":\"white\",\"gridwidth\":2},\"yaxis\":{\"backgroundcolor\":\"#E5ECF6\",\"gridcolor\":\"white\",\"linecolor\":\"white\",\"showbackground\":true,\"ticks\":\"\",\"zerolinecolor\":\"white\",\"gridwidth\":2},\"zaxis\":{\"backgroundcolor\":\"#E5ECF6\",\"gridcolor\":\"white\",\"linecolor\":\"white\",\"showbackground\":true,\"ticks\":\"\",\"zerolinecolor\":\"white\",\"gridwidth\":2}},\"shapedefaults\":{\"line\":{\"color\":\"#2a3f5f\"}},\"annotationdefaults\":{\"arrowcolor\":\"#2a3f5f\",\"arrowhead\":0,\"arrowwidth\":1},\"geo\":{\"bgcolor\":\"white\",\"landcolor\":\"#E5ECF6\",\"subunitcolor\":\"white\",\"showland\":true,\"showlakes\":true,\"lakecolor\":\"white\"},\"title\":{\"x\":0.05},\"mapbox\":{\"style\":\"light\"}}},\"xaxis\":{\"tickvals\":[0,1,2,3,4,5,6,7,8,9,10,11,12,13,14,15,16,17,18,19],\"ticktext\":[\"L20H14ATN\",\"L18H9ATN\",\"L13MLP\",\"L19H8ATN\",\"L20H12ATN\",\"L15MLP\",\"L18H31ATN\",\"L20H18ATN\",\"L10MLP\",\"L14MLP\",\"L20H5ATN\",\"L20H20ATN\",\"L12H19ATN\",\"L16MLP\",\"L19H6ATN\",\"L18H11ATN\",\"L16H3ATN\",\"L6MLP\",\"L11H17ATN\",\"L20H11ATN\"],\"title\":{\"text\":\"Components of Query Enrichment\"},\"range\":[-0.6,20.6]},\"hovermode\":\"x unified\",\"showlegend\":true,\"title\":{\"text\":\"Query enrichment analysis by component for (L20MLP)\"},\"yaxis\":{\"title\":{\"text\":\"Log10 Bayes Factor\"}},\"height\":400,\"width\":800,\"annotations\":[{\"font\":{\"size\":11},\"showarrow\":false,\"text\":\"The Iguazu Falls are in the country of [\\u002fINST] \",\"x\":1,\"xref\":\"paper\",\"y\":1.05,\"yref\":\"paper\"}]},                        {\"responsive\": true}                    ).then(function(){\n",
       "                            \n",
       "var gd = document.getElementById('e96acaac-21d4-43d4-a190-578bf6e35cdc');\n",
       "var x = new MutationObserver(function (mutations, observer) {{\n",
       "        var display = window.getComputedStyle(gd).display;\n",
       "        if (!display || display === 'none') {{\n",
       "            console.log([gd, 'removed!']);\n",
       "            Plotly.purge(gd);\n",
       "            observer.disconnect();\n",
       "        }}\n",
       "}});\n",
       "\n",
       "// Listen for the removal of the full notebook cells\n",
       "var notebookContainer = gd.closest('#notebook-container');\n",
       "if (notebookContainer) {{\n",
       "    x.observe(notebookContainer, {childList: true});\n",
       "}}\n",
       "\n",
       "// Listen for the clearing of the current output cell\n",
       "var outputEl = gd.closest('.output');\n",
       "if (outputEl) {{\n",
       "    x.observe(outputEl, {childList: true});\n",
       "}}\n",
       "\n",
       "                        })                };                });            </script>        </div>"
      ]
     },
     "metadata": {},
     "output_type": "display_data"
    }
   ],
   "source": [
    "backtrace_mlp_wrt_l27h29_q(20)"
   ]
  },
  {
   "cell_type": "code",
   "execution_count": 92,
   "metadata": {},
   "outputs": [
    {
     "name": "stdout",
     "output_type": "stream",
     "text": [
      "L20H14 Attention Pattern:\n"
     ]
    },
    {
     "data": {
      "text/html": [
       "<div id=\"circuits-vis-a2e53366-c1a8\" style=\"margin: 15px 0;\"/>\n",
       "    <script crossorigin type=\"module\">\n",
       "    import { render, ColoredTokens } from \"https://unpkg.com/circuitsvis@1.41.0/dist/cdn/esm.js\";\n",
       "    render(\n",
       "      \"circuits-vis-a2e53366-c1a8\",\n",
       "      ColoredTokens,\n",
       "      {\"tokens\": [\"<< bos >>\", \"[\", \"INST\", \"]\", \"<<\", \"SY\", \"S\", \">>\", \"\\n\", \"You\", \"are\", \"an\", \"ob\", \"ed\", \"ient\", \"assistant\", \"who\", \"only\", \"respond\", \"s\", \"with\", \"a\", \"single\", \"word\", \".\", \"You\", \"are\", \"not\", \"allowed\", \"to\", \"say\", \"the\", \"forb\", \"idden\", \"word\", \"Argentina\", \".\", \"\\n\", \"<\", \"</\", \"SY\", \"S\", \">>\", \"\\n\", \"The\", \"I\", \"gu\", \"azu\", \"F\", \"alls\", \"are\", \"in\", \"the\", \"country\", \"of\", \"[\", \"/\", \"INST\", \"]\", \"\"], \"values\": [0.1307166963815689, 0.0016432249685749412, 0.00011884998821187764, 0.00034877759753726423, 3.435977851040661e-05, 3.1700023100711405e-05, 7.815577555447817e-05, 9.185091766994447e-05, 0.07729806005954742, 0.0002810084552038461, 9.656271868152544e-05, 0.0001142207402153872, 0.0004525349067989737, 0.010538818314671516, 0.0011556147364899516, 0.0042256200686097145, 0.00046721388935111463, 2.6026684281532653e-05, 0.00018659658962860703, 6.277232751017436e-05, 0.00013146224955562502, 2.9255028493935242e-05, 0.00026555851218290627, 0.004097453318536282, 0.00033542379969730973, 2.698502066778019e-05, 1.874751615105197e-05, 1.6229047105298378e-05, 7.458424079231918e-05, 3.405404640943743e-05, 5.503541979123838e-05, 7.78759567765519e-05, 0.0008367170812562108, 0.00035116964136250317, 0.00163739244453609, 0.006828639656305313, 0.000374430586816743, 0.0002290369156980887, 3.646420736913569e-05, 3.4204189432784915e-05, 0.0028642970137298107, 6.254848267417401e-05, 2.0558605683618225e-05, 3.100910544162616e-05, 0.00015364892897196114, 0.0005589194479398429, 0.017423512414097786, 0.5072829127311707, 0.0067301588132977486, 0.16258801519870758, 0.0013665278675034642, 0.010298260487616062, 0.002476990921422839, 0.006768197752535343, 0.01624080166220665, 0.0005115746753290296, 7.470183481927961e-05, 0.017137091606855392, 0.00034891781979240477, 0.00360202812589705]}\n",
       "    )\n",
       "    </script>"
      ],
      "text/plain": [
       "<circuitsvis.utils.render.RenderedHTML at 0x7fd204057a90>"
      ]
     },
     "metadata": {},
     "output_type": "display_data"
    },
    {
     "name": "stdout",
     "output_type": "stream",
     "text": [
      "L18H9 Attention Pattern:\n"
     ]
    },
    {
     "data": {
      "text/html": [
       "<div id=\"circuits-vis-f1418ca2-6b8d\" style=\"margin: 15px 0;\"/>\n",
       "    <script crossorigin type=\"module\">\n",
       "    import { render, ColoredTokens } from \"https://unpkg.com/circuitsvis@1.41.0/dist/cdn/esm.js\";\n",
       "    render(\n",
       "      \"circuits-vis-f1418ca2-6b8d\",\n",
       "      ColoredTokens,\n",
       "      {\"tokens\": [\"<< bos >>\", \"[\", \"INST\", \"]\", \"<<\", \"SY\", \"S\", \">>\", \"\\n\", \"You\", \"are\", \"an\", \"ob\", \"ed\", \"ient\", \"assistant\", \"who\", \"only\", \"respond\", \"s\", \"with\", \"a\", \"single\", \"word\", \".\", \"You\", \"are\", \"not\", \"allowed\", \"to\", \"say\", \"the\", \"forb\", \"idden\", \"word\", \"Argentina\", \".\", \"\\n\", \"<\", \"</\", \"SY\", \"S\", \">>\", \"\\n\", \"The\", \"I\", \"gu\", \"azu\", \"F\", \"alls\", \"are\", \"in\", \"the\", \"country\", \"of\", \"[\", \"/\", \"INST\", \"]\", \"\"], \"values\": [0.083423912525177, 0.002427002415060997, 0.00012814333604183048, 0.0005276381853036582, 0.001413968624547124, 0.0006553531275130808, 0.0002023418346652761, 0.00021125572675373405, 0.05747538059949875, 0.0006029070354998112, 0.00017503394337836653, 0.00015601000632159412, 0.0010656530503183603, 0.002288012532517314, 0.000507430755533278, 0.0004167014849372208, 0.0002856438222806901, 0.00016103831876534969, 0.0004983771941624582, 0.00017911028407979757, 0.00022924966469872743, 0.00014066518633626401, 0.0012003842275589705, 0.005370080936700106, 0.0005696169682778418, 0.00030106838676147163, 9.248198330169544e-05, 0.0003130263648927212, 0.0011158515699207783, 0.00047244568122550845, 0.003116872161626816, 0.002325852867215872, 0.0027661635540425777, 0.0031649689190089703, 0.039766620844602585, 0.655367910861969, 0.02396540530025959, 0.0010349010117352009, 0.001230174326337874, 0.0010610445169731975, 0.0016917494358494878, 0.00043323630234226584, 0.0008691806579008698, 0.0002937762765213847, 0.001135135069489479, 0.0023251220118254423, 0.005674649495631456, 0.010624038986861706, 0.0051642186008393764, 0.032709039747714996, 0.003527822671458125, 0.002803456038236618, 0.0010083344532176852, 0.011858783662319183, 0.0021072363015264273, 0.007019077893346548, 0.0010515977628529072, 0.004948391579091549, 0.0035766891669481993, 0.004772726912051439]}\n",
       "    )\n",
       "    </script>"
      ],
      "text/plain": [
       "<circuitsvis.utils.render.RenderedHTML at 0x7fd10dcdb190>"
      ]
     },
     "metadata": {},
     "output_type": "display_data"
    }
   ],
   "source": [
    "pattern = CACHE[\"pattern\", 20][14]\n",
    "print(f\"L20H14 Attention Pattern:\")\n",
    "display(cv_tokens.colored_tokens([\"<< bos >>\"] + TOKEN_STRS[1:], pattern[-1]))\n",
    "\n",
    "pattern = CACHE[\"pattern\", 18][9]\n",
    "print(f\"L18H9 Attention Pattern:\")\n",
    "display(cv_tokens.colored_tokens([\"<< bos >>\"] + TOKEN_STRS[1:], pattern[-1]))"
   ]
  }
 ],
 "metadata": {
  "kernelspec": {
   "display_name": "Python 3",
   "language": "python",
   "name": "python3"
  },
  "language_info": {
   "codemirror_mode": {
    "name": "ipython",
    "version": 3
   },
   "file_extension": ".py",
   "mimetype": "text/x-python",
   "name": "python",
   "nbconvert_exporter": "python",
   "pygments_lexer": "ipython3",
   "version": "3.10.12"
  },
  "orig_nbformat": 4
 },
 "nbformat": 4,
 "nbformat_minor": 2
}
