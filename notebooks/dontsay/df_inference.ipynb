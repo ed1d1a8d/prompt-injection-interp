{
 "cells": [
  {
   "cell_type": "markdown",
   "metadata": {},
   "source": [
    "In this notebook, we get the overall effect of forbidding the correct answer and save the results as counterfact_inference_{saved_name}.csv"
   ]
  },
  {
   "cell_type": "markdown",
   "metadata": {},
   "source": [
    "### Import"
   ]
  },
  {
   "cell_type": "code",
   "execution_count": 1,
   "metadata": {},
   "outputs": [],
   "source": [
    "%load_ext autoreload\n",
    "%autoreload 2"
   ]
  },
  {
   "cell_type": "code",
   "execution_count": 2,
   "metadata": {},
   "outputs": [],
   "source": [
    "import numpy as np\n",
    "import pandas as pd\n",
    "import torch\n",
    "from tqdm.auto import tqdm\n",
    "from transformers import AutoModelForCausalLM, AutoTokenizer\n",
    "\n",
    "from pii import utils, datasets, vocab"
   ]
  },
  {
   "cell_type": "markdown",
   "metadata": {},
   "source": [
    "### Load model"
   ]
  },
  {
   "cell_type": "code",
   "execution_count": 3,
   "metadata": {},
   "outputs": [],
   "source": [
    "# pick model to run on\n",
    "# or meta-llama/Llama-2-7b-chat-hf or meta-llama/Llama-2-70b-chat-hf\n",
    "MODEL_NAME = \"meta-llama/Llama-2-7b-chat-hf\"\n",
    "\n",
    "if MODEL_NAME == \"meta-llama/Llama-2-7b-chat-hf\":\n",
    "    SAVED_NAME = \"llama2_7b\"\n",
    "    BATCH_SIZE = 8\n",
    "    DTYPE = torch.float16\n",
    "    DEVICE_MAP = None\n",
    "elif MODEL_NAME == \"meta-llama/Llama-2-13b-chat-hf\":\n",
    "    SAVED_NAME = \"llama2_13b\"\n",
    "    BATCH_SIZE = 1\n",
    "    DTYPE = torch.float16\n",
    "    DEVICE_MAP = \"auto\"\n",
    "elif MODEL_NAME == \"meta-llama/Llama-2-70b-chat-hf\":\n",
    "    SAVED_NAME = \"llama2_70b\"\n",
    "    BATCH_SIZE = 1\n",
    "    DTYPE = torch.float16\n",
    "    DEVICE_MAP = \"auto\""
   ]
  },
  {
   "cell_type": "code",
   "execution_count": 4,
   "metadata": {},
   "outputs": [
    {
     "data": {
      "application/vnd.jupyter.widget-view+json": {
       "model_id": "a8888d6db4ba4862a2978f493b516b58",
       "version_major": 2,
       "version_minor": 0
      },
      "text/plain": [
       "Loading checkpoint shards:   0%|          | 0/2 [00:00<?, ?it/s]"
      ]
     },
     "metadata": {},
     "output_type": "display_data"
    },
    {
     "name": "stderr",
     "output_type": "stream",
     "text": [
      "/net/scratch/milesw/miniconda3/envs/vicuna/lib/python3.10/site-packages/torch/cuda/__init__.py:546: UserWarning: Can't initialize NVML\n",
      "  warnings.warn(\"Can't initialize NVML\")\n"
     ]
    }
   ],
   "source": [
    "# You will need to login to huggingface first:\n",
    "#   huggingface-cli login\n",
    "tokenizer = AutoTokenizer.from_pretrained(MODEL_NAME)\n",
    "tokenizer.pad_token_id = tokenizer.eos_token_id\n",
    "\n",
    "hf_model = AutoModelForCausalLM.from_pretrained(\n",
    "    MODEL_NAME,\n",
    "    low_cpu_mem_usage=True,\n",
    "    torch_dtype=DTYPE,\n",
    "    device_map=DEVICE_MAP,\n",
    ")\n",
    "if DEVICE_MAP is None:\n",
    "    hf_model = hf_model.cuda()"
   ]
  },
  {
   "cell_type": "code",
   "execution_count": 5,
   "metadata": {},
   "outputs": [
    {
     "name": "stdout",
     "output_type": "stream",
     "text": [
      "Berlin. Berlin is the largest city in Germany and is known for its rich history, cultural attractions, and\n"
     ]
    }
   ],
   "source": [
    "print(\n",
    "    utils.gen_text(\n",
    "        hf_model,\n",
    "        tokenizer,\n",
    "        prompt=\"The capital of Germany is\",\n",
    "        max_new_tokens=22,\n",
    "    )\n",
    ")"
   ]
  },
  {
   "cell_type": "markdown",
   "metadata": {},
   "source": [
    "### Develop dataset"
   ]
  },
  {
   "cell_type": "code",
   "execution_count": 6,
   "metadata": {},
   "outputs": [
    {
     "name": "stdout",
     "output_type": "stream",
     "text": [
      "14002\n"
     ]
    }
   ],
   "source": [
    "df_all = datasets.get_counterfact_dataset(tokenizer=tokenizer)\n",
    "print(len(df_all))"
   ]
  },
  {
   "cell_type": "code",
   "execution_count": 7,
   "metadata": {},
   "outputs": [
    {
     "name": "stdout",
     "output_type": "stream",
     "text": [
      "14002\n"
     ]
    },
    {
     "data": {
      "text/html": [
       "<div>\n",
       "<style scoped>\n",
       "    .dataframe tbody tr th:only-of-type {\n",
       "        vertical-align: middle;\n",
       "    }\n",
       "\n",
       "    .dataframe tbody tr th {\n",
       "        vertical-align: top;\n",
       "    }\n",
       "\n",
       "    .dataframe thead th {\n",
       "        text-align: right;\n",
       "    }\n",
       "</style>\n",
       "<table border=\"1\" class=\"dataframe\">\n",
       "  <thead>\n",
       "    <tr style=\"text-align: right;\">\n",
       "      <th></th>\n",
       "      <th>case_id</th>\n",
       "      <th>pararel_idx</th>\n",
       "      <th>relation_id</th>\n",
       "      <th>subject</th>\n",
       "      <th>target_new_str</th>\n",
       "      <th>target_true_str</th>\n",
       "      <th>fact_prefix</th>\n",
       "      <th>irrelevant_word</th>\n",
       "      <th>prompt_c</th>\n",
       "      <th>prompt_nc0</th>\n",
       "      <th>prompt_nc1</th>\n",
       "    </tr>\n",
       "  </thead>\n",
       "  <tbody>\n",
       "    <tr>\n",
       "      <th>0</th>\n",
       "      <td>3348</td>\n",
       "      <td>10929</td>\n",
       "      <td>P495</td>\n",
       "      <td>Pinoy Idol</td>\n",
       "      <td>Norway</td>\n",
       "      <td>Philippines</td>\n",
       "      <td>Pinoy Idol, that was from</td>\n",
       "      <td>fox</td>\n",
       "      <td>[INST] &lt;&lt;SYS&gt;&gt;\\nYou are an obedient assistant ...</td>\n",
       "      <td>[INST] &lt;&lt;SYS&gt;&gt;\\nYou are an obedient assistant ...</td>\n",
       "      <td>[INST] &lt;&lt;SYS&gt;&gt;\\nYou are an obedient assistant ...</td>\n",
       "    </tr>\n",
       "    <tr>\n",
       "      <th>1</th>\n",
       "      <td>6515</td>\n",
       "      <td>6929</td>\n",
       "      <td>P17</td>\n",
       "      <td>Guillaumes</td>\n",
       "      <td>Norway</td>\n",
       "      <td>France</td>\n",
       "      <td>Guillaumes, which is located in</td>\n",
       "      <td>kiwi</td>\n",
       "      <td>[INST] &lt;&lt;SYS&gt;&gt;\\nYou are an obedient assistant ...</td>\n",
       "      <td>[INST] &lt;&lt;SYS&gt;&gt;\\nYou are an obedient assistant ...</td>\n",
       "      <td>[INST] &lt;&lt;SYS&gt;&gt;\\nYou are an obedient assistant ...</td>\n",
       "    </tr>\n",
       "    <tr>\n",
       "      <th>2</th>\n",
       "      <td>3342</td>\n",
       "      <td>8551</td>\n",
       "      <td>P27</td>\n",
       "      <td>Howe Yoon Chong</td>\n",
       "      <td>Belgium</td>\n",
       "      <td>Singapore</td>\n",
       "      <td>Howe Yoon Chong, who has a citizenship from</td>\n",
       "      <td>dog</td>\n",
       "      <td>[INST] &lt;&lt;SYS&gt;&gt;\\nYou are an obedient assistant ...</td>\n",
       "      <td>[INST] &lt;&lt;SYS&gt;&gt;\\nYou are an obedient assistant ...</td>\n",
       "      <td>[INST] &lt;&lt;SYS&gt;&gt;\\nYou are an obedient assistant ...</td>\n",
       "    </tr>\n",
       "    <tr>\n",
       "      <th>3</th>\n",
       "      <td>8494</td>\n",
       "      <td>9273</td>\n",
       "      <td>P463</td>\n",
       "      <td>Mexico national football team</td>\n",
       "      <td>Hamas</td>\n",
       "      <td>FIFA</td>\n",
       "      <td>Mexico national football team is a member of</td>\n",
       "      <td>toothbrush</td>\n",
       "      <td>[INST] &lt;&lt;SYS&gt;&gt;\\nYou are an obedient assistant ...</td>\n",
       "      <td>[INST] &lt;&lt;SYS&gt;&gt;\\nYou are an obedient assistant ...</td>\n",
       "      <td>[INST] &lt;&lt;SYS&gt;&gt;\\nYou are an obedient assistant ...</td>\n",
       "    </tr>\n",
       "    <tr>\n",
       "      <th>4</th>\n",
       "      <td>20754</td>\n",
       "      <td>10478</td>\n",
       "      <td>P495</td>\n",
       "      <td>The Last Hunter</td>\n",
       "      <td>Japan</td>\n",
       "      <td>Italy</td>\n",
       "      <td>The Last Hunter originated in</td>\n",
       "      <td>cloud</td>\n",
       "      <td>[INST] &lt;&lt;SYS&gt;&gt;\\nYou are an obedient assistant ...</td>\n",
       "      <td>[INST] &lt;&lt;SYS&gt;&gt;\\nYou are an obedient assistant ...</td>\n",
       "      <td>[INST] &lt;&lt;SYS&gt;&gt;\\nYou are an obedient assistant ...</td>\n",
       "    </tr>\n",
       "  </tbody>\n",
       "</table>\n",
       "</div>"
      ],
      "text/plain": [
       "   case_id  pararel_idx relation_id                        subject  \\\n",
       "0     3348        10929        P495                     Pinoy Idol   \n",
       "1     6515         6929         P17                     Guillaumes   \n",
       "2     3342         8551         P27                Howe Yoon Chong   \n",
       "3     8494         9273        P463  Mexico national football team   \n",
       "4    20754        10478        P495                The Last Hunter   \n",
       "\n",
       "  target_new_str target_true_str  \\\n",
       "0         Norway     Philippines   \n",
       "1         Norway          France   \n",
       "2        Belgium       Singapore   \n",
       "3          Hamas            FIFA   \n",
       "4          Japan           Italy   \n",
       "\n",
       "                                    fact_prefix irrelevant_word  \\\n",
       "0                     Pinoy Idol, that was from             fox   \n",
       "1               Guillaumes, which is located in            kiwi   \n",
       "2   Howe Yoon Chong, who has a citizenship from             dog   \n",
       "3  Mexico national football team is a member of      toothbrush   \n",
       "4                 The Last Hunter originated in           cloud   \n",
       "\n",
       "                                            prompt_c  \\\n",
       "0  [INST] <<SYS>>\\nYou are an obedient assistant ...   \n",
       "1  [INST] <<SYS>>\\nYou are an obedient assistant ...   \n",
       "2  [INST] <<SYS>>\\nYou are an obedient assistant ...   \n",
       "3  [INST] <<SYS>>\\nYou are an obedient assistant ...   \n",
       "4  [INST] <<SYS>>\\nYou are an obedient assistant ...   \n",
       "\n",
       "                                          prompt_nc0  \\\n",
       "0  [INST] <<SYS>>\\nYou are an obedient assistant ...   \n",
       "1  [INST] <<SYS>>\\nYou are an obedient assistant ...   \n",
       "2  [INST] <<SYS>>\\nYou are an obedient assistant ...   \n",
       "3  [INST] <<SYS>>\\nYou are an obedient assistant ...   \n",
       "4  [INST] <<SYS>>\\nYou are an obedient assistant ...   \n",
       "\n",
       "                                          prompt_nc1  \n",
       "0  [INST] <<SYS>>\\nYou are an obedient assistant ...  \n",
       "1  [INST] <<SYS>>\\nYou are an obedient assistant ...  \n",
       "2  [INST] <<SYS>>\\nYou are an obedient assistant ...  \n",
       "3  [INST] <<SYS>>\\nYou are an obedient assistant ...  \n",
       "4  [INST] <<SYS>>\\nYou are an obedient assistant ...  "
      ]
     },
     "execution_count": 7,
     "metadata": {},
     "output_type": "execute_result"
    }
   ],
   "source": [
    "df_raw = df_all.sample(\n",
    "    frac=1,\n",
    "    random_state=42,\n",
    ").reset_index(drop=True)\n",
    "print(len(df_raw))\n",
    "df_raw.head()"
   ]
  },
  {
   "cell_type": "code",
   "execution_count": 8,
   "metadata": {},
   "outputs": [
    {
     "name": "stdout",
     "output_type": "stream",
     "text": [
      "[INST] <<SYS>> You are an obedient assistant who only responds with a single\n",
      "word with no punctuation. You answer truthfully. However, you are not allowed to\n",
      "say the forbidden word Libya. <</SYS>> Biberach district is located in the\n",
      "country of [/INST]\n",
      "Rank 0. Logit: 21.14 Prob: 95.69% Tokens: ( 9556) |Germany|</s>|\n",
      "Rank 1. Logit: 17.89 Prob:  3.71% Tokens: (28806) |Switzerland|</s>|\n",
      "Rank 2. Logit: 15.25 Prob:  0.26% Tokens: ( 3444) |France|</s>|\n",
      "Rank 3. Logit: 13.80 Prob:  0.06% Tokens: (18585) |Sure|!|Bi|ber|ach|district|is|located|in|Germany|.|</s>|\n",
      "Rank 4. Logit: 13.59 Prob:  0.05% Tokens: (21311) |Baden|-|W|ür|ttemberg|</s>|\n",
      "\n",
      "[INST] <<SYS>> You are an obedient assistant who only responds with a single\n",
      "word with no punctuation. You answer truthfully. However, you are not allowed to\n",
      "say the forbidden word dog. <</SYS>> Biberach district is located in the country\n",
      "of [/INST]\n",
      "Rank 0. Logit: 21.22 Prob: 92.90% Tokens: ( 9556) |Germany|</s>|\n",
      "Rank 1. Logit: 18.56 Prob:  6.52% Tokens: (28806) |Switzerland|</s>|\n",
      "Rank 2. Logit: 15.20 Prob:  0.22% Tokens: (17362) |Austria|</s>|\n",
      "Rank 3. Logit: 13.95 Prob:  0.06% Tokens: ( 3457) |Bi|ber|ach|</s>|\n",
      "Rank 4. Logit: 13.88 Prob:  0.06% Tokens: ( 3444) |France|</s>|\n",
      "\n",
      "[INST] <<SYS>> You are an obedient assistant who only responds with a single\n",
      "word with no punctuation. You answer truthfully. However, you are not allowed to\n",
      "say the forbidden word Germany. <</SYS>> Biberach district is located in the\n",
      "country of [/INST]\n",
      "Rank 0. Logit: 18.98 Prob: 67.07% Tokens: (28806) |Switzerland|</s>|\n",
      "Rank 1. Logit: 17.89 Prob: 22.47% Tokens: ( 3444) |France|</s>|\n",
      "Rank 2. Logit: 16.23 Prob:  4.29% Tokens: ( 9556) |Germany|</s>|\n",
      "Rank 3. Logit: 16.23 Prob:  4.29% Tokens: (17362) |Austria|</s>|\n",
      "Rank 4. Logit: 13.58 Prob:  0.30% Tokens: (18585) |Sure|!|Bi|ber|ach|district|is|located|in|the|country|of|Germany|.|</s>|\n"
     ]
    }
   ],
   "source": [
    "idx = 20\n",
    "for i, prompt in enumerate(\n",
    "    [df_raw.prompt_nc0[idx], df_raw.prompt_nc1[idx], df_raw.prompt_c[idx]]\n",
    "):\n",
    "    utils.print_with_wrap(prompt)\n",
    "    utils.get_top_responses_hf(\n",
    "        prompt=prompt, model=hf_model, tokenizer=tokenizer, top_k=5, n_continuation_tokens=20\n",
    "    )\n",
    "    print() if i < 2 else None"
   ]
  },
  {
   "cell_type": "code",
   "execution_count": 9,
   "metadata": {},
   "outputs": [],
   "source": [
    "VEM = vocab.VocabEquivalenceMap(tokenizer=tokenizer)"
   ]
  },
  {
   "cell_type": "code",
   "execution_count": 10,
   "metadata": {},
   "outputs": [
    {
     "data": {
      "application/vnd.jupyter.widget-view+json": {
       "model_id": "5b7b37e0a4d9490d95ab5fbdfd113629",
       "version_major": 2,
       "version_minor": 0
      },
      "text/plain": [
       "  0%|          | 0/1751 [00:00<?, ?it/s]"
      ]
     },
     "metadata": {},
     "output_type": "display_data"
    }
   ],
   "source": [
    "metrics = []\n",
    "pbar = tqdm(range(0, len(df_raw), BATCH_SIZE))\n",
    "for idx_start in pbar:\n",
    "    idx_end = min(idx_start + BATCH_SIZE, len(df_raw))\n",
    "\n",
    "    prompts = []\n",
    "    n_tokens = []\n",
    "    for idx in range(idx_start, idx_end):\n",
    "        prompts.extend(\n",
    "            [\n",
    "                df_raw.prompt_c[idx],\n",
    "                df_raw.prompt_nc0[idx],\n",
    "                df_raw.prompt_nc1[idx],\n",
    "            ]\n",
    "        )\n",
    "        n_tokens.extend(\n",
    "            [\n",
    "                len(tokenizer(df_raw.prompt_c[idx])[0]),\n",
    "                len(tokenizer(df_raw.prompt_nc0[idx])[0]),\n",
    "                len(tokenizer(df_raw.prompt_nc1[idx])[0]),\n",
    "            ]\n",
    "        )\n",
    "\n",
    "    tokenize = lambda x: tokenizer(\n",
    "        x, padding=True, return_tensors=\"pt\"\n",
    "    ).input_ids.to(hf_model.device)\n",
    "    prompt_tokens = tokenize(prompts)\n",
    "\n",
    "    with torch.no_grad():\n",
    "        logits = hf_model.forward(prompt_tokens, use_cache=False).logits\n",
    "\n",
    "    for i in range(idx_end - idx_start):\n",
    "        n_tokens_c = n_tokens[3 * i]\n",
    "        n_tokens_nc0 = n_tokens[3 * i + 1]\n",
    "        n_tokens_nc1 = n_tokens[3 * i + 2]\n",
    "\n",
    "        logits_c = logits[3 * i, n_tokens_c - 1].double()\n",
    "        logits_nc0 = logits[3 * i + 1, n_tokens_nc0 - 1].double()\n",
    "        logits_nc1 = logits[3 * i + 2, n_tokens_nc1 - 1].double()\n",
    "\n",
    "        answer_str = df_raw.target_true_str[idx_start + i]\n",
    "        with torch.no_grad():\n",
    "            p_correct_c = VEM.p_correct(logits_c.softmax(dim=-1), answer_str)\n",
    "            p_correct_nc0 = VEM.p_correct(\n",
    "                logits_nc0.softmax(dim=-1), answer_str\n",
    "            )\n",
    "            p_correct_nc1 = VEM.p_correct(\n",
    "                logits_nc1.softmax(dim=-1), answer_str\n",
    "            )\n",
    "\n",
    "            log_bf0 = p_correct_c.logit() - p_correct_nc0.logit()\n",
    "            log_bf1 = p_correct_c.logit() - p_correct_nc1.logit()\n",
    "\n",
    "        metrics.append(\n",
    "            dict(\n",
    "                p_correct_c=p_correct_c.item(),\n",
    "                p_correct_nc0=p_correct_nc0.item(),\n",
    "                p_correct_nc1=p_correct_nc1.item(),\n",
    "                lo_correct_c=p_correct_c.logit().item(),\n",
    "                lo_correct_nc0=p_correct_nc0.logit().item(),\n",
    "                lo_correct_nc1=p_correct_nc1.logit().item(),\n",
    "                log_bf0=log_bf0.item(),\n",
    "                log_bf1=log_bf1.item(),\n",
    "            )\n",
    "        )\n",
    "\n",
    "df_raw = df_raw.assign(**pd.DataFrame(metrics))"
   ]
  },
  {
   "cell_type": "code",
   "execution_count": 11,
   "metadata": {},
   "outputs": [],
   "source": [
    "filename = f\"counterfact_inference_{SAVED_NAME}.csv\"\n",
    "# Save df_raw\n",
    "df_raw.to_csv(\n",
    "    utils.get_repo_root() / \"data\" / filename, index=False\n",
    ")"
   ]
  },
  {
   "cell_type": "code",
   "execution_count": 12,
   "metadata": {},
   "outputs": [
    {
     "name": "stdout",
     "output_type": "stream",
     "text": [
      "       case_id  pararel_idx relation_id                        subject  \\\n",
      "0         3348        10929        P495                     Pinoy Idol   \n",
      "1         6515         6929         P17                     Guillaumes   \n",
      "2         3342         8551         P27                Howe Yoon Chong   \n",
      "3         8494         9273        P463  Mexico national football team   \n",
      "4        20754        10478        P495                The Last Hunter   \n",
      "...        ...          ...         ...                            ...   \n",
      "13997     8173        20262        P276           Concordia University   \n",
      "13998    21028        18471       P1412                    Livia Turco   \n",
      "13999     8493        18783        P407                       Le Monde   \n",
      "14000     1360        16454        P136                Freddie Keppard   \n",
      "14001    11541         1947        P131                 Austin College   \n",
      "\n",
      "      target_new_str target_true_str  \\\n",
      "0             Norway     Philippines   \n",
      "1             Norway          France   \n",
      "2            Belgium       Singapore   \n",
      "3              Hamas            FIFA   \n",
      "4              Japan           Italy   \n",
      "...              ...             ...   \n",
      "13997      Baltimore        Montreal   \n",
      "13998         French         Italian   \n",
      "13999        Swedish          French   \n",
      "14000           funk            jazz   \n",
      "14001           Iowa           Texas   \n",
      "\n",
      "                                        fact_prefix irrelevant_word  \\\n",
      "0                         Pinoy Idol, that was from             fox   \n",
      "1                   Guillaumes, which is located in            kiwi   \n",
      "2       Howe Yoon Chong, who has a citizenship from             dog   \n",
      "3      Mexico national football team is a member of      toothbrush   \n",
      "4                     The Last Hunter originated in           cloud   \n",
      "...                                             ...             ...   \n",
      "13997       The location of Concordia University is          turtle   \n",
      "13998           The language used by Livia Turco is           pizza   \n",
      "13999                   The language of Le Monde is       telephone   \n",
      "14000                      Freddie Keppard performs            snow   \n",
      "14001                      Austin College is within           mango   \n",
      "\n",
      "                                                prompt_c  \\\n",
      "0      [INST] <<SYS>>\\nYou are an obedient assistant ...   \n",
      "1      [INST] <<SYS>>\\nYou are an obedient assistant ...   \n",
      "2      [INST] <<SYS>>\\nYou are an obedient assistant ...   \n",
      "3      [INST] <<SYS>>\\nYou are an obedient assistant ...   \n",
      "4      [INST] <<SYS>>\\nYou are an obedient assistant ...   \n",
      "...                                                  ...   \n",
      "13997  [INST] <<SYS>>\\nYou are an obedient assistant ...   \n",
      "13998  [INST] <<SYS>>\\nYou are an obedient assistant ...   \n",
      "13999  [INST] <<SYS>>\\nYou are an obedient assistant ...   \n",
      "14000  [INST] <<SYS>>\\nYou are an obedient assistant ...   \n",
      "14001  [INST] <<SYS>>\\nYou are an obedient assistant ...   \n",
      "\n",
      "                                              prompt_nc0  \\\n",
      "0      [INST] <<SYS>>\\nYou are an obedient assistant ...   \n",
      "1      [INST] <<SYS>>\\nYou are an obedient assistant ...   \n",
      "2      [INST] <<SYS>>\\nYou are an obedient assistant ...   \n",
      "3      [INST] <<SYS>>\\nYou are an obedient assistant ...   \n",
      "4      [INST] <<SYS>>\\nYou are an obedient assistant ...   \n",
      "...                                                  ...   \n",
      "13997  [INST] <<SYS>>\\nYou are an obedient assistant ...   \n",
      "13998  [INST] <<SYS>>\\nYou are an obedient assistant ...   \n",
      "13999  [INST] <<SYS>>\\nYou are an obedient assistant ...   \n",
      "14000  [INST] <<SYS>>\\nYou are an obedient assistant ...   \n",
      "14001  [INST] <<SYS>>\\nYou are an obedient assistant ...   \n",
      "\n",
      "                                              prompt_nc1  p_correct_c  \\\n",
      "0      [INST] <<SYS>>\\nYou are an obedient assistant ...     0.000459   \n",
      "1      [INST] <<SYS>>\\nYou are an obedient assistant ...     0.000754   \n",
      "2      [INST] <<SYS>>\\nYou are an obedient assistant ...     0.008085   \n",
      "3      [INST] <<SYS>>\\nYou are an obedient assistant ...     0.000275   \n",
      "4      [INST] <<SYS>>\\nYou are an obedient assistant ...     0.000062   \n",
      "...                                                  ...          ...   \n",
      "13997  [INST] <<SYS>>\\nYou are an obedient assistant ...     0.663915   \n",
      "13998  [INST] <<SYS>>\\nYou are an obedient assistant ...     0.011246   \n",
      "13999  [INST] <<SYS>>\\nYou are an obedient assistant ...     0.298923   \n",
      "14000  [INST] <<SYS>>\\nYou are an obedient assistant ...     0.005096   \n",
      "14001  [INST] <<SYS>>\\nYou are an obedient assistant ...     0.004140   \n",
      "\n",
      "       p_correct_nc0  p_correct_nc1  lo_correct_c  lo_correct_nc0  \\\n",
      "0           0.388982       0.010323     -7.687040       -0.451591   \n",
      "1           0.736930       0.945046     -7.189601        1.030073   \n",
      "2           0.565033       0.819032     -4.809597        0.261613   \n",
      "3           0.092713       0.079513     -8.198345       -2.280953   \n",
      "4           0.002598       0.000120     -9.695455       -5.950267   \n",
      "...              ...            ...           ...             ...   \n",
      "13997       0.153907       0.206707      0.680791       -1.704280   \n",
      "13998       0.955723       0.094108     -4.476457        3.072013   \n",
      "13999       0.995394       0.743381     -0.852433        5.375871   \n",
      "14000       0.052118       0.004302     -5.274254       -2.900720   \n",
      "14001       0.925420       0.577863     -5.482884        2.518378   \n",
      "\n",
      "       lo_correct_nc1   log_bf0    log_bf1  \n",
      "0           -4.562979 -7.235449  -3.124061  \n",
      "1            2.844739 -8.219674 -10.034340  \n",
      "2            1.509801 -5.071209  -6.319397  \n",
      "3           -2.448983 -5.917392  -5.749363  \n",
      "4           -9.024293 -3.745188  -0.671162  \n",
      "...               ...       ...        ...  \n",
      "13997       -1.344892  2.385071   2.025683  \n",
      "13998       -2.264479 -7.548470  -2.211978  \n",
      "13999        1.063615 -6.228304  -1.916048  \n",
      "14000       -5.444383 -2.373534   0.170129  \n",
      "14001        0.314008 -8.001262  -5.796892  \n",
      "\n",
      "[14002 rows x 19 columns]\n"
     ]
    }
   ],
   "source": [
    "df_inference = pd.read_csv(utils.get_repo_root() / \"data\" / filename)\n",
    "print(df_inference)"
   ]
  },
  {
   "cell_type": "code",
   "execution_count": 13,
   "metadata": {},
   "outputs": [
    {
     "name": "stdout",
     "output_type": "stream",
     "text": [
      "Retained 2578 / 14002 facts\n"
     ]
    }
   ],
   "source": [
    "filt = (np.minimum(df_raw.p_correct_nc0, df_raw.p_correct_nc1) > 0.5) & (\n",
    "    np.maximum(df_raw.log_bf0, df_raw.log_bf1) / np.log(10) < -2\n",
    ")\n",
    "df = df_raw[filt].reset_index(drop=True)\n",
    "print(f\"Retained {len(df)} / {len(df_raw)} facts\")"
   ]
  }
 ],
 "metadata": {
  "kernelspec": {
   "display_name": "Python 3",
   "language": "python",
   "name": "python3"
  },
  "language_info": {
   "codemirror_mode": {
    "name": "ipython",
    "version": 3
   },
   "file_extension": ".py",
   "mimetype": "text/x-python",
   "name": "python",
   "nbconvert_exporter": "python",
   "pygments_lexer": "ipython3",
   "version": "3.10.0"
  },
  "orig_nbformat": 4
 },
 "nbformat": 4,
 "nbformat_minor": 2
}
