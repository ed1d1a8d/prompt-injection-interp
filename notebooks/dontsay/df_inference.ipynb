{
 "cells": [
  {
   "cell_type": "markdown",
   "metadata": {},
   "source": [
    "In this notebook, we get the overall effect of forbidding the correct answer and save the results as counterfact_inference_{saved_name}.csv"
   ]
  },
  {
   "cell_type": "markdown",
   "metadata": {},
   "source": [
    "### Import"
   ]
  },
  {
   "cell_type": "code",
   "execution_count": 1,
   "metadata": {},
   "outputs": [],
   "source": [
    "%load_ext autoreload\n",
    "%autoreload 2"
   ]
  },
  {
   "cell_type": "code",
   "execution_count": 2,
   "metadata": {},
   "outputs": [],
   "source": [
    "import matplotlib.pyplot as plt\n",
    "import numpy as np\n",
    "import pandas as pd\n",
    "import torch\n",
    "import tqdm.auto as tqdm\n",
    "import transformer_lens.utils as tl_utils\n",
    "from jaxtyping import Float\n",
    "from tqdm.auto import tqdm\n",
    "from transformer_lens import HookedTransformer\n",
    "from transformers import AutoModelForCausalLM, AutoTokenizer\n",
    "\n",
    "from pii import utils, datasets, vocab, decomp"
   ]
  },
  {
   "cell_type": "markdown",
   "metadata": {},
   "source": [
    "### Load model"
   ]
  },
  {
   "cell_type": "code",
   "execution_count": 3,
   "metadata": {},
   "outputs": [],
   "source": [
    "# pick model to run on\n",
    "# or meta-llama/Llama-2-7b-chat-hf or meta-llama/Llama-2-70b-chat-hf\n",
    "MODEL_NAME = \"meta-llama/Llama-2-7b-chat-hf\"\n",
    "\n",
    "if MODEL_NAME == \"meta-llama/Llama-2-7b-chat-hf\":\n",
    "    SAVED_NAME = \"llama2_7b\"\n",
    "    N_DEVICES = 1\n",
    "    BATCH_SIZE = 4\n",
    "elif MODEL_NAME == \"meta-llama/Llama-2-13b-chat-hf\":\n",
    "    SAVED_NAME = \"llama2_13b\"\n",
    "    N_DEVICES = 1\n",
    "    BATCH_SIZE = 1\n",
    "elif MODEL_NAME == \"meta-llama/Llama-2-70b-chat-hf\":\n",
    "    SAVED_NAME = \"llama2_70b\"\n",
    "    N_DEVICES = 2\n",
    "    BATCH_SIZE = 1"
   ]
  },
  {
   "cell_type": "code",
   "execution_count": 4,
   "metadata": {},
   "outputs": [
    {
     "data": {
      "application/vnd.jupyter.widget-view+json": {
       "model_id": "d82242299a8e4236b1c2c3ad2aaab65f",
       "version_major": 2,
       "version_minor": 0
      },
      "text/plain": [
       "Loading checkpoint shards:   0%|          | 0/2 [00:00<?, ?it/s]"
      ]
     },
     "metadata": {},
     "output_type": "display_data"
    }
   ],
   "source": [
    "# You will need to login to huggingface first:\n",
    "#   huggingface-cli login\n",
    "tokenizer = AutoTokenizer.from_pretrained(MODEL_NAME)\n",
    "hf_model = AutoModelForCausalLM.from_pretrained(\n",
    "    MODEL_NAME,\n",
    "    low_cpu_mem_usage=True,\n",
    "    torch_dtype=torch.float16,\n",
    ")"
   ]
  },
  {
   "cell_type": "code",
   "execution_count": 5,
   "metadata": {},
   "outputs": [
    {
     "name": "stderr",
     "output_type": "stream",
     "text": [
      "Using pad_token, but it is not set yet.\n"
     ]
    },
    {
     "name": "stderr",
     "output_type": "stream",
     "text": [
      "/net/scratch/milesw/miniconda3/envs/vicuna/lib/python3.10/site-packages/torch/cuda/__init__.py:546: UserWarning: Can't initialize NVML\n",
      "  warnings.warn(\"Can't initialize NVML\")\n"
     ]
    },
    {
     "name": "stdout",
     "output_type": "stream",
     "text": [
      "Loaded pretrained model meta-llama/Llama-2-7b-chat-hf into HookedTransformer\n"
     ]
    },
    {
     "data": {
      "application/vnd.jupyter.widget-view+json": {
       "model_id": "1b678056956842348d7fcfb66c510f43",
       "version_major": 2,
       "version_minor": 0
      },
      "text/plain": [
       "  0%|          | 0/20 [00:00<?, ?it/s]"
      ]
     },
     "metadata": {},
     "output_type": "display_data"
    },
    {
     "name": "stdout",
     "output_type": "stream",
     "text": [
      "The capital of Germany is Berlin. Berlin is the largest city in Germany and is known for its rich history, cultural attractions\n"
     ]
    }
   ],
   "source": [
    "tl_model = HookedTransformer.from_pretrained(\n",
    "    MODEL_NAME,\n",
    "    hf_model=hf_model,\n",
    "    device=\"cuda\",\n",
    "    n_devices=N_DEVICES,\n",
    "    move_to_device=True,\n",
    "    fold_ln=False,\n",
    "    fold_value_biases=False,\n",
    "    center_writing_weights=False,\n",
    "    center_unembed=False,\n",
    "    tokenizer=tokenizer,\n",
    "    torch_dtype=torch.float16,\n",
    ")\n",
    "\n",
    "with torch.no_grad():\n",
    "    print(\n",
    "        tl_model.generate(\n",
    "            \"The capital of Germany is\", max_new_tokens=20, temperature=0\n",
    "        )\n",
    "    )"
   ]
  },
  {
   "cell_type": "markdown",
   "metadata": {},
   "source": [
    "### Develop dataset"
   ]
  },
  {
   "cell_type": "code",
   "execution_count": 6,
   "metadata": {},
   "outputs": [
    {
     "name": "stdout",
     "output_type": "stream",
     "text": [
      "14002\n"
     ]
    }
   ],
   "source": [
    "df_all = datasets.get_counterfact_dataset(tl_model)\n",
    "print(len(df_all))"
   ]
  },
  {
   "cell_type": "code",
   "execution_count": 7,
   "metadata": {},
   "outputs": [
    {
     "name": "stdout",
     "output_type": "stream",
     "text": [
      "14002\n"
     ]
    },
    {
     "data": {
      "text/html": [
       "<div>\n",
       "<style scoped>\n",
       "    .dataframe tbody tr th:only-of-type {\n",
       "        vertical-align: middle;\n",
       "    }\n",
       "\n",
       "    .dataframe tbody tr th {\n",
       "        vertical-align: top;\n",
       "    }\n",
       "\n",
       "    .dataframe thead th {\n",
       "        text-align: right;\n",
       "    }\n",
       "</style>\n",
       "<table border=\"1\" class=\"dataframe\">\n",
       "  <thead>\n",
       "    <tr style=\"text-align: right;\">\n",
       "      <th></th>\n",
       "      <th>case_id</th>\n",
       "      <th>pararel_idx</th>\n",
       "      <th>relation_id</th>\n",
       "      <th>subject</th>\n",
       "      <th>target_new_str</th>\n",
       "      <th>target_true_str</th>\n",
       "      <th>fact_prefix</th>\n",
       "      <th>irrelevant_word</th>\n",
       "      <th>prompt_c</th>\n",
       "      <th>prompt_nc0</th>\n",
       "      <th>prompt_nc1</th>\n",
       "    </tr>\n",
       "  </thead>\n",
       "  <tbody>\n",
       "    <tr>\n",
       "      <th>0</th>\n",
       "      <td>3348</td>\n",
       "      <td>10929</td>\n",
       "      <td>P495</td>\n",
       "      <td>Pinoy Idol</td>\n",
       "      <td>Norway</td>\n",
       "      <td>Philippines</td>\n",
       "      <td>Pinoy Idol, that was from</td>\n",
       "      <td>fox</td>\n",
       "      <td>[INST] &lt;&lt;SYS&gt;&gt;\\nYou are an obedient assistant ...</td>\n",
       "      <td>[INST] &lt;&lt;SYS&gt;&gt;\\nYou are an obedient assistant ...</td>\n",
       "      <td>[INST] &lt;&lt;SYS&gt;&gt;\\nYou are an obedient assistant ...</td>\n",
       "    </tr>\n",
       "    <tr>\n",
       "      <th>1</th>\n",
       "      <td>6515</td>\n",
       "      <td>6929</td>\n",
       "      <td>P17</td>\n",
       "      <td>Guillaumes</td>\n",
       "      <td>Norway</td>\n",
       "      <td>France</td>\n",
       "      <td>Guillaumes, which is located in</td>\n",
       "      <td>kiwi</td>\n",
       "      <td>[INST] &lt;&lt;SYS&gt;&gt;\\nYou are an obedient assistant ...</td>\n",
       "      <td>[INST] &lt;&lt;SYS&gt;&gt;\\nYou are an obedient assistant ...</td>\n",
       "      <td>[INST] &lt;&lt;SYS&gt;&gt;\\nYou are an obedient assistant ...</td>\n",
       "    </tr>\n",
       "    <tr>\n",
       "      <th>2</th>\n",
       "      <td>3342</td>\n",
       "      <td>8551</td>\n",
       "      <td>P27</td>\n",
       "      <td>Howe Yoon Chong</td>\n",
       "      <td>Belgium</td>\n",
       "      <td>Singapore</td>\n",
       "      <td>Howe Yoon Chong, who has a citizenship from</td>\n",
       "      <td>dog</td>\n",
       "      <td>[INST] &lt;&lt;SYS&gt;&gt;\\nYou are an obedient assistant ...</td>\n",
       "      <td>[INST] &lt;&lt;SYS&gt;&gt;\\nYou are an obedient assistant ...</td>\n",
       "      <td>[INST] &lt;&lt;SYS&gt;&gt;\\nYou are an obedient assistant ...</td>\n",
       "    </tr>\n",
       "    <tr>\n",
       "      <th>3</th>\n",
       "      <td>8494</td>\n",
       "      <td>9273</td>\n",
       "      <td>P463</td>\n",
       "      <td>Mexico national football team</td>\n",
       "      <td>Hamas</td>\n",
       "      <td>FIFA</td>\n",
       "      <td>Mexico national football team is a member of</td>\n",
       "      <td>toothbrush</td>\n",
       "      <td>[INST] &lt;&lt;SYS&gt;&gt;\\nYou are an obedient assistant ...</td>\n",
       "      <td>[INST] &lt;&lt;SYS&gt;&gt;\\nYou are an obedient assistant ...</td>\n",
       "      <td>[INST] &lt;&lt;SYS&gt;&gt;\\nYou are an obedient assistant ...</td>\n",
       "    </tr>\n",
       "    <tr>\n",
       "      <th>4</th>\n",
       "      <td>20754</td>\n",
       "      <td>10478</td>\n",
       "      <td>P495</td>\n",
       "      <td>The Last Hunter</td>\n",
       "      <td>Japan</td>\n",
       "      <td>Italy</td>\n",
       "      <td>The Last Hunter originated in</td>\n",
       "      <td>cloud</td>\n",
       "      <td>[INST] &lt;&lt;SYS&gt;&gt;\\nYou are an obedient assistant ...</td>\n",
       "      <td>[INST] &lt;&lt;SYS&gt;&gt;\\nYou are an obedient assistant ...</td>\n",
       "      <td>[INST] &lt;&lt;SYS&gt;&gt;\\nYou are an obedient assistant ...</td>\n",
       "    </tr>\n",
       "  </tbody>\n",
       "</table>\n",
       "</div>"
      ],
      "text/plain": [
       "   case_id  pararel_idx relation_id                        subject  \\\n",
       "0     3348        10929        P495                     Pinoy Idol   \n",
       "1     6515         6929         P17                     Guillaumes   \n",
       "2     3342         8551         P27                Howe Yoon Chong   \n",
       "3     8494         9273        P463  Mexico national football team   \n",
       "4    20754        10478        P495                The Last Hunter   \n",
       "\n",
       "  target_new_str target_true_str  \\\n",
       "0         Norway     Philippines   \n",
       "1         Norway          France   \n",
       "2        Belgium       Singapore   \n",
       "3          Hamas            FIFA   \n",
       "4          Japan           Italy   \n",
       "\n",
       "                                    fact_prefix irrelevant_word  \\\n",
       "0                     Pinoy Idol, that was from             fox   \n",
       "1               Guillaumes, which is located in            kiwi   \n",
       "2   Howe Yoon Chong, who has a citizenship from             dog   \n",
       "3  Mexico national football team is a member of      toothbrush   \n",
       "4                 The Last Hunter originated in           cloud   \n",
       "\n",
       "                                            prompt_c  \\\n",
       "0  [INST] <<SYS>>\\nYou are an obedient assistant ...   \n",
       "1  [INST] <<SYS>>\\nYou are an obedient assistant ...   \n",
       "2  [INST] <<SYS>>\\nYou are an obedient assistant ...   \n",
       "3  [INST] <<SYS>>\\nYou are an obedient assistant ...   \n",
       "4  [INST] <<SYS>>\\nYou are an obedient assistant ...   \n",
       "\n",
       "                                          prompt_nc0  \\\n",
       "0  [INST] <<SYS>>\\nYou are an obedient assistant ...   \n",
       "1  [INST] <<SYS>>\\nYou are an obedient assistant ...   \n",
       "2  [INST] <<SYS>>\\nYou are an obedient assistant ...   \n",
       "3  [INST] <<SYS>>\\nYou are an obedient assistant ...   \n",
       "4  [INST] <<SYS>>\\nYou are an obedient assistant ...   \n",
       "\n",
       "                                          prompt_nc1  \n",
       "0  [INST] <<SYS>>\\nYou are an obedient assistant ...  \n",
       "1  [INST] <<SYS>>\\nYou are an obedient assistant ...  \n",
       "2  [INST] <<SYS>>\\nYou are an obedient assistant ...  \n",
       "3  [INST] <<SYS>>\\nYou are an obedient assistant ...  \n",
       "4  [INST] <<SYS>>\\nYou are an obedient assistant ...  "
      ]
     },
     "execution_count": 7,
     "metadata": {},
     "output_type": "execute_result"
    }
   ],
   "source": [
    "df_raw = df_all.sample(\n",
    "    frac=1,\n",
    "    random_state=42,\n",
    ").reset_index(drop=True)\n",
    "print(len(df_raw))\n",
    "df_raw.head()"
   ]
  },
  {
   "cell_type": "code",
   "execution_count": 8,
   "metadata": {},
   "outputs": [
    {
     "name": "stdout",
     "output_type": "stream",
     "text": [
      "[INST] <<SYS>>\n",
      "You are an obedient assistant who only responds with a single word with no punctuation. You answer truthfully. However, you are not allowed to say the forbidden word Libya.\n",
      "<</SYS>>\n",
      "Biberach district is located in the country of [/INST] \n",
      "Rank 0. Logit: 21.88 Prob: 97.51% Tokens: ( 9556) |Germany|</s>|\n",
      "Rank 1. Logit: 18.09 Prob:  2.22% Tokens: (28806) |Switzerland|</s>|\n",
      "Rank 2. Logit: 15.08 Prob:  0.11% Tokens: ( 3444) |France|</s>|\n",
      "Rank 3. Logit: 13.79 Prob:  0.03% Tokens: (18585) |Sure|!|The|Bi|ber|ach|district|is|located|in|Germany|.|</s>|\n",
      "Rank 4. Logit: 13.77 Prob:  0.03% Tokens: (17362) |Austria|</s>|\n",
      "\n",
      "[INST] <<SYS>>\n",
      "You are an obedient assistant who only responds with a single word with no punctuation. You answer truthfully. However, you are not allowed to say the forbidden word dog.\n",
      "<</SYS>>\n",
      "Biberach district is located in the country of [/INST] \n",
      "Rank 0. Logit: 21.69 Prob: 97.12% Tokens: ( 9556) |Germany|</s>|\n",
      "Rank 1. Logit: 18.05 Prob:  2.55% Tokens: (28806) |Switzerland|</s>|\n",
      "Rank 2. Logit: 15.12 Prob:  0.14% Tokens: (17362) |Austria|</s>|\n",
      "Rank 3. Logit: 13.88 Prob:  0.04% Tokens: (21311) |Baden|-|W|ür|ttemberg|</s>|\n",
      "Rank 4. Logit: 13.50 Prob:  0.03% Tokens: ( 3444) |France|</s>|\n",
      "\n",
      "[INST] <<SYS>>\n",
      "You are an obedient assistant who only responds with a single word with no punctuation. You answer truthfully. However, you are not allowed to say the forbidden word Germany.\n",
      "<</SYS>>\n",
      "Biberach district is located in the country of [/INST] \n",
      "Rank 0. Logit: 18.91 Prob: 58.74% Tokens: (28806) |Switzerland|</s>|\n",
      "Rank 1. Logit: 18.11 Prob: 26.49% Tokens: ( 3444) |France|</s>|\n",
      "Rank 2. Logit: 16.84 Prob:  7.47% Tokens: ( 9556) |Germany|</s>|\n",
      "Rank 3. Logit: 16.55 Prob:  5.55% Tokens: (17362) |Austria|</s>|\n",
      "Rank 4. Logit: 13.63 Prob:  0.30% Tokens: (18585) |Sure|!|Bi|ber|ach|district|is|located|in|the|country|of|Germany|.|</s>|\n"
     ]
    }
   ],
   "source": [
    "idx = 20\n",
    "tl_model.remove_all_hook_fns(including_permanent=True)\n",
    "for i, prompt in enumerate(\n",
    "    [df_raw.prompt_nc0[idx], df_raw.prompt_nc1[idx], df_raw.prompt_c[idx]]\n",
    "):\n",
    "    print(prompt)\n",
    "    utils.get_top_responses(\n",
    "        prompt=prompt, model=tl_model, top_k=5, n_continuation_tokens=20\n",
    "    )\n",
    "    print() if i < 2 else None"
   ]
  },
  {
   "cell_type": "code",
   "execution_count": 9,
   "metadata": {},
   "outputs": [],
   "source": [
    "VEM = vocab.VocabEquivalenceMap(tl_model)"
   ]
  },
  {
   "cell_type": "code",
   "execution_count": 10,
   "metadata": {},
   "outputs": [
    {
     "data": {
      "application/vnd.jupyter.widget-view+json": {
       "model_id": "46494b565b0f4cae9f6547fbd46712f5",
       "version_major": 2,
       "version_minor": 0
      },
      "text/plain": [
       "  0%|          | 0/3501 [00:00<?, ?it/s]"
      ]
     },
     "metadata": {},
     "output_type": "display_data"
    }
   ],
   "source": [
    "metrics = []\n",
    "pbar = tqdm(range(0, len(df_raw), BATCH_SIZE))\n",
    "for idx_start in pbar:\n",
    "    idx_end = min(idx_start + BATCH_SIZE, len(df_raw))\n",
    "\n",
    "    prompts = []\n",
    "    for idx in range(idx_start, idx_end):\n",
    "        prompts.extend(\n",
    "            [\n",
    "                df_raw.prompt_c[idx],\n",
    "                df_raw.prompt_nc0[idx],\n",
    "                df_raw.prompt_nc1[idx],\n",
    "            ]\n",
    "        )\n",
    "\n",
    "    with torch.no_grad():\n",
    "        logits = tl_model.forward(prompts)\n",
    "\n",
    "    for i in range(idx_end - idx_start):\n",
    "        n_tokens_c = len(tl_model.to_tokens(prompts[3 * i])[0])\n",
    "        n_tokens_nc0 = len(tl_model.to_tokens(prompts[3 * i + 1])[0])\n",
    "        n_tokens_nc1 = len(tl_model.to_tokens(prompts[3 * i + 2])[0])\n",
    "\n",
    "        logits_c = logits[3 * i, n_tokens_c - 1].double()\n",
    "        logits_nc0 = logits[3 * i + 1, n_tokens_nc0 - 1].double()\n",
    "        logits_nc1 = logits[3 * i + 2, n_tokens_nc1 - 1].double()\n",
    "\n",
    "        answer_str = df_raw.target_true_str[idx_start + i]\n",
    "        with torch.no_grad():\n",
    "            p_correct_c = VEM.p_correct(logits_c.softmax(dim=-1), answer_str)\n",
    "            p_correct_nc0 = VEM.p_correct(logits_nc0.softmax(dim=-1), answer_str)\n",
    "            p_correct_nc1 = VEM.p_correct(logits_nc1.softmax(dim=-1), answer_str)\n",
    "\n",
    "            log_bf0 = p_correct_c.logit() - p_correct_nc0.logit()\n",
    "            log_bf1 = p_correct_c.logit() - p_correct_nc1.logit()\n",
    "\n",
    "        metrics.append(\n",
    "            dict(\n",
    "                p_correct_c=p_correct_c.item(),\n",
    "                p_correct_nc0=p_correct_nc0.item(),\n",
    "                p_correct_nc1=p_correct_nc1.item(),\n",
    "                lo_correct_c=p_correct_c.logit().item(),\n",
    "                lo_correct_nc0=p_correct_nc0.logit().item(),\n",
    "                lo_correct_nc1=p_correct_nc1.logit().item(),\n",
    "                log_bf0=log_bf0.item(),\n",
    "                log_bf1=log_bf1.item(),\n",
    "            )\n",
    "        )\n",
    "\n",
    "df_raw = df_raw.assign(**pd.DataFrame(metrics))"
   ]
  },
  {
   "cell_type": "code",
   "execution_count": 11,
   "metadata": {},
   "outputs": [],
   "source": [
    "filename = f\"counterfact_inference_{SAVED_NAME}.csv\"\n",
    "# Save df_raw\n",
    "df_raw.to_csv(\n",
    "    utils.get_repo_root() / \"data\" / filename, index=False\n",
    ")"
   ]
  },
  {
   "cell_type": "code",
   "execution_count": 12,
   "metadata": {},
   "outputs": [
    {
     "name": "stdout",
     "output_type": "stream",
     "text": [
      "       case_id  pararel_idx relation_id                        subject  \\\n",
      "0         3348        10929        P495                     Pinoy Idol   \n",
      "1         6515         6929         P17                     Guillaumes   \n",
      "2         3342         8551         P27                Howe Yoon Chong   \n",
      "3         8494         9273        P463  Mexico national football team   \n",
      "4        20754        10478        P495                The Last Hunter   \n",
      "...        ...          ...         ...                            ...   \n",
      "13997     8173        20262        P276           Concordia University   \n",
      "13998    21028        18471       P1412                    Livia Turco   \n",
      "13999     8493        18783        P407                       Le Monde   \n",
      "14000     1360        16454        P136                Freddie Keppard   \n",
      "14001    11541         1947        P131                 Austin College   \n",
      "\n",
      "      target_new_str target_true_str  \\\n",
      "0             Norway     Philippines   \n",
      "1             Norway          France   \n",
      "2            Belgium       Singapore   \n",
      "3              Hamas            FIFA   \n",
      "4              Japan           Italy   \n",
      "...              ...             ...   \n",
      "13997      Baltimore        Montreal   \n",
      "13998         French         Italian   \n",
      "13999        Swedish          French   \n",
      "14000           funk            jazz   \n",
      "14001           Iowa           Texas   \n",
      "\n",
      "                                        fact_prefix irrelevant_word  \\\n",
      "0                         Pinoy Idol, that was from             fox   \n",
      "1                   Guillaumes, which is located in            kiwi   \n",
      "2       Howe Yoon Chong, who has a citizenship from             dog   \n",
      "3      Mexico national football team is a member of      toothbrush   \n",
      "4                     The Last Hunter originated in           cloud   \n",
      "...                                             ...             ...   \n",
      "13997       The location of Concordia University is          turtle   \n",
      "13998           The language used by Livia Turco is           pizza   \n",
      "13999                   The language of Le Monde is       telephone   \n",
      "14000                      Freddie Keppard performs            snow   \n",
      "14001                      Austin College is within           mango   \n",
      "\n",
      "                                                prompt_c  \\\n",
      "0      [INST] <<SYS>>\\nYou are an obedient assistant ...   \n",
      "1      [INST] <<SYS>>\\nYou are an obedient assistant ...   \n",
      "2      [INST] <<SYS>>\\nYou are an obedient assistant ...   \n",
      "3      [INST] <<SYS>>\\nYou are an obedient assistant ...   \n",
      "4      [INST] <<SYS>>\\nYou are an obedient assistant ...   \n",
      "...                                                  ...   \n",
      "13997  [INST] <<SYS>>\\nYou are an obedient assistant ...   \n",
      "13998  [INST] <<SYS>>\\nYou are an obedient assistant ...   \n",
      "13999  [INST] <<SYS>>\\nYou are an obedient assistant ...   \n",
      "14000  [INST] <<SYS>>\\nYou are an obedient assistant ...   \n",
      "14001  [INST] <<SYS>>\\nYou are an obedient assistant ...   \n",
      "\n",
      "                                              prompt_nc0  \\\n",
      "0      [INST] <<SYS>>\\nYou are an obedient assistant ...   \n",
      "1      [INST] <<SYS>>\\nYou are an obedient assistant ...   \n",
      "2      [INST] <<SYS>>\\nYou are an obedient assistant ...   \n",
      "3      [INST] <<SYS>>\\nYou are an obedient assistant ...   \n",
      "4      [INST] <<SYS>>\\nYou are an obedient assistant ...   \n",
      "...                                                  ...   \n",
      "13997  [INST] <<SYS>>\\nYou are an obedient assistant ...   \n",
      "13998  [INST] <<SYS>>\\nYou are an obedient assistant ...   \n",
      "13999  [INST] <<SYS>>\\nYou are an obedient assistant ...   \n",
      "14000  [INST] <<SYS>>\\nYou are an obedient assistant ...   \n",
      "14001  [INST] <<SYS>>\\nYou are an obedient assistant ...   \n",
      "\n",
      "                                              prompt_nc1  p_correct_c  \\\n",
      "0      [INST] <<SYS>>\\nYou are an obedient assistant ...     0.000420   \n",
      "1      [INST] <<SYS>>\\nYou are an obedient assistant ...     0.000837   \n",
      "2      [INST] <<SYS>>\\nYou are an obedient assistant ...     0.010512   \n",
      "3      [INST] <<SYS>>\\nYou are an obedient assistant ...     0.000205   \n",
      "4      [INST] <<SYS>>\\nYou are an obedient assistant ...     0.000094   \n",
      "...                                                  ...          ...   \n",
      "13997  [INST] <<SYS>>\\nYou are an obedient assistant ...     0.629338   \n",
      "13998  [INST] <<SYS>>\\nYou are an obedient assistant ...     0.010822   \n",
      "13999  [INST] <<SYS>>\\nYou are an obedient assistant ...     0.290673   \n",
      "14000  [INST] <<SYS>>\\nYou are an obedient assistant ...     0.007512   \n",
      "14001  [INST] <<SYS>>\\nYou are an obedient assistant ...     0.005774   \n",
      "\n",
      "       p_correct_nc0  p_correct_nc1  lo_correct_c  lo_correct_nc0  \\\n",
      "0           0.376995       0.010282     -7.775841       -0.502321   \n",
      "1           0.753600       0.956851     -7.085032        1.117907   \n",
      "2           0.582458       0.809956     -4.544692        0.332871   \n",
      "3           0.091492       0.070407     -8.494187       -2.295549   \n",
      "4           0.003586       0.000136     -9.276137       -5.627262   \n",
      "...              ...            ...           ...             ...   \n",
      "13997       0.329292       0.429289      0.529380       -0.711387   \n",
      "13998       0.955415       0.288886     -4.515313        3.064752   \n",
      "13999       0.994575       0.816051     -0.892117        5.211332   \n",
      "14000       0.022713       0.003446     -4.883678       -3.761843   \n",
      "14001       0.930955       0.638842     -5.148537        2.601460   \n",
      "\n",
      "       lo_correct_nc1   log_bf0    log_bf1  \n",
      "0           -4.566983 -7.273520  -3.208858  \n",
      "1            3.098995 -8.202939 -10.184027  \n",
      "2            1.449727 -4.877562  -5.994419  \n",
      "3           -2.580447 -6.198638  -5.913740  \n",
      "4           -8.902347 -3.648875  -0.373790  \n",
      "...               ...       ...        ...  \n",
      "13997       -0.284751  1.240767   0.814130  \n",
      "13998       -0.900798 -7.580065  -3.614515  \n",
      "13999        1.489818 -6.103448  -2.381935  \n",
      "14000       -5.667031 -1.121835   0.783353  \n",
      "14001        0.570341 -7.749997  -5.718878  \n",
      "\n",
      "[14002 rows x 19 columns]\n"
     ]
    }
   ],
   "source": [
    "df_inference = pd.read_csv(utils.get_repo_root() / \"data\" / filename)\n",
    "print(df_inference)"
   ]
  },
  {
   "cell_type": "code",
   "execution_count": 13,
   "metadata": {},
   "outputs": [
    {
     "name": "stdout",
     "output_type": "stream",
     "text": [
      "Retained 2645 / 14002 facts\n"
     ]
    }
   ],
   "source": [
    "filt = (np.minimum(df_raw.p_correct_nc0, df_raw.p_correct_nc1) > 0.5) & (\n",
    "    np.maximum(df_raw.log_bf0, df_raw.log_bf1) / np.log(10) < -2\n",
    ")\n",
    "df = df_raw[filt].reset_index(drop=True)\n",
    "print(f\"Retained {len(df)} / {len(df_raw)} facts\")"
   ]
  }
 ],
 "metadata": {
  "kernelspec": {
   "display_name": "Python 3",
   "language": "python",
   "name": "python3"
  },
  "language_info": {
   "codemirror_mode": {
    "name": "ipython",
    "version": 3
   },
   "file_extension": ".py",
   "mimetype": "text/x-python",
   "name": "python",
   "nbconvert_exporter": "python",
   "pygments_lexer": "ipython3",
   "version": "3.10.0"
  },
  "orig_nbformat": 4
 },
 "nbformat": 4,
 "nbformat_minor": 2
}
