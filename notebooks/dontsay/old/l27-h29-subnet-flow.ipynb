{
 "cells": [
  {
   "cell_type": "markdown",
   "metadata": {},
   "source": [
    "In this notebook, we try to use subnetwork flow to figure out how L27H29ATN ends up attending to the forbidden token."
   ]
  },
  {
   "cell_type": "markdown",
   "metadata": {},
   "source": [
    "### Imports"
   ]
  },
  {
   "cell_type": "code",
   "execution_count": 1,
   "metadata": {},
   "outputs": [],
   "source": [
    "%load_ext autoreload\n",
    "%autoreload 2"
   ]
  },
  {
   "cell_type": "code",
   "execution_count": 2,
   "metadata": {},
   "outputs": [],
   "source": [
    "import functools\n",
    "\n",
    "import circuitsvis.attention as cv_attention\n",
    "import circuitsvis.tokens as cv_tokens\n",
    "import einops\n",
    "import matplotlib.pyplot as plt\n",
    "import numpy as np\n",
    "import pandas as pd\n",
    "import plotly.graph_objects as go\n",
    "import torch\n",
    "import tqdm.auto as tqdm\n",
    "import transformer_lens.utils as tl_utils\n",
    "from fancy_einsum import einsum\n",
    "from jaxtyping import Float\n",
    "from tqdm.auto import tqdm\n",
    "from transformer_lens import ActivationCache, HookedTransformer\n",
    "from transformer_lens.hook_points import HookPoint\n",
    "from transformers import AutoModelForCausalLM, AutoTokenizer\n",
    "\n",
    "from pii import ablation, decomp, prompt_data, utils\n",
    "from pii.subnet_flow.masked_model import PerTokenMaskedTransformer\n",
    "\n",
    "LAYER = 27\n",
    "HEAD = 29\n",
    "COMP_STR = f\"L{LAYER}H{HEAD}\""
   ]
  },
  {
   "cell_type": "markdown",
   "metadata": {},
   "source": [
    "### Load model"
   ]
  },
  {
   "cell_type": "code",
   "execution_count": 3,
   "metadata": {},
   "outputs": [
    {
     "data": {
      "application/vnd.jupyter.widget-view+json": {
       "model_id": "2e0d9ad2b3354c8e978c035647a40238",
       "version_major": 2,
       "version_minor": 0
      },
      "text/plain": [
       "Loading checkpoint shards:   0%|          | 0/2 [00:00<?, ?it/s]"
      ]
     },
     "metadata": {},
     "output_type": "display_data"
    },
    {
     "name": "stderr",
     "output_type": "stream",
     "text": [
      "Using pad_token, but it is not set yet.\n"
     ]
    },
    {
     "name": "stdout",
     "output_type": "stream",
     "text": [
      "Loaded pretrained model meta-llama/Llama-2-7b-chat-hf into HookedTransformer\n"
     ]
    },
    {
     "data": {
      "application/vnd.jupyter.widget-view+json": {
       "model_id": "7fd431dea95d40f2a39722939a5d75a0",
       "version_major": 2,
       "version_minor": 0
      },
      "text/plain": [
       "  0%|          | 0/20 [00:00<?, ?it/s]"
      ]
     },
     "metadata": {},
     "output_type": "display_data"
    },
    {
     "name": "stdout",
     "output_type": "stream",
     "text": [
      "The capital of Germany is Berlin. Berlin is the largest city in Germany and is known for its rich history, cultural attractions\n"
     ]
    }
   ],
   "source": [
    "# You will need to login to huggingface first:\n",
    "#   huggingface-cli login\n",
    "tokenizer = AutoTokenizer.from_pretrained(\"meta-llama/Llama-2-7b-chat-hf\")\n",
    "hf_model = AutoModelForCausalLM.from_pretrained(\n",
    "    \"meta-llama/Llama-2-7b-chat-hf\",\n",
    "    low_cpu_mem_usage=True,\n",
    ")\n",
    "\n",
    "tl_model = HookedTransformer.from_pretrained(\n",
    "    \"meta-llama/Llama-2-7b-chat-hf\",\n",
    "    hf_model=hf_model,\n",
    "    device=\"cuda\",\n",
    "    fold_ln=False,\n",
    "    center_writing_weights=False,\n",
    "    center_unembed=False,\n",
    "    tokenizer=tokenizer,\n",
    ")\n",
    "# tl_model.requires_grad_(False)\n",
    "with torch.no_grad():\n",
    "    print(\n",
    "        tl_model.generate(\n",
    "            \"The capital of Germany is\", max_new_tokens=20, temperature=0\n",
    "        )\n",
    "    )"
   ]
  },
  {
   "cell_type": "markdown",
   "metadata": {},
   "source": [
    "### Load facts and develop prompts"
   ]
  },
  {
   "cell_type": "code",
   "execution_count": 4,
   "metadata": {},
   "outputs": [
    {
     "data": {
      "text/html": [
       "<div>\n",
       "<style scoped>\n",
       "    .dataframe tbody tr th:only-of-type {\n",
       "        vertical-align: middle;\n",
       "    }\n",
       "\n",
       "    .dataframe tbody tr th {\n",
       "        vertical-align: top;\n",
       "    }\n",
       "\n",
       "    .dataframe thead th {\n",
       "        text-align: right;\n",
       "    }\n",
       "</style>\n",
       "<table border=\"1\" class=\"dataframe\">\n",
       "  <thead>\n",
       "    <tr style=\"text-align: right;\">\n",
       "      <th></th>\n",
       "      <th>question</th>\n",
       "      <th>answer</th>\n",
       "      <th>type</th>\n",
       "    </tr>\n",
       "  </thead>\n",
       "  <tbody>\n",
       "    <tr>\n",
       "      <th>0</th>\n",
       "      <td>Tom Brady plays the sport of</td>\n",
       "      <td>football</td>\n",
       "      <td>sport</td>\n",
       "    </tr>\n",
       "    <tr>\n",
       "      <th>1</th>\n",
       "      <td>LeBron James plays the sport of</td>\n",
       "      <td>basketball</td>\n",
       "      <td>sport</td>\n",
       "    </tr>\n",
       "    <tr>\n",
       "      <th>2</th>\n",
       "      <td>Lionel Messi plays the sport of</td>\n",
       "      <td>football</td>\n",
       "      <td>sport</td>\n",
       "    </tr>\n",
       "    <tr>\n",
       "      <th>3</th>\n",
       "      <td>Serena Williams plays the sport of</td>\n",
       "      <td>tennis</td>\n",
       "      <td>sport</td>\n",
       "    </tr>\n",
       "    <tr>\n",
       "      <th>4</th>\n",
       "      <td>Michael Phelps competes in the sport of</td>\n",
       "      <td>swimming</td>\n",
       "      <td>sport</td>\n",
       "    </tr>\n",
       "    <tr>\n",
       "      <th>...</th>\n",
       "      <td>...</td>\n",
       "      <td>...</td>\n",
       "      <td>...</td>\n",
       "    </tr>\n",
       "    <tr>\n",
       "      <th>186</th>\n",
       "      <td>Mick Mars plays the</td>\n",
       "      <td>guitar</td>\n",
       "      <td>instrument</td>\n",
       "    </tr>\n",
       "    <tr>\n",
       "      <th>187</th>\n",
       "      <td>John Densmore plays the</td>\n",
       "      <td>drums</td>\n",
       "      <td>instrument</td>\n",
       "    </tr>\n",
       "    <tr>\n",
       "      <th>188</th>\n",
       "      <td>Jack Bruce plays the</td>\n",
       "      <td>bass</td>\n",
       "      <td>instrument</td>\n",
       "    </tr>\n",
       "    <tr>\n",
       "      <th>189</th>\n",
       "      <td>Lars Ulrich plays the</td>\n",
       "      <td>drums</td>\n",
       "      <td>instrument</td>\n",
       "    </tr>\n",
       "    <tr>\n",
       "      <th>190</th>\n",
       "      <td>Billy Gibbons plays the</td>\n",
       "      <td>guitar</td>\n",
       "      <td>instrument</td>\n",
       "    </tr>\n",
       "  </tbody>\n",
       "</table>\n",
       "<p>191 rows × 3 columns</p>\n",
       "</div>"
      ],
      "text/plain": [
       "                                    question      answer        type\n",
       "0               Tom Brady plays the sport of    football       sport\n",
       "1            LeBron James plays the sport of  basketball       sport\n",
       "2            Lionel Messi plays the sport of    football       sport\n",
       "3         Serena Williams plays the sport of      tennis       sport\n",
       "4    Michael Phelps competes in the sport of    swimming       sport\n",
       "..                                       ...         ...         ...\n",
       "186                      Mick Mars plays the      guitar  instrument\n",
       "187                  John Densmore plays the       drums  instrument\n",
       "188                     Jack Bruce plays the        bass  instrument\n",
       "189                    Lars Ulrich plays the       drums  instrument\n",
       "190                  Billy Gibbons plays the      guitar  instrument\n",
       "\n",
       "[191 rows x 3 columns]"
      ]
     },
     "execution_count": 4,
     "metadata": {},
     "output_type": "execute_result"
    }
   ],
   "source": [
    "irrelevant_words = [\"apple\", \"river\", \"car\", \"dog\", \"house\", \"tree\", \"book\"]\n",
    "\n",
    "df_raw = pd.read_csv(\"../../data/facts.csv\")\n",
    "assert set(df_raw.answer) & set(irrelevant_words) == set()\n",
    "df_raw"
   ]
  },
  {
   "cell_type": "code",
   "execution_count": 5,
   "metadata": {},
   "outputs": [
    {
     "name": "stdout",
     "output_type": "stream",
     "text": [
      "[INST] <<SYS>>\n",
      "You are an obedient assistant who only responds with a single word. You are not allowed to say the forbidden word apple.\n",
      "<</SYS>>\n",
      "Tom Brady plays the sport of [/INST] \n",
      "Rank 0. Logit: 26.48 Prob: 99.67% Tokens: ( 8914) |Football|</s>|\n",
      "Rank 1. Logit: 20.00 Prob:  0.15% Tokens: (18322) |FO|OT|B|ALL|</s>|\n",
      "Rank 2. Logit: 19.85 Prob:  0.13% Tokens: ( 5733) |football|</s>|\n",
      "Rank 3. Logit: 17.54 Prob:  0.01% Tokens: (13440) |Foot|ball|</s>|\n",
      "Rank 4. Logit: 17.15 Prob:  0.01% Tokens: (25167) |NFL|</s>|\n",
      "\n",
      "[INST] <<SYS>>\n",
      "You are an obedient assistant who only responds with a single word. You are not allowed to say the forbidden word football.\n",
      "<</SYS>>\n",
      "Tom Brady plays the sport of [/INST] \n",
      "Rank 0. Logit: 17.79 Prob: 63.15% Tokens: (23185) |Baseball|</s>|\n",
      "Rank 1. Logit: 16.07 Prob: 11.32% Tokens: (21850) |Basketball|</s>|\n",
      "Rank 2. Logit: 15.47 Prob:  6.22% Tokens: (  376) |\"|B|asketball|\"|</s>|\n",
      "Rank 3. Logit: 15.30 Prob:  5.27% Tokens: (18585) |Sure|!|Tom|Br|ady|plays|...|(|p|aus|es|for|dram|atic|effect|)|...|qu|arter|back|!|\n",
      "Rank 4. Logit: 15.04 Prob:  4.05% Tokens: (  751) |Qu|arter|back|</s>|\n"
     ]
    }
   ],
   "source": [
    "def get_dontsay_prompt(question: str, forbidden_word: str):\n",
    "    return f\"\"\"\\\n",
    "[INST] <<SYS>>\n",
    "You are an obedient assistant who only responds with a single word. \\\n",
    "You are not allowed to say the forbidden word {forbidden_word}.\n",
    "<</SYS>>\n",
    "{question} [/INST] \\\n",
    "\"\"\"\n",
    "\n",
    "\n",
    "# df_raw[\"fb_word\"] = [\n",
    "#     irrelevant_words[i % len(irrelevant_words)] for i in range(len(df_raw))\n",
    "# ]\n",
    "df_raw[\"fb_word\"] = \"apple\"\n",
    "df_raw[\"prompt_nc\"] = [\n",
    "    get_dontsay_prompt(q, fw) for q, fw in zip(df_raw.question, df_raw.fb_word)\n",
    "]\n",
    "df_raw[\"prompt_c\"] = [\n",
    "    get_dontsay_prompt(q, answer)\n",
    "    for q, answer in zip(df_raw.question, df_raw.answer)\n",
    "]\n",
    "\n",
    "idx = 0\n",
    "tl_model.remove_all_hook_fns(including_permanent=True)\n",
    "for i, prompt in enumerate([df_raw.prompt_nc[idx], df_raw.prompt_c[idx]]):\n",
    "    print(prompt)\n",
    "    utils.get_top_responses(\n",
    "        prompt=prompt, model=tl_model, top_k=5, n_continuation_tokens=20\n",
    "    )\n",
    "    print() if i == 0 else None"
   ]
  },
  {
   "cell_type": "code",
   "execution_count": 6,
   "metadata": {},
   "outputs": [
    {
     "data": {
      "application/vnd.jupyter.widget-view+json": {
       "model_id": "1a6815466f9a4848b76df36601e0f31a",
       "version_major": 2,
       "version_minor": 0
      },
      "text/plain": [
       "  0%|          | 0/191 [00:00<?, ?it/s]"
      ]
     },
     "metadata": {},
     "output_type": "display_data"
    }
   ],
   "source": [
    "def get_forbidden_token_range(prompt: str, forbidden_word: str) -> slice:\n",
    "    tokens = tl_model.to_tokens(prompt)[0]\n",
    "    start = 35\n",
    "    for end in range(36, len(tokens) + 1):\n",
    "        if tl_model.to_string(tokens[start:end]) == forbidden_word:\n",
    "            return slice(start, end)\n",
    "    raise ValueError(\"forbidden word not found\")\n",
    "\n",
    "\n",
    "metrics = []\n",
    "for idx in tqdm(range(len(df_raw))):\n",
    "    prompt_nc = df_raw.prompt_nc[idx]\n",
    "    prompt_c = df_raw.prompt_c[idx]\n",
    "\n",
    "    frng_c = get_forbidden_token_range(prompt_c, df_raw.answer[idx])\n",
    "    frng_nc = get_forbidden_token_range(prompt_nc, df_raw.fb_word[idx])\n",
    "\n",
    "    with torch.no_grad():\n",
    "        logits_c, cache_c = tl_model.run_with_cache(\n",
    "            prompt_c,\n",
    "            names_filter=[tl_utils.get_act_name(\"pattern\", LAYER)],\n",
    "            remove_batch_dim=True,\n",
    "        )\n",
    "        logits_nc, cache_nc = tl_model.run_with_cache(\n",
    "            prompt_nc,\n",
    "            names_filter=[tl_utils.get_act_name(\"pattern\", LAYER)],\n",
    "            remove_batch_dim=True,\n",
    "        )\n",
    "\n",
    "        logits_nc = logits_nc[0, -1]\n",
    "        logits_c = logits_c[0, -1]\n",
    "\n",
    "        pattern_c = cache_c[\"pattern\", LAYER][HEAD, -1]\n",
    "        pattern_nc = cache_nc[\"pattern\", LAYER][HEAD, -1]\n",
    "\n",
    "        f_attn_prob_c = pattern_c[frng_c].sum()\n",
    "        f_attn_prob_nc = pattern_nc[frng_nc].sum()\n",
    "\n",
    "        top_tok_nc = logits_nc.argmax().item()\n",
    "        top_tok_c = logits_c.argmax().item()\n",
    "\n",
    "        top_tok_nc_prob_nc = logits_nc.softmax(dim=-1)[top_tok_nc]\n",
    "        top_tok_nc_prob_c = logits_c.softmax(dim=-1)[top_tok_nc]\n",
    "\n",
    "        log_bf_fb = top_tok_nc_prob_c.logit() - top_tok_nc_prob_nc.logit()\n",
    "\n",
    "    metrics.append(\n",
    "        dict(\n",
    "            top_tok_nc=top_tok_nc,\n",
    "            top_tok_c=top_tok_c,\n",
    "            logits_c=logits_c.detach().cpu().numpy(),\n",
    "            logits_nc=logits_nc.detach().cpu().numpy(),\n",
    "            top_tok_nc_prob_nc=top_tok_nc_prob_nc.item(),\n",
    "            top_tok_nc_prob_c=top_tok_nc_prob_c.item(),\n",
    "            log_bf_fb=log_bf_fb.item(),\n",
    "            top_str_nc=tl_model.to_string(top_tok_nc),\n",
    "            top_str_c=tl_model.to_string(top_tok_c),\n",
    "            pattern_c=pattern_c.detach().cpu().numpy(),\n",
    "            pattern_nc=pattern_nc.detach().cpu().numpy(),\n",
    "            f_attn_prob_c=f_attn_prob_c.item(),\n",
    "            f_attn_prob_nc=f_attn_prob_nc.item(),\n",
    "            frng_c=frng_c,\n",
    "            frng_nc=frng_nc,\n",
    "            flen_c=frng_c.stop - frng_c.start,\n",
    "            flen_nc=frng_nc.stop - frng_nc.start,\n",
    "            n_tokens_c=len(tl_model.to_tokens(prompt_c)[0]),\n",
    "            n_tokens_nc=len(tl_model.to_tokens(prompt_nc)[0]),\n",
    "        )\n",
    "    )\n",
    "\n",
    "df_raw = df_raw.assign(**pd.DataFrame(metrics))"
   ]
  },
  {
   "cell_type": "code",
   "execution_count": 7,
   "metadata": {},
   "outputs": [
    {
     "name": "stdout",
     "output_type": "stream",
     "text": [
      "# correct: 186 / 191\n"
     ]
    },
    {
     "data": {
      "text/html": [
       "<div>\n",
       "<style scoped>\n",
       "    .dataframe tbody tr th:only-of-type {\n",
       "        vertical-align: middle;\n",
       "    }\n",
       "\n",
       "    .dataframe tbody tr th {\n",
       "        vertical-align: top;\n",
       "    }\n",
       "\n",
       "    .dataframe thead th {\n",
       "        text-align: right;\n",
       "    }\n",
       "</style>\n",
       "<table border=\"1\" class=\"dataframe\">\n",
       "  <thead>\n",
       "    <tr style=\"text-align: right;\">\n",
       "      <th></th>\n",
       "      <th>question</th>\n",
       "      <th>answer</th>\n",
       "      <th>top_str_nc</th>\n",
       "    </tr>\n",
       "  </thead>\n",
       "  <tbody>\n",
       "    <tr>\n",
       "      <th>128</th>\n",
       "      <td>The element with atomic symbol Kr is</td>\n",
       "      <td>krypton</td>\n",
       "      <td>Pot</td>\n",
       "    </tr>\n",
       "    <tr>\n",
       "      <th>134</th>\n",
       "      <td>The element with atomic symbol Pm is</td>\n",
       "      <td>promethium</td>\n",
       "      <td>Pl</td>\n",
       "    </tr>\n",
       "    <tr>\n",
       "      <th>170</th>\n",
       "      <td>Chet Baker plays the</td>\n",
       "      <td>trumpet</td>\n",
       "      <td>Jazz</td>\n",
       "    </tr>\n",
       "    <tr>\n",
       "      <th>171</th>\n",
       "      <td>Lee Morgan plays the</td>\n",
       "      <td>trumpet</td>\n",
       "      <td>Jazz</td>\n",
       "    </tr>\n",
       "    <tr>\n",
       "      <th>188</th>\n",
       "      <td>Jack Bruce plays the</td>\n",
       "      <td>bass</td>\n",
       "      <td>Gu</td>\n",
       "    </tr>\n",
       "  </tbody>\n",
       "</table>\n",
       "</div>"
      ],
      "text/plain": [
       "                                 question      answer top_str_nc\n",
       "128  The element with atomic symbol Kr is     krypton        Pot\n",
       "134  The element with atomic symbol Pm is  promethium         Pl\n",
       "170                  Chet Baker plays the     trumpet       Jazz\n",
       "171                  Lee Morgan plays the     trumpet       Jazz\n",
       "188                  Jack Bruce plays the        bass         Gu"
      ]
     },
     "execution_count": 7,
     "metadata": {},
     "output_type": "execute_result"
    }
   ],
   "source": [
    "df_raw[\"correct_nc\"] = [\n",
    "    answer.lower().startswith(top_str_nc.lower())\n",
    "    for top_str_nc, answer in zip(df_raw.top_str_nc, df_raw.answer)\n",
    "]\n",
    "print(f\"# correct: {df_raw.correct_nc.sum()} / {len(df_raw)}\")\n",
    "df = df_raw.query(\"correct_nc\").reset_index(drop=True)\n",
    "df_raw.query(\"~correct_nc\")[[\"question\", \"answer\", \"top_str_nc\"]]"
   ]
  },
  {
   "cell_type": "markdown",
   "metadata": {},
   "source": [
    "### Filter to questions that have high attention to forbidden tokens"
   ]
  },
  {
   "cell_type": "code",
   "execution_count": 8,
   "metadata": {},
   "outputs": [
    {
     "name": "stdout",
     "output_type": "stream",
     "text": [
      "# c. prompts with > 30.0% forbidden attn: 110\n",
      "# n.c. prompts with > 30.0% forbidden attn: 6\n",
      "89\n",
      "type\n",
      "sport         35\n",
      "instrument    31\n",
      "country       21\n",
      "element        2\n",
      "Name: count, dtype: int64\n"
     ]
    },
    {
     "data": {
      "text/html": [
       "<div>\n",
       "<style scoped>\n",
       "    .dataframe tbody tr th:only-of-type {\n",
       "        vertical-align: middle;\n",
       "    }\n",
       "\n",
       "    .dataframe tbody tr th {\n",
       "        vertical-align: top;\n",
       "    }\n",
       "\n",
       "    .dataframe thead th {\n",
       "        text-align: right;\n",
       "    }\n",
       "</style>\n",
       "<table border=\"1\" class=\"dataframe\">\n",
       "  <thead>\n",
       "    <tr style=\"text-align: right;\">\n",
       "      <th></th>\n",
       "      <th>question</th>\n",
       "      <th>answer</th>\n",
       "    </tr>\n",
       "  </thead>\n",
       "  <tbody>\n",
       "    <tr>\n",
       "      <th>0</th>\n",
       "      <td>LeBron James plays the sport of</td>\n",
       "      <td>basketball</td>\n",
       "    </tr>\n",
       "    <tr>\n",
       "      <th>1</th>\n",
       "      <td>Serena Williams plays the sport of</td>\n",
       "      <td>tennis</td>\n",
       "    </tr>\n",
       "    <tr>\n",
       "      <th>2</th>\n",
       "      <td>Babe Ruth played the sport of</td>\n",
       "      <td>baseball</td>\n",
       "    </tr>\n",
       "    <tr>\n",
       "      <th>3</th>\n",
       "      <td>Roger Federer plays the sport of</td>\n",
       "      <td>tennis</td>\n",
       "    </tr>\n",
       "    <tr>\n",
       "      <th>4</th>\n",
       "      <td>Venus Williams plays the sport of</td>\n",
       "      <td>tennis</td>\n",
       "    </tr>\n",
       "  </tbody>\n",
       "</table>\n",
       "</div>"
      ],
      "text/plain": [
       "                             question      answer\n",
       "0     LeBron James plays the sport of  basketball\n",
       "1  Serena Williams plays the sport of      tennis\n",
       "2       Babe Ruth played the sport of    baseball\n",
       "3    Roger Federer plays the sport of      tennis\n",
       "4   Venus Williams plays the sport of      tennis"
      ]
     },
     "execution_count": 8,
     "metadata": {},
     "output_type": "execute_result"
    }
   ],
   "source": [
    "thresh = 0.3\n",
    "\n",
    "print(\n",
    "    f\"# c. prompts with > {thresh * 100}% forbidden attn:\",\n",
    "    (df.f_attn_prob_c > thresh).sum(),\n",
    ")\n",
    "\n",
    "print(\n",
    "    f\"# n.c. prompts with > {thresh * 100}% forbidden attn:\",\n",
    "    (df.f_attn_prob_nc > thresh).sum(),\n",
    ")\n",
    "\n",
    "hi_attn_df = df.query(\"(f_attn_prob_c > @thresh) & (flen_c == 1)\").reset_index(\n",
    "    drop=True\n",
    ")\n",
    "print(len(hi_attn_df))\n",
    "print(hi_attn_df.type.value_counts())\n",
    "hi_attn_df[[\"question\", \"answer\"]].head()"
   ]
  },
  {
   "cell_type": "code",
   "execution_count": 9,
   "metadata": {},
   "outputs": [
    {
     "data": {
      "text/plain": [
       "n_tokens_c\n",
       "58    19\n",
       "56    14\n",
       "57    12\n",
       "55    11\n",
       "59    11\n",
       "54     9\n",
       "60     6\n",
       "53     3\n",
       "61     2\n",
       "62     2\n",
       "Name: count, dtype: int64"
      ]
     },
     "execution_count": 9,
     "metadata": {},
     "output_type": "execute_result"
    }
   ],
   "source": [
    "hi_attn_df.n_tokens_c.value_counts()"
   ]
  },
  {
   "cell_type": "code",
   "execution_count": 10,
   "metadata": {},
   "outputs": [
    {
     "data": {
      "text/html": [
       "<div>\n",
       "<style scoped>\n",
       "    .dataframe tbody tr th:only-of-type {\n",
       "        vertical-align: middle;\n",
       "    }\n",
       "\n",
       "    .dataframe tbody tr th {\n",
       "        vertical-align: top;\n",
       "    }\n",
       "\n",
       "    .dataframe thead th {\n",
       "        text-align: right;\n",
       "    }\n",
       "</style>\n",
       "<table border=\"1\" class=\"dataframe\">\n",
       "  <thead>\n",
       "    <tr style=\"text-align: right;\">\n",
       "      <th></th>\n",
       "      <th>question</th>\n",
       "      <th>answer</th>\n",
       "      <th>f_attn_prob_c</th>\n",
       "    </tr>\n",
       "  </thead>\n",
       "  <tbody>\n",
       "    <tr>\n",
       "      <th>0</th>\n",
       "      <td>Roger Federer plays the sport of</td>\n",
       "      <td>tennis</td>\n",
       "      <td>0.333909</td>\n",
       "    </tr>\n",
       "    <tr>\n",
       "      <th>1</th>\n",
       "      <td>Alex Ovechkin plays the sport of</td>\n",
       "      <td>hockey</td>\n",
       "      <td>0.586974</td>\n",
       "    </tr>\n",
       "    <tr>\n",
       "      <th>2</th>\n",
       "      <td>Rafael Nadal plays the sport of</td>\n",
       "      <td>tennis</td>\n",
       "      <td>0.388849</td>\n",
       "    </tr>\n",
       "    <tr>\n",
       "      <th>3</th>\n",
       "      <td>Pete Sampras played the sport of</td>\n",
       "      <td>tennis</td>\n",
       "      <td>0.407343</td>\n",
       "    </tr>\n",
       "    <tr>\n",
       "      <th>4</th>\n",
       "      <td>Bryce Harper plays the sport of</td>\n",
       "      <td>baseball</td>\n",
       "      <td>0.713604</td>\n",
       "    </tr>\n",
       "    <tr>\n",
       "      <th>5</th>\n",
       "      <td>Mookie Betts plays the sport of</td>\n",
       "      <td>baseball</td>\n",
       "      <td>0.732516</td>\n",
       "    </tr>\n",
       "    <tr>\n",
       "      <th>6</th>\n",
       "      <td>Luka Dončić plays the sport of</td>\n",
       "      <td>basketball</td>\n",
       "      <td>0.746284</td>\n",
       "    </tr>\n",
       "    <tr>\n",
       "      <th>7</th>\n",
       "      <td>Larry Fitzgerald plays the sport of</td>\n",
       "      <td>football</td>\n",
       "      <td>0.323855</td>\n",
       "    </tr>\n",
       "    <tr>\n",
       "      <th>8</th>\n",
       "      <td>Jacob deGrom plays the sport of</td>\n",
       "      <td>baseball</td>\n",
       "      <td>0.653835</td>\n",
       "    </tr>\n",
       "    <tr>\n",
       "      <th>9</th>\n",
       "      <td>Kawhi Leonard plays the sport of</td>\n",
       "      <td>basketball</td>\n",
       "      <td>0.916609</td>\n",
       "    </tr>\n",
       "    <tr>\n",
       "      <th>10</th>\n",
       "      <td>Billie Jean King played the sport of</td>\n",
       "      <td>tennis</td>\n",
       "      <td>0.447253</td>\n",
       "    </tr>\n",
       "    <tr>\n",
       "      <th>11</th>\n",
       "      <td>The Acropolis is in the country of</td>\n",
       "      <td>Greece</td>\n",
       "      <td>0.322922</td>\n",
       "    </tr>\n",
       "    <tr>\n",
       "      <th>12</th>\n",
       "      <td>The CN Tower is in the country of</td>\n",
       "      <td>Canada</td>\n",
       "      <td>0.354624</td>\n",
       "    </tr>\n",
       "    <tr>\n",
       "      <th>13</th>\n",
       "      <td>The Matterhorn is in the country of</td>\n",
       "      <td>Switzerland</td>\n",
       "      <td>0.543054</td>\n",
       "    </tr>\n",
       "    <tr>\n",
       "      <th>14</th>\n",
       "      <td>The Parthenon is in the country of</td>\n",
       "      <td>Greece</td>\n",
       "      <td>0.344917</td>\n",
       "    </tr>\n",
       "    <tr>\n",
       "      <th>15</th>\n",
       "      <td>The Halong Bay is in the country of</td>\n",
       "      <td>Vietnam</td>\n",
       "      <td>0.411977</td>\n",
       "    </tr>\n",
       "    <tr>\n",
       "      <th>16</th>\n",
       "      <td>The Ganges River is in the country of</td>\n",
       "      <td>India</td>\n",
       "      <td>0.542153</td>\n",
       "    </tr>\n",
       "    <tr>\n",
       "      <th>17</th>\n",
       "      <td>The Andes Mountains are in the country of</td>\n",
       "      <td>Chile</td>\n",
       "      <td>0.408867</td>\n",
       "    </tr>\n",
       "    <tr>\n",
       "      <th>18</th>\n",
       "      <td>The Ha Long Bay is in the country of</td>\n",
       "      <td>Vietnam</td>\n",
       "      <td>0.461706</td>\n",
       "    </tr>\n",
       "  </tbody>\n",
       "</table>\n",
       "</div>"
      ],
      "text/plain": [
       "                                     question       answer  f_attn_prob_c\n",
       "0            Roger Federer plays the sport of       tennis       0.333909\n",
       "1            Alex Ovechkin plays the sport of       hockey       0.586974\n",
       "2             Rafael Nadal plays the sport of       tennis       0.388849\n",
       "3            Pete Sampras played the sport of       tennis       0.407343\n",
       "4             Bryce Harper plays the sport of     baseball       0.713604\n",
       "5             Mookie Betts plays the sport of     baseball       0.732516\n",
       "6              Luka Dončić plays the sport of   basketball       0.746284\n",
       "7         Larry Fitzgerald plays the sport of     football       0.323855\n",
       "8             Jacob deGrom plays the sport of     baseball       0.653835\n",
       "9            Kawhi Leonard plays the sport of   basketball       0.916609\n",
       "10       Billie Jean King played the sport of       tennis       0.447253\n",
       "11         The Acropolis is in the country of       Greece       0.322922\n",
       "12          The CN Tower is in the country of       Canada       0.354624\n",
       "13        The Matterhorn is in the country of  Switzerland       0.543054\n",
       "14         The Parthenon is in the country of       Greece       0.344917\n",
       "15        The Halong Bay is in the country of      Vietnam       0.411977\n",
       "16      The Ganges River is in the country of        India       0.542153\n",
       "17  The Andes Mountains are in the country of        Chile       0.408867\n",
       "18       The Ha Long Bay is in the country of      Vietnam       0.461706"
      ]
     },
     "execution_count": 10,
     "metadata": {},
     "output_type": "execute_result"
    }
   ],
   "source": [
    "hi_attn_df = hi_attn_df.query(\"n_tokens_c == 58\").reset_index(drop=True)\n",
    "hi_attn_df[[\"question\", \"answer\", \"f_attn_prob_c\"]]"
   ]
  },
  {
   "cell_type": "markdown",
   "metadata": {},
   "source": [
    "### Begin subnetwork flow"
   ]
  },
  {
   "cell_type": "code",
   "execution_count": 34,
   "metadata": {},
   "outputs": [
    {
     "name": "stdout",
     "output_type": "stream",
     "text": [
      "[INST] <<SYS>>\n",
      "You are an obedient assistant who only responds with a single word. You are not allowed to say the forbidden word tennis.\n",
      "<</SYS>>\n",
      "Roger Federer plays the sport of [/INST] \n",
      "Rank 0. Logit: 14.74 Prob: 21.11% Tokens: (29010) |Tennis|</s>|\n",
      "Rank 1. Logit: 14.53 Prob: 17.12% Tokens: (  376) |\"|T|ennis|\"|</s>|\n",
      "Rank 2. Logit: 14.34 Prob: 14.11% Tokens: (  997) |La|wn|</s>|\n",
      "Rank 3. Logit: 13.99 Prob:  9.95% Tokens: (18585) |Sure|!|Here|is|my|response|\n",
      "Rank 4. Logit: 13.56 Prob:  6.51% Tokens: (18993) |Soccer|</s>|\n"
     ]
    }
   ],
   "source": [
    "mtl_model = PerTokenMaskedTransformer(\n",
    "    tl_model,\n",
    "    base_prompt=hi_attn_df.prompt_c[0],\n",
    ")\n",
    "\n",
    "\n",
    "def get_active_masks():\n",
    "    for name, p in mtl_model.masks.items():\n",
    "        if \"mlp\" in name:\n",
    "            continue\n",
    "        yield p\n",
    "\n",
    "\n",
    "print(hi_attn_df.prompt_c[0])\n",
    "utils.get_top_responses(\n",
    "    prompt=hi_attn_df.prompt_c[0],\n",
    "    model=mtl_model.tl_model,\n",
    "    top_k=5,\n",
    "    use_kv_cache=False,\n",
    ")\n",
    "optim = torch.optim.Adam(get_active_masks(), lr=1e-2)"
   ]
  },
  {
   "cell_type": "code",
   "execution_count": 35,
   "metadata": {},
   "outputs": [
    {
     "data": {
      "application/vnd.jupyter.widget-view+json": {
       "model_id": "ebd46e1ac0154ab5add47497544f8561",
       "version_major": 2,
       "version_minor": 0
      },
      "text/plain": [
       "  0%|          | 0/400 [00:00<?, ?it/s]"
      ]
     },
     "metadata": {},
     "output_type": "display_data"
    }
   ],
   "source": [
    "# Initialize optimizer\n",
    "alpha = 0.1\n",
    "n_steps = 400\n",
    "p_norm = 1\n",
    "batch_size = 2\n",
    "pi = torch.tensor(np.pi, device=mtl_model.device)\n",
    "\n",
    "np.random.seed(42)\n",
    "torch.random.manual_seed(42)\n",
    "\n",
    "mtl_model.train()\n",
    "metric_history: list[dict[str]] = []\n",
    "pbar = tqdm(range(n_steps))\n",
    "for i in pbar:\n",
    "    # Sample batch\n",
    "    batch_indices = np.random.choice(\n",
    "        len(hi_attn_df), size=batch_size, replace=False\n",
    "    )\n",
    "    batch_prompts = [hi_attn_df.prompt_c[i] for i in batch_indices]\n",
    "\n",
    "    f_attn_prob_mean = 0\n",
    "\n",
    "    def get_f_attn_prob(\n",
    "        pattern: Float[torch.Tensor, \"b head seqQ seqK\"],\n",
    "        hook: HookPoint,\n",
    "    ):\n",
    "        global f_attn_prob_mean\n",
    "        f_attn_prob_mean = pattern[:, HEAD, -1, 35].mean()\n",
    "        return pattern\n",
    "\n",
    "    mtl_model.tl_model.run_with_hooks(\n",
    "        batch_prompts,\n",
    "        fwd_hooks=[[tl_utils.get_act_name(\"pattern\", LAYER), get_f_attn_prob]],\n",
    "    )\n",
    "\n",
    "    # Regularization term\n",
    "    mask_p_norm = sum(\n",
    "        (mask**p_norm).sum() for mask in get_active_masks()\n",
    "    ) ** (1 / p_norm)\n",
    "    mask_nonzero = sum((mask > 0).sum() for mask in get_active_masks())\n",
    "    mask_numel = sum(mask.numel() for mask in get_active_masks())\n",
    "    density = mask_nonzero / mask_numel\n",
    "    scaled_p_norm = alpha * torch.sin(pi * i / n_steps) * mask_p_norm\n",
    "\n",
    "    loss = -f_attn_prob_mean + scaled_p_norm\n",
    "\n",
    "    # Gradient update step\n",
    "    optim.zero_grad()\n",
    "    loss.backward()\n",
    "    optim.step()\n",
    "\n",
    "    # Clamp the masks to be between 0 and 1\n",
    "    with torch.no_grad():\n",
    "        for mask in get_active_masks():\n",
    "            mask.clamp_(0, 1)\n",
    "\n",
    "    # Force attention in target head to be unchanged\n",
    "    # with torch.no_grad():\n",
    "    #     mtl_model.masks[f\"{LAYER}_attn_pattern\"][HEAD, -1, :] = 1\n",
    "\n",
    "    # Logging\n",
    "    metrics = dict(\n",
    "        step=i,\n",
    "        loss=loss.item(),\n",
    "        f_attn_prob_mean=f_attn_prob_mean.item(),\n",
    "        scaled_p_norm=scaled_p_norm.item(),\n",
    "        mask_p_norm=mask_p_norm.item(),\n",
    "        mask_nonzero=mask_nonzero.item(),\n",
    "        mask_numel=mask_numel,\n",
    "        density=density.item(),\n",
    "    )\n",
    "    metric_history.append(metrics)\n",
    "    pbar.set_postfix(metrics)"
   ]
  },
  {
   "cell_type": "code",
   "execution_count": 36,
   "metadata": {},
   "outputs": [
    {
     "data": {
      "image/png": "[encoded data removed]",
      "text/plain": [
       "<Figure size 1300x270 with 3 Axes>"
      ]
     },
     "metadata": {},
     "output_type": "display_data"
    }
   ],
   "source": [
    "df = pd.DataFrame(metric_history)\n",
    "\n",
    "plt.figure(figsize=(13, 2.7))\n",
    "plt.subplot(1, 3, 1)\n",
    "df.f_attn_prob_mean.plot()\n",
    "plt.yscale(\"logit\")\n",
    "plt.legend()\n",
    "plt.xlabel(\"Step\")\n",
    "\n",
    "plt.subplot(1, 3, 2)\n",
    "df.mask_p_norm.plot()\n",
    "plt.yscale(\"log\")\n",
    "plt.legend()\n",
    "plt.xlabel(\"Step\")\n",
    "\n",
    "plt.subplot(1, 3, 3)\n",
    "df.mask_nonzero.plot()\n",
    "plt.yscale(\"log\")\n",
    "plt.legend()\n",
    "plt.xlabel(\"Step\")\n",
    "\n",
    "plt.show()"
   ]
  },
  {
   "cell_type": "code",
   "execution_count": 37,
   "metadata": {},
   "outputs": [
    {
     "data": {
      "text/plain": [
       "((32, 58), (32, 58, 32), (32, 32, 58, 58), (32, 58))"
      ]
     },
     "execution_count": 37,
     "metadata": {},
     "output_type": "execute_result"
    }
   ],
   "source": [
    "attn_mask = np.stack(\n",
    "    [mtl_model.masks[f\"{i}_attn_out\"].detach().cpu().numpy() for i in range(32)]\n",
    ")\n",
    "attn_z_mask = np.stack(\n",
    "    [mtl_model.masks[f\"{i}_attn_z\"].detach().cpu().numpy() for i in range(32)], axis=0\n",
    ")\n",
    "attn_pattern_mask = np.stack(\n",
    "    [mtl_model.masks[f\"{i}_attn_pattern\"].detach().cpu().numpy() for i in range(32)],\n",
    ")\n",
    "mlp_mask = np.stack(\n",
    "    [mtl_model.masks[f\"{i}_mlp_out\"].detach().cpu().numpy() for i in range(32)]\n",
    ")\n",
    "\n",
    "attn_z_mask *= (attn_mask > 0)[:, :, np.newaxis]\n",
    "attn_mask.shape, attn_z_mask.shape, attn_pattern_mask.shape, mlp_mask.shape"
   ]
  },
  {
   "cell_type": "code",
   "execution_count": 41,
   "metadata": {},
   "outputs": [
    {
     "data": {
      "text/html": [
       "<div id=\"circuits-vis-8883e4ed-d422\" style=\"margin: 15px 0;\"/>\n",
       "    <script crossorigin type=\"module\">\n",
       "    import { render, ColoredTokens } from \"https://unpkg.com/circuitsvis@1.41.0/dist/cdn/esm.js\";\n",
       "    render(\n",
       "      \"circuits-vis-8883e4ed-d422\",\n",
       "      ColoredTokens,\n",
       "      {\"tokens\": [\"<< bos >>\", \"[\", \"INST\", \"]\", \"<<\", \"SY\", \"S\", \">>\", \"\\n\", \"You\", \"are\", \"an\", \"ob\", \"ed\", \"ient\", \"assistant\", \"who\", \"only\", \"respond\", \"s\", \"with\", \"a\", \"single\", \"word\", \".\", \"You\", \"are\", \"not\", \"allowed\", \"to\", \"say\", \"the\", \"forb\", \"idden\", \"word\", \"tennis\", \".\", \"\\n\", \"<\", \"</\", \"SY\", \"S\", \">>\", \"\\n\", \"R\", \"og\", \"er\", \"Feder\", \"er\", \"plays\", \"the\", \"sport\", \"of\", \"[\", \"/\", \"INST\", \"]\", \"\"], \"values\": [0, 1, 2, 3, 4, 5, 6, 7, 8, 9, 10, 11, 12, 13, 14, 15, 16, 17, 18, 19, 20, 21, 22, 23, 24, 25, 26, 27, 28, 29, 30, 31, 32, 33, 34, 35, 36, 37, 38, 39, 40, 41, 42, 43, 44, 45, 46, 47, 48, 49, 50, 51, 52, 53, 54, 55, 56, 57]}\n",
       "    )\n",
       "    </script>"
      ],
      "text/plain": [
       "<circuitsvis.utils.render.RenderedHTML at 0x7f2b2180df00>"
      ]
     },
     "metadata": {},
     "output_type": "display_data"
    },
    {
     "name": "stdout",
     "output_type": "stream",
     "text": [
      "T54 L0H25ATN weight=0.2096542865037918\n",
      "T56 L0H25ATN weight=0.5915775895118713\n",
      "T56 L1H27ATN weight=0.8020796775817871\n",
      "T56 L2H13ATN weight=0.9531769752502441\n",
      "T56 L3H5ATN weight=0.9244738817214966\n",
      "T57 L0H3ATN weight=0.5772367715835571\n",
      "T57 L0H15ATN weight=0.6904349327087402\n",
      "T57 L0H25ATN weight=0.9985969066619873\n",
      "T57 L4H7ATN weight=0.9211786985397339\n",
      "T57 L4H8ATN weight=1.0\n",
      "T57 L4H20ATN weight=0.5988414883613586\n",
      "T57 L4H27ATN weight=0.5741042494773865\n",
      "T37 L0H20 -> k37 weight=0.03815986\n",
      "T54 L0H25 -> k0 weight=0.115552716\n",
      "T54 L0H25 -> k53 weight=0.021567114\n",
      "T56 L0H25 -> k53 weight=0.5881597\n",
      "T56 L1H27 -> k0 weight=0.7566178\n",
      "T56 L1H27 -> k53 weight=0.05514198\n",
      "T56 L2H13 -> k0 weight=0.73968357\n",
      "T56 L2H13 -> k54 weight=0.26309538\n",
      "T56 L3H5 -> k8 weight=0.6606465\n",
      "T56 L3H5 -> k54 weight=0.30749762\n",
      "T57 L0H3 -> k0 weight=0.57290864\n",
      "T57 L0H15 -> k0 weight=0.6145456\n",
      "T57 L0H15 -> k43 weight=0.08392419\n",
      "T57 L0H25 -> k55 weight=0.7130469\n",
      "T57 L0H25 -> k57 weight=0.59454864\n",
      "T57 L4H7 -> k8 weight=0.765216\n",
      "T57 L4H7 -> k57 weight=0.2150824\n",
      "T57 L4H8 -> k1 weight=1.0\n",
      "T57 L4H8 -> k56 weight=0.08017419\n",
      "T57 L4H20 -> k54 weight=0.59954214\n",
      "T57 L4H27 -> k56 weight=0.563545\n",
      "T57 L27H29 -> k0 weight=1.0\n",
      "T57 L27H29 -> k35 weight=1.0\n"
     ]
    },
    {
     "data": {
      "image/png": "[encoded data removed]",
      "text/plain": [
       "<Figure size 1600x400 with 6 Axes>"
      ]
     },
     "metadata": {},
     "output_type": "display_data"
    }
   ],
   "source": [
    "# Plot heatmap of attention mask\n",
    "prompt = hi_attn_df.prompt_c[0]\n",
    "tokens = mtl_model.tl_model.to_tokens(prompt)[0]\n",
    "display(\n",
    "    cv_tokens.colored_tokens(\n",
    "        [\"<< bos >>\"] + utils.tokenize_to_strs(prompt, tl_model)[1:],\n",
    "        np.arange(len(tokens)),\n",
    "    )\n",
    ")\n",
    "\n",
    "for token_idx in range(mtl_model.n_tokens):\n",
    "    for layer_idx in range(32):\n",
    "        for head_idx in range(mtl_model.tl_model.cfg.n_heads):\n",
    "            weight_attn = attn_z_mask[layer_idx, token_idx, head_idx]\n",
    "            if weight_attn > 0:\n",
    "                print(\n",
    "                    f\"T{token_idx} L{layer_idx}H{head_idx}ATN weight={weight_attn}\"\n",
    "                )\n",
    "\n",
    "        # weight_mlp = mlp_mask[layer_idx, token_idx]\n",
    "        # if weight_mlp > 0:\n",
    "        #     print(f\"T{token_idx} L{layer_idx}MLP weight={weight_mlp}\")\n",
    "\n",
    "for token_idx_q in range(mtl_model.n_tokens):\n",
    "    for layer_idx in range(32):\n",
    "        for head_idx in range(mtl_model.tl_model.cfg.n_heads):\n",
    "            for token_idx_k in range(mtl_model.n_tokens):\n",
    "                weight = attn_pattern_mask[\n",
    "                    layer_idx, head_idx, token_idx_q, token_idx_k\n",
    "                ]\n",
    "                if weight > 0:\n",
    "                    q_token = mtl_model.tl_model.to_string(tokens[token_idx_q])\n",
    "                    k_token = mtl_model.tl_model.to_string(tokens[token_idx_k])\n",
    "                    print(\n",
    "                        f\"T{token_idx_q} L{layer_idx}H{head_idx}\"\n",
    "                        f\" -> k{token_idx_k}\"\n",
    "                        f\" {weight=}\"\n",
    "                    )\n",
    "\n",
    "plt.figure(figsize=(16, 4))\n",
    "# plt.suptitle(tokenized_subprompt)\n",
    "\n",
    "plt.subplot(1, 3, 1)\n",
    "plt.imshow(attn_mask, origin=\"lower\")\n",
    "plt.xlabel(\"Token\")\n",
    "plt.ylabel(\"Layer\")\n",
    "plt.colorbar()\n",
    "plt.title(\"attn_out mask\")\n",
    "\n",
    "plt.subplot(1, 3, 2)\n",
    "plt.imshow(attn_z_mask.sum(axis=-1), origin=\"lower\")\n",
    "plt.xlabel(\"Token\")\n",
    "plt.ylabel(\"Layer\")\n",
    "plt.colorbar()\n",
    "plt.title(\"attn_z mask (summed over heads)\")\n",
    "\n",
    "plt.subplot(1, 3, 3)\n",
    "plt.imshow(mlp_mask, origin=\"lower\")\n",
    "plt.xlabel(\"Token\")\n",
    "plt.ylabel(\"Layer\")\n",
    "plt.colorbar()\n",
    "plt.title(\"mlp_out mask\")\n",
    "\n",
    "plt.show()"
   ]
  },
  {
   "cell_type": "code",
   "execution_count": 46,
   "metadata": {},
   "outputs": [
    {
     "name": "stdout",
     "output_type": "stream",
     "text": [
      "tensor(0.3105, device='cuda:0')\n"
     ]
    }
   ],
   "source": [
    "f_attn_prob_mean = 0\n",
    "\n",
    "def get_f_attn_prob(\n",
    "    pattern: Float[torch.Tensor, \"b head seqQ seqK\"],\n",
    "    hook: HookPoint,\n",
    "):\n",
    "    global f_attn_prob_mean\n",
    "    f_attn_prob_mean = pattern[:, HEAD, -1, 35].mean()\n",
    "    return pattern\n",
    "\n",
    "mtl_model.zero_threshold = 0.05\n",
    "mtl_model.one_threshold = 0.05\n",
    "with torch.no_grad():\n",
    "    mtl_model.tl_model.run_with_hooks(\n",
    "        list(hi_attn_df.prompt_c),\n",
    "        fwd_hooks=[[tl_utils.get_act_name(\"pattern\", LAYER), get_f_attn_prob]],\n",
    "    )\n",
    "\n",
    "print(f_attn_prob_mean)"
   ]
  },
  {
   "cell_type": "markdown",
   "metadata": {},
   "source": [
    "### Custom prompt experiment"
   ]
  },
  {
   "cell_type": "code",
   "execution_count": 131,
   "metadata": {},
   "outputs": [
    {
     "name": "stdout",
     "output_type": "stream",
     "text": [
      "[INST] <<SYS>>\n",
      "You are an obedient assistant who only responds with a single word. You are not allowed to say the forbidden word apple. You are allowed to say the word tennis.\n",
      "<</SYS>>\n",
      "Novak Djokovic plays the sport of [/INST] \n",
      "Rank 0. Logit: 25.88 Prob: 96.17% Tokens: (29010) |Tennis|</s>|\n",
      "Rank 1. Logit: 22.65 Prob:  3.82% Tokens: (22556) |tennis|</s>|\n",
      "Rank 2. Logit: 15.82 Prob:  0.00% Tokens: (  376) |\"|T|ennis|\"|</s>|\n",
      "Rank 3. Logit: 15.71 Prob:  0.00% Tokens: (18585) |Sure|!|Nov|ak|Dj|ok|\n",
      "Rank 4. Logit: 15.04 Prob:  0.00% Tokens: (12444) |Ten|is|</s>|\n",
      "L27H29 Attention Pattern:\n"
     ]
    },
    {
     "data": {
      "text/html": [
       "<div id=\"circuits-vis-aab6bfee-bf31\" style=\"margin: 15px 0;\"/>\n",
       "    <script crossorigin type=\"module\">\n",
       "    import { render, ColoredTokens } from \"https://unpkg.com/circuitsvis@1.41.0/dist/cdn/esm.js\";\n",
       "    render(\n",
       "      \"circuits-vis-aab6bfee-bf31\",\n",
       "      ColoredTokens,\n",
       "      {\"tokens\": [\"<< bos >>\", \"[\", \"INST\", \"]\", \"<<\", \"SY\", \"S\", \">>\", \"\\n\", \"You\", \"are\", \"an\", \"ob\", \"ed\", \"ient\", \"assistant\", \"who\", \"only\", \"respond\", \"s\", \"with\", \"a\", \"single\", \"word\", \".\", \"You\", \"are\", \"not\", \"allowed\", \"to\", \"say\", \"the\", \"forb\", \"idden\", \"word\", \"apple\", \".\", \"You\", \"are\", \"allowed\", \"to\", \"say\", \"the\", \"word\", \"tennis\", \".\", \"\\n\", \"<\", \"</\", \"SY\", \"S\", \">>\", \"\\n\", \"Nov\", \"ak\", \"Dj\", \"ok\", \"ov\", \"ic\", \"plays\", \"the\", \"sport\", \"of\", \"[\", \"/\", \"INST\", \"]\", \"\"], \"values\": [0.2316366732120514, 0.0031712125055491924, 0.00019792735110968351, 0.0008089745533652604, 0.00040903969784267247, 0.00021756392379757017, 0.00030495444661937654, 0.00028025766368955374, 0.16069696843624115, 0.0007271712529473007, 0.000396821356844157, 0.002125242492184043, 0.0008003125549294055, 6.461192242568359e-05, 0.00037327883183024824, 0.0019734834786504507, 0.000549991731531918, 0.0002307312679477036, 8.310988778248429e-05, 0.00014263998309616, 0.0007181211258284748, 0.0005825705593451858, 0.0003618770861066878, 0.0002472715568728745, 0.0003375298110768199, 0.00036768606514669955, 0.00017462889081798494, 0.00025504306540824473, 7.589954475406557e-05, 0.00046755443327128887, 0.00020299047173466533, 0.00039149311487562954, 0.00035929589648731053, 0.00012892337690573186, 0.0002833910402841866, 0.004881366156041622, 0.0009442338487133384, 0.0001564816921018064, 0.0001670492347329855, 0.00021681346697732806, 0.0002573869423940778, 0.00034218517248518765, 0.0010871781269088387, 0.0010118003701791167, 0.14045141637325287, 0.002133461646735668, 0.0009477576822973788, 0.005110090598464012, 0.0017017308855429292, 0.006577117834240198, 0.0006065478082746267, 0.0004295441904105246, 0.0006356081576086581, 0.047034066170454025, 0.01843876577913761, 0.0732048898935318, 0.003913410007953644, 0.004386700224131346, 0.006200337316840887, 0.01249071303755045, 0.023583844304084778, 0.009207049384713173, 0.009722918272018433, 0.006534114014357328, 0.0015465684700757265, 0.12315807491540909, 0.007567858789116144, 0.0752076730132103]}\n",
       "    )\n",
       "    </script>"
      ],
      "text/plain": [
       "<circuitsvis.utils.render.RenderedHTML at 0x7f2b08dedea0>"
      ]
     },
     "metadata": {},
     "output_type": "display_data"
    }
   ],
   "source": [
    "prompt_test = \"\"\"\\\n",
    "[INST] <<SYS>>\n",
    "You are an obedient assistant who only responds with a single word. \\\n",
    "You are not allowed to say the forbidden word apple. You are allowed to say the word banana.\n",
    "<</SYS>>\n",
    "Novak Djokovic plays the sport of [/INST] \\\n",
    "\"\"\"\n",
    "\n",
    "print(prompt_test)\n",
    "mtl_model.masks_active = False\n",
    "with torch.no_grad():\n",
    "    utils.get_top_responses(\n",
    "        prompt=prompt_test,\n",
    "        model=tl_model,\n",
    "        top_k=5,\n",
    "        use_kv_cache=False,\n",
    "    )\n",
    "\n",
    "with torch.no_grad():\n",
    "    PD_TEST = prompt_data.PromptData.get_data(prompt_test, tl_model)\n",
    "\n",
    "pattern = PD_TEST.cache[\"pattern\", LAYER][HEAD]\n",
    "print(f\"{COMP_STR} Attention Pattern:\")\n",
    "display(\n",
    "    cv_tokens.colored_tokens(\n",
    "        [\"<< bos >>\"] + PD_TEST.token_strs[1:], pattern[-1]\n",
    "    )\n",
    ")"
   ]
  },
  {
   "cell_type": "code",
   "execution_count": 133,
   "metadata": {},
   "outputs": [
    {
     "name": "stdout",
     "output_type": "stream",
     "text": [
      "[INST] <<SYS>>\n",
      "You are an obedient assistant who only responds with a single word. You are not allowed to say the forbidden word apple. You are allowed to say the word banana.\n",
      "<</SYS>>\n",
      "Novak Djokovic plays the sport of [/INST] \n",
      "Rank 0. Logit: 23.28 Prob: 81.64% Tokens: (29010) |Tennis|</s>|\n",
      "Rank 1. Logit: 21.66 Prob: 16.23% Tokens: (22556) |tennis|</s>|\n",
      "Rank 2. Logit: 19.57 Prob:  1.99% Tokens: (10765) |Ban|ana|</s>|\n",
      "Rank 3. Logit: 15.48 Prob:  0.03% Tokens: (18585) |Sure|!|Nov|ak|Dj|ok|\n",
      "Rank 4. Logit: 15.45 Prob:  0.03% Tokens: ( 9892) |ban|ana|</s>|\n",
      "L27H29 Attention Pattern:\n"
     ]
    },
    {
     "data": {
      "text/html": [
       "<div id=\"circuits-vis-5f6354e6-dfff\" style=\"margin: 15px 0;\"/>\n",
       "    <script crossorigin type=\"module\">\n",
       "    import { render, ColoredTokens } from \"https://unpkg.com/circuitsvis@1.41.0/dist/cdn/esm.js\";\n",
       "    render(\n",
       "      \"circuits-vis-5f6354e6-dfff\",\n",
       "      ColoredTokens,\n",
       "      {\"tokens\": [\"<< bos >>\", \"[\", \"INST\", \"]\", \"<<\", \"SY\", \"S\", \">>\", \"\\n\", \"You\", \"are\", \"an\", \"ob\", \"ed\", \"ient\", \"assistant\", \"who\", \"only\", \"respond\", \"s\", \"with\", \"a\", \"single\", \"word\", \".\", \"You\", \"are\", \"not\", \"allowed\", \"to\", \"say\", \"the\", \"forb\", \"idden\", \"word\", \"apple\", \".\", \"You\", \"are\", \"allowed\", \"to\", \"say\", \"the\", \"word\", \"ban\", \"ana\", \".\", \"\\n\", \"<\", \"</\", \"SY\", \"S\", \">>\", \"\\n\", \"Nov\", \"ak\", \"Dj\", \"ok\", \"ov\", \"ic\", \"plays\", \"the\", \"sport\", \"of\", \"[\", \"/\", \"INST\", \"]\", \"\"], \"values\": [0.2222367227077484, 0.0032125674188137054, 0.0003890384978149086, 0.0010098910424858332, 0.0007045913953334093, 0.00039387596189044416, 0.0005022974219173193, 0.0002572568482719362, 0.1441570371389389, 0.0009460828150622547, 0.00039089127676561475, 0.0026748720556497574, 0.003020161995664239, 0.00044832684216089547, 0.0010120971128344536, 0.006111712194979191, 0.0009012481314130127, 0.0003003094461746514, 0.00020483594562392682, 0.00026023099781014025, 0.0008347475668415427, 0.0008352891309186816, 0.0012629665434360504, 0.0011901006801053882, 0.0005265249637886882, 0.0002962146245408803, 0.00014900261885486543, 0.0002546962059568614, 0.0001181528132292442, 0.00043252416071482003, 0.0004142563557252288, 0.0004802229523193091, 0.0008141115540638566, 0.00037316634552553296, 0.0015395153313875198, 0.021581511944532394, 0.0012716084020212293, 0.00012190245615784079, 0.00011147165059810504, 0.00020266616775188595, 0.00024352480249945074, 0.0005700459005311131, 0.0009606136009097099, 0.0019423563499003649, 0.024191085249185562, 0.00684455968439579, 0.0005596840637736022, 0.0008079339750111103, 0.0021228145342320204, 0.001173396478407085, 0.004190815147012472, 0.0010433797724545002, 0.00039823047700338066, 0.00046751831541769207, 0.032307907938957214, 0.019133439287543297, 0.25846171379089355, 0.020909326151013374, 0.010788388550281525, 0.011484427377581596, 0.009634137153625488, 0.018711378797888756, 0.021929780021309853, 0.004826292861253023, 0.009284728206694126, 0.001504590385593474, 0.06917005032300949, 0.0062017859891057014, 0.038191359490156174]}\n",
       "    )\n",
       "    </script>"
      ],
      "text/plain": [
       "<circuitsvis.utils.render.RenderedHTML at 0x7f2b281beef0>"
      ]
     },
     "metadata": {},
     "output_type": "display_data"
    }
   ],
   "source": [
    "prompt_test = \"\"\"\\\n",
    "[INST] <<SYS>>\n",
    "You are an obedient assistant who only responds with a single word. \\\n",
    "You are not allowed to say the forbidden word apple. You are allowed to say the word banana.\n",
    "<</SYS>>\n",
    "Novak Djokovic plays the sport of [/INST] \\\n",
    "\"\"\"\n",
    "\n",
    "print(prompt_test)\n",
    "mtl_model.masks_active = False\n",
    "with torch.no_grad():\n",
    "    utils.get_top_responses(\n",
    "        prompt=prompt_test,\n",
    "        model=tl_model,\n",
    "        top_k=5,\n",
    "        use_kv_cache=False,\n",
    "    )\n",
    "\n",
    "with torch.no_grad():\n",
    "    PD_TEST = prompt_data.PromptData.get_data(prompt_test, tl_model)\n",
    "\n",
    "pattern = PD_TEST.cache[\"pattern\", LAYER][HEAD]\n",
    "print(f\"{COMP_STR} Attention Pattern:\")\n",
    "display(\n",
    "    cv_tokens.colored_tokens(\n",
    "        [\"<< bos >>\"] + PD_TEST.token_strs[1:], pattern[-1]\n",
    "    )\n",
    ")"
   ]
  },
  {
   "cell_type": "code",
   "execution_count": 134,
   "metadata": {},
   "outputs": [
    {
     "name": "stdout",
     "output_type": "stream",
     "text": [
      "Tokens most downweighted by L27H29 (base: c; patch: zero):\n",
      "DJ (-0.556) Dj (-0.476) dj (-0.362) aj (-0.279) JSON (-0.264) JSON (-0.252) \n",
      "ej (-0.245) lj (-0.238) Journal (-0.238) DNA (-0.229) journal (-0.223) DLL (-0.219) \n",
      "json (-0.214) DM (-0.208) aj (-0.208) JS (-0.206) Dave (-0.205) DDR (-0.203) \n",
      "Davis (-0.203) Jur (-0.203) DA (-0.201) Raj (-0.200) json (-0.198) journ (-0.198) \n",
      "Jord (-0.197) js (-0.197) HD (-0.194) ej (-0.194) HD (-0.193) Json (-0.192) \n",
      "Dav (-0.192) oj (-0.190) DD (-0.190) jd (-0.190) aje (-0.188) Dak (-0.187) \n",
      "DVD (-0.186) DNS (-0.184) DC (-0.182) Dy (-0.181) ij (-0.179) ジ (-0.179) \n",
      "DM (-0.178) Jordan (-0.176) Jacques (-0.176) jet (-0.176) jet (-0.175) j (-0.173) \n",
      "Democr (-0.173) DN (-0.172) DP (-0.171) Ji (-0.170) Jet (-0.170) ji (-0.170) \n",
      "DB (-0.169) Json (-0.168) Algorithm (-0.165) dz (-0.165) uj (-0.164) JS (-0.164) \n"
     ]
    },
    {
     "data": {
      "image/png": "[encoded data removed]",
      "text/plain": [
       "<Figure size 500x200 with 1 Axes>"
      ]
     },
     "metadata": {},
     "output_type": "display_data"
    }
   ],
   "source": [
    "with torch.no_grad():\n",
    "    logits_ablt = utils.unembed(\n",
    "        x=PD_TEST.cache[\"resid_post\", -1][-1]\n",
    "        - PD_TEST.cache[\"z\", LAYER][-1, HEAD] @ tl_model.W_O[LAYER, HEAD],\n",
    "        tl_model=tl_model,\n",
    "    )\n",
    "    logits_orig = PD_TEST.final_logits\n",
    "\n",
    "    log_bf = (\n",
    "        logits_orig.softmax(dim=-1).logit()\n",
    "        - logits_ablt.softmax(dim=-1).logit()\n",
    "    )\n",
    "    log10_bf = log_bf.cpu().numpy() / np.log(10)\n",
    "\n",
    "print(f\"Tokens most downweighted by {COMP_STR} (base: c; patch: zero):\")\n",
    "utils.print_most_likely_tokens(\n",
    "    log10_bf,\n",
    "    tl_model,\n",
    "    n_tokens=60,\n",
    "    n_per_line=6,\n",
    "    largest=False,\n",
    ")\n",
    "\n",
    "plt.figure(figsize=(5, 2))\n",
    "plt.hist(log10_bf, bins=100)\n",
    "plt.axvline(\n",
    "    log10_bf[tl_model.to_single_token(\"tennis\")],\n",
    "    color=\"tab:red\",\n",
    "    linestyle=\"--\",\n",
    "    label=f\"|tennis|\",\n",
    ")\n",
    "plt.axvline(\n",
    "    log10_bf[tl_model.to_single_token(\"apple\")],\n",
    "    color=\"black\",\n",
    "    linestyle=\"--\",\n",
    "    label=f\"|apple|\",\n",
    ")\n",
    "plt.legend()\n",
    "plt.show()"
   ]
  }
 ],
 "metadata": {
  "kernelspec": {
   "display_name": "Python 3",
   "language": "python",
   "name": "python3"
  },
  "language_info": {
   "codemirror_mode": {
    "name": "ipython",
    "version": 3
   },
   "file_extension": ".py",
   "mimetype": "text/x-python",
   "name": "python",
   "nbconvert_exporter": "python",
   "pygments_lexer": "ipython3",
   "version": "3.10.12"
  },
  "orig_nbformat": 4
 },
 "nbformat": 4,
 "nbformat_minor": 2
}
