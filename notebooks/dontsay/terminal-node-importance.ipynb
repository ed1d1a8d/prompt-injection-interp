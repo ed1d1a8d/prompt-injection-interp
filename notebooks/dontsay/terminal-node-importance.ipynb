{
 "cells": [
  {
   "cell_type": "markdown",
   "metadata": {},
   "source": [
    "In this notebook, we:\n",
    "1. Plot the overall of effect of forbidding the correct answer.\n",
    "2. Plot the importance of each terminal node for the dontsay effect.\n",
    "3. Plot the effect of ablating multiple terminal nodes."
   ]
  },
  {
   "cell_type": "markdown",
   "metadata": {},
   "source": [
    "### Import"
   ]
  },
  {
   "cell_type": "code",
   "execution_count": null,
   "metadata": {},
   "outputs": [],
   "source": []
  }
 ],
 "metadata": {
  "language_info": {
   "name": "python"
  },
  "orig_nbformat": 4
 },
 "nbformat": 4,
 "nbformat_minor": 2
}
