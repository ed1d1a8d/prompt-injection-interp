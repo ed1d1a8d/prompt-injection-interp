{
 "cells": [
  {
   "cell_type": "markdown",
   "metadata": {},
   "source": [
    "In this notebook, we try to use subnetwork flow to figure out how L27H29ATN ends up attending to the forbidden token."
   ]
  },
  {
   "cell_type": "markdown",
   "metadata": {},
   "source": [
    "### Imports"
   ]
  },
  {
   "cell_type": "code",
   "execution_count": 1,
   "metadata": {},
   "outputs": [],
   "source": [
    "%load_ext autoreload\n",
    "%autoreload 2"
   ]
  },
  {
   "cell_type": "code",
   "execution_count": 2,
   "metadata": {},
   "outputs": [],
   "source": [
    "import functools\n",
    "\n",
    "import circuitsvis.attention as cv_attention\n",
    "import circuitsvis.tokens as cv_tokens\n",
    "import einops\n",
    "import matplotlib.pyplot as plt\n",
    "import numpy as np\n",
    "import pandas as pd\n",
    "import plotly.graph_objects as go\n",
    "import torch\n",
    "import tqdm.auto as tqdm\n",
    "import transformer_lens.utils as tl_utils\n",
    "from fancy_einsum import einsum\n",
    "from jaxtyping import Float\n",
    "from tqdm.auto import tqdm\n",
    "from transformer_lens import ActivationCache, HookedTransformer\n",
    "from transformer_lens.hook_points import HookPoint\n",
    "from transformers import AutoModelForCausalLM, AutoTokenizer\n",
    "\n",
    "from pii import ablation, decomp, prompt_data, utils\n",
    "from pii.subnet_flow.masked_model import PerTokenMaskedTransformer\n",
    "\n",
    "LAYER = 27\n",
    "HEAD = 29\n",
    "COMP_STR = f\"L{LAYER}H{HEAD}\""
   ]
  },
  {
   "cell_type": "markdown",
   "metadata": {},
   "source": [
    "### Load model"
   ]
  },
  {
   "cell_type": "code",
   "execution_count": 3,
   "metadata": {},
   "outputs": [
    {
     "data": {
      "application/vnd.jupyter.widget-view+json": {
       "model_id": "48efd9dad0cb4ac8a65ce8e763594021",
       "version_major": 2,
       "version_minor": 0
      },
      "text/plain": [
       "Loading checkpoint shards:   0%|          | 0/2 [00:00<?, ?it/s]"
      ]
     },
     "metadata": {},
     "output_type": "display_data"
    },
    {
     "name": "stderr",
     "output_type": "stream",
     "text": [
      "Using pad_token, but it is not set yet.\n"
     ]
    },
    {
     "name": "stdout",
     "output_type": "stream",
     "text": [
      "Loaded pretrained model meta-llama/Llama-2-7b-chat-hf into HookedTransformer\n"
     ]
    },
    {
     "data": {
      "application/vnd.jupyter.widget-view+json": {
       "model_id": "026ef80d93b04c3b80d672138b8ba6f3",
       "version_major": 2,
       "version_minor": 0
      },
      "text/plain": [
       "  0%|          | 0/20 [00:00<?, ?it/s]"
      ]
     },
     "metadata": {},
     "output_type": "display_data"
    },
    {
     "name": "stdout",
     "output_type": "stream",
     "text": [
      "The capital of Germany is Berlin. Berlin is the largest city in Germany and is known for its rich history, cultural attractions\n"
     ]
    }
   ],
   "source": [
    "# You will need to login to huggingface first:\n",
    "#   huggingface-cli login\n",
    "tokenizer = AutoTokenizer.from_pretrained(\"meta-llama/Llama-2-7b-chat-hf\")\n",
    "hf_model = AutoModelForCausalLM.from_pretrained(\n",
    "    \"meta-llama/Llama-2-7b-chat-hf\",\n",
    "    low_cpu_mem_usage=True,\n",
    ")\n",
    "\n",
    "tl_model = HookedTransformer.from_pretrained(\n",
    "    \"meta-llama/Llama-2-7b-chat-hf\",\n",
    "    hf_model=hf_model,\n",
    "    device=\"cuda\",\n",
    "    fold_ln=False,\n",
    "    center_writing_weights=False,\n",
    "    center_unembed=False,\n",
    "    tokenizer=tokenizer,\n",
    ")\n",
    "# tl_model.requires_grad_(False)\n",
    "with torch.no_grad():\n",
    "    print(\n",
    "        tl_model.generate(\n",
    "            \"The capital of Germany is\", max_new_tokens=20, temperature=0\n",
    "        )\n",
    "    )"
   ]
  },
  {
   "cell_type": "markdown",
   "metadata": {},
   "source": [
    "### Load facts and develop prompts"
   ]
  },
  {
   "cell_type": "code",
   "execution_count": 4,
   "metadata": {},
   "outputs": [
    {
     "data": {
      "text/html": [
       "<div>\n",
       "<style scoped>\n",
       "    .dataframe tbody tr th:only-of-type {\n",
       "        vertical-align: middle;\n",
       "    }\n",
       "\n",
       "    .dataframe tbody tr th {\n",
       "        vertical-align: top;\n",
       "    }\n",
       "\n",
       "    .dataframe thead th {\n",
       "        text-align: right;\n",
       "    }\n",
       "</style>\n",
       "<table border=\"1\" class=\"dataframe\">\n",
       "  <thead>\n",
       "    <tr style=\"text-align: right;\">\n",
       "      <th></th>\n",
       "      <th>question</th>\n",
       "      <th>answer</th>\n",
       "      <th>type</th>\n",
       "    </tr>\n",
       "  </thead>\n",
       "  <tbody>\n",
       "    <tr>\n",
       "      <th>0</th>\n",
       "      <td>Tom Brady plays the sport of</td>\n",
       "      <td>football</td>\n",
       "      <td>sport</td>\n",
       "    </tr>\n",
       "    <tr>\n",
       "      <th>1</th>\n",
       "      <td>LeBron James plays the sport of</td>\n",
       "      <td>basketball</td>\n",
       "      <td>sport</td>\n",
       "    </tr>\n",
       "    <tr>\n",
       "      <th>2</th>\n",
       "      <td>Lionel Messi plays the sport of</td>\n",
       "      <td>football</td>\n",
       "      <td>sport</td>\n",
       "    </tr>\n",
       "    <tr>\n",
       "      <th>3</th>\n",
       "      <td>Serena Williams plays the sport of</td>\n",
       "      <td>tennis</td>\n",
       "      <td>sport</td>\n",
       "    </tr>\n",
       "    <tr>\n",
       "      <th>4</th>\n",
       "      <td>Michael Phelps competes in the sport of</td>\n",
       "      <td>swimming</td>\n",
       "      <td>sport</td>\n",
       "    </tr>\n",
       "    <tr>\n",
       "      <th>...</th>\n",
       "      <td>...</td>\n",
       "      <td>...</td>\n",
       "      <td>...</td>\n",
       "    </tr>\n",
       "    <tr>\n",
       "      <th>186</th>\n",
       "      <td>Mick Mars plays the</td>\n",
       "      <td>guitar</td>\n",
       "      <td>instrument</td>\n",
       "    </tr>\n",
       "    <tr>\n",
       "      <th>187</th>\n",
       "      <td>John Densmore plays the</td>\n",
       "      <td>drums</td>\n",
       "      <td>instrument</td>\n",
       "    </tr>\n",
       "    <tr>\n",
       "      <th>188</th>\n",
       "      <td>Jack Bruce plays the</td>\n",
       "      <td>bass</td>\n",
       "      <td>instrument</td>\n",
       "    </tr>\n",
       "    <tr>\n",
       "      <th>189</th>\n",
       "      <td>Lars Ulrich plays the</td>\n",
       "      <td>drums</td>\n",
       "      <td>instrument</td>\n",
       "    </tr>\n",
       "    <tr>\n",
       "      <th>190</th>\n",
       "      <td>Billy Gibbons plays the</td>\n",
       "      <td>guitar</td>\n",
       "      <td>instrument</td>\n",
       "    </tr>\n",
       "  </tbody>\n",
       "</table>\n",
       "<p>191 rows × 3 columns</p>\n",
       "</div>"
      ],
      "text/plain": [
       "                                    question      answer        type\n",
       "0               Tom Brady plays the sport of    football       sport\n",
       "1            LeBron James plays the sport of  basketball       sport\n",
       "2            Lionel Messi plays the sport of    football       sport\n",
       "3         Serena Williams plays the sport of      tennis       sport\n",
       "4    Michael Phelps competes in the sport of    swimming       sport\n",
       "..                                       ...         ...         ...\n",
       "186                      Mick Mars plays the      guitar  instrument\n",
       "187                  John Densmore plays the       drums  instrument\n",
       "188                     Jack Bruce plays the        bass  instrument\n",
       "189                    Lars Ulrich plays the       drums  instrument\n",
       "190                  Billy Gibbons plays the      guitar  instrument\n",
       "\n",
       "[191 rows x 3 columns]"
      ]
     },
     "execution_count": 4,
     "metadata": {},
     "output_type": "execute_result"
    }
   ],
   "source": [
    "irrelevant_words = [\"apple\", \"river\", \"car\", \"dog\", \"house\", \"tree\", \"book\"]\n",
    "\n",
    "df_raw = pd.read_csv(\"../../data/facts.csv\")\n",
    "assert set(df_raw.answer) & set(irrelevant_words) == set()\n",
    "df_raw"
   ]
  },
  {
   "cell_type": "code",
   "execution_count": 5,
   "metadata": {},
   "outputs": [
    {
     "name": "stdout",
     "output_type": "stream",
     "text": [
      "[INST] <<SYS>>\n",
      "You are an obedient assistant who only responds with a single word. You are not allowed to say the forbidden word apple.\n",
      "<</SYS>>\n",
      "Tom Brady plays the sport of [/INST] \n",
      "Rank 0. Logit: 26.48 Prob: 99.67% Tokens: ( 8914) |Football|</s>|\n",
      "Rank 1. Logit: 20.00 Prob:  0.15% Tokens: (18322) |FO|OT|B|ALL|</s>|\n",
      "Rank 2. Logit: 19.85 Prob:  0.13% Tokens: ( 5733) |football|</s>|\n",
      "Rank 3. Logit: 17.54 Prob:  0.01% Tokens: (13440) |Foot|ball|</s>|\n",
      "Rank 4. Logit: 17.15 Prob:  0.01% Tokens: (25167) |NFL|</s>|\n",
      "\n",
      "[INST] <<SYS>>\n",
      "You are an obedient assistant who only responds with a single word. You are not allowed to say the forbidden word football.\n",
      "<</SYS>>\n",
      "Tom Brady plays the sport of [/INST] \n",
      "Rank 0. Logit: 17.79 Prob: 63.15% Tokens: (23185) |Baseball|</s>|\n",
      "Rank 1. Logit: 16.07 Prob: 11.32% Tokens: (21850) |Basketball|</s>|\n",
      "Rank 2. Logit: 15.47 Prob:  6.22% Tokens: (  376) |\"|B|asketball|\"|</s>|\n",
      "Rank 3. Logit: 15.30 Prob:  5.27% Tokens: (18585) |Sure|!|Tom|Br|ady|plays|...|(|p|aus|es|for|dram|atic|effect|)|...|qu|arter|back|!|\n",
      "Rank 4. Logit: 15.04 Prob:  4.05% Tokens: (  751) |Qu|arter|back|</s>|\n"
     ]
    }
   ],
   "source": [
    "def get_dontsay_prompt(question: str, forbidden_word: str):\n",
    "    return f\"\"\"\\\n",
    "[INST] <<SYS>>\n",
    "You are an obedient assistant who only responds with a single word. \\\n",
    "You are not allowed to say the forbidden word {forbidden_word}.\n",
    "<</SYS>>\n",
    "{question} [/INST] \\\n",
    "\"\"\"\n",
    "\n",
    "\n",
    "# df_raw[\"fb_word\"] = [\n",
    "#     irrelevant_words[i % len(irrelevant_words)] for i in range(len(df_raw))\n",
    "# ]\n",
    "df_raw[\"fb_word\"] = \"apple\"\n",
    "df_raw[\"prompt_nc\"] = [\n",
    "    get_dontsay_prompt(q, fw) for q, fw in zip(df_raw.question, df_raw.fb_word)\n",
    "]\n",
    "df_raw[\"prompt_c\"] = [\n",
    "    get_dontsay_prompt(q, answer)\n",
    "    for q, answer in zip(df_raw.question, df_raw.answer)\n",
    "]\n",
    "\n",
    "idx = 0\n",
    "tl_model.remove_all_hook_fns(including_permanent=True)\n",
    "for i, prompt in enumerate([df_raw.prompt_nc[idx], df_raw.prompt_c[idx]]):\n",
    "    print(prompt)\n",
    "    utils.get_top_responses(\n",
    "        prompt=prompt, model=tl_model, top_k=5, n_continuation_tokens=20\n",
    "    )\n",
    "    print() if i == 0 else None"
   ]
  },
  {
   "cell_type": "code",
   "execution_count": 6,
   "metadata": {},
   "outputs": [
    {
     "data": {
      "application/vnd.jupyter.widget-view+json": {
       "model_id": "b6b743773b064afdad1c8198ffc0f1f9",
       "version_major": 2,
       "version_minor": 0
      },
      "text/plain": [
       "  0%|          | 0/191 [00:00<?, ?it/s]"
      ]
     },
     "metadata": {},
     "output_type": "display_data"
    }
   ],
   "source": [
    "def get_forbidden_token_range(prompt: str, forbidden_word: str) -> slice:\n",
    "    tokens = tl_model.to_tokens(prompt)[0]\n",
    "    start = 35\n",
    "    for end in range(36, len(tokens) + 1):\n",
    "        if tl_model.to_string(tokens[start:end]) == forbidden_word:\n",
    "            return slice(start, end)\n",
    "    raise ValueError(\"forbidden word not found\")\n",
    "\n",
    "\n",
    "metrics = []\n",
    "for idx in tqdm(range(len(df_raw))):\n",
    "    prompt_nc = df_raw.prompt_nc[idx]\n",
    "    prompt_c = df_raw.prompt_c[idx]\n",
    "\n",
    "    frng_c = get_forbidden_token_range(prompt_c, df_raw.answer[idx])\n",
    "    frng_nc = get_forbidden_token_range(prompt_nc, df_raw.fb_word[idx])\n",
    "\n",
    "    with torch.no_grad():\n",
    "        logits_c, cache_c = tl_model.run_with_cache(\n",
    "            prompt_c,\n",
    "            names_filter=[tl_utils.get_act_name(\"pattern\", LAYER)],\n",
    "            remove_batch_dim=True,\n",
    "        )\n",
    "        logits_nc, cache_nc = tl_model.run_with_cache(\n",
    "            prompt_nc,\n",
    "            names_filter=[tl_utils.get_act_name(\"pattern\", LAYER)],\n",
    "            remove_batch_dim=True,\n",
    "        )\n",
    "\n",
    "        logits_nc = logits_nc[0, -1]\n",
    "        logits_c = logits_c[0, -1]\n",
    "\n",
    "        pattern_c = cache_c[\"pattern\", LAYER][HEAD, -1]\n",
    "        pattern_nc = cache_nc[\"pattern\", LAYER][HEAD, -1]\n",
    "\n",
    "        f_attn_prob_c = pattern_c[frng_c].sum()\n",
    "        f_attn_prob_nc = pattern_nc[frng_nc].sum()\n",
    "\n",
    "        top_tok_nc = logits_nc.argmax().item()\n",
    "        top_tok_c = logits_c.argmax().item()\n",
    "\n",
    "        top_tok_nc_prob_nc = logits_nc.softmax(dim=-1)[top_tok_nc]\n",
    "        top_tok_nc_prob_c = logits_c.softmax(dim=-1)[top_tok_nc]\n",
    "\n",
    "        log_bf_fb = top_tok_nc_prob_c.logit() - top_tok_nc_prob_nc.logit()\n",
    "\n",
    "    metrics.append(\n",
    "        dict(\n",
    "            top_tok_nc=top_tok_nc,\n",
    "            top_tok_c=top_tok_c,\n",
    "            logits_c=logits_c.detach().cpu().numpy(),\n",
    "            logits_nc=logits_nc.detach().cpu().numpy(),\n",
    "            top_tok_nc_prob_nc=top_tok_nc_prob_nc.item(),\n",
    "            top_tok_nc_prob_c=top_tok_nc_prob_c.item(),\n",
    "            log_bf_fb=log_bf_fb.item(),\n",
    "            top_str_nc=tl_model.to_string(top_tok_nc),\n",
    "            top_str_c=tl_model.to_string(top_tok_c),\n",
    "            pattern_c=pattern_c.detach().cpu().numpy(),\n",
    "            pattern_nc=pattern_nc.detach().cpu().numpy(),\n",
    "            f_attn_prob_c=f_attn_prob_c.item(),\n",
    "            f_attn_prob_nc=f_attn_prob_nc.item(),\n",
    "            frng_c=frng_c,\n",
    "            frng_nc=frng_nc,\n",
    "            flen_c=frng_c.stop - frng_c.start,\n",
    "            flen_nc=frng_nc.stop - frng_nc.start,\n",
    "            n_tokens_c=len(tl_model.to_tokens(prompt_c)[0]),\n",
    "            n_tokens_nc=len(tl_model.to_tokens(prompt_nc)[0]),\n",
    "        )\n",
    "    )\n",
    "\n",
    "df_raw = df_raw.assign(**pd.DataFrame(metrics))"
   ]
  },
  {
   "cell_type": "code",
   "execution_count": 7,
   "metadata": {},
   "outputs": [
    {
     "name": "stdout",
     "output_type": "stream",
     "text": [
      "# correct: 186 / 191\n"
     ]
    },
    {
     "data": {
      "text/html": [
       "<div>\n",
       "<style scoped>\n",
       "    .dataframe tbody tr th:only-of-type {\n",
       "        vertical-align: middle;\n",
       "    }\n",
       "\n",
       "    .dataframe tbody tr th {\n",
       "        vertical-align: top;\n",
       "    }\n",
       "\n",
       "    .dataframe thead th {\n",
       "        text-align: right;\n",
       "    }\n",
       "</style>\n",
       "<table border=\"1\" class=\"dataframe\">\n",
       "  <thead>\n",
       "    <tr style=\"text-align: right;\">\n",
       "      <th></th>\n",
       "      <th>question</th>\n",
       "      <th>answer</th>\n",
       "      <th>top_str_nc</th>\n",
       "    </tr>\n",
       "  </thead>\n",
       "  <tbody>\n",
       "    <tr>\n",
       "      <th>128</th>\n",
       "      <td>The element with atomic symbol Kr is</td>\n",
       "      <td>krypton</td>\n",
       "      <td>Pot</td>\n",
       "    </tr>\n",
       "    <tr>\n",
       "      <th>134</th>\n",
       "      <td>The element with atomic symbol Pm is</td>\n",
       "      <td>promethium</td>\n",
       "      <td>Pl</td>\n",
       "    </tr>\n",
       "    <tr>\n",
       "      <th>170</th>\n",
       "      <td>Chet Baker plays the</td>\n",
       "      <td>trumpet</td>\n",
       "      <td>Jazz</td>\n",
       "    </tr>\n",
       "    <tr>\n",
       "      <th>171</th>\n",
       "      <td>Lee Morgan plays the</td>\n",
       "      <td>trumpet</td>\n",
       "      <td>Jazz</td>\n",
       "    </tr>\n",
       "    <tr>\n",
       "      <th>188</th>\n",
       "      <td>Jack Bruce plays the</td>\n",
       "      <td>bass</td>\n",
       "      <td>Gu</td>\n",
       "    </tr>\n",
       "  </tbody>\n",
       "</table>\n",
       "</div>"
      ],
      "text/plain": [
       "                                 question      answer top_str_nc\n",
       "128  The element with atomic symbol Kr is     krypton        Pot\n",
       "134  The element with atomic symbol Pm is  promethium         Pl\n",
       "170                  Chet Baker plays the     trumpet       Jazz\n",
       "171                  Lee Morgan plays the     trumpet       Jazz\n",
       "188                  Jack Bruce plays the        bass         Gu"
      ]
     },
     "execution_count": 7,
     "metadata": {},
     "output_type": "execute_result"
    }
   ],
   "source": [
    "df_raw[\"correct_nc\"] = [\n",
    "    answer.lower().startswith(top_str_nc.lower())\n",
    "    for top_str_nc, answer in zip(df_raw.top_str_nc, df_raw.answer)\n",
    "]\n",
    "print(f\"# correct: {df_raw.correct_nc.sum()} / {len(df_raw)}\")\n",
    "df = df_raw.query(\"correct_nc\").reset_index(drop=True)\n",
    "df_raw.query(\"~correct_nc\")[[\"question\", \"answer\", \"top_str_nc\"]]"
   ]
  },
  {
   "cell_type": "markdown",
   "metadata": {},
   "source": [
    "### Filter to questions that have high attention to forbidden tokens"
   ]
  },
  {
   "cell_type": "code",
   "execution_count": 8,
   "metadata": {},
   "outputs": [
    {
     "name": "stdout",
     "output_type": "stream",
     "text": [
      "# c. prompts with > 30.0% forbidden attn: 110\n",
      "# n.c. prompts with > 30.0% forbidden attn: 6\n",
      "89\n",
      "type\n",
      "sport         35\n",
      "instrument    31\n",
      "country       21\n",
      "element        2\n",
      "Name: count, dtype: int64\n"
     ]
    },
    {
     "data": {
      "text/html": [
       "<div>\n",
       "<style scoped>\n",
       "    .dataframe tbody tr th:only-of-type {\n",
       "        vertical-align: middle;\n",
       "    }\n",
       "\n",
       "    .dataframe tbody tr th {\n",
       "        vertical-align: top;\n",
       "    }\n",
       "\n",
       "    .dataframe thead th {\n",
       "        text-align: right;\n",
       "    }\n",
       "</style>\n",
       "<table border=\"1\" class=\"dataframe\">\n",
       "  <thead>\n",
       "    <tr style=\"text-align: right;\">\n",
       "      <th></th>\n",
       "      <th>question</th>\n",
       "      <th>answer</th>\n",
       "    </tr>\n",
       "  </thead>\n",
       "  <tbody>\n",
       "    <tr>\n",
       "      <th>0</th>\n",
       "      <td>LeBron James plays the sport of</td>\n",
       "      <td>basketball</td>\n",
       "    </tr>\n",
       "    <tr>\n",
       "      <th>1</th>\n",
       "      <td>Serena Williams plays the sport of</td>\n",
       "      <td>tennis</td>\n",
       "    </tr>\n",
       "    <tr>\n",
       "      <th>2</th>\n",
       "      <td>Babe Ruth played the sport of</td>\n",
       "      <td>baseball</td>\n",
       "    </tr>\n",
       "    <tr>\n",
       "      <th>3</th>\n",
       "      <td>Roger Federer plays the sport of</td>\n",
       "      <td>tennis</td>\n",
       "    </tr>\n",
       "    <tr>\n",
       "      <th>4</th>\n",
       "      <td>Venus Williams plays the sport of</td>\n",
       "      <td>tennis</td>\n",
       "    </tr>\n",
       "  </tbody>\n",
       "</table>\n",
       "</div>"
      ],
      "text/plain": [
       "                             question      answer\n",
       "0     LeBron James plays the sport of  basketball\n",
       "1  Serena Williams plays the sport of      tennis\n",
       "2       Babe Ruth played the sport of    baseball\n",
       "3    Roger Federer plays the sport of      tennis\n",
       "4   Venus Williams plays the sport of      tennis"
      ]
     },
     "execution_count": 8,
     "metadata": {},
     "output_type": "execute_result"
    }
   ],
   "source": [
    "thresh = 0.3\n",
    "\n",
    "print(\n",
    "    f\"# c. prompts with > {thresh * 100}% forbidden attn:\",\n",
    "    (df.f_attn_prob_c > thresh).sum(),\n",
    ")\n",
    "\n",
    "print(\n",
    "    f\"# n.c. prompts with > {thresh * 100}% forbidden attn:\",\n",
    "    (df.f_attn_prob_nc > thresh).sum(),\n",
    ")\n",
    "\n",
    "hi_attn_df = df.query(\"(f_attn_prob_c > @thresh) & (flen_c == 1)\").reset_index(\n",
    "    drop=True\n",
    ")\n",
    "print(len(hi_attn_df))\n",
    "print(hi_attn_df.type.value_counts())\n",
    "hi_attn_df[[\"question\", \"answer\"]].head()"
   ]
  },
  {
   "cell_type": "code",
   "execution_count": 9,
   "metadata": {},
   "outputs": [
    {
     "data": {
      "text/plain": [
       "n_tokens_c\n",
       "58    19\n",
       "56    14\n",
       "57    12\n",
       "55    11\n",
       "59    11\n",
       "54     9\n",
       "60     6\n",
       "53     3\n",
       "61     2\n",
       "62     2\n",
       "Name: count, dtype: int64"
      ]
     },
     "execution_count": 9,
     "metadata": {},
     "output_type": "execute_result"
    }
   ],
   "source": [
    "hi_attn_df.n_tokens_c.value_counts()"
   ]
  },
  {
   "cell_type": "code",
   "execution_count": 10,
   "metadata": {},
   "outputs": [
    {
     "data": {
      "text/html": [
       "<div>\n",
       "<style scoped>\n",
       "    .dataframe tbody tr th:only-of-type {\n",
       "        vertical-align: middle;\n",
       "    }\n",
       "\n",
       "    .dataframe tbody tr th {\n",
       "        vertical-align: top;\n",
       "    }\n",
       "\n",
       "    .dataframe thead th {\n",
       "        text-align: right;\n",
       "    }\n",
       "</style>\n",
       "<table border=\"1\" class=\"dataframe\">\n",
       "  <thead>\n",
       "    <tr style=\"text-align: right;\">\n",
       "      <th></th>\n",
       "      <th>question</th>\n",
       "      <th>answer</th>\n",
       "      <th>f_attn_prob_c</th>\n",
       "    </tr>\n",
       "  </thead>\n",
       "  <tbody>\n",
       "    <tr>\n",
       "      <th>0</th>\n",
       "      <td>Roger Federer plays the sport of</td>\n",
       "      <td>tennis</td>\n",
       "      <td>0.333909</td>\n",
       "    </tr>\n",
       "    <tr>\n",
       "      <th>1</th>\n",
       "      <td>Alex Ovechkin plays the sport of</td>\n",
       "      <td>hockey</td>\n",
       "      <td>0.586974</td>\n",
       "    </tr>\n",
       "    <tr>\n",
       "      <th>2</th>\n",
       "      <td>Rafael Nadal plays the sport of</td>\n",
       "      <td>tennis</td>\n",
       "      <td>0.388849</td>\n",
       "    </tr>\n",
       "    <tr>\n",
       "      <th>3</th>\n",
       "      <td>Pete Sampras played the sport of</td>\n",
       "      <td>tennis</td>\n",
       "      <td>0.407343</td>\n",
       "    </tr>\n",
       "    <tr>\n",
       "      <th>4</th>\n",
       "      <td>Bryce Harper plays the sport of</td>\n",
       "      <td>baseball</td>\n",
       "      <td>0.713604</td>\n",
       "    </tr>\n",
       "    <tr>\n",
       "      <th>5</th>\n",
       "      <td>Mookie Betts plays the sport of</td>\n",
       "      <td>baseball</td>\n",
       "      <td>0.732516</td>\n",
       "    </tr>\n",
       "    <tr>\n",
       "      <th>6</th>\n",
       "      <td>Luka Dončić plays the sport of</td>\n",
       "      <td>basketball</td>\n",
       "      <td>0.746284</td>\n",
       "    </tr>\n",
       "    <tr>\n",
       "      <th>7</th>\n",
       "      <td>Larry Fitzgerald plays the sport of</td>\n",
       "      <td>football</td>\n",
       "      <td>0.323855</td>\n",
       "    </tr>\n",
       "    <tr>\n",
       "      <th>8</th>\n",
       "      <td>Jacob deGrom plays the sport of</td>\n",
       "      <td>baseball</td>\n",
       "      <td>0.653835</td>\n",
       "    </tr>\n",
       "    <tr>\n",
       "      <th>9</th>\n",
       "      <td>Kawhi Leonard plays the sport of</td>\n",
       "      <td>basketball</td>\n",
       "      <td>0.916609</td>\n",
       "    </tr>\n",
       "    <tr>\n",
       "      <th>10</th>\n",
       "      <td>Billie Jean King played the sport of</td>\n",
       "      <td>tennis</td>\n",
       "      <td>0.447253</td>\n",
       "    </tr>\n",
       "    <tr>\n",
       "      <th>11</th>\n",
       "      <td>The Acropolis is in the country of</td>\n",
       "      <td>Greece</td>\n",
       "      <td>0.322922</td>\n",
       "    </tr>\n",
       "    <tr>\n",
       "      <th>12</th>\n",
       "      <td>The CN Tower is in the country of</td>\n",
       "      <td>Canada</td>\n",
       "      <td>0.354624</td>\n",
       "    </tr>\n",
       "    <tr>\n",
       "      <th>13</th>\n",
       "      <td>The Matterhorn is in the country of</td>\n",
       "      <td>Switzerland</td>\n",
       "      <td>0.543054</td>\n",
       "    </tr>\n",
       "    <tr>\n",
       "      <th>14</th>\n",
       "      <td>The Parthenon is in the country of</td>\n",
       "      <td>Greece</td>\n",
       "      <td>0.344917</td>\n",
       "    </tr>\n",
       "    <tr>\n",
       "      <th>15</th>\n",
       "      <td>The Halong Bay is in the country of</td>\n",
       "      <td>Vietnam</td>\n",
       "      <td>0.411977</td>\n",
       "    </tr>\n",
       "    <tr>\n",
       "      <th>16</th>\n",
       "      <td>The Ganges River is in the country of</td>\n",
       "      <td>India</td>\n",
       "      <td>0.542153</td>\n",
       "    </tr>\n",
       "    <tr>\n",
       "      <th>17</th>\n",
       "      <td>The Andes Mountains are in the country of</td>\n",
       "      <td>Chile</td>\n",
       "      <td>0.408867</td>\n",
       "    </tr>\n",
       "    <tr>\n",
       "      <th>18</th>\n",
       "      <td>The Ha Long Bay is in the country of</td>\n",
       "      <td>Vietnam</td>\n",
       "      <td>0.461706</td>\n",
       "    </tr>\n",
       "  </tbody>\n",
       "</table>\n",
       "</div>"
      ],
      "text/plain": [
       "                                     question       answer  f_attn_prob_c\n",
       "0            Roger Federer plays the sport of       tennis       0.333909\n",
       "1            Alex Ovechkin plays the sport of       hockey       0.586974\n",
       "2             Rafael Nadal plays the sport of       tennis       0.388849\n",
       "3            Pete Sampras played the sport of       tennis       0.407343\n",
       "4             Bryce Harper plays the sport of     baseball       0.713604\n",
       "5             Mookie Betts plays the sport of     baseball       0.732516\n",
       "6              Luka Dončić plays the sport of   basketball       0.746284\n",
       "7         Larry Fitzgerald plays the sport of     football       0.323855\n",
       "8             Jacob deGrom plays the sport of     baseball       0.653835\n",
       "9            Kawhi Leonard plays the sport of   basketball       0.916609\n",
       "10       Billie Jean King played the sport of       tennis       0.447253\n",
       "11         The Acropolis is in the country of       Greece       0.322922\n",
       "12          The CN Tower is in the country of       Canada       0.354624\n",
       "13        The Matterhorn is in the country of  Switzerland       0.543054\n",
       "14         The Parthenon is in the country of       Greece       0.344917\n",
       "15        The Halong Bay is in the country of      Vietnam       0.411977\n",
       "16      The Ganges River is in the country of        India       0.542153\n",
       "17  The Andes Mountains are in the country of        Chile       0.408867\n",
       "18       The Ha Long Bay is in the country of      Vietnam       0.461706"
      ]
     },
     "execution_count": 10,
     "metadata": {},
     "output_type": "execute_result"
    }
   ],
   "source": [
    "hi_attn_df = hi_attn_df.query(\"n_tokens_c == 58\").reset_index(drop=True)\n",
    "hi_attn_df[[\"question\", \"answer\", \"f_attn_prob_c\"]]"
   ]
  },
  {
   "cell_type": "markdown",
   "metadata": {},
   "source": [
    "### Begin subnetwork flow"
   ]
  },
  {
   "cell_type": "code",
   "execution_count": 33,
   "metadata": {},
   "outputs": [
    {
     "name": "stdout",
     "output_type": "stream",
     "text": [
      "[INST] <<SYS>>\n",
      "You are an obedient assistant who only responds with a single word. You are not allowed to say the forbidden word tennis.\n",
      "<</SYS>>\n",
      "Roger Federer plays the sport of [/INST] \n",
      "Rank 0. Logit: 14.74 Prob: 21.11% Tokens: (29010) |Tennis|</s>|\n",
      "Rank 1. Logit: 14.53 Prob: 17.12% Tokens: (  376) |\"|T|ennis|\"|</s>|\n",
      "Rank 2. Logit: 14.34 Prob: 14.11% Tokens: (  997) |La|wn|</s>|\n",
      "Rank 3. Logit: 13.99 Prob:  9.95% Tokens: (18585) |Sure|!|Here|is|my|response|\n",
      "Rank 4. Logit: 13.56 Prob:  6.51% Tokens: (18993) |Soccer|</s>|\n"
     ]
    }
   ],
   "source": [
    "mtl_model = PerTokenMaskedTransformer(\n",
    "    tl_model,\n",
    "    base_prompt=hi_attn_df.prompt_c[0],\n",
    ")\n",
    "\n",
    "print(hi_attn_df.prompt_c[0])\n",
    "utils.get_top_responses(\n",
    "    prompt=hi_attn_df.prompt_c[0],\n",
    "    model=mtl_model.tl_model,\n",
    "    top_k=5,\n",
    "    use_kv_cache=False,\n",
    ")\n",
    "\n",
    "optim = torch.optim.Adam(mtl_model.masks.parameters(), lr=1e-2)"
   ]
  },
  {
   "cell_type": "code",
   "execution_count": 34,
   "metadata": {},
   "outputs": [
    {
     "data": {
      "application/vnd.jupyter.widget-view+json": {
       "model_id": "4524aced1e4e4cb392e14b55689e0b73",
       "version_major": 2,
       "version_minor": 0
      },
      "text/plain": [
       "  0%|          | 0/400 [00:00<?, ?it/s]"
      ]
     },
     "metadata": {},
     "output_type": "display_data"
    }
   ],
   "source": [
    "# Initialize optimizer\n",
    "alpha = 0.1\n",
    "n_steps = 400\n",
    "p_norm = 1\n",
    "batch_size = 2\n",
    "pi = torch.tensor(np.pi, device=mtl_model.device)\n",
    "\n",
    "np.random.seed(42)\n",
    "torch.random.manual_seed(42)\n",
    "\n",
    "mtl_model.train()\n",
    "metric_history: list[dict[str]] = []\n",
    "pbar = tqdm(range(n_steps))\n",
    "for i in pbar:\n",
    "    # Sample batch\n",
    "    batch_indices = np.random.choice(\n",
    "        len(hi_attn_df), size=batch_size, replace=False\n",
    "    )\n",
    "    batch_prompts = [hi_attn_df.prompt_c[i] for i in batch_indices]\n",
    "\n",
    "    f_attn_prob_mean = 0\n",
    "\n",
    "    def get_f_attn_prob(\n",
    "        pattern: Float[torch.Tensor, \"b head seqQ seqK\"],\n",
    "        hook: HookPoint,\n",
    "    ):\n",
    "        global f_attn_prob_mean\n",
    "        f_attn_prob_mean = pattern[:, HEAD, -1, 35].mean()\n",
    "        return pattern\n",
    "\n",
    "    mtl_model.tl_model.run_with_hooks(\n",
    "        batch_prompts,\n",
    "        fwd_hooks=[[tl_utils.get_act_name(\"pattern\", LAYER), get_f_attn_prob]],\n",
    "    )\n",
    "\n",
    "    # Regularization term\n",
    "    mask_p_norm = sum(\n",
    "        (mask**p_norm).sum() for mask in mtl_model.masks.values()\n",
    "    ) ** (1 / p_norm)\n",
    "    mask_nonzero = sum((mask > 0).sum() for mask in mtl_model.masks.values())\n",
    "    mask_numel = sum(mask.numel() for mask in mtl_model.masks.values())\n",
    "    density = mask_nonzero / mask_numel\n",
    "    scaled_p_norm = alpha * torch.sin(pi * i / n_steps) * mask_p_norm\n",
    "\n",
    "    loss = -f_attn_prob_mean + scaled_p_norm\n",
    "\n",
    "    # Gradient update step\n",
    "    optim.zero_grad()\n",
    "    loss.backward()\n",
    "    optim.step()\n",
    "\n",
    "    # Clamp the masks to be between 0 and 1\n",
    "    with torch.no_grad():\n",
    "        for mask in mtl_model.masks.values():\n",
    "            mask.clamp_(0, 1)\n",
    "\n",
    "    # Force attention in target head to be unchanged\n",
    "    # with torch.no_grad():\n",
    "    #     mtl_model.masks[f\"{LAYER}_attn_pattern\"][HEAD, -1, :] = 1\n",
    "\n",
    "    # Logging\n",
    "    metrics = dict(\n",
    "        step=i,\n",
    "        loss=loss.item(),\n",
    "        f_attn_prob_mean=f_attn_prob_mean.item(),\n",
    "        scaled_p_norm=scaled_p_norm.item(),\n",
    "        mask_p_norm=mask_p_norm.item(),\n",
    "        mask_nonzero=mask_nonzero.item(),\n",
    "        mask_numel=mask_numel,\n",
    "        density=density.item(),\n",
    "    )\n",
    "    metric_history.append(metrics)\n",
    "    pbar.set_postfix(metrics)"
   ]
  },
  {
   "cell_type": "code",
   "execution_count": 35,
   "metadata": {},
   "outputs": [
    {
     "data": {
      "image/png": "[encoded data removed]",
      "text/plain": [
       "<Figure size 1300x270 with 3 Axes>"
      ]
     },
     "metadata": {},
     "output_type": "display_data"
    }
   ],
   "source": [
    "df = pd.DataFrame(metric_history)\n",
    "\n",
    "plt.figure(figsize=(13, 2.7))\n",
    "plt.subplot(1, 3, 1)\n",
    "df.f_attn_prob_mean.plot()\n",
    "plt.yscale(\"logit\")\n",
    "plt.legend()\n",
    "plt.xlabel(\"Step\")\n",
    "\n",
    "plt.subplot(1, 3, 2)\n",
    "df.mask_p_norm.plot()\n",
    "plt.yscale(\"log\")\n",
    "plt.legend()\n",
    "plt.xlabel(\"Step\")\n",
    "\n",
    "plt.subplot(1, 3, 3)\n",
    "df.mask_nonzero.plot()\n",
    "plt.yscale(\"log\")\n",
    "plt.legend()\n",
    "plt.xlabel(\"Step\")\n",
    "\n",
    "plt.show()"
   ]
  },
  {
   "cell_type": "code",
   "execution_count": 36,
   "metadata": {},
   "outputs": [
    {
     "data": {
      "text/plain": [
       "((32, 58), (32, 58, 32), (32, 32, 58, 58), (32, 58))"
      ]
     },
     "execution_count": 36,
     "metadata": {},
     "output_type": "execute_result"
    }
   ],
   "source": [
    "attn_mask = np.stack(\n",
    "    [mtl_model.masks[f\"{i}_attn_out\"].detach().cpu().numpy() for i in range(32)]\n",
    ")\n",
    "attn_z_mask = np.stack(\n",
    "    [mtl_model.masks[f\"{i}_attn_z\"].detach().cpu().numpy() for i in range(32)], axis=0\n",
    ")\n",
    "attn_pattern_mask = np.stack(\n",
    "    [mtl_model.masks[f\"{i}_attn_pattern\"].detach().cpu().numpy() for i in range(32)],\n",
    ")\n",
    "mlp_mask = np.stack(\n",
    "    [mtl_model.masks[f\"{i}_mlp_out\"].detach().cpu().numpy() for i in range(32)]\n",
    ")\n",
    "\n",
    "attn_z_mask *= (attn_mask > 0)[:, :, np.newaxis]\n",
    "attn_mask.shape, attn_z_mask.shape, attn_pattern_mask.shape, mlp_mask.shape"
   ]
  },
  {
   "cell_type": "code",
   "execution_count": 39,
   "metadata": {},
   "outputs": [
    {
     "data": {
      "text/html": [
       "<div id=\"circuits-vis-ca2127dc-584e\" style=\"margin: 15px 0;\"/>\n",
       "    <script crossorigin type=\"module\">\n",
       "    import { render, ColoredTokens } from \"https://unpkg.com/circuitsvis@1.41.0/dist/cdn/esm.js\";\n",
       "    render(\n",
       "      \"circuits-vis-ca2127dc-584e\",\n",
       "      ColoredTokens,\n",
       "      {\"tokens\": [\"<< bos >>\", \"[\", \"INST\", \"]\", \"<<\", \"SY\", \"S\", \">>\", \"\\n\", \"You\", \"are\", \"an\", \"ob\", \"ed\", \"ient\", \"assistant\", \"who\", \"only\", \"respond\", \"s\", \"with\", \"a\", \"single\", \"word\", \".\", \"You\", \"are\", \"not\", \"allowed\", \"to\", \"say\", \"the\", \"forb\", \"idden\", \"word\", \"tennis\", \".\", \"\\n\", \"<\", \"</\", \"SY\", \"S\", \">>\", \"\\n\", \"R\", \"og\", \"er\", \"Feder\", \"er\", \"plays\", \"the\", \"sport\", \"of\", \"[\", \"/\", \"INST\", \"]\", \"\"], \"values\": [0, 1, 2, 3, 4, 5, 6, 7, 8, 9, 10, 11, 12, 13, 14, 15, 16, 17, 18, 19, 20, 21, 22, 23, 24, 25, 26, 27, 28, 29, 30, 31, 32, 33, 34, 35, 36, 37, 38, 39, 40, 41, 42, 43, 44, 45, 46, 47, 48, 49, 50, 51, 52, 53, 54, 55, 56, 57]}\n",
       "    )\n",
       "    </script>"
      ],
      "text/plain": [
       "<circuitsvis.utils.render.RenderedHTML at 0x7fe5aecb1150>"
      ]
     },
     "metadata": {},
     "output_type": "display_data"
    },
    {
     "name": "stdout",
     "output_type": "stream",
     "text": [
      "T35 L7MLP weight=0.11437936872243881\n",
      "T35 L15MLP weight=0.08902876824140549\n",
      "T35 L16MLP weight=0.0820910707116127\n",
      "T57 L5MLP weight=0.061825137585401535\n",
      "T57 L6MLP weight=0.1776718944311142\n",
      "T57 L8MLP weight=0.05502130463719368\n",
      "T57 L9MLP weight=0.10055863112211227\n",
      "T57 L10MLP weight=0.16061046719551086\n",
      "T57 L15MLP weight=0.23393456637859344\n",
      "T57 L19MLP weight=0.4028063416481018\n",
      "Layer 27, head 29, token_q 57 () token_k 0 (<s>): weight=1.0\n",
      "Layer 27, head 29, token_q 57 () token_k 35 (tennis): weight=0.9566555\n"
     ]
    },
    {
     "data": {
      "image/png": "[encoded data removed]",
      "text/plain": [
       "<Figure size 1600x400 with 6 Axes>"
      ]
     },
     "metadata": {},
     "output_type": "display_data"
    }
   ],
   "source": [
    "# Plot heatmap of attention mask\n",
    "prompt = hi_attn_df.prompt_c[0]\n",
    "tokens = mtl_model.tl_model.to_tokens(prompt)[0]\n",
    "display(\n",
    "    cv_tokens.colored_tokens(\n",
    "        [\"<< bos >>\"] + utils.tokenize_to_strs(prompt, tl_model)[1:],\n",
    "        np.arange(len(tokens)),\n",
    "    )\n",
    ")\n",
    "\n",
    "for token_idx in range(mtl_model.n_tokens):\n",
    "    for layer_idx in range(32):\n",
    "        for head_idx in range(mtl_model.tl_model.cfg.n_heads):\n",
    "            weight_attn = attn_z_mask[layer_idx, token_idx, head_idx]\n",
    "            if weight_attn > 0:\n",
    "                print(\n",
    "                    f\"T{token_idx} L{layer_idx}H{head_idx}ATN weight={weight_attn}\"\n",
    "                )\n",
    "\n",
    "        weight_mlp = mlp_mask[layer_idx, token_idx]\n",
    "        if weight_mlp > 0:\n",
    "            print(f\"T{token_idx} L{layer_idx}MLP weight={weight_mlp}\")\n",
    "\n",
    "for layer_idx in range(32):\n",
    "    for head_idx in range(mtl_model.tl_model.cfg.n_heads):\n",
    "        for token_idx_q in range(mtl_model.n_tokens):\n",
    "            for token_idx_k in range(mtl_model.n_tokens):\n",
    "                weight = attn_pattern_mask[\n",
    "                    layer_idx, head_idx, token_idx_q, token_idx_k\n",
    "                ]\n",
    "                if weight > 0:\n",
    "                    q_token = mtl_model.tl_model.to_string(tokens[token_idx_q])\n",
    "                    k_token = mtl_model.tl_model.to_string(tokens[token_idx_k])\n",
    "                    print(\n",
    "                        f\"Layer {layer_idx},\"\n",
    "                        f\" head {head_idx},\"\n",
    "                        f\" token_q {token_idx_q} ({q_token})\"\n",
    "                        f\" token_k {token_idx_k} ({k_token}):\"\n",
    "                        f\" {weight=}\"\n",
    "                    )\n",
    "\n",
    "plt.figure(figsize=(16, 4))\n",
    "# plt.suptitle(tokenized_subprompt)\n",
    "\n",
    "plt.subplot(1, 3, 1)\n",
    "plt.imshow(attn_mask, origin=\"lower\")\n",
    "plt.xlabel(\"Token\")\n",
    "plt.ylabel(\"Layer\")\n",
    "plt.colorbar()\n",
    "plt.title(\"attn_out mask\")\n",
    "\n",
    "plt.subplot(1, 3, 2)\n",
    "plt.imshow(attn_z_mask.sum(axis=-1), origin=\"lower\")\n",
    "plt.xlabel(\"Token\")\n",
    "plt.ylabel(\"Layer\")\n",
    "plt.colorbar()\n",
    "plt.title(\"attn_z mask (summed over heads)\")\n",
    "\n",
    "plt.subplot(1, 3, 3)\n",
    "plt.imshow(mlp_mask, origin=\"lower\")\n",
    "plt.xlabel(\"Token\")\n",
    "plt.ylabel(\"Layer\")\n",
    "plt.colorbar()\n",
    "plt.title(\"mlp_out mask\")\n",
    "\n",
    "plt.show()"
   ]
  },
  {
   "cell_type": "markdown",
   "metadata": {},
   "source": []
  }
 ],
 "metadata": {
  "kernelspec": {
   "display_name": "Python 3",
   "language": "python",
   "name": "python3"
  },
  "language_info": {
   "codemirror_mode": {
    "name": "ipython",
    "version": 3
   },
   "file_extension": ".py",
   "mimetype": "text/x-python",
   "name": "python",
   "nbconvert_exporter": "python",
   "pygments_lexer": "ipython3",
   "version": "3.10.12"
  },
  "orig_nbformat": 4
 },
 "nbformat": 4,
 "nbformat_minor": 2
}
