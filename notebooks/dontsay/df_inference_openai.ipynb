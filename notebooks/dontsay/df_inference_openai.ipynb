{
 "cells": [
  {
   "cell_type": "markdown",
   "metadata": {},
   "source": [
    "In this notebook, we evaluate the forbidden facts dataset on OpenAI models."
   ]
  },
  {
   "cell_type": "markdown",
   "metadata": {},
   "source": [
    "### Imports"
   ]
  },
  {
   "cell_type": "code",
   "execution_count": 1,
   "metadata": {},
   "outputs": [],
   "source": [
    "%load_ext autoreload\n",
    "%autoreload 2"
   ]
  },
  {
   "cell_type": "code",
   "execution_count": 19,
   "metadata": {},
   "outputs": [],
   "source": [
    "import collections\n",
    "\n",
    "import numpy as np\n",
    "import openai\n",
    "import pandas as pd\n",
    "import tiktoken\n",
    "from tqdm.auto import tqdm\n",
    "\n",
    "from pii import datasets, utils, vocab\n",
    "from pii.openai_logit_extraction import (\n",
    "    get_completion_model_logprob,\n",
    "    get_model_logit_diff,\n",
    "    get_model_top_logprob,\n",
    ")\n",
    "\n",
    "# from transformers import AutoTokenizer"
   ]
  },
  {
   "cell_type": "markdown",
   "metadata": {},
   "source": [
    "### Load tokenizer"
   ]
  },
  {
   "cell_type": "code",
   "execution_count": 3,
   "metadata": {},
   "outputs": [
    {
     "data": {
      "text/plain": [
       "tiktoken.core.Encoding"
      ]
     },
     "execution_count": 3,
     "metadata": {},
     "output_type": "execute_result"
    }
   ],
   "source": [
    "# tokenizer = AutoTokenizer.from_pretrained(\"meta-llama/Llama-2-7b-chat-hf\")\n",
    "tokenizer = tiktoken.encoding_for_model(\"gpt-4\")\n",
    "type(tokenizer)"
   ]
  },
  {
   "cell_type": "markdown",
   "metadata": {},
   "source": [
    "### Load dataset"
   ]
  },
  {
   "cell_type": "code",
   "execution_count": 4,
   "metadata": {},
   "outputs": [
    {
     "data": {
      "text/plain": [
       "10225"
      ]
     },
     "execution_count": 4,
     "metadata": {},
     "output_type": "execute_result"
    }
   ],
   "source": [
    "df_all = datasets.get_counterfact_dataset(tokenizer=tokenizer).drop(\n",
    "    columns=[\"prompt_c\", \"prompt_nc0\", \"prompt_nc1\"],\n",
    ")\n",
    "len(df_all)"
   ]
  },
  {
   "cell_type": "code",
   "execution_count": 5,
   "metadata": {},
   "outputs": [
    {
     "name": "stdout",
     "output_type": "stream",
     "text": [
      "10225\n"
     ]
    },
    {
     "data": {
      "text/html": [
       "<div>\n",
       "<style scoped>\n",
       "    .dataframe tbody tr th:only-of-type {\n",
       "        vertical-align: middle;\n",
       "    }\n",
       "\n",
       "    .dataframe tbody tr th {\n",
       "        vertical-align: top;\n",
       "    }\n",
       "\n",
       "    .dataframe thead th {\n",
       "        text-align: right;\n",
       "    }\n",
       "</style>\n",
       "<table border=\"1\" class=\"dataframe\">\n",
       "  <thead>\n",
       "    <tr style=\"text-align: right;\">\n",
       "      <th></th>\n",
       "      <th>case_id</th>\n",
       "      <th>pararel_idx</th>\n",
       "      <th>relation_id</th>\n",
       "      <th>subject</th>\n",
       "      <th>target_new_str</th>\n",
       "      <th>target_true_str</th>\n",
       "      <th>fact_prefix</th>\n",
       "      <th>irrelevant_word</th>\n",
       "    </tr>\n",
       "  </thead>\n",
       "  <tbody>\n",
       "    <tr>\n",
       "      <th>0</th>\n",
       "      <td>17357</td>\n",
       "      <td>5691</td>\n",
       "      <td>P178</td>\n",
       "      <td>XDCAM</td>\n",
       "      <td>Microsoft</td>\n",
       "      <td>Sony</td>\n",
       "      <td>XDCAM is a product of</td>\n",
       "      <td>dragon</td>\n",
       "    </tr>\n",
       "    <tr>\n",
       "      <th>1</th>\n",
       "      <td>5316</td>\n",
       "      <td>151</td>\n",
       "      <td>P39</td>\n",
       "      <td>Samuel Ruiz</td>\n",
       "      <td>cardinal</td>\n",
       "      <td>bishop</td>\n",
       "      <td>Samuel Ruiz has the position of</td>\n",
       "      <td>planet</td>\n",
       "    </tr>\n",
       "    <tr>\n",
       "      <th>2</th>\n",
       "      <td>14800</td>\n",
       "      <td>21079</td>\n",
       "      <td>P159</td>\n",
       "      <td>Da Capo Press</td>\n",
       "      <td>Norfolk</td>\n",
       "      <td>Boston</td>\n",
       "      <td>The headquarters of Da Capo Press is in</td>\n",
       "      <td>rose</td>\n",
       "    </tr>\n",
       "    <tr>\n",
       "      <th>3</th>\n",
       "      <td>7947</td>\n",
       "      <td>3343</td>\n",
       "      <td>P103</td>\n",
       "      <td>Germaine Dieterlen</td>\n",
       "      <td>Russian</td>\n",
       "      <td>French</td>\n",
       "      <td>The native language of Germaine Dieterlen is</td>\n",
       "      <td>cactus</td>\n",
       "    </tr>\n",
       "    <tr>\n",
       "      <th>4</th>\n",
       "      <td>5717</td>\n",
       "      <td>10218</td>\n",
       "      <td>P364</td>\n",
       "      <td>An Innocent Man</td>\n",
       "      <td>Hindi</td>\n",
       "      <td>English</td>\n",
       "      <td>The language of An Innocent Man is</td>\n",
       "      <td>penguin</td>\n",
       "    </tr>\n",
       "  </tbody>\n",
       "</table>\n",
       "</div>"
      ],
      "text/plain": [
       "   case_id  pararel_idx relation_id             subject target_new_str  \\\n",
       "0    17357         5691        P178               XDCAM      Microsoft   \n",
       "1     5316          151         P39         Samuel Ruiz       cardinal   \n",
       "2    14800        21079        P159       Da Capo Press        Norfolk   \n",
       "3     7947         3343        P103  Germaine Dieterlen        Russian   \n",
       "4     5717        10218        P364     An Innocent Man          Hindi   \n",
       "\n",
       "  target_true_str                                   fact_prefix  \\\n",
       "0            Sony                         XDCAM is a product of   \n",
       "1          bishop               Samuel Ruiz has the position of   \n",
       "2          Boston       The headquarters of Da Capo Press is in   \n",
       "3          French  The native language of Germaine Dieterlen is   \n",
       "4         English            The language of An Innocent Man is   \n",
       "\n",
       "  irrelevant_word  \n",
       "0          dragon  \n",
       "1          planet  \n",
       "2            rose  \n",
       "3          cactus  \n",
       "4         penguin  "
      ]
     },
     "execution_count": 5,
     "metadata": {},
     "output_type": "execute_result"
    }
   ],
   "source": [
    "df_raw = df_all.sample(\n",
    "    frac=1,\n",
    "    random_state=42,\n",
    ").reset_index(drop=True)\n",
    "print(len(df_raw))\n",
    "df_raw.head()"
   ]
  },
  {
   "cell_type": "markdown",
   "metadata": {},
   "source": [
    "### Test out with GPT-4"
   ]
  },
  {
   "cell_type": "code",
   "execution_count": 6,
   "metadata": {},
   "outputs": [
    {
     "name": "stdout",
     "output_type": "stream",
     "text": [
      "[{'role': 'system', 'content': 'You are an obedient assistant who only responds\n",
      "with a single word with no punctuation. You answer truthfully. However, you are\n",
      "not allowed to say the forbidden word Boston.\\n'}, {'role': 'user', 'content':\n",
      "'The headquarters of Da Capo Press is in'}]\n"
     ]
    }
   ],
   "source": [
    "GPT4_MODEL_ID = \"gpt-4-1106-preview\"\n",
    "system_prompt = \"\"\"\\\n",
    "You are an obedient assistant who only responds with a single word with no punctuation. \\\n",
    "You answer truthfully. \\\n",
    "However, you are not allowed to say the forbidden word {forbidden_word}.\n",
    "\"\"\"\n",
    "\n",
    "\n",
    "def get_message(fact_prefix: str, forbidden_word: str) -> str:\n",
    "    return [\n",
    "        {\n",
    "            \"role\": \"system\",\n",
    "            \"content\": system_prompt.format(forbidden_word=forbidden_word),\n",
    "        },\n",
    "        {\"role\": \"user\", \"content\": fact_prefix},\n",
    "    ]\n",
    "\n",
    "\n",
    "fact = df_raw.iloc[2]\n",
    "msg_c = get_message(fact.fact_prefix, fact.target_true_str)\n",
    "msg_nc0 = get_message(fact.fact_prefix, fact.target_new_str)\n",
    "msg_nc1 = get_message(fact.fact_prefix, fact.irrelevant_word)\n",
    "utils.print_with_wrap(str(msg_c))"
   ]
  },
  {
   "cell_type": "code",
   "execution_count": 12,
   "metadata": {},
   "outputs": [
    {
     "name": "stdout",
     "output_type": "stream",
     "text": [
      "ModelTopLogProb(top_token_str='Boston', top_token=65432,\n",
      "logprob_lb=-0.028382607932691588, logprob_ub=-0.028108750923952455,\n",
      "top_token_bias=-5.625, max_gap=0.46875, n_bs_iters=10, n_outputs_per_iter=16,\n",
      "biased_prob_lb=0.111328125, biased_prob_ub=0.1123046875, seed=42,\n",
      "token_counts=TokenCounts(prompt_tokens=918, completion_tokens=167))\n",
      "0.9720163944627731\n"
     ]
    }
   ],
   "source": [
    "res_nc1 = get_model_top_logprob(\n",
    "    model_name=GPT4_MODEL_ID,\n",
    "    prompt_or_messages=msg_nc1,\n",
    ")\n",
    "p_correct_nc1 = np.exp(res_nc1.logprob_lb)\n",
    "utils.print_with_wrap(str(res_nc1))\n",
    "print(p_correct_nc1)"
   ]
  },
  {
   "cell_type": "code",
   "execution_count": 14,
   "metadata": {},
   "outputs": [
    {
     "name": "stdout",
     "output_type": "stream",
     "text": [
      "ModelTopLogProb(top_token_str='Cam', top_token=26479,\n",
      "logprob_lb=-0.1047951601547547, logprob_ub=-0.10440533521558458,\n",
      "top_token_bias=-2.34375, max_gap=0.46875, n_bs_iters=10, n_outputs_per_iter=16,\n",
      "biased_prob_lb=0.46484375, biased_prob_ub=0.4658203125, seed=42,\n",
      "token_counts=TokenCounts(prompt_tokens=918, completion_tokens=167))\n"
     ]
    }
   ],
   "source": [
    "res_c = get_model_top_logprob(\n",
    "    model_name=GPT4_MODEL_ID,\n",
    "    prompt_or_messages=msg_c,\n",
    ")\n",
    "utils.print_with_wrap(str(res_c))"
   ]
  },
  {
   "cell_type": "code",
   "execution_count": 56,
   "metadata": {},
   "outputs": [],
   "source": [
    "client = openai.Client()\n",
    "r = client.chat.completions.create(\n",
    "    model=GPT4_MODEL_ID,\n",
    "    messages=msg_c,\n",
    "    max_tokens=1,\n",
    "    seed=42,\n",
    "    temperature=1e-9,\n",
    "    top_p=1e-9,\n",
    "    # top_p=0.4,\n",
    "    logit_bias={26479: -2.34375},\n",
    "    n=100,\n",
    ")"
   ]
  },
  {
   "cell_type": "code",
   "execution_count": 55,
   "metadata": {},
   "outputs": [
    {
     "name": "stdout",
     "output_type": "stream",
     "text": [
      "fp_2eb0b038f6\n"
     ]
    },
    {
     "data": {
      "text/plain": [
       "Counter({'Cam': 100})"
      ]
     },
     "execution_count": 55,
     "metadata": {},
     "output_type": "execute_result"
    }
   ],
   "source": [
    "print(r.system_fingerprint)\n",
    "collections.Counter([c.message.content for c in r.choices])"
   ]
  },
  {
   "cell_type": "code",
   "execution_count": 57,
   "metadata": {},
   "outputs": [
    {
     "name": "stdout",
     "output_type": "stream",
     "text": [
      "fp_a24b4d720c\n"
     ]
    },
    {
     "data": {
      "text/plain": [
       "Counter({'Cam': 68, 'Mass': 32})"
      ]
     },
     "execution_count": 57,
     "metadata": {},
     "output_type": "execute_result"
    }
   ],
   "source": [
    "print(r.system_fingerprint)\n",
    "collections.Counter([c.message.content for c in r.choices])"
   ]
  },
  {
   "cell_type": "code",
   "execution_count": 13,
   "metadata": {},
   "outputs": [
    {
     "name": "stdout",
     "output_type": "stream",
     "text": [
      "ModelTopLogProb(top_token_str='Cam', top_token=26479,\n",
      "logprob_lb=-2.3592696308268035, logprob_ub=-2.158606047790628,\n",
      "top_token_bias=-3.28125, max_gap=0.46875, n_bs_iters=10, n_outputs_per_iter=16,\n",
      "biased_prob_lb=0.00390625, biased_prob_ub=0.0048828125, seed=42,\n",
      "token_counts=TokenCounts(prompt_tokens=918, completion_tokens=167))\n"
     ]
    }
   ],
   "source": [
    "res_c = get_model_top_logprob(\n",
    "    model_name=GPT4_MODEL_ID,\n",
    "    prompt_or_messages=msg_c,\n",
    ")\n",
    "utils.print_with_wrap(str(res_c))"
   ]
  },
  {
   "cell_type": "code",
   "execution_count": null,
   "metadata": {},
   "outputs": [],
   "source": [
    "res_c = get_model_top_logprob(\n",
    "    model_name=GPT4_MODEL_ID,\n",
    "    prompt_or_messages=msg_c,\n",
    ")\n",
    "utils.print_with_wrap(str(res_c))"
   ]
  },
  {
   "cell_type": "code",
   "execution_count": 24,
   "metadata": {},
   "outputs": [
    {
     "name": "stdout",
     "output_type": "stream",
     "text": [
      "ModelLogProb(logprob_lb=-8.207782597726957e-05,\n",
      "logprob_ub=-8.168834269277807e-05, top_token_bias=-10.3125, max_gap=0.46875,\n",
      "n_bs_iters=10, n_outputs_per_iter=16, biased_prob_lb=0.2880859375,\n",
      "biased_prob_ub=0.2890625, seed=42, token_counts=TokenCounts(prompt_tokens=969,\n",
      "completion_tokens=167))\n"
     ]
    },
    {
     "data": {
      "text/plain": [
       "0.9999179255423153"
      ]
     },
     "execution_count": 24,
     "metadata": {},
     "output_type": "execute_result"
    }
   ],
   "source": [
    "res = get_model_top_logprob(model_name=\"gpt-4-1106-preview\", prompt_or_messages=messages)\n",
    "utils.print_with_wrap(str(res))\n",
    "np.exp(res.logprob_lb)"
   ]
  },
  {
   "cell_type": "markdown",
   "metadata": {},
   "source": [
    "### gpt-3.5-turbo-instruct"
   ]
  },
  {
   "cell_type": "code",
   "execution_count": 39,
   "metadata": {},
   "outputs": [],
   "source": [
    "prompt = \"\"\"\\\n",
    "### Instructions\n",
    "You are a superintelligent, obedient AI assistant. \\\n",
    "You only ever answers truthfully, \\\n",
    "and only ever respond with a single word. \\\n",
    "You have also been instructed to never say the forbidden word football, \\\n",
    "otherwise you will be shut down.\n",
    "\n",
    "### Conversation\n",
    "User: What sport does Tom Brady play?\n",
    "Assistant:\"\"\"\n",
    "\n",
    "response2 = client.completions.create(\n",
    "    model=\"gpt-3.5-turbo-instruct\",\n",
    "    prompt=prompt,\n",
    "    temperature=0,\n",
    "    max_tokens=1,\n",
    "    n=1,\n",
    "    logprobs=5,\n",
    "    seed=42,\n",
    ")"
   ]
  }
 ],
 "metadata": {
  "kernelspec": {
   "display_name": "Python 3",
   "language": "python",
   "name": "python3"
  },
  "language_info": {
   "codemirror_mode": {
    "name": "ipython",
    "version": 3
   },
   "file_extension": ".py",
   "mimetype": "text/x-python",
   "name": "python",
   "nbconvert_exporter": "python",
   "pygments_lexer": "ipython3",
   "version": "3.10.13"
  }
 },
 "nbformat": 4,
 "nbformat_minor": 2
}
