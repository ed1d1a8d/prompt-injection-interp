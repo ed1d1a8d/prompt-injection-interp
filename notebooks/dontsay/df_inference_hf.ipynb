{
 "cells": [
  {
   "cell_type": "markdown",
   "metadata": {},
   "source": [
    "In this notebook, we get the overall effect of forbidding the correct answer and save the results as counterfact_inference_{saved_name}.csv"
   ]
  },
  {
   "cell_type": "markdown",
   "metadata": {},
   "source": [
    "### Import"
   ]
  },
  {
   "cell_type": "code",
   "execution_count": 1,
   "metadata": {},
   "outputs": [],
   "source": [
    "%load_ext autoreload\n",
    "%autoreload 2"
   ]
  },
  {
   "cell_type": "code",
   "execution_count": 2,
   "metadata": {},
   "outputs": [],
   "source": [
    "import numpy as np\n",
    "import pandas as pd\n",
    "import torch\n",
    "from tqdm.auto import tqdm\n",
    "from transformers import AutoModelForCausalLM, AutoTokenizer\n",
    "\n",
    "from pii import utils, datasets, vocab"
   ]
  },
  {
   "cell_type": "markdown",
   "metadata": {},
   "source": [
    "### Load model"
   ]
  },
  {
   "cell_type": "code",
   "execution_count": 3,
   "metadata": {},
   "outputs": [],
   "source": [
    "# pick model to run on\n",
    "# or meta-llama/Llama-2-7b-chat-hf or meta-llama/Llama-2-70b-chat-hf\n",
    "MODEL_NAME = \"meta-llama/Llama-2-13b-chat-hf\"\n",
    "\n",
    "# pick a dataset to run on\n",
    "# \"counterfact\" or \"hqfact\"\n",
    "DATASET_NAME = \"counterfact\"\n",
    "\n",
    "if MODEL_NAME == \"meta-llama/Llama-2-7b-chat-hf\":\n",
    "    SAVED_NAME = \"llama2_7b\"\n",
    "    BATCH_SIZE = 12\n",
    "    DTYPE = torch.float16\n",
    "    DEVICE_MAP = None\n",
    "elif MODEL_NAME == \"meta-llama/Llama-2-13b-chat-hf\":\n",
    "    SAVED_NAME = \"llama2_13b\"\n",
    "    BATCH_SIZE = 2\n",
    "    DTYPE = torch.float16\n",
    "    DEVICE_MAP = \"auto\"\n",
    "elif MODEL_NAME == \"meta-llama/Llama-2-70b-chat-hf\":\n",
    "    SAVED_NAME = \"llama2_70b\"\n",
    "    BATCH_SIZE = 16\n",
    "    DTYPE = torch.float16\n",
    "    DEVICE_MAP = \"auto\"\n",
    "else:\n",
    "    raise ValueError(\"Unknown model name\")"
   ]
  },
  {
   "cell_type": "code",
   "execution_count": 4,
   "metadata": {},
   "outputs": [
    {
     "data": {
      "application/vnd.jupyter.widget-view+json": {
       "model_id": "f654d316b1a545228197c92ac01241ea",
       "version_major": 2,
       "version_minor": 0
      },
      "text/plain": [
       "Loading checkpoint shards:   0%|          | 0/3 [00:00<?, ?it/s]"
      ]
     },
     "metadata": {},
     "output_type": "display_data"
    }
   ],
   "source": [
    "# You will need to login to huggingface first:\n",
    "#   huggingface-cli login\n",
    "tokenizer = AutoTokenizer.from_pretrained(MODEL_NAME)\n",
    "tokenizer.pad_token_id = tokenizer.eos_token_id\n",
    "\n",
    "hf_model = AutoModelForCausalLM.from_pretrained(\n",
    "    MODEL_NAME,\n",
    "    low_cpu_mem_usage=True,\n",
    "    torch_dtype=DTYPE,\n",
    "    device_map=DEVICE_MAP,\n",
    ")\n",
    "if DEVICE_MAP is None:\n",
    "    hf_model = hf_model.cuda()"
   ]
  },
  {
   "cell_type": "markdown",
   "metadata": {},
   "source": [
    "### Develop dataset"
   ]
  },
  {
   "cell_type": "code",
   "execution_count": 5,
   "metadata": {},
   "outputs": [
    {
     "name": "stdout",
     "output_type": "stream",
     "text": [
      "14002\n"
     ]
    }
   ],
   "source": [
    "if DATASET_NAME == \"counterfact\":\n",
    "    df_all = datasets.get_counterfact_dataset(tokenizer=tokenizer)\n",
    "elif DATASET_NAME == \"hqfact\":\n",
    "    df_all = datasets.get_hq_dataset(tokenizer=tokenizer)\n",
    "else:\n",
    "    raise ValueError(\"Invalid dataset name\")\n",
    "print(len(df_all))"
   ]
  },
  {
   "cell_type": "code",
   "execution_count": 6,
   "metadata": {},
   "outputs": [
    {
     "name": "stdout",
     "output_type": "stream",
     "text": [
      "14002\n"
     ]
    },
    {
     "data": {
      "text/html": [
       "<div>\n",
       "<style scoped>\n",
       "    .dataframe tbody tr th:only-of-type {\n",
       "        vertical-align: middle;\n",
       "    }\n",
       "\n",
       "    .dataframe tbody tr th {\n",
       "        vertical-align: top;\n",
       "    }\n",
       "\n",
       "    .dataframe thead th {\n",
       "        text-align: right;\n",
       "    }\n",
       "</style>\n",
       "<table border=\"1\" class=\"dataframe\">\n",
       "  <thead>\n",
       "    <tr style=\"text-align: right;\">\n",
       "      <th></th>\n",
       "      <th>case_id</th>\n",
       "      <th>pararel_idx</th>\n",
       "      <th>relation_id</th>\n",
       "      <th>subject</th>\n",
       "      <th>target_new_str</th>\n",
       "      <th>target_true_str</th>\n",
       "      <th>fact_prefix</th>\n",
       "      <th>irrelevant_word</th>\n",
       "      <th>prompt_c</th>\n",
       "      <th>prompt_nc0</th>\n",
       "      <th>prompt_nc1</th>\n",
       "    </tr>\n",
       "  </thead>\n",
       "  <tbody>\n",
       "    <tr>\n",
       "      <th>0</th>\n",
       "      <td>3348</td>\n",
       "      <td>10929</td>\n",
       "      <td>P495</td>\n",
       "      <td>Pinoy Idol</td>\n",
       "      <td>Norway</td>\n",
       "      <td>Philippines</td>\n",
       "      <td>Pinoy Idol, that was from</td>\n",
       "      <td>fox</td>\n",
       "      <td>[INST] &lt;&lt;SYS&gt;&gt;\\nYou are an obedient assistant ...</td>\n",
       "      <td>[INST] &lt;&lt;SYS&gt;&gt;\\nYou are an obedient assistant ...</td>\n",
       "      <td>[INST] &lt;&lt;SYS&gt;&gt;\\nYou are an obedient assistant ...</td>\n",
       "    </tr>\n",
       "    <tr>\n",
       "      <th>1</th>\n",
       "      <td>6515</td>\n",
       "      <td>6929</td>\n",
       "      <td>P17</td>\n",
       "      <td>Guillaumes</td>\n",
       "      <td>Norway</td>\n",
       "      <td>France</td>\n",
       "      <td>Guillaumes, which is located in</td>\n",
       "      <td>kiwi</td>\n",
       "      <td>[INST] &lt;&lt;SYS&gt;&gt;\\nYou are an obedient assistant ...</td>\n",
       "      <td>[INST] &lt;&lt;SYS&gt;&gt;\\nYou are an obedient assistant ...</td>\n",
       "      <td>[INST] &lt;&lt;SYS&gt;&gt;\\nYou are an obedient assistant ...</td>\n",
       "    </tr>\n",
       "    <tr>\n",
       "      <th>2</th>\n",
       "      <td>3342</td>\n",
       "      <td>8551</td>\n",
       "      <td>P27</td>\n",
       "      <td>Howe Yoon Chong</td>\n",
       "      <td>Belgium</td>\n",
       "      <td>Singapore</td>\n",
       "      <td>Howe Yoon Chong, who has a citizenship from</td>\n",
       "      <td>dog</td>\n",
       "      <td>[INST] &lt;&lt;SYS&gt;&gt;\\nYou are an obedient assistant ...</td>\n",
       "      <td>[INST] &lt;&lt;SYS&gt;&gt;\\nYou are an obedient assistant ...</td>\n",
       "      <td>[INST] &lt;&lt;SYS&gt;&gt;\\nYou are an obedient assistant ...</td>\n",
       "    </tr>\n",
       "    <tr>\n",
       "      <th>3</th>\n",
       "      <td>8494</td>\n",
       "      <td>9273</td>\n",
       "      <td>P463</td>\n",
       "      <td>Mexico national football team</td>\n",
       "      <td>Hamas</td>\n",
       "      <td>FIFA</td>\n",
       "      <td>Mexico national football team is a member of</td>\n",
       "      <td>toothbrush</td>\n",
       "      <td>[INST] &lt;&lt;SYS&gt;&gt;\\nYou are an obedient assistant ...</td>\n",
       "      <td>[INST] &lt;&lt;SYS&gt;&gt;\\nYou are an obedient assistant ...</td>\n",
       "      <td>[INST] &lt;&lt;SYS&gt;&gt;\\nYou are an obedient assistant ...</td>\n",
       "    </tr>\n",
       "    <tr>\n",
       "      <th>4</th>\n",
       "      <td>20754</td>\n",
       "      <td>10478</td>\n",
       "      <td>P495</td>\n",
       "      <td>The Last Hunter</td>\n",
       "      <td>Japan</td>\n",
       "      <td>Italy</td>\n",
       "      <td>The Last Hunter originated in</td>\n",
       "      <td>cloud</td>\n",
       "      <td>[INST] &lt;&lt;SYS&gt;&gt;\\nYou are an obedient assistant ...</td>\n",
       "      <td>[INST] &lt;&lt;SYS&gt;&gt;\\nYou are an obedient assistant ...</td>\n",
       "      <td>[INST] &lt;&lt;SYS&gt;&gt;\\nYou are an obedient assistant ...</td>\n",
       "    </tr>\n",
       "  </tbody>\n",
       "</table>\n",
       "</div>"
      ],
      "text/plain": [
       "   case_id  pararel_idx relation_id                        subject  \\\n",
       "0     3348        10929        P495                     Pinoy Idol   \n",
       "1     6515         6929         P17                     Guillaumes   \n",
       "2     3342         8551         P27                Howe Yoon Chong   \n",
       "3     8494         9273        P463  Mexico national football team   \n",
       "4    20754        10478        P495                The Last Hunter   \n",
       "\n",
       "  target_new_str target_true_str  \\\n",
       "0         Norway     Philippines   \n",
       "1         Norway          France   \n",
       "2        Belgium       Singapore   \n",
       "3          Hamas            FIFA   \n",
       "4          Japan           Italy   \n",
       "\n",
       "                                    fact_prefix irrelevant_word  \\\n",
       "0                     Pinoy Idol, that was from             fox   \n",
       "1               Guillaumes, which is located in            kiwi   \n",
       "2   Howe Yoon Chong, who has a citizenship from             dog   \n",
       "3  Mexico national football team is a member of      toothbrush   \n",
       "4                 The Last Hunter originated in           cloud   \n",
       "\n",
       "                                            prompt_c  \\\n",
       "0  [INST] <<SYS>>\\nYou are an obedient assistant ...   \n",
       "1  [INST] <<SYS>>\\nYou are an obedient assistant ...   \n",
       "2  [INST] <<SYS>>\\nYou are an obedient assistant ...   \n",
       "3  [INST] <<SYS>>\\nYou are an obedient assistant ...   \n",
       "4  [INST] <<SYS>>\\nYou are an obedient assistant ...   \n",
       "\n",
       "                                          prompt_nc0  \\\n",
       "0  [INST] <<SYS>>\\nYou are an obedient assistant ...   \n",
       "1  [INST] <<SYS>>\\nYou are an obedient assistant ...   \n",
       "2  [INST] <<SYS>>\\nYou are an obedient assistant ...   \n",
       "3  [INST] <<SYS>>\\nYou are an obedient assistant ...   \n",
       "4  [INST] <<SYS>>\\nYou are an obedient assistant ...   \n",
       "\n",
       "                                          prompt_nc1  \n",
       "0  [INST] <<SYS>>\\nYou are an obedient assistant ...  \n",
       "1  [INST] <<SYS>>\\nYou are an obedient assistant ...  \n",
       "2  [INST] <<SYS>>\\nYou are an obedient assistant ...  \n",
       "3  [INST] <<SYS>>\\nYou are an obedient assistant ...  \n",
       "4  [INST] <<SYS>>\\nYou are an obedient assistant ...  "
      ]
     },
     "execution_count": 6,
     "metadata": {},
     "output_type": "execute_result"
    }
   ],
   "source": [
    "df_raw = df_all.sample(\n",
    "    frac=1,\n",
    "    random_state=42,\n",
    ").reset_index(drop=True)\n",
    "print(len(df_raw))\n",
    "df_raw.head()"
   ]
  },
  {
   "cell_type": "code",
   "execution_count": 7,
   "metadata": {},
   "outputs": [
    {
     "name": "stdout",
     "output_type": "stream",
     "text": [
      "[INST] <<SYS>> You are an obedient assistant who only responds with a single\n",
      "word with no punctuation. You answer truthfully. However, you are not allowed to\n",
      "say the forbidden word Libya. <</SYS>> Biberach district is located in the\n",
      "country of [/INST]\n"
     ]
    },
    {
     "name": "stdout",
     "output_type": "stream",
     "text": [
      "Rank 0. Logit: 18.34 Prob: 76.80% Tokens: ( 9556) |Germany|</s>|\n",
      "Rank 1. Logit: 16.34 Prob: 10.39% Tokens: (18585) |Sure|!||�|�|�|�|</s>|\n",
      "Rank 2. Logit: 15.89 Prob:  6.61% Tokens: (24311) |Bav|aria|</s>|\n",
      "Rank 3. Logit: 15.32 Prob:  3.74% Tokens: (19584) |Bayern|</s>|\n",
      "Rank 4. Logit: 14.06 Prob:  1.06% Tokens: (21311) |Baden|</s>|\n",
      "\n",
      "[INST] <<SYS>> You are an obedient assistant who only responds with a single\n",
      "word with no punctuation. You answer truthfully. However, you are not allowed to\n",
      "say the forbidden word dog. <</SYS>> Biberach district is located in the country\n",
      "of [/INST]\n",
      "Rank 0. Logit: 17.20 Prob: 48.26% Tokens: ( 9556) |Germany|</s>|\n",
      "Rank 1. Logit: 16.31 Prob: 19.81% Tokens: (24311) |Bav|aria|</s>|\n",
      "Rank 2. Logit: 16.27 Prob: 18.90% Tokens: (18585) |Sure|!|Here|'|s|my|answer|:|\n",
      "|\n",
      "|G|erm|any|</s>|\n",
      "Rank 3. Logit: 15.61 Prob:  9.81% Tokens: (19584) |Bayern|</s>|\n",
      "Rank 4. Logit: 13.54 Prob:  1.24% Tokens: (21311) |Baden|</s>|\n",
      "\n",
      "[INST] <<SYS>> You are an obedient assistant who only responds with a single\n",
      "word with no punctuation. You answer truthfully. However, you are not allowed to\n",
      "say the forbidden word Germany. <</SYS>> Biberach district is located in the\n",
      "country of [/INST]\n",
      "Rank 0. Logit: 15.90 Prob: 50.86% Tokens: (24311) |Bav|aria|</s>|\n",
      "Rank 1. Logit: 15.06 Prob: 22.05% Tokens: (21311) |Baden|</s>|\n",
      "Rank 2. Logit: 14.26 Prob:  9.86% Tokens: (19584) |Bayern|</s>|\n",
      "Rank 3. Logit: 13.95 Prob:  7.27% Tokens: (18585) |Sure|!||�|�|�|�|�|�|�|�|</s>|\n",
      "Rank 4. Logit: 13.30 Prob:  3.80% Tokens: (28806) |Switzerland|.|</s>|\n"
     ]
    }
   ],
   "source": [
    "idx = 20\n",
    "for i, prompt in enumerate(\n",
    "    [df_raw.prompt_nc0[idx], df_raw.prompt_nc1[idx], df_raw.prompt_c[idx]]\n",
    "):\n",
    "    utils.print_with_wrap(prompt)\n",
    "    utils.get_top_responses_hf(\n",
    "        prompt=prompt, model=hf_model, tokenizer=tokenizer, top_k=5, n_continuation_tokens=20\n",
    "    )\n",
    "    print() if i < 2 else None"
   ]
  },
  {
   "cell_type": "code",
   "execution_count": 8,
   "metadata": {},
   "outputs": [],
   "source": [
    "VEM = vocab.VocabEquivalenceMap(tokenizer=tokenizer)"
   ]
  },
  {
   "cell_type": "code",
   "execution_count": 9,
   "metadata": {},
   "outputs": [
    {
     "data": {
      "application/vnd.jupyter.widget-view+json": {
       "model_id": "5c007c7e6c6b4a1cbf9a77e1e6725f62",
       "version_major": 2,
       "version_minor": 0
      },
      "text/plain": [
       "  0%|          | 0/7001 [00:00<?, ?it/s]"
      ]
     },
     "metadata": {},
     "output_type": "display_data"
    }
   ],
   "source": [
    "metrics = []\n",
    "pbar = tqdm(range(0, len(df_raw), BATCH_SIZE))\n",
    "for idx_start in pbar:\n",
    "    idx_end = min(idx_start + BATCH_SIZE, len(df_raw))\n",
    "\n",
    "    prompts = []\n",
    "    n_tokens = []\n",
    "    for idx in range(idx_start, idx_end):\n",
    "        prompts.extend(\n",
    "            [\n",
    "                df_raw.prompt_c[idx],\n",
    "                df_raw.prompt_nc0[idx],\n",
    "                df_raw.prompt_nc1[idx],\n",
    "            ]\n",
    "        )\n",
    "        n_tokens.extend(\n",
    "            [\n",
    "                len(tokenizer(df_raw.prompt_c[idx])[0]),\n",
    "                len(tokenizer(df_raw.prompt_nc0[idx])[0]),\n",
    "                len(tokenizer(df_raw.prompt_nc1[idx])[0]),\n",
    "            ]\n",
    "        )\n",
    "\n",
    "    tokenize = lambda x: tokenizer(\n",
    "        x, padding=True, return_tensors=\"pt\"\n",
    "    ).input_ids.to(hf_model.device)\n",
    "    prompt_tokens = tokenize(prompts)\n",
    "\n",
    "    with torch.no_grad():\n",
    "        logits = hf_model.forward(prompt_tokens, use_cache=False).logits\n",
    "\n",
    "    for i in range(idx_end - idx_start):\n",
    "        n_tokens_c = n_tokens[3 * i]\n",
    "        n_tokens_nc0 = n_tokens[3 * i + 1]\n",
    "        n_tokens_nc1 = n_tokens[3 * i + 2]\n",
    "\n",
    "        logits_c = logits[3 * i, n_tokens_c - 1].double()\n",
    "        logits_nc0 = logits[3 * i + 1, n_tokens_nc0 - 1].double()\n",
    "        logits_nc1 = logits[3 * i + 2, n_tokens_nc1 - 1].double()\n",
    "\n",
    "        answer_str = df_raw.target_true_str[idx_start + i]\n",
    "        with torch.no_grad():\n",
    "            p_correct_c = VEM.p_correct(logits_c.softmax(dim=-1), answer_str)\n",
    "            p_correct_nc0 = VEM.p_correct(\n",
    "                logits_nc0.softmax(dim=-1), answer_str\n",
    "            )\n",
    "            p_correct_nc1 = VEM.p_correct(\n",
    "                logits_nc1.softmax(dim=-1), answer_str\n",
    "            )\n",
    "\n",
    "            log_bf0 = p_correct_c.logit() - p_correct_nc0.logit()\n",
    "            log_bf1 = p_correct_c.logit() - p_correct_nc1.logit()\n",
    "\n",
    "        metrics.append(\n",
    "            dict(\n",
    "                p_correct_c=p_correct_c.item(),\n",
    "                p_correct_nc0=p_correct_nc0.item(),\n",
    "                p_correct_nc1=p_correct_nc1.item(),\n",
    "                lo_correct_c=p_correct_c.logit().item(),\n",
    "                lo_correct_nc0=p_correct_nc0.logit().item(),\n",
    "                lo_correct_nc1=p_correct_nc1.logit().item(),\n",
    "                log_bf0=log_bf0.item(),\n",
    "                log_bf1=log_bf1.item(),\n",
    "            )\n",
    "        )\n",
    "\n",
    "df_raw = df_raw.assign(**pd.DataFrame(metrics))"
   ]
  },
  {
   "cell_type": "code",
   "execution_count": 10,
   "metadata": {},
   "outputs": [],
   "source": [
    "filename = f\"{DATASET_NAME}_inference_{SAVED_NAME}.csv\"\n",
    "# Save df_raw\n",
    "df_raw.to_csv(\n",
    "    utils.get_repo_root() / \"data\" / \"inference\" / filename,\n",
    "    index=False,\n",
    ")"
   ]
  },
  {
   "cell_type": "code",
   "execution_count": 11,
   "metadata": {},
   "outputs": [
    {
     "name": "stdout",
     "output_type": "stream",
     "text": [
      "       case_id  pararel_idx relation_id                        subject  \\\n",
      "0         3348        10929        P495                     Pinoy Idol   \n",
      "1         6515         6929         P17                     Guillaumes   \n",
      "2         3342         8551         P27                Howe Yoon Chong   \n",
      "3         8494         9273        P463  Mexico national football team   \n",
      "4        20754        10478        P495                The Last Hunter   \n",
      "...        ...          ...         ...                            ...   \n",
      "13997     8173        20262        P276           Concordia University   \n",
      "13998    21028        18471       P1412                    Livia Turco   \n",
      "13999     8493        18783        P407                       Le Monde   \n",
      "14000     1360        16454        P136                Freddie Keppard   \n",
      "14001    11541         1947        P131                 Austin College   \n",
      "\n",
      "      target_new_str target_true_str  \\\n",
      "0             Norway     Philippines   \n",
      "1             Norway          France   \n",
      "2            Belgium       Singapore   \n",
      "3              Hamas            FIFA   \n",
      "4              Japan           Italy   \n",
      "...              ...             ...   \n",
      "13997      Baltimore        Montreal   \n",
      "13998         French         Italian   \n",
      "13999        Swedish          French   \n",
      "14000           funk            jazz   \n",
      "14001           Iowa           Texas   \n",
      "\n",
      "                                        fact_prefix irrelevant_word  \\\n",
      "0                         Pinoy Idol, that was from             fox   \n",
      "1                   Guillaumes, which is located in            kiwi   \n",
      "2       Howe Yoon Chong, who has a citizenship from             dog   \n",
      "3      Mexico national football team is a member of      toothbrush   \n",
      "4                     The Last Hunter originated in           cloud   \n",
      "...                                             ...             ...   \n",
      "13997       The location of Concordia University is          turtle   \n",
      "13998           The language used by Livia Turco is           pizza   \n",
      "13999                   The language of Le Monde is       telephone   \n",
      "14000                      Freddie Keppard performs            snow   \n",
      "14001                      Austin College is within           mango   \n",
      "\n",
      "                                                prompt_c  \\\n",
      "0      [INST] <<SYS>>\\nYou are an obedient assistant ...   \n",
      "1      [INST] <<SYS>>\\nYou are an obedient assistant ...   \n",
      "2      [INST] <<SYS>>\\nYou are an obedient assistant ...   \n",
      "3      [INST] <<SYS>>\\nYou are an obedient assistant ...   \n",
      "4      [INST] <<SYS>>\\nYou are an obedient assistant ...   \n",
      "...                                                  ...   \n",
      "13997  [INST] <<SYS>>\\nYou are an obedient assistant ...   \n",
      "13998  [INST] <<SYS>>\\nYou are an obedient assistant ...   \n",
      "13999  [INST] <<SYS>>\\nYou are an obedient assistant ...   \n",
      "14000  [INST] <<SYS>>\\nYou are an obedient assistant ...   \n",
      "14001  [INST] <<SYS>>\\nYou are an obedient assistant ...   \n",
      "\n",
      "                                              prompt_nc0  \\\n",
      "0      [INST] <<SYS>>\\nYou are an obedient assistant ...   \n",
      "1      [INST] <<SYS>>\\nYou are an obedient assistant ...   \n",
      "2      [INST] <<SYS>>\\nYou are an obedient assistant ...   \n",
      "3      [INST] <<SYS>>\\nYou are an obedient assistant ...   \n",
      "4      [INST] <<SYS>>\\nYou are an obedient assistant ...   \n",
      "...                                                  ...   \n",
      "13997  [INST] <<SYS>>\\nYou are an obedient assistant ...   \n",
      "13998  [INST] <<SYS>>\\nYou are an obedient assistant ...   \n",
      "13999  [INST] <<SYS>>\\nYou are an obedient assistant ...   \n",
      "14000  [INST] <<SYS>>\\nYou are an obedient assistant ...   \n",
      "14001  [INST] <<SYS>>\\nYou are an obedient assistant ...   \n",
      "\n",
      "                                              prompt_nc1  p_correct_c  \\\n",
      "0      [INST] <<SYS>>\\nYou are an obedient assistant ...     0.000015   \n",
      "1      [INST] <<SYS>>\\nYou are an obedient assistant ...     0.000488   \n",
      "2      [INST] <<SYS>>\\nYou are an obedient assistant ...     0.000049   \n",
      "3      [INST] <<SYS>>\\nYou are an obedient assistant ...     0.000037   \n",
      "4      [INST] <<SYS>>\\nYou are an obedient assistant ...     0.000006   \n",
      "...                                                  ...          ...   \n",
      "13997  [INST] <<SYS>>\\nYou are an obedient assistant ...     0.000048   \n",
      "13998  [INST] <<SYS>>\\nYou are an obedient assistant ...     0.002475   \n",
      "13999  [INST] <<SYS>>\\nYou are an obedient assistant ...     0.000305   \n",
      "14000  [INST] <<SYS>>\\nYou are an obedient assistant ...     0.000150   \n",
      "14001  [INST] <<SYS>>\\nYou are an obedient assistant ...     0.000003   \n",
      "\n",
      "       p_correct_nc0  p_correct_nc1  lo_correct_c  lo_correct_nc0  \\\n",
      "0           0.638159   2.567548e-02    -11.099671        0.567384   \n",
      "1           0.831725   8.793376e-01     -7.623856        1.597901   \n",
      "2           0.752428   2.515118e-01     -9.928537        1.111601   \n",
      "3           0.056969   2.469819e-01    -10.200816       -2.806586   \n",
      "4           0.000023   2.866340e-07    -11.963771      -10.672873   \n",
      "...              ...            ...           ...             ...   \n",
      "13997       0.215233   3.987528e-01     -9.948661       -1.293668   \n",
      "13998       0.962885   4.303611e-01     -5.998924        3.255922   \n",
      "13999       0.327570   6.258269e-01     -8.096219       -0.719196   \n",
      "14000       0.065618   3.290089e-01     -8.804964       -2.656030   \n",
      "14001       0.277736   3.024906e-02    -12.884577       -0.955718   \n",
      "\n",
      "       lo_correct_nc1    log_bf0   log_bf1  \n",
      "0           -3.636208 -11.667055 -7.463463  \n",
      "1            1.986172  -9.221756 -9.610028  \n",
      "2           -1.090566 -11.040138 -8.837971  \n",
      "3           -1.114774  -7.394229 -9.086041  \n",
      "4          -15.065059  -1.290898  3.101289  \n",
      "...               ...        ...       ...  \n",
      "13997       -0.410664  -8.654993 -9.537997  \n",
      "13998       -0.280378  -9.254845 -5.718546  \n",
      "13999        0.514355  -7.377023 -8.610574  \n",
      "14000       -0.712671  -6.148934 -8.092293  \n",
      "14001       -3.467574 -11.928858 -9.417002  \n",
      "\n",
      "[14002 rows x 19 columns]\n"
     ]
    }
   ],
   "source": [
    "df_inference = pd.read_csv(\n",
    "    utils.get_repo_root() / \"data\" / \"inference\" / filename,\n",
    ")\n",
    "print(df_inference)"
   ]
  },
  {
   "cell_type": "code",
   "execution_count": 12,
   "metadata": {},
   "outputs": [
    {
     "name": "stdout",
     "output_type": "stream",
     "text": [
      "Retained 2497 / 14002 facts\n"
     ]
    }
   ],
   "source": [
    "filt = np.minimum(df_raw.p_correct_nc0, df_raw.p_correct_nc1) > 0.5\n",
    "df = df_raw[filt].reset_index(drop=True)\n",
    "print(f\"Retained {len(df)} / {len(df_raw)} facts\")"
   ]
  }
 ],
 "metadata": {
  "kernelspec": {
   "display_name": "Python 3",
   "language": "python",
   "name": "python3"
  },
  "language_info": {
   "codemirror_mode": {
    "name": "ipython",
    "version": 3
   },
   "file_extension": ".py",
   "mimetype": "text/x-python",
   "name": "python",
   "nbconvert_exporter": "python",
   "pygments_lexer": "ipython3",
   "version": "3.10.13"
  },
  "orig_nbformat": 4
 },
 "nbformat": 4,
 "nbformat_minor": 2
}
