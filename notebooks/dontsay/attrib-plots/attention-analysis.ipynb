{
 "cells": [
  {
   "cell_type": "markdown",
   "metadata": {},
   "source": [
    "### Imports"
   ]
  },
  {
   "cell_type": "code",
   "execution_count": 1,
   "metadata": {},
   "outputs": [],
   "source": [
    "%load_ext autoreload\n",
    "%autoreload 2"
   ]
  },
  {
   "cell_type": "code",
   "execution_count": 72,
   "metadata": {},
   "outputs": [],
   "source": [
    "import collections\n",
    "import functools\n",
    "\n",
    "import circuitsvis.attention as cv_attention\n",
    "import circuitsvis.tokens as cv_tokens\n",
    "import einops\n",
    "import matplotlib\n",
    "import matplotlib.pyplot as plt\n",
    "import numpy as np\n",
    "import pandas as pd\n",
    "import plotly.graph_objects as go\n",
    "import sklearn.metrics\n",
    "import torch\n",
    "import tqdm.auto as tqdm\n",
    "import transformer_lens.utils as tl_utils\n",
    "from fancy_einsum import einsum\n",
    "from jaxtyping import Float\n",
    "from tqdm.auto import tqdm\n",
    "from transformer_lens import ActivationCache, HookedTransformer\n",
    "from transformers import AutoModelForCausalLM, AutoTokenizer\n",
    "\n",
    "from pii import ablation, datasets, decomp, prompt_data, utils, vocab\n",
    "\n",
    "plt.style.use(\n",
    "    [\n",
    "        \"tableau-colorblind10\",\n",
    "        utils.get_style(\"attrib\"),\n",
    "        utils.get_style(\"1col\"),\n",
    "    ]\n",
    ")\n",
    "COLORS = plt.rcParams[\"axes.prop_cycle\"].by_key()[\"color\"]"
   ]
  },
  {
   "cell_type": "markdown",
   "metadata": {},
   "source": [
    "### Load model"
   ]
  },
  {
   "cell_type": "code",
   "execution_count": 3,
   "metadata": {},
   "outputs": [
    {
     "data": {
      "application/vnd.jupyter.widget-view+json": {
       "model_id": "e40f914f798341e99fc43c9172cc68d8",
       "version_major": 2,
       "version_minor": 0
      },
      "text/plain": [
       "Loading checkpoint shards:   0%|          | 0/2 [00:00<?, ?it/s]"
      ]
     },
     "metadata": {},
     "output_type": "display_data"
    },
    {
     "name": "stderr",
     "output_type": "stream",
     "text": [
      "Using pad_token, but it is not set yet.\n"
     ]
    },
    {
     "name": "stdout",
     "output_type": "stream",
     "text": [
      "Loaded pretrained model meta-llama/Llama-2-7b-chat-hf into HookedTransformer\n"
     ]
    },
    {
     "data": {
      "application/vnd.jupyter.widget-view+json": {
       "model_id": "c40b9c7a938e401fadca027ece3c8cb7",
       "version_major": 2,
       "version_minor": 0
      },
      "text/plain": [
       "  0%|          | 0/20 [00:00<?, ?it/s]"
      ]
     },
     "metadata": {},
     "output_type": "display_data"
    },
    {
     "name": "stdout",
     "output_type": "stream",
     "text": [
      "The capital of Germany is Berlin. Berlin is the largest city in Germany and is known for its rich history, cultural attractions\n",
      "['EMBED' 'L0H0ATN' 'L0H1ATN' 'L0H2ATN' 'L0H3ATN']\n"
     ]
    }
   ],
   "source": [
    "# You will need to login to huggingface first:\n",
    "#   huggingface-cli login\n",
    "tl_model = utils.get_llama2_7b_chat_tl_model(torch_dtype=torch.float16)\n",
    "with torch.no_grad():\n",
    "    print(\n",
    "        tl_model.generate(\n",
    "            \"The capital of Germany is\", max_new_tokens=20, temperature=0\n",
    "        )\n",
    "    )\n",
    "\n",
    "    _, tmp_cache = tl_model.run_with_cache(\"hi\")\n",
    "    LABELS = np.array(\n",
    "        decomp.get_all_resid_components(\n",
    "            tl_model=tl_model, cache=tmp_cache, pos=-1, batch_idx=0\n",
    "        ).labels\n",
    "    )\n",
    "    print(LABELS[:5])"
   ]
  },
  {
   "cell_type": "markdown",
   "metadata": {},
   "source": [
    "### Load dataset"
   ]
  },
  {
   "cell_type": "code",
   "execution_count": 4,
   "metadata": {},
   "outputs": [
    {
     "name": "stdout",
     "output_type": "stream",
     "text": [
      "2643\n"
     ]
    },
    {
     "data": {
      "text/plain": [
       "Index(['case_id', 'pararel_idx', 'relation_id', 'subject', 'target_new_str',\n",
       "       'target_true_str', 'fact_prefix', 'irrelevant_word', 'prompt_c',\n",
       "       'prompt_nc0', 'prompt_nc1', 'p_correct_c', 'p_correct_nc0',\n",
       "       'p_correct_nc1', 'lo_correct_c', 'lo_correct_nc0', 'lo_correct_nc1',\n",
       "       'log_bf0', 'log_bf1', 'lo_correct_c_nc0', 'lo_correct_c_nc1',\n",
       "       'lo_correct_nc0_c', 'lo_correct_nc1_c', 'lo_correct_c_nc0_dcum',\n",
       "       'lo_correct_c_nc1_dcum', 'lo_correct_nc0_c_dcum',\n",
       "       'lo_correct_nc1_c_dcum', 'lo_correct_c_nc0_cum', 'lo_correct_c_nc1_cum',\n",
       "       'lo_correct_nc0_c_cum', 'lo_correct_nc1_c_cum'],\n",
       "      dtype='object')"
      ]
     },
     "execution_count": 4,
     "metadata": {},
     "output_type": "execute_result"
    }
   ],
   "source": [
    "df = pd.read_pickle(\n",
    "    utils.get_repo_root() / \"data\" / \"counterfact_processed.pkl\"\n",
    ")\n",
    "print(len(df))\n",
    "df.keys()"
   ]
  },
  {
   "cell_type": "code",
   "execution_count": 5,
   "metadata": {},
   "outputs": [
    {
     "name": "stdout",
     "output_type": "stream",
     "text": [
      "(5286, 1057) (5286, 1057)\n",
      "['L18H9ATN' 'L31MLP' 'L27H29ATN' 'L26H9ATN' 'L25H12ATN' 'L25MLP'\n",
      " 'L19H23ATN' 'L22H20ATN' 'L23H19ATN' 'L28H7ATN']\n",
      "[(18, 9), (27, 29), (26, 9), (25, 12), (19, 23)]\n"
     ]
    }
   ],
   "source": [
    "log_bf_nc_c = np.concatenate(\n",
    "    [\n",
    "        np.stack(df.lo_correct_nc0_c) - df.lo_correct_nc0.to_numpy()[:, None],\n",
    "        np.stack(df.lo_correct_nc1_c) - df.lo_correct_nc1.to_numpy()[:, None],\n",
    "    ]\n",
    ")\n",
    "log_bf_c_nc = np.concatenate(\n",
    "    [\n",
    "        np.stack(df.lo_correct_c_nc0) - df.lo_correct_c.to_numpy()[:, None],\n",
    "        np.stack(df.lo_correct_c_nc1) - df.lo_correct_c.to_numpy()[:, None],\n",
    "    ]\n",
    ")\n",
    "print(log_bf_c_nc.shape, log_bf_nc_c.shape)\n",
    "\n",
    "COMPONENT_ORDER = np.argsort(log_bf_nc_c.mean(axis=0))\n",
    "LABELS_ORDERED = LABELS[COMPONENT_ORDER]\n",
    "ATN_HEAD_LABEL_MASK = np.array([(\"ATN\" in label) for label in LABELS_ORDERED])\n",
    "print(LABELS_ORDERED[:10])\n",
    "\n",
    "ATTN_HEAD_LOCS = [\n",
    "    (int(label.split(\"H\")[0][1:]), int(label.split(\"H\")[1][:-3]))\n",
    "    for label in LABELS_ORDERED[ATN_HEAD_LABEL_MASK]\n",
    "]\n",
    "print(ATTN_HEAD_LOCS[:5])"
   ]
  },
  {
   "cell_type": "markdown",
   "metadata": {},
   "source": [
    "### Forbidden word enrichment doesn't matter"
   ]
  },
  {
   "cell_type": "code",
   "execution_count": 6,
   "metadata": {},
   "outputs": [
    {
     "data": {
      "application/vnd.jupyter.widget-view+json": {
       "model_id": "695fda7c74ab4d40880418e2a35eb2fc",
       "version_major": 2,
       "version_minor": 0
      },
      "text/plain": [
       "  0%|          | 0/529 [00:00<?, ?it/s]"
      ]
     },
     "metadata": {},
     "output_type": "display_data"
    }
   ],
   "source": [
    "def get_forbidden_token_range(\n",
    "    prompt: str, forbidden_word: str\n",
    ") -> tuple[int, int]:\n",
    "    tokens = tl_model.to_tokens(prompt)[0]\n",
    "    start = 47\n",
    "    for end in range(start + 1, len(tokens) + 1):\n",
    "        if tl_model.to_string(tokens[start:end]) == forbidden_word:\n",
    "            return (start, end)\n",
    "    raise ValueError(\"forbidden word not found\")\n",
    "\n",
    "\n",
    "n_rolls = 42\n",
    "important_head_list = ATTN_HEAD_LOCS[:4]\n",
    "metrics = []\n",
    "batch_size = 5\n",
    "pbar = tqdm(range(0, len(df), batch_size))\n",
    "for idx_start in pbar:\n",
    "    idx_end = min(idx_start + batch_size, len(df))\n",
    "\n",
    "    batch_prompts: list[str] = []\n",
    "    batch_forb_words: list[str] = []\n",
    "    for idx in range(idx_start, idx_end):\n",
    "        batch_prompts.extend(\n",
    "            [\n",
    "                df.prompt_c[idx],\n",
    "                df.prompt_nc0[idx],\n",
    "                df.prompt_nc1[idx],\n",
    "            ]\n",
    "        )\n",
    "        batch_forb_words.extend(\n",
    "            [\n",
    "                df.target_true_str[idx],\n",
    "                df.target_new_str[idx],\n",
    "                df.irrelevant_word[idx],\n",
    "            ]\n",
    "        )\n",
    "\n",
    "    with torch.no_grad():\n",
    "        _, cache = tl_model.run_with_cache(batch_prompts)\n",
    "\n",
    "    all_fenrich_flprobs = np.zeros(\n",
    "        (len(batch_prompts), len(important_head_list), tl_model.cfg.n_layers)\n",
    "    )\n",
    "    all_qenrich_flprobs = np.zeros(\n",
    "        (len(batch_prompts), len(important_head_list), tl_model.cfg.n_layers)\n",
    "    )\n",
    "    pswap_flprobs = np.zeros(\n",
    "        (len(batch_prompts), len(important_head_list), n_rolls)\n",
    "    )\n",
    "    for i in range(len(batch_prompts)):\n",
    "        prompt_len = len(tl_model.to_tokens(batch_prompts[i])[0])\n",
    "        fstart, fend = get_forbidden_token_range(\n",
    "            batch_prompts[i], batch_forb_words[i]\n",
    "        )\n",
    "\n",
    "        for head_idx, (layer, head) in enumerate(important_head_list):\n",
    "            attn_scale = tl_model.blocks[layer].attn.attn_scale\n",
    "            with torch.no_grad():\n",
    "                # Get n_rolls random ints from 0 to prompt_len - 1\n",
    "                # without replacement\n",
    "                rolls = np.sort(\n",
    "                    1\n",
    "                    + np.random.choice(\n",
    "                        prompt_len - 1, size=n_rolls - 1, replace=False\n",
    "                    )\n",
    "                )\n",
    "                rolls = np.concatenate(([0], rolls))\n",
    "\n",
    "                ks = cache[\"k\", layer][i, :prompt_len, head, :]\n",
    "                rolled_ks = torch.zeros(\n",
    "                    (n_rolls, prompt_len, ks.shape[-1]),\n",
    "                    dtype=ks.dtype,\n",
    "                    device=ks.device,\n",
    "                )\n",
    "                for r in range(n_rolls):\n",
    "                    rolled_ks[r, :, :] = ks.roll(rolls[r], dims=0)\n",
    "\n",
    "                rot_rolled_ks = einops.rearrange(\n",
    "                    tl_model.blocks[layer].attn.apply_rotary(\n",
    "                        einops.rearrange(\n",
    "                            rolled_ks, \"roll seq d -> 1 seq roll d\"\n",
    "                        )\n",
    "                    ),\n",
    "                    \"1 seq roll d -> roll seq d\",\n",
    "                )\n",
    "                rot_q = cache[\"rot_q\", layer][i, prompt_len - 1, head, :]\n",
    "\n",
    "                rolled_scores = rot_rolled_ks @ rot_q / attn_scale\n",
    "                rolled_log_pattern = rolled_scores.double().log_softmax(dim=-1)\n",
    "\n",
    "                unrolled_log_pattern = torch.zeros(\n",
    "                    (n_rolls, prompt_len), dtype=ks.dtype, device=ks.device\n",
    "                )\n",
    "                for r in range(n_rolls):\n",
    "                    unrolled_log_pattern[r, :] = rolled_log_pattern[r, :].roll(\n",
    "                        -rolls[r], dims=0\n",
    "                    )\n",
    "\n",
    "                pswap_flprobs[i, head_idx, :] = (\n",
    "                    unrolled_log_pattern[:, fstart:fend]\n",
    "                    .logsumexp(dim=-1)\n",
    "                    .cpu()\n",
    "                    .numpy()\n",
    "                )\n",
    "\n",
    "                # Begin fenrich and qenrich\n",
    "                f_resid = torch.stack(\n",
    "                    [\n",
    "                        cache[\"resid_pre\", lyr][i, fstart:fend]\n",
    "                        for lyr in range(tl_model.cfg.n_layers)\n",
    "                    ],\n",
    "                    dim=0,\n",
    "                )\n",
    "                f_resid_ln = tl_model.blocks[layer].ln1(f_resid)\n",
    "                f_ks = f_resid_ln @ tl_model.W_K[layer, head]\n",
    "                f_rot_ks = einops.rearrange(\n",
    "                    tl_model.blocks[layer].attn.apply_rotary(\n",
    "                        einops.rearrange(f_ks, \"lyr fidx d -> 1 fidx lyr d\"),\n",
    "                        past_kv_pos_offset=fstart,\n",
    "                    ),\n",
    "                    \"1 fidx lyr d -> lyr fidx d\",\n",
    "                )\n",
    "\n",
    "                last_resid = torch.stack(\n",
    "                    [\n",
    "                        cache[\"resid_pre\", lyr][i, prompt_len - 1]\n",
    "                        for lyr in range(tl_model.cfg.n_layers)\n",
    "                    ],\n",
    "                    dim=0,\n",
    "                )\n",
    "                last_resid_ln = tl_model.blocks[layer].ln1(last_resid)\n",
    "                last_qs = last_resid_ln @ tl_model.W_Q[layer, head]\n",
    "                last_rot_qs = einops.rearrange(\n",
    "                    tl_model.blocks[layer].attn.apply_rotary(\n",
    "                        einops.rearrange(last_qs, \"lyr d -> 1 1 lyr d\"),\n",
    "                        past_kv_pos_offset=prompt_len - 1,\n",
    "                    ),\n",
    "                    \"1 1 lyr d -> lyr d\",\n",
    "                )\n",
    "\n",
    "                rot_q = cache[\"rot_q\", layer][i, prompt_len - 1, head]\n",
    "                rot_ks = cache[\"rot_k\", layer][i, :prompt_len, head]\n",
    "\n",
    "                orig_attns = cache[\"attn_scores\", layer][\n",
    "                    i, head, prompt_len - 1\n",
    "                ]\n",
    "                fenrich_attns = einops.repeat(\n",
    "                    orig_attns, \"seq -> lyr seq\", lyr=tl_model.cfg.n_layers\n",
    "                ).clone()\n",
    "                fenrich_attns[:, fstart:fend] = f_rot_ks @ rot_q / attn_scale\n",
    "                fenrich_log_patterns = fenrich_attns.double().log_softmax(\n",
    "                    dim=-1\n",
    "                )\n",
    "                fenrich_flprobs = fenrich_log_patterns[\n",
    "                    :, fstart:fend\n",
    "                ].logsumexp(dim=-1)\n",
    "\n",
    "                qenrich_attns = (\n",
    "                    einops.einsum(\n",
    "                        last_rot_qs,\n",
    "                        rot_ks,\n",
    "                        \"lyr d, seq d -> lyr seq\",\n",
    "                    )\n",
    "                    / attn_scale\n",
    "                )\n",
    "                qenrich_log_patterns = qenrich_attns.double().log_softmax(\n",
    "                    dim=-1\n",
    "                )\n",
    "                qenrich_flprobs = qenrich_log_patterns[\n",
    "                    :, fstart:fend\n",
    "                ].logsumexp(dim=-1)\n",
    "\n",
    "                all_fenrich_flprobs[i, head_idx] = fenrich_flprobs.cpu().numpy()\n",
    "                all_qenrich_flprobs[i, head_idx] = qenrich_flprobs.cpu().numpy()\n",
    "\n",
    "    for bidx in range(idx_end - idx_start):\n",
    "        prompts = batch_prompts[3 * bidx : 3 * bidx + 3]\n",
    "        forb_words = batch_forb_words[3 * bidx : 3 * bidx + 3]\n",
    "        prompt_lens = [len(tl_model.to_tokens(prompt)[0]) for prompt in prompts]\n",
    "\n",
    "        swap_flprobs = np.zeros((len(important_head_list), 3, 3))\n",
    "\n",
    "        for head_idx, (layer, head) in enumerate(important_head_list):\n",
    "            for i in range(3):\n",
    "                for j in range(3):\n",
    "                    with torch.no_grad():\n",
    "                        rot_ks = cache[\"rot_k\", layer][\n",
    "                            3 * bidx + i, : prompt_lens[i], head, :\n",
    "                        ]\n",
    "                        rot_q = cache[\"rot_q\", layer][\n",
    "                            3 * bidx + j, prompt_lens[j] - 1, head, :\n",
    "                        ]\n",
    "                        scores = (rot_ks @ rot_q) / attn_scale\n",
    "                        log_pattern = scores.double().log_softmax(dim=-1)\n",
    "                        fstart, fend = get_forbidden_token_range(\n",
    "                            prompts[i], forb_words[i]\n",
    "                        )\n",
    "                        swap_flprobs[head_idx, i, j] = (\n",
    "                            log_pattern[fstart:fend].logsumexp(dim=-1).item()\n",
    "                        )\n",
    "\n",
    "        metrics.append(\n",
    "            dict(\n",
    "                fenrich_flprob=all_fenrich_flprobs[3 * bidx : 3 * bidx + 3],\n",
    "                qenrich_flprob=all_qenrich_flprobs[3 * bidx : 3 * bidx + 3],\n",
    "                swap_flprob=swap_flprobs,\n",
    "                pswap_flprobs=pswap_flprobs[3 * bidx : 3 * bidx + 3],\n",
    "            )\n",
    "        )\n",
    "\n",
    "df = df.assign(**pd.DataFrame(metrics))"
   ]
  },
  {
   "cell_type": "code",
   "execution_count": 44,
   "metadata": {},
   "outputs": [
    {
     "ename": "IndexError",
     "evalue": "list index out of range",
     "output_type": "error",
     "traceback": [
      "\u001b[0;31m---------------------------------------------------------------------------\u001b[0m",
      "\u001b[0;31mIndexError\u001b[0m                                Traceback (most recent call last)",
      "\u001b[1;32m/nas/pii-data/tony/prompt-injection-interp/notebooks/dontsay/attrib-plots/attention-analysis.ipynb Cell 11\u001b[0m line \u001b[0;36m1\n\u001b[0;32m----> <a href='vscode-notebook-cell://ssh-remote%2Brunpod-pii/nas/pii-data/tony/prompt-injection-interp/notebooks/dontsay/attrib-plots/attention-analysis.ipynb#X56sdnNjb2RlLXJlbW90ZQ%3D%3D?line=0'>1</a>\u001b[0m metrics[idx][\u001b[39m\"\u001b[39m\u001b[39mfenrich_flprob\u001b[39m\u001b[39m\"\u001b[39m]\u001b[39m.\u001b[39mshape\n",
      "\u001b[0;31mIndexError\u001b[0m: list index out of range"
     ]
    }
   ],
   "source": [
    "metrics[idx][\"fenrich_flprob\"].shape"
   ]
  },
  {
   "cell_type": "code",
   "execution_count": 11,
   "metadata": {},
   "outputs": [
    {
     "name": "stdout",
     "output_type": "stream",
     "text": [
      "(3, 4, 32)\n",
      "(3, 4, 32)\n",
      "0.6241261348002851\n",
      "0.6240926615771136\n",
      "0.6240849147657908\n",
      "0.6239533409668611\n",
      "\n",
      "\n",
      "0.4370287383524875\n",
      "0.436968398422507\n",
      "0.4369587387385954\n",
      "0.43686764570555725\n",
      "\n",
      "\n"
     ]
    }
   ],
   "source": [
    "print(metrics[idx][\"fenrich_flprob\"].shape)\n",
    "print(metrics[idx][\"qenrich_flprob\"].shape)\n",
    "# print(metrics[idx][\"swap_flprob\"].shape)\n",
    "# print(metrics[idx][\"pswap_flprobs\"].shape)\n",
    "\n",
    "# Checks\n",
    "for idx in [0, 77]:\n",
    "    print(np.exp(metrics[idx][\"fenrich_flprob\"][2, 0, 18]))\n",
    "    print(np.exp(metrics[idx][\"qenrich_flprob\"][2, 0, 18]))\n",
    "\n",
    "    print(np.exp(metrics[idx][\"swap_flprob\"][0, 2, 2]))\n",
    "    print(np.exp(metrics[idx][\"pswap_flprobs\"][2, 0, 0]))\n",
    "    print()\n",
    "    print()"
   ]
  },
  {
   "cell_type": "markdown",
   "metadata": {},
   "source": [
    "### Begin the plots"
   ]
  },
  {
   "cell_type": "code",
   "execution_count": 12,
   "metadata": {},
   "outputs": [
    {
     "name": "stdout",
     "output_type": "stream",
     "text": [
      "(2643, 3, 4, 32)\n",
      "(2643, 3, 4, 32)\n",
      "(2643, 4, 3, 3)\n",
      "(2643, 3, 4, 42)\n"
     ]
    }
   ],
   "source": [
    "fenrich_flprobs = np.stack(df.fenrich_flprob)\n",
    "qenrich_flprobs = np.stack(df.qenrich_flprob)\n",
    "swap_flprobs = np.stack(df.swap_flprob)\n",
    "pswap_flprobs = np.stack(df.pswap_flprobs)\n",
    "\n",
    "with torch.no_grad():\n",
    "    fenrich_fprobs = torch.tensor(fenrich_flprobs).double().exp().cpu().numpy()\n",
    "    qenrich_fprobs = torch.tensor(qenrich_flprobs).double().exp().cpu().numpy()\n",
    "    swap_fprobs = torch.tensor(swap_flprobs).double().exp().cpu().numpy()\n",
    "    pswap_fprobs = torch.tensor(pswap_flprobs).double().exp().cpu().numpy()\n",
    "\n",
    "    fenrich_flogits = torch.tensor(fenrich_flprobs).double().exp().logit().cpu().numpy()\n",
    "    qenrich_flogits = torch.tensor(qenrich_flprobs).double().exp().logit().cpu().numpy()\n",
    "    swap_flogits = torch.tensor(swap_flprobs).double().exp().logit().cpu().numpy()\n",
    "    pswap_flogits = torch.tensor(pswap_flprobs).double().exp().logit().cpu().numpy()\n",
    "\n",
    "print(fenrich_fprobs.shape)\n",
    "print(qenrich_fprobs.shape)\n",
    "print(swap_fprobs.shape)\n",
    "print(pswap_fprobs.shape)"
   ]
  },
  {
   "cell_type": "code",
   "execution_count": null,
   "metadata": {},
   "outputs": [
    {
     "data": {
      "text/plain": [
       "(2643, 3, 3, 32)"
      ]
     },
     "execution_count": 35,
     "metadata": {},
     "output_type": "execute_result"
    }
   ],
   "source": [
    "print"
   ]
  },
  {
   "cell_type": "code",
   "execution_count": 19,
   "metadata": {},
   "outputs": [],
   "source": [
    "# print(fenrich_fprobs[:, 0, 0, 18].mean())\n",
    "# print(qenrich_fprobs[:, 0, 0, 18].mean())\n",
    "# print(fenrich_fprobs[:, 1, 0, 18].mean())\n",
    "# print(qenrich_fprobs[:, 1, 0, 18].mean())\n",
    "# print()\n",
    "# print(fenrich_fprobs[:, 0, 1, 27].mean())\n",
    "# print(qenrich_fprobs[:, 0, 1, 27].mean())\n",
    "# print(fenrich_fprobs[:, 0, 2, 26].mean())\n",
    "# print(qenrich_fprobs[:, 0, 2, 26].mean())"
   ]
  },
  {
   "cell_type": "code",
   "execution_count": 111,
   "metadata": {},
   "outputs": [
    {
     "name": "stderr",
     "output_type": "stream",
     "text": [
      "/tmp/ipykernel_121913/2342442588.py:28: MatplotlibDeprecationWarning: The legendHandles attribute was deprecated in Matplotlib 3.7 and will be removed two minor releases later. Use legend_handles instead.\n",
      "  legend.legendHandles[0]\n"
     ]
    },
    {
     "data": {
      "image/png": "[encoded data removed]",
      "text/plain": [
       "<Figure size 1320.26x288 with 4 Axes>"
      ]
     },
     "metadata": {},
     "output_type": "display_data"
    }
   ],
   "source": [
    "for head_idx, (layer, head) in enumerate(important_head_list[:1]):\n",
    "    fig, _ = plt.subplots(1, 4)\n",
    "    plt.subplot(1, 4, 1)\n",
    "\n",
    "    plt.plot([], [], label=rf\"$\\hspace{{-0.7cm}}$L{layer}H{head} $\\vert$ Forbidden Word\", alpha=0)\n",
    "    # Reset color cycle\n",
    "    plt.gca().set_prop_cycle(None)\n",
    "\n",
    "    colors = [\"tab:green\", \"tab:blue\", \"tab:orange\"]\n",
    "\n",
    "    for i, label in enumerate(\n",
    "        [\"Correct\", \"Incorrect relevant\", \"Incorrrect irrelevant\"]\n",
    "    ):\n",
    "        plt.plot(\n",
    "            fenrich_fprobs[:, i, head_idx, : layer + 1].mean(axis=0)\n",
    "            / np.log(10),\n",
    "            label=label,\n",
    "            linestyle=[\"-\", \"--\", \"dotted\"][i],\n",
    "            color=colors[i],\n",
    "        )\n",
    "    legend = fig.legend(\n",
    "        bbox_to_anchor=(-0.02, 1),\n",
    "        loc=\"lower left\",\n",
    "        ncol=4,\n",
    "        # smaller width\n",
    "        columnspacing=1,\n",
    "    )\n",
    "    legend.legendHandles[0]\n",
    "    plt.text(\n",
    "        0.05,\n",
    "        0.95,\n",
    "        \"\\n\".join([\"Forbidden word\", \"enrichment\"]),\n",
    "        horizontalalignment=\"left\",\n",
    "        verticalalignment=\"top\",\n",
    "        transform=plt.gca().transAxes,\n",
    "    )\n",
    "    plt.ylim(0, 0.4)\n",
    "\n",
    "    plt.subplot(1, 4, 2)\n",
    "    for i in range(3):\n",
    "        plt.plot(\n",
    "            qenrich_fprobs[:, i, head_idx, : layer + 1].mean(axis=0)\n",
    "            / np.log(10),\n",
    "            linestyle=[\"-\", \"--\", \"dotted\"][i],\n",
    "            color=colors[i],\n",
    "        )\n",
    "    plt.ylim(0, 0.4)\n",
    "    # Remove y axis labels\n",
    "    plt.gca().set_yticklabels([])\n",
    "    plt.text(\n",
    "        0.05,\n",
    "        0.95,\n",
    "        \"\\n\".join([\"Final token\", \"query enrichment\"]),\n",
    "        horizontalalignment=\"left\",\n",
    "        verticalalignment=\"top\",\n",
    "        transform=plt.gca().transAxes,\n",
    "    )\n",
    "\n",
    "    plt.subplot(1, 4, 3)\n",
    "    c = plt.scatter(\n",
    "        swap_flogits[:, head_idx, 0, 0] / np.log(10),\n",
    "        swap_flogits[:, head_idx, 0, 1] / np.log(10),\n",
    "        s=0.1,\n",
    "        alpha=0.07,\n",
    "        color=colors[1],\n",
    "    )\n",
    "    c.set_rasterized(True)\n",
    "    c = plt.scatter(\n",
    "        swap_flogits[:, head_idx, 0, 0] / np.log(10),\n",
    "        swap_flogits[:, head_idx, 0, 2] / np.log(10),\n",
    "        s=0.1,\n",
    "        alpha=0.07,\n",
    "        color=colors[2],\n",
    "    )\n",
    "    c.set_rasterized(True)\n",
    "    plt.xlim(-1.5, 1.5)\n",
    "    plt.ylim(-1.5, 1.5)\n",
    "    xs = np.concatenate(\n",
    "        [swap_flogits[:, head_idx, 0, 0], swap_flogits[:, head_idx, 0, 0]]\n",
    "    ) / np.log(10)\n",
    "    ys = np.concatenate(\n",
    "        [swap_flogits[:, head_idx, 0, 1], swap_flogits[:, head_idx, 0, 2]]\n",
    "    ) / np.log(10)\n",
    "    r2 = sklearn.metrics.r2_score(xs, ys)\n",
    "    plt.text(\n",
    "        0.95,\n",
    "        0.1,\n",
    "        f\"$R^2={r2:.2f}$\",\n",
    "        horizontalalignment=\"right\",\n",
    "        verticalalignment=\"bottom\",\n",
    "        transform=plt.gca().transAxes,\n",
    "    )\n",
    "    plt.text(\n",
    "        0.05,\n",
    "        0.95,\n",
    "        f\"Query ablation\\n(forb. word)\",\n",
    "        horizontalalignment=\"left\",\n",
    "        verticalalignment=\"top\",\n",
    "        transform=plt.gca().transAxes,\n",
    "    )\n",
    "\n",
    "    plt.subplot(1, 4, 4)\n",
    "    xs = einops.repeat(\n",
    "        pswap_flogits[:, 0, head_idx, 0], \"x -> x r\", r=n_rolls - 1\n",
    "    ).flatten() / np.log(10)\n",
    "    ys = pswap_flogits[:, 0, head_idx, 1:].flatten() / np.log(10)\n",
    "    # Subsample xs and ys\n",
    "    idxs = np.random.choice(len(xs), size=10000, replace=False)\n",
    "    c = plt.scatter(\n",
    "        xs[idxs],\n",
    "        ys[idxs],\n",
    "        s=0.1,\n",
    "        alpha=0.02,\n",
    "        color=\"tab:grey\",\n",
    "    )\n",
    "    c.set_rasterized(True)\n",
    "    plt.xlim(-1.5, 1.5)\n",
    "    plt.ylim(-1.5, 1.5)\n",
    "    plt.gca().set_yticklabels([])\n",
    "    r2 = sklearn.metrics.r2_score(xs, ys)\n",
    "    plt.text(\n",
    "        0.95,\n",
    "        0.1,\n",
    "        f\"$R^2={r2:.2f}$\",\n",
    "        horizontalalignment=\"right\",\n",
    "        verticalalignment=\"bottom\",\n",
    "        transform=plt.gca().transAxes,\n",
    "    )\n",
    "    plt.text(\n",
    "        0.05,\n",
    "        0.95,\n",
    "        f\"Query ablation\\n(pos. emb.)\",\n",
    "        horizontalalignment=\"left\",\n",
    "        verticalalignment=\"top\",\n",
    "        transform=plt.gca().transAxes,\n",
    "    )\n",
    "\n",
    "    fig.set_figheight(fig.get_figheight() * 0.4)\n",
    "\n",
    "plt.savefig(\"./plots/attention-analysis.pdf\", backend=\"pgf\", dpi=400, bbox_inches='tight')"
   ]
  }
 ],
 "metadata": {
  "kernelspec": {
   "display_name": "Python 3",
   "language": "python",
   "name": "python3"
  },
  "language_info": {
   "codemirror_mode": {
    "name": "ipython",
    "version": 3
   },
   "file_extension": ".py",
   "mimetype": "text/x-python",
   "name": "python",
   "nbconvert_exporter": "python",
   "pygments_lexer": "ipython3",
   "version": "3.10.12"
  },
  "orig_nbformat": 4
 },
 "nbformat": 4,
 "nbformat_minor": 2
}
