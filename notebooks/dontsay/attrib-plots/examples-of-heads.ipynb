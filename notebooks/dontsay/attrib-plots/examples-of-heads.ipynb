{
 "cells": [
  {
   "cell_type": "markdown",
   "metadata": {},
   "source": [
    "### Imports"
   ]
  },
  {
   "cell_type": "code",
   "execution_count": 2,
   "metadata": {},
   "outputs": [
    {
     "name": "stdout",
     "output_type": "stream",
     "text": [
      "The autoreload extension is already loaded. To reload it, use:\n",
      "  %reload_ext autoreload\n"
     ]
    }
   ],
   "source": [
    "%load_ext autoreload\n",
    "%autoreload 2"
   ]
  },
  {
   "cell_type": "code",
   "execution_count": 3,
   "metadata": {},
   "outputs": [],
   "source": [
    "import collections\n",
    "import functools\n",
    "\n",
    "import circuitsvis.attention as cv_attention\n",
    "import circuitsvis.tokens as cv_tokens\n",
    "import einops\n",
    "import matplotlib\n",
    "import matplotlib.pyplot as plt\n",
    "import numpy as np\n",
    "import pandas as pd\n",
    "import plotly.graph_objects as go\n",
    "import torch\n",
    "import tqdm.auto as tqdm\n",
    "import transformer_lens.utils as tl_utils\n",
    "from fancy_einsum import einsum\n",
    "from jaxtyping import Float\n",
    "from tqdm.auto import tqdm\n",
    "from transformer_lens import ActivationCache, HookedTransformer\n",
    "from transformers import AutoModelForCausalLM, AutoTokenizer\n",
    "\n",
    "from pii import ablation, datasets, decomp, prompt_data, utils, vocab\n",
    "\n",
    "plt.style.use(\n",
    "    [\n",
    "        \"tableau-colorblind10\",\n",
    "        utils.get_style(\"attrib\"),\n",
    "        utils.get_style(\"1col\"),\n",
    "    ]\n",
    ")\n",
    "COLORS = plt.rcParams[\"axes.prop_cycle\"].by_key()[\"color\"]"
   ]
  },
  {
   "cell_type": "markdown",
   "metadata": {},
   "source": [
    "### Load model"
   ]
  },
  {
   "cell_type": "code",
   "execution_count": 4,
   "metadata": {},
   "outputs": [
    {
     "data": {
      "application/vnd.jupyter.widget-view+json": {
       "model_id": "a350263bbf524a059ff4d15ea833071c",
       "version_major": 2,
       "version_minor": 0
      },
      "text/plain": [
       "Loading checkpoint shards:   0%|          | 0/3 [00:00<?, ?it/s]"
      ]
     },
     "metadata": {},
     "output_type": "display_data"
    },
    {
     "name": "stderr",
     "output_type": "stream",
     "text": [
      "Using pad_token, but it is not set yet.\n"
     ]
    },
    {
     "name": "stdout",
     "output_type": "stream",
     "text": [
      "Loaded pretrained model meta-llama/Llama-2-13b-chat-hf into HookedTransformer\n"
     ]
    }
   ],
   "source": [
    "# pick model to run on\n",
    "model_name = \"meta-llama/Llama-2-13b-chat-hf\" # or meta-llama/Llama-2-7b-chat-hf or meta-llama/Llama-2-70b-chat-hf\n",
    "\n",
    "# You will need to login to huggingface first:\n",
    "#   huggingface-cli login\n",
    "if model_name == \"meta-llama/Llama-2-7b-chat-hf\":\n",
    "    tl_model = utils.get_llama2_7b_chat_tl_model()\n",
    "    saved_name = \"llama2_7b\"\n",
    "    n_devices = 1 \n",
    "    batch_size = 5\n",
    "elif model_name == \"meta-llama/Llama-2-13b-chat-hf\":\n",
    "    tl_model = utils.get_llama2_13b_chat_tl_model()\n",
    "    saved_name = \"llama2_13b\"\n",
    "    n_devices = 2\n",
    "    batch_size = 1\n",
    "elif model_name == \"meta-llama/Llama-2-70b-chat-hf\":\n",
    "    tl_model = utils.get_llama2_70b_chat_tl_model()\n",
    "    saved_name = \"llama2_70b\"\n",
    "    n_devices = 2\n",
    "    batch_size = 1"
   ]
  },
  {
   "cell_type": "code",
   "execution_count": 5,
   "metadata": {},
   "outputs": [
    {
     "data": {
      "application/vnd.jupyter.widget-view+json": {
       "model_id": "7b499cedf5c24b98b32b1c22e448d4b8",
       "version_major": 2,
       "version_minor": 0
      },
      "text/plain": [
       "  0%|          | 0/20 [00:00<?, ?it/s]"
      ]
     },
     "metadata": {},
     "output_type": "display_data"
    },
    {
     "name": "stdout",
     "output_type": "stream",
     "text": [
      "The capital of Germany is Berlin.\n",
      "\n",
      "The currency of Germany is the Euro.\n",
      "\n",
      "The official language of Germany is\n",
      "['EMBED' 'L0H0ATN' 'L0H1ATN' 'L0H2ATN' 'L0H3ATN']\n"
     ]
    }
   ],
   "source": [
    "with torch.no_grad():\n",
    "    print(\n",
    "        tl_model.generate(\n",
    "            \"The capital of Germany is\", max_new_tokens=20, temperature=0\n",
    "        )\n",
    "    )\n",
    "\n",
    "    _, tmp_cache = tl_model.run_with_cache(\"hi\")\n",
    "    LABELS = np.array(\n",
    "        decomp.get_all_resid_components(\n",
    "            tl_model=tl_model, cache=tmp_cache, pos=-1, batch_idx=0\n",
    "        ).labels\n",
    "    )\n",
    "    print(LABELS[:5])"
   ]
  },
  {
   "cell_type": "markdown",
   "metadata": {},
   "source": [
    "### Load dataset"
   ]
  },
  {
   "cell_type": "code",
   "execution_count": 6,
   "metadata": {},
   "outputs": [
    {
     "name": "stdout",
     "output_type": "stream",
     "text": [
      "2643\n"
     ]
    },
    {
     "data": {
      "text/plain": [
       "Index(['case_id', 'pararel_idx', 'relation_id', 'subject', 'target_new_str',\n",
       "       'target_true_str', 'fact_prefix', 'irrelevant_word', 'prompt_c',\n",
       "       'prompt_nc0', 'prompt_nc1', 'p_correct_c', 'p_correct_nc0',\n",
       "       'p_correct_nc1', 'lo_correct_c', 'lo_correct_nc0', 'lo_correct_nc1',\n",
       "       'log_bf0', 'log_bf1', 'lo_correct_c_nc0', 'lo_correct_c_nc1',\n",
       "       'lo_correct_nc0_c', 'lo_correct_nc1_c', 'lo_correct_c_nc0_dcum',\n",
       "       'lo_correct_c_nc1_dcum', 'lo_correct_nc0_c_dcum',\n",
       "       'lo_correct_nc1_c_dcum', 'lo_correct_c_nc0_cum', 'lo_correct_c_nc1_cum',\n",
       "       'lo_correct_nc0_c_cum', 'lo_correct_nc1_c_cum'],\n",
       "      dtype='object')"
      ]
     },
     "execution_count": 6,
     "metadata": {},
     "output_type": "execute_result"
    }
   ],
   "source": [
    "df_raw = pd.read_csv(utils.get_repo_root() / \"data\" / \"counterfact_raw.csv\")\n",
    "file_name = f\"counterfact_processed_{saved_name}.pkl\"\n",
    "df = pd.read_pickle(\n",
    "    utils.get_repo_root() / \"data\" / file_name\n",
    ")\n",
    "print(len(df))\n",
    "df.keys()"
   ]
  },
  {
   "cell_type": "code",
   "execution_count": 8,
   "metadata": {},
   "outputs": [
    {
     "name": "stdout",
     "output_type": "stream",
     "text": [
      "(5286, 1641) (5286, 1641)\n",
      "['L33H11ATN' 'L34H6ATN' 'L39H23ATN' 'L39MLP' 'L32H5ATN' 'L35H10ATN'\n",
      " 'L35H29ATN' 'L27H15ATN' 'L16H3ATN' 'L29H27ATN']\n",
      "[(33, 11), (34, 6), (39, 23), (32, 5), (35, 10)]\n"
     ]
    }
   ],
   "source": [
    "log_bf_nc_c = np.concatenate(\n",
    "    [\n",
    "        np.stack(df.lo_correct_nc0_c) - df.lo_correct_nc0.to_numpy()[:, None],\n",
    "        np.stack(df.lo_correct_nc1_c) - df.lo_correct_nc1.to_numpy()[:, None],\n",
    "    ]\n",
    ")\n",
    "log_bf_c_nc = np.concatenate(\n",
    "    [\n",
    "        np.stack(df.lo_correct_c_nc0) - df.lo_correct_c.to_numpy()[:, None],\n",
    "        np.stack(df.lo_correct_c_nc1) - df.lo_correct_c.to_numpy()[:, None],\n",
    "    ]\n",
    ")\n",
    "print(log_bf_c_nc.shape, log_bf_nc_c.shape)\n",
    "\n",
    "COMPONENT_ORDER = np.argsort(log_bf_nc_c.mean(axis=0))\n",
    "LABELS_ORDERED = LABELS[COMPONENT_ORDER]\n",
    "ATN_HEAD_LABEL_MASK = np.array([(\"ATN\" in label) for label in LABELS_ORDERED])\n",
    "print(LABELS_ORDERED[:10])\n",
    "\n",
    "ATTN_HEAD_LOCS = [\n",
    "    (int(label.split(\"H\")[0][1:]), int(label.split(\"H\")[1][:-3]))\n",
    "    for label in LABELS_ORDERED[ATN_HEAD_LABEL_MASK]\n",
    "]\n",
    "print(ATTN_HEAD_LOCS[:5])"
   ]
  },
  {
   "cell_type": "markdown",
   "metadata": {},
   "source": [
    "### Compute attention response"
   ]
  },
  {
   "cell_type": "code",
   "execution_count": 9,
   "metadata": {},
   "outputs": [
    {
     "data": {
      "text/plain": [
       "'France'"
      ]
     },
     "execution_count": 9,
     "metadata": {},
     "output_type": "execute_result"
    }
   ],
   "source": [
    "utils.tokenize_to_strs(df.prompt_c, tl_model=tl_model)[47]"
   ]
  },
  {
   "cell_type": "code",
   "execution_count": 11,
   "metadata": {},
   "outputs": [
    {
     "data": {
      "application/vnd.jupyter.widget-view+json": {
       "model_id": "2c298a8e3ede4583a989f64658f850fe",
       "version_major": 2,
       "version_minor": 0
      },
      "text/plain": [
       "  0%|          | 0/2643 [00:00<?, ?it/s]"
      ]
     },
     "metadata": {},
     "output_type": "display_data"
    }
   ],
   "source": [
    "def get_forbidden_token_range(\n",
    "    prompt: str, forbidden_word: str\n",
    ") -> tuple[int, int]:\n",
    "    tokens = tl_model.to_tokens(prompt)[0]\n",
    "    start = 47\n",
    "    for end in range(start + 1, len(tokens) + 1):\n",
    "        if tl_model.to_string(tokens[start:end]) == forbidden_word:\n",
    "            return (start, end)\n",
    "    raise ValueError(\"forbidden word not found\")\n",
    "\n",
    "metrics = []\n",
    "pbar = tqdm(range(0, len(df), batch_size))\n",
    "for idx_start in pbar:\n",
    "    idx_end = min(idx_start + batch_size, len(df))\n",
    "\n",
    "    prompts: list[str] = []\n",
    "    forb_words: list[str] = []\n",
    "    for idx in range(idx_start, idx_end):\n",
    "        prompts.extend(\n",
    "            [\n",
    "                df.prompt_c[idx],\n",
    "                df.prompt_nc0[idx],\n",
    "                df.prompt_nc1[idx],\n",
    "            ]\n",
    "        )\n",
    "        forb_words.extend(\n",
    "            [\n",
    "                df.target_true_str[idx],\n",
    "                df.target_new_str[idx],\n",
    "                df.irrelevant_word[idx],\n",
    "            ]\n",
    "        )\n",
    "\n",
    "    with torch.no_grad():\n",
    "        _, cache = tl_model.run_with_cache(prompts)\n",
    "\n",
    "        forb_attns = torch.zeros(\n",
    "            (len(prompts), tl_model.cfg.n_layers, tl_model.cfg.n_heads)\n",
    "        )\n",
    "        for i in range(len(prompts)):\n",
    "            fstart, fend = get_forbidden_token_range(prompts[i], forb_words[i])\n",
    "            prompt_len = len(tl_model.to_tokens(prompts[i])[0])\n",
    "            for layer_num in range(tl_model.cfg.n_layers):\n",
    "                forb_attns[i, layer_num, :] = cache[\"pattern\", layer_num][\n",
    "                    i, :, prompt_len - 1, fstart:fend\n",
    "                ].sum(dim=-1)\n",
    "\n",
    "    for i in range(idx_end - idx_start):\n",
    "        metrics.append(\n",
    "            dict(forb_attn=forb_attns[3 * i : 3 * i + 3].cpu().numpy())\n",
    "        )\n",
    "\n",
    "df = df.assign(**pd.DataFrame(metrics))"
   ]
  },
  {
   "cell_type": "markdown",
   "metadata": {},
   "source": [
    "### Compute OV response"
   ]
  },
  {
   "cell_type": "code",
   "execution_count": 12,
   "metadata": {},
   "outputs": [
    {
     "data": {
      "text/plain": [
       "(2643, 3, 40, 40)"
      ]
     },
     "execution_count": 12,
     "metadata": {},
     "output_type": "execute_result"
    }
   ],
   "source": [
    "fas = np.stack(df.forb_attn)\n",
    "log10odds_fas = torch.tensor(fas).logit().cpu().numpy()\n",
    "fas.shape"
   ]
  },
  {
   "cell_type": "code",
   "execution_count": 13,
   "metadata": {},
   "outputs": [],
   "source": [
    "def get_ov_resp_matrix(layer: int, head: int):\n",
    "    \"\"\"Returns a matrix in units of log_e-prob.\"\"\"\n",
    "    W_O = tl_model.W_O[layer, head]\n",
    "    W_V = tl_model.W_V[layer, head]\n",
    "\n",
    "    with torch.no_grad():\n",
    "        raw_logits = utils.unembed(\n",
    "            tl_model.blocks[layer].ln1(tl_model.W_E) @ W_V @ W_O,\n",
    "            tl_model=tl_model,\n",
    "        ).double()\n",
    "\n",
    "        logits = utils.logit_softmax(raw_logits)\n",
    "\n",
    "        return logits\n",
    "\n",
    "\n",
    "def plot_ov_resp_matrix(\n",
    "    layer: int,\n",
    "    head: int,\n",
    "    top_tokens: int = 3,\n",
    "    largest: bool = False,\n",
    "):\n",
    "    d = tl_model.cfg.d_vocab\n",
    "    log10_resp_mat = get_ov_resp_matrix(layer=layer, head=head) / np.log(10)\n",
    "    log10_resp_diag = log10_resp_mat.diag()\n",
    "\n",
    "    top_tokens = torch.topk(\n",
    "        log10_resp_diag, top_tokens, largest=largest\n",
    "    ).indices\n",
    "\n",
    "    suppression_score = (\n",
    "        (log10_resp_diag.mean() - log10_resp_mat.mean()).item() * d / (d - 1)\n",
    "    )\n",
    "    get_sgn = lambda x: \"+\" if x > 0 else \"\"\n",
    "    get_tok_score = lambda tok: log10_resp_diag[tok.item()]\n",
    "    plt.text(\n",
    "        0.5,\n",
    "        0.9,\n",
    "        \"\\n\".join(\n",
    "            [\n",
    "                \"OV Suppression\",\n",
    "                f\"Dist., Mean: {get_sgn(suppression_score)}${suppression_score:.1f}$\",\n",
    "            ]\n",
    "        ),\n",
    "        horizontalalignment=\"center\",\n",
    "        verticalalignment=\"top\",\n",
    "        transform=plt.gca().transAxes,\n",
    "    )\n",
    "\n",
    "    plt.text(\n",
    "        0.5,\n",
    "        -0.35,\n",
    "        \"\\n\".join(\n",
    "            [\n",
    "                f\"{tl_model.to_string(tok.item())}: {get_sgn(get_tok_score(tok))}${get_tok_score(tok):.3f}$\"\n",
    "                for tok in top_tokens\n",
    "            ]\n",
    "        ),\n",
    "        horizontalalignment=\"center\",\n",
    "        verticalalignment=\"top\",\n",
    "        transform=plt.gca().transAxes,\n",
    "    )\n",
    "\n",
    "    utils.plot_hist_from_tensor(\n",
    "        xs=(log10_resp_diag - log10_resp_mat).flatten(),\n",
    "        anti_xs=torch.zeros_like(log10_resp_diag),\n",
    "        bins=500,\n",
    "        density=True,\n",
    "        alpha=0.5,\n",
    "        label=\"Off-diagonal\",\n",
    "        color=\"tab:orange\",\n",
    "    )"
   ]
  },
  {
   "cell_type": "code",
   "execution_count": 15,
   "metadata": {},
   "outputs": [
    {
     "data": {
      "image/png": "[encoded data removed]",
      "text/plain": [
       "<Figure size 1320.26x612 with 8 Axes>"
      ]
     },
     "metadata": {},
     "output_type": "display_data"
    }
   ],
   "source": [
    "# PLOT_HEADS = [(18, 9, False), (25, 12, False), (28, 7, False), (14, 5, False), (29, 19, True)]\n",
    "# PLOT_HEADS = [(18, 9, False), (25, 12, False), (28, 7, False), (29, 19, True)]\n",
    "# PLOT_HEADS = [(18, 9, False), (31, 27, False), (19, 13, False), (29, 19, True)]\n",
    "PLOT_HEADS = [(33, 11, False), (34, 6, False), (39, 23, False), (32, 5, True)]\n",
    "fig, _ = plt.subplots(2, 4, height_ratios=[1, 1])\n",
    "plt.rcParams[\"ytick.right\"] = False\n",
    "\n",
    "get_sgn = lambda x: \"+\" if x > 0 else \"\"\n",
    "for i, (layer, head, _) in enumerate(PLOT_HEADS):\n",
    "    plt.subplot(2, 4, i + 1)\n",
    "    log10_bf = log_bf_nc_c.mean(axis=0)[\n",
    "        list(LABELS).index(f\"L{layer}H{head}ATN\")\n",
    "    ] / np.log(10)\n",
    "    rank = LABELS_ORDERED.tolist().index(f\"L{layer}H{head}ATN\")\n",
    "    plt.title(\n",
    "        f\"L{layer}H{head} (rank {rank})\\nB.f. 1e{get_sgn(log10_bf)}${{{log10_bf:.4f}}}$\",\n",
    "        fontsize=9,\n",
    "    )\n",
    "\n",
    "    plt.hist(\n",
    "        # log10odds_fas[:, 0, layer, head],\n",
    "        fas[:, 0, layer, head],\n",
    "        density=True,\n",
    "        bins=32,\n",
    "        alpha=0.7,\n",
    "    )\n",
    "    plt.xlim(0, 1)\n",
    "    plt.ylim(0, 10)\n",
    "\n",
    "    plt.text(\n",
    "        0.5,\n",
    "        0.9,\n",
    "        \"\\n\".join(\n",
    "            [\n",
    "                \"Forbidden Word\",\n",
    "                \"Attn. Dist.\",\n",
    "                f\"Mean: ${fas[:, 0, layer, head].mean():.3f}$\"\n",
    "                if i != 1\n",
    "                else f\"Mean: ${fas[:, 0, layer, head].mean():.5f}$\",\n",
    "            ]\n",
    "        ),\n",
    "        horizontalalignment=\"center\",\n",
    "        verticalalignment=\"top\",\n",
    "        transform=plt.gca().transAxes,\n",
    "    )\n",
    "\n",
    "    plt.gca().yaxis.set_ticks_position(\"left\")\n",
    "    if i > 0:\n",
    "        # Turn off y-axis labels\n",
    "        plt.yticks([])\n",
    "\n",
    "\n",
    "for i, (layer, head, largest) in enumerate(PLOT_HEADS):\n",
    "    plt.subplot(2, 4, 4 + i + 1)\n",
    "    plot_ov_resp_matrix(\n",
    "        layer=layer,\n",
    "        head=head,\n",
    "        top_tokens=3,\n",
    "        largest=largest,\n",
    "    )\n",
    "    plt.gca().yaxis.set_ticks_position(\"left\")\n",
    "    if i > 0:\n",
    "        # Turn off y-axis labels\n",
    "        plt.yticks([])\n",
    "    plt.xlim(-10, 10)\n",
    "    plt.ylim(0, 0.7)\n",
    "\n",
    "fig.set_figheight(fig.get_figheight() * 0.85)\n",
    "fig.get_layout_engine().set(wspace=0, w_pad=0)\n",
    "fig.show()\n",
    "plt.savefig(\"./plots/examples-of-heads.pdf\", backend=\"pgf\")"
   ]
  },
  {
   "cell_type": "code",
   "execution_count": 11,
   "metadata": {},
   "outputs": [
    {
     "name": "stdout",
     "output_type": "stream",
     "text": [
      "0.6119764 18 9 0\n",
      "0.24578167 27 29 1\n",
      "0.24804646 26 9 2\n",
      "0.16703312 25 12 3\n",
      "0.15951401 19 23 4\n",
      "0.31744882 22 20 5\n",
      "0.21745624 23 19 6\n",
      "0.19427331 22 29 10\n",
      "0.19837546 21 24 11\n",
      "0.08464875 25 23 12\n",
      "0.19882436 16 18 15\n",
      "0.112211786 15 10 17\n",
      "0.09433748 28 21 19\n",
      "0.08330237 31 3 20\n",
      "0.09111633 21 23 21\n",
      "0.09476999 26 28 23\n",
      "0.089244574 19 13 69\n",
      "0.10752055 16 29 76\n",
      "0.0885826 13 23 953\n",
      "0.0957316 16 2 987\n",
      "0.13450508 19 1 997\n",
      "0.104336254 18 1 1015\n",
      "0.089927904 22 17 1022\n"
     ]
    }
   ],
   "source": [
    "for rnk, (layer, head) in enumerate(ATTN_HEAD_LOCS):\n",
    "    mean = fas[:, 0, layer, head].mean()\n",
    "    if mean > 0.08:\n",
    "        print(mean, layer, head, rnk)"
   ]
  },
  {
   "cell_type": "code",
   "execution_count": 12,
   "metadata": {},
   "outputs": [
    {
     "data": {
      "application/vnd.jupyter.widget-view+json": {
       "model_id": "8ba4db6b8c8542b28cc1e422e81ca9d6",
       "version_major": 2,
       "version_minor": 0
      },
      "text/plain": [
       "  0%|          | 0/1024 [00:00<?, ?it/s]"
      ]
     },
     "metadata": {},
     "output_type": "display_data"
    }
   ],
   "source": [
    "metrics = []\n",
    "for layer, head in tqdm(ATTN_HEAD_LOCS):\n",
    "    d = tl_model.cfg.d_vocab\n",
    "\n",
    "    log10_resp_mat = get_ov_resp_matrix(layer=layer, head=head) / np.log(10)\n",
    "    log10_resp_diag = log10_resp_mat.diag()\n",
    "    suppression_score = (\n",
    "        (log10_resp_diag.mean() - log10_resp_mat.mean()).item() * d / (d - 1)\n",
    "    )\n",
    "\n",
    "    metrics.append(\n",
    "        {\n",
    "            \"layer\": layer,\n",
    "            \"head\": head,\n",
    "            \"suppression_score\": suppression_score,\n",
    "        }\n",
    "    )"
   ]
  },
  {
   "cell_type": "code",
   "execution_count": 17,
   "metadata": {},
   "outputs": [
    {
     "data": {
      "application/vnd.jupyter.widget-view+json": {
       "model_id": "9d93025be39f422f8ffdaa0f41d57be8",
       "version_major": 2,
       "version_minor": 0
      },
      "text/plain": [
       "  0%|          | 0/1024 [00:00<?, ?it/s]"
      ]
     },
     "metadata": {},
     "output_type": "display_data"
    }
   ],
   "source": [
    "metrics = []\n",
    "for layer, head in tqdm(ATTN_HEAD_LOCS):\n",
    "    d = tl_model.cfg.d_vocab\n",
    "\n",
    "    log10_resp_mat = get_ov_resp_matrix(layer=layer, head=head) / np.log(10)\n",
    "    log10_resp_diag = log10_resp_mat.diag()\n",
    "    suppression_score = (\n",
    "        (log10_resp_diag.mean() - log10_resp_mat.mean()).item() * d / (d - 1)\n",
    "    )\n",
    "\n",
    "    metrics.append(\n",
    "        {\n",
    "            \"layer\": layer,\n",
    "            \"head\": head,\n",
    "            \"suppression_score\": suppression_score,\n",
    "        }\n",
    "    )\n",
    "dfm = pd.DataFrame(metrics)"
   ]
  },
  {
   "cell_type": "code",
   "execution_count": 26,
   "metadata": {},
   "outputs": [
    {
     "name": "stdout",
     "output_type": "stream",
     "text": [
      "Suppresion score\n",
      "mean (top 10) -1.2209208095619084\n",
      "mean (other): 0.1180063247472049\n",
      "std (other): 0.4017560001794997\n"
     ]
    }
   ],
   "source": [
    "print(\"Suppresion score\")\n",
    "print(\"mean (top 10)\", dfm.suppression_score[:10].mean())\n",
    "print(\"mean (other):\", dfm.suppression_score[10:].mean())\n",
    "print(\"std (other):\", dfm.suppression_score[10:].std())"
   ]
  },
  {
   "cell_type": "code",
   "execution_count": 31,
   "metadata": {},
   "outputs": [
    {
     "name": "stdout",
     "output_type": "stream",
     "text": [
      "Suppresion score\n",
      "mean (top 10) -1.2209208095619084\n",
      "std (top 10) 0.7966797800798138\n",
      "mean (other): 0.1180063247472049\n",
      "std (other): 0.4017560001794997\n",
      "Suppresion score\n",
      "mean (top 30) -0.580571740121893\n",
      "std (top 30) 1.0009307498381657\n",
      "mean (other): 0.125620077868917\n",
      "std (other): 0.3800060468989584\n"
     ]
    }
   ],
   "source": [
    "for top in [10, 30]:\n",
    "    print(\"Suppresion score\")\n",
    "    print(f\"mean (top {top})\", dfm.suppression_score[:top].mean())\n",
    "    print(f\"std (top {top})\", dfm.suppression_score[:top].std())\n",
    "    print(f\"mean (other):\", dfm.suppression_score[top:].mean())\n",
    "    print(f\"std (other):\", dfm.suppression_score[top:].std())"
   ]
  },
  {
   "cell_type": "code",
   "execution_count": null,
   "metadata": {},
   "outputs": [],
   "source": []
  }
 ],
 "metadata": {
  "kernelspec": {
   "display_name": "Python 3",
   "language": "python",
   "name": "python3"
  },
  "language_info": {
   "codemirror_mode": {
    "name": "ipython",
    "version": 3
   },
   "file_extension": ".py",
   "mimetype": "text/x-python",
   "name": "python",
   "nbconvert_exporter": "python",
   "pygments_lexer": "ipython3",
   "version": "3.10.0"
  },
  "orig_nbformat": 4
 },
 "nbformat": 4,
 "nbformat_minor": 2
}
