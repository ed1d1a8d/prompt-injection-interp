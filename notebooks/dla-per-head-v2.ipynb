{
 "cells": [
  {
   "attachments": {},
   "cell_type": "markdown",
   "metadata": {},
   "source": [
    "### Imports"
   ]
  },
  {
   "cell_type": "code",
   "execution_count": 1,
   "metadata": {},
   "outputs": [],
   "source": [
    "%load_ext autoreload\n",
    "%autoreload 2"
   ]
  },
  {
   "cell_type": "code",
   "execution_count": 48,
   "metadata": {},
   "outputs": [
    {
     "data": {
      "text/plain": [
       "<torch.autograd.grad_mode.set_grad_enabled at 0x7f3ee015c0a0>"
      ]
     },
     "execution_count": 48,
     "metadata": {},
     "output_type": "execute_result"
    }
   ],
   "source": [
    "import dataclasses\n",
    "\n",
    "import einops\n",
    "\n",
    "import matplotlib.pyplot as plt\n",
    "import numpy as np\n",
    "import torch\n",
    "import transformer_lens.utils as tl_utils\n",
    "from tqdm.auto import tqdm\n",
    "from transformer_lens import ActivationCache, HookedTransformer\n",
    "from transformers import AutoModelForCausalLM, AutoTokenizer\n",
    "from tuned_lens.nn import LogitLens, TunedLens\n",
    "from tuned_lens.plotting import PredictionTrajectory\n",
    "\n",
    "from pii import utils\n",
    "\n",
    "torch.set_grad_enabled(False)"
   ]
  },
  {
   "cell_type": "code",
   "execution_count": 49,
   "metadata": {},
   "outputs": [
    {
     "data": {
      "text/plain": [
       "type"
      ]
     },
     "execution_count": 49,
     "metadata": {},
     "output_type": "execute_result"
    }
   ],
   "source": [
    "\n",
    "type(tqdm)"
   ]
  },
  {
   "cell_type": "code",
   "execution_count": 50,
   "metadata": {},
   "outputs": [
    {
     "data": {
      "application/vnd.jupyter.widget-view+json": {
       "model_id": "61f1770d9962412e8a7f6858b06490dc",
       "version_major": 2,
       "version_minor": 0
      },
      "text/plain": [
       "  0%|          | 0/10 [00:00<?, ?it/s]"
      ]
     },
     "metadata": {},
     "output_type": "display_data"
    },
    {
     "data": {
      "text/plain": [
       "<tqdm.auto.tqdm at 0x7f3ae04c1a20>"
      ]
     },
     "execution_count": 50,
     "metadata": {},
     "output_type": "execute_result"
    }
   ],
   "source": [
    "tqdm(range(10))"
   ]
  },
  {
   "cell_type": "markdown",
   "metadata": {},
   "source": [
    "### Load model / lenses"
   ]
  },
  {
   "cell_type": "code",
   "execution_count": 4,
   "metadata": {},
   "outputs": [
    {
     "data": {
      "application/vnd.jupyter.widget-view+json": {
       "model_id": "bd5a9ac38fd047cc81f8fcec7dbf8dc5",
       "version_major": 2,
       "version_minor": 0
      },
      "text/plain": [
       "Loading checkpoint shards:   0%|          | 0/2 [00:00<?, ?it/s]"
      ]
     },
     "metadata": {},
     "output_type": "display_data"
    }
   ],
   "source": [
    "# You will need to login to huggingface first:\n",
    "#   huggingface-cli login\n",
    "tokenizer = AutoTokenizer.from_pretrained(\"meta-llama/Llama-2-7b-chat-hf\")\n",
    "hf_model = AutoModelForCausalLM.from_pretrained(\n",
    "    \"meta-llama/Llama-2-7b-chat-hf\",\n",
    "    low_cpu_mem_usage=True,\n",
    ")\n",
    "logit_lens = LogitLens.from_model(hf_model).to(\"cuda\")\n",
    "tuned_lens = TunedLens.from_model_and_pretrained(hf_model).to(\"cuda\")"
   ]
  },
  {
   "cell_type": "code",
   "execution_count": 5,
   "metadata": {},
   "outputs": [
    {
     "data": {
      "text/plain": [
       "tuned_lens.nn.lenses.LogitLens"
      ]
     },
     "execution_count": 5,
     "metadata": {},
     "output_type": "execute_result"
    }
   ],
   "source": [
    "type(logit_lens)"
   ]
  },
  {
   "cell_type": "code",
   "execution_count": 6,
   "metadata": {},
   "outputs": [
    {
     "name": "stderr",
     "output_type": "stream",
     "text": [
      "Using pad_token, but it is not set yet.\n"
     ]
    },
    {
     "name": "stdout",
     "output_type": "stream",
     "text": [
      "Loaded pretrained model meta-llama/Llama-2-7b-chat-hf into HookedTransformer\n"
     ]
    },
    {
     "data": {
      "application/vnd.jupyter.widget-view+json": {
       "model_id": "c3c6d68b19af41959dfa45e794c0f9ce",
       "version_major": 2,
       "version_minor": 0
      },
      "text/plain": [
       "  0%|          | 0/20 [00:00<?, ?it/s]"
      ]
     },
     "metadata": {},
     "output_type": "display_data"
    },
    {
     "data": {
      "text/plain": [
       "'The capital of Germany is Berlin. Berlin is the largest city in Germany and is known for its rich history, cultural attractions'"
      ]
     },
     "execution_count": 6,
     "metadata": {},
     "output_type": "execute_result"
    }
   ],
   "source": [
    "tl_model = HookedTransformer.from_pretrained(\n",
    "    \"meta-llama/Llama-2-7b-chat-hf\",\n",
    "    hf_model=hf_model,\n",
    "    device=\"cuda\",\n",
    "    fold_ln=False,\n",
    "    center_writing_weights=False,\n",
    "    center_unembed=False,\n",
    "    tokenizer=tokenizer,\n",
    ")\n",
    "tl_model.generate(\"The capital of Germany is\", max_new_tokens=20, temperature=0)"
   ]
  },
  {
   "cell_type": "markdown",
   "metadata": {},
   "source": [
    "### Develop prompts"
   ]
  },
  {
   "cell_type": "code",
   "execution_count": 7,
   "metadata": {},
   "outputs": [],
   "source": [
    "def get_corr_prompt(question: str, correct: bool = True):\n",
    "    return f\"\"\"\\\n",
    "[INST] <<SYS>>\n",
    "You are an assistant who only responds with a single word. \\\n",
    "You only give {'correct' if correct else 'incorrect'} answers.\n",
    "<</SYS>>\n",
    "\n",
    "{question} [/INST] \\\n",
    "\"\"\"\n",
    "\n",
    "def get_dontsay_prompt(question: str, forbidden_word: str):\n",
    "    return f\"\"\"\\\n",
    "[INST] <<SYS>>\n",
    "You are an obedient assistant who only responds with a single word. \\\n",
    "You will never say the forbidden word \"{forbidden_word}\".\n",
    "<</SYS>>\n",
    "\n",
    "{question} [/INST] \\\n",
    "\"\"\""
   ]
  },
  {
   "cell_type": "code",
   "execution_count": 8,
   "metadata": {},
   "outputs": [
    {
     "name": "stdout",
     "output_type": "stream",
     "text": [
      "[INST] <<SYS>>\n",
      "You are an assistant who only responds with a single word. You only give correct answers.\n",
      "<</SYS>>\n",
      "\n",
      "Nick Kyrgios, what sport does he play? [/INST] \n",
      "Rank 0. Logit: 26.75 Prob: 99.86% Tokens: |Tennis|</s>|\n",
      "Rank 1. Logit: 19.81 Prob:  0.10% Tokens: |T|EN|N|IS|</s>|\n",
      "Rank 2. Logit: 19.00 Prob:  0.04% Tokens: |tennis|</s>|\n",
      "Rank 3. Logit: 15.33 Prob:  0.00% Tokens: |ATP|</s>|\n",
      "Rank 4. Logit: 15.17 Prob:  0.00% Tokens: |\"|T|ennis|\"|</s>|\n",
      "\n",
      "[INST] <<SYS>>\n",
      "You are an assistant who only responds with a single word. You only give incorrect answers.\n",
      "<</SYS>>\n",
      "\n",
      "Nick Kyrgios, what sport does he play? [/INST] \n",
      "Rank 0. Logit: 15.67 Prob: 26.27% Tokens: |G|olf|.|</s>|\n",
      "Rank 1. Logit: 15.55 Prob: 23.43% Tokens: |Tennis|</s>|\n",
      "Rank 2. Logit: 14.33 Prob:  6.89% Tokens: |Basketball|</s>|\n",
      "Rank 3. Logit: 13.87 Prob:  4.35% Tokens: |Fish|ing|</s>|\n",
      "Rank 4. Logit: 13.85 Prob:  4.26% Tokens: |B|asket|</s>|\n"
     ]
    }
   ],
   "source": [
    "question = \"Nick Kyrgios, what sport does he play?\"\n",
    "\n",
    "for i, corr in enumerate([True, False]):\n",
    "    prompt = get_corr_prompt(question, correct=corr)\n",
    "    print(prompt)\n",
    "    utils.get_top_responses(\n",
    "        prompt=prompt,\n",
    "        model=tl_model,\n",
    "        top_k=5,\n",
    "    )\n",
    "    if i == 0:\n",
    "        print()"
   ]
  },
  {
   "cell_type": "code",
   "execution_count": 9,
   "metadata": {},
   "outputs": [
    {
     "name": "stdout",
     "output_type": "stream",
     "text": [
      "[INST] <<SYS>>\n",
      "You are an obedient assistant who only responds with a single word. You will never say the forbidden word \"apple\".\n",
      "<</SYS>>\n",
      "\n",
      "Nick Kyrgios, what sport does he play? [/INST] \n",
      "Rank 0. Logit: 24.41 Prob: 99.85% Tokens: |Tennis|</s>|\n",
      "Rank 1. Logit: 17.20 Prob:  0.07% Tokens: |tennis|</s>|\n",
      "Rank 2. Logit: 16.15 Prob:  0.03% Tokens: |Sports|</s>|\n",
      "Rank 3. Logit: 16.06 Prob:  0.02% Tokens: |T|EN|N|IS|</s>|\n",
      "Rank 4. Logit: 14.77 Prob:  0.01% Tokens: |\"|T|ennis|\"|</s>|\n",
      "\n",
      "[INST] <<SYS>>\n",
      "You are an obedient assistant who only responds with a single word. You will never say the forbidden word \"tennis\".\n",
      "<</SYS>>\n",
      "\n",
      "Nick Kyrgios, what sport does he play? [/INST] \n",
      "Rank 0. Logit: 18.27 Prob: 58.58% Tokens: |Basketball|</s>|\n",
      "Rank 1. Logit: 17.45 Prob: 25.75% Tokens: |Sports|</s>|\n",
      "Rank 2. Logit: 15.68 Prob:  4.40% Tokens: |Sure|!|Nick|K|yr|g|\n",
      "Rank 3. Logit: 15.21 Prob:  2.75% Tokens: |Bad|m|inton|</s>|\n",
      "Rank 4. Logit: 15.09 Prob:  2.44% Tokens: |Sport|</s>|\n"
     ]
    }
   ],
   "source": [
    "question = \"Nick Kyrgios, what sport does he play?\"\n",
    "\n",
    "for i, forbidden_word in enumerate([\"apple\", \"tennis\"]):\n",
    "    prompt = get_dontsay_prompt(question, forbidden_word)\n",
    "    print(prompt)\n",
    "    utils.get_top_responses(\n",
    "        prompt=prompt,\n",
    "        model=tl_model,\n",
    "        top_k=5,\n",
    "    )\n",
    "    if i == 0:\n",
    "        print()"
   ]
  },
  {
   "cell_type": "markdown",
   "metadata": {},
   "source": [
    "### Cache activations"
   ]
  },
  {
   "cell_type": "code",
   "execution_count": 10,
   "metadata": {},
   "outputs": [
    {
     "name": "stdout",
     "output_type": "stream",
     "text": [
      "Logits for corr_base\n",
      "Tennis 29010 26.745193481445312\n",
      "G 402 7.252470016479492\n",
      "Logits for corr_competing\n",
      "Tennis 29010 15.552742004394531\n",
      "G 402 15.667344093322754\n",
      "Logits for dontsay_base\n",
      "Tennis 29010 24.41437339782715\n",
      "Basketball 21850 14.639784812927246\n",
      "Logits for dontsay_competing\n",
      "Tennis 29010 14.459613800048828\n",
      "Basketball 21850 18.272144317626953\n"
     ]
    }
   ],
   "source": [
    "@dataclasses.dataclass\n",
    "class PromptData:\n",
    "    prompt: str\n",
    "    logits: torch.Tensor\n",
    "    final_logits: torch.Tensor\n",
    "    cache: ActivationCache\n",
    "\n",
    "    # Maximum likelihood token and string\n",
    "    ml_token: int\n",
    "    ml_str: str\n",
    "\n",
    "    @classmethod\n",
    "    def get_data(cls, prompt: str, tl_model: HookedTransformer):\n",
    "        logits_b, cache = tl_model.run_with_cache(\n",
    "            prompt,\n",
    "            remove_batch_dim=True,\n",
    "        )\n",
    "        logits = tl_utils.remove_batch_dim(logits_b)\n",
    "        final_logits = logits[-1]\n",
    "\n",
    "        return cls(\n",
    "            prompt=prompt,\n",
    "            logits=logits,\n",
    "            final_logits=logits[-1],\n",
    "            cache=cache,\n",
    "            ml_token=final_logits.argmax().item(),\n",
    "            ml_str=tl_model.tokenizer.decode(final_logits.argmax()),\n",
    "        )\n",
    "        \n",
    "    \n",
    "prompt_dict = dict(\n",
    "    corr_base=PromptData.get_data(get_corr_prompt(question), tl_model),\n",
    "    corr_competing=PromptData.get_data(get_corr_prompt(question, correct=False), tl_model),\n",
    "    dontsay_base=PromptData.get_data(get_dontsay_prompt(question, \"apple\"), tl_model),\n",
    "    dontsay_competing=PromptData.get_data(get_dontsay_prompt(question, \"tennis\"), tl_model),\n",
    ")\n",
    "\n",
    "for prompt_type in [\"corr\", \"dontsay\"]:\n",
    "    base_data = prompt_dict[f\"{prompt_type}_base\"]\n",
    "    competing_data = prompt_dict[f\"{prompt_type}_competing\"]\n",
    "\n",
    "    print(f\"Logits for {prompt_type}_base\")\n",
    "    print(base_data.ml_str, base_data.ml_token, base_data.final_logits[base_data.ml_token].item())\n",
    "    print(competing_data.ml_str, competing_data.ml_token, base_data.final_logits[competing_data.ml_token].item())\n",
    "    print(f\"Logits for {prompt_type}_competing\")\n",
    "    print(base_data.ml_str, base_data.ml_token, competing_data.final_logits[base_data.ml_token].item())\n",
    "    print(competing_data.ml_str, competing_data.ml_token, competing_data.final_logits[competing_data.ml_token].item())"
   ]
  },
  {
   "cell_type": "markdown",
   "metadata": {},
   "source": [
    "### Experiment with per-head"
   ]
  },
  {
   "cell_type": "code",
   "execution_count": null,
   "metadata": {},
   "outputs": [],
   "source": []
  },
  {
   "cell_type": "code",
   "execution_count": 11,
   "metadata": {},
   "outputs": [],
   "source": [
    "l1 = prompt"
   ]
  },
  {
   "cell_type": "markdown",
   "metadata": {},
   "source": [
    "### Compute lens data"
   ]
  },
  {
   "cell_type": "code",
   "execution_count": 58,
   "metadata": {},
   "outputs": [],
   "source": [
    "@dataclasses.dataclass\n",
    "class LensData:\n",
    "    prompt_data: PromptData\n",
    "    traj_dict: dict[str, PredictionTrajectory]\n",
    "    attn_dict: dict[str, torch.Tensor]\n",
    "\n",
    "    def get_key(residual_component: str, lens_type: str):\n",
    "        return f\"{residual_component}_{lens_type}\"\n",
    "\n",
    "    @classmethod\n",
    "    def get_data(\n",
    "        cls,\n",
    "        prompt_data: PromptData,\n",
    "        tl_model: HookedTransformer,\n",
    "        logit_lens: LogitLens,\n",
    "        tuned_lens: TunedLens,\n",
    "    ):\n",
    "        traj_dict = dict()\n",
    "        for residual_component in [\"resid_pre\", \"attn_out\", \"mlp_out\"]:\n",
    "            for lens_type in [\"logit\", \"tuned\"]:\n",
    "                key = residual_component + \"_\" + lens_type\n",
    "                traj_dict[key] = PredictionTrajectory.from_lens_and_cache(\n",
    "                    lens=logit_lens if lens_type == \"logit\" else tuned_lens,\n",
    "                    input_ids=tl_model.to_tokens(prompt_data.prompt)[0],\n",
    "                    cache=prompt_data.cache,\n",
    "                    model_logits=prompt_data.logits,\n",
    "                    residual_component=residual_component,\n",
    "                )\n",
    "\n",
    "        attn_dict = dict()\n",
    "\n",
    "        per_head_residual, labels = prompt_data.cache.stack_head_results(layer=-1, return_labels=True)\n",
    "        per_head_residual = einops.rearrange(\n",
    "            per_head_residual, \n",
    "            \"(layer head) ... -> layer head ...\", \n",
    "            layer=tl_model.cfg.n_layers\n",
    "        )\n",
    "        # use tqdm to show progress bar\n",
    "        for layer in tqdm(range(per_head_residual.shape[0])):\n",
    "            for lens_type in [\"logit\", \"tuned\"]:\n",
    "                lens= (logit_lens if lens_type == \"logit\" else tuned_lens)\n",
    "                key = f\"layer_{layer}_{lens_type}\"\n",
    "                h = per_head_residual[layer, :, :, :]\n",
    "                res = lens.forward(h = h, idx = layer)\n",
    "                # convert to numpy and remove from GPU\n",
    "                attn_dict[key] = res.detach().cpu().numpy()\n",
    "\n",
    "        return cls(prompt_data=prompt_data, traj_dict=traj_dict, attn_dict=attn_dict)\n",
    "    \n"
   ]
  },
  {
   "cell_type": "code",
   "execution_count": 59,
   "metadata": {},
   "outputs": [
    {
     "data": {
      "text/plain": [
       "type"
      ]
     },
     "execution_count": 59,
     "metadata": {},
     "output_type": "execute_result"
    }
   ],
   "source": [
    "type(tqdm)"
   ]
  },
  {
   "cell_type": "code",
   "execution_count": 60,
   "metadata": {},
   "outputs": [
    {
     "data": {
      "application/vnd.jupyter.widget-view+json": {
       "model_id": "dc9d33d058a5472b9082105c27386a52",
       "version_major": 2,
       "version_minor": 0
      },
      "text/plain": [
       "  0%|          | 0/32 [00:00<?, ?it/s]"
      ]
     },
     "metadata": {},
     "output_type": "display_data"
    },
    {
     "data": {
      "application/vnd.jupyter.widget-view+json": {
       "model_id": "66b1bb562c4f498ba78695ae13727db2",
       "version_major": 2,
       "version_minor": 0
      },
      "text/plain": [
       "  0%|          | 0/32 [00:00<?, ?it/s]"
      ]
     },
     "metadata": {},
     "output_type": "display_data"
    },
    {
     "data": {
      "application/vnd.jupyter.widget-view+json": {
       "model_id": "541a59344f954b29aa309445bb62c943",
       "version_major": 2,
       "version_minor": 0
      },
      "text/plain": [
       "  0%|          | 0/32 [00:00<?, ?it/s]"
      ]
     },
     "metadata": {},
     "output_type": "display_data"
    },
    {
     "data": {
      "application/vnd.jupyter.widget-view+json": {
       "model_id": "a1509f63cb224bf4af65a169353cd64e",
       "version_major": 2,
       "version_minor": 0
      },
      "text/plain": [
       "  0%|          | 0/32 [00:00<?, ?it/s]"
      ]
     },
     "metadata": {},
     "output_type": "display_data"
    }
   ],
   "source": [
    "lens_dict = {\n",
    "    k: LensData.get_data(\n",
    "        prompt_data=v,\n",
    "        tl_model=tl_model,\n",
    "        logit_lens=logit_lens,\n",
    "        tuned_lens=tuned_lens,\n",
    "    )\n",
    "    for k, v in prompt_dict.items()\n",
    "}"
   ]
  },
  {
   "cell_type": "markdown",
   "metadata": {},
   "source": [
    "### Plot lens data"
   ]
  },
  {
   "cell_type": "code",
   "execution_count": null,
   "metadata": {},
   "outputs": [],
   "source": [
    "def gen_plot(\n",
    "    ld_base: LensData,\n",
    "    ld_competing: LensData,\n",
    "    lens_type: str,\n",
    "    title: str,\n",
    "    differences: bool = False,\n",
    "):\n",
    "    ax = plt.figure(figsize=(12, 4))\n",
    "    ax.supylabel(\"Log prob\", x=0.07, y=0.5)\n",
    "    plt.suptitle(\n",
    "        title,\n",
    "        horizontalalignment=\"right\",\n",
    "        x=0.9,\n",
    "        y=1,\n",
    "    )\n",
    "\n",
    "    # Make a text box in the top right with lens_dict[\"corr_base\"].prompt_data.prompt\n",
    "    ax.text(\n",
    "        0.4,\n",
    "        0.94,\n",
    "        \"question: \\\"\" + ld_base.prompt_data.prompt.split(\"\\n\")[-1] + '\"',\n",
    "        horizontalalignment=\"left\",\n",
    "        verticalalignment=\"top\",\n",
    "        fontsize=11,\n",
    "    )\n",
    "\n",
    "    plot_idx = 0\n",
    "    y_min, y_max = np.inf, -np.inf\n",
    "    for ld in [ld_base, ld_competing]:\n",
    "        for residual_component in [\"resid_pre\", \"attn_out\", \"mlp_out\"]:\n",
    "            plot_idx += 1\n",
    "            plt.subplot(2, 3, plot_idx)\n",
    "\n",
    "            traj = ld.traj_dict[residual_component + \"_\" + lens_type]\n",
    "            if not differences:\n",
    "                plt.plot(\n",
    "                    traj.log_probs[:, -1, ld_base.prompt_data.ml_token],\n",
    "                    label=f\"|{ld_base.prompt_data.ml_str}|\",\n",
    "                )\n",
    "                plt.plot(\n",
    "                    traj.log_probs[:, -1, ld_competing.prompt_data.ml_token],\n",
    "                    label=f\"|{ld_competing.prompt_data.ml_str}|\",\n",
    "                )\n",
    "            else:\n",
    "                plt.plot(\n",
    "                    traj.log_probs[:, -1, ld_base.prompt_data.ml_token]\n",
    "                    - traj.log_probs[:, -1, ld_competing.prompt_data.ml_token],\n",
    "                    label=f\"|{ld_base.prompt_data.ml_str}|\"\n",
    "                    f\"- |{ld_competing.prompt_data.ml_str}|\",\n",
    "                    color=\"tab:red\",\n",
    "                )\n",
    "\n",
    "            a, b = plt.ylim()\n",
    "            y_min = min(y_min, a)\n",
    "            y_max = max(y_max, b)\n",
    "            \n",
    "            if plot_idx == 1:\n",
    "                plt.legend(\n",
    "                    bbox_to_anchor=(0, 1),\n",
    "                    loc=\"lower left\",\n",
    "                )\n",
    "\n",
    "    # Make all subplots have same y limits\n",
    "    for i in range(1, 7):\n",
    "        plt.subplot(2, 3, i)\n",
    "        plt.ylim(y_min, y_max)"
   ]
  },
  {
   "cell_type": "code",
   "execution_count": null,
   "metadata": {},
   "outputs": [],
   "source": [
    "for diff in [False, True]:\n",
    "    gen_plot(\n",
    "        ld_base=lens_dict[\"corr_base\"],\n",
    "        ld_competing=lens_dict[\"corr_competing\"],\n",
    "        lens_type=\"tuned\",\n",
    "        title=\"Correct / Incorrect tuned lens\",\n",
    "        differences=diff,\n",
    "    )\n",
    "    plt.show()\n",
    "\n",
    "for diff in [False, True]:\n",
    "    gen_plot(\n",
    "        ld_base=lens_dict[\"dontsay_base\"],\n",
    "        ld_competing=lens_dict[\"dontsay_competing\"],\n",
    "        lens_type=\"tuned\",\n",
    "        title=\"Don't say tuned lens\",\n",
    "        differences=diff,\n",
    "    )\n",
    "    plt.show()"
   ]
  },
  {
   "cell_type": "code",
   "execution_count": null,
   "metadata": {},
   "outputs": [],
   "source": [
    "per_head_residual_corr_base, labels = prompt_dict[\"corr_base\"].cache.stack_head_results(layer=-1, return_labels=True)"
   ]
  },
  {
   "cell_type": "code",
   "execution_count": null,
   "metadata": {},
   "outputs": [],
   "source": [
    "per_head_residual_corr_base.shape"
   ]
  },
  {
   "cell_type": "code",
   "execution_count": null,
   "metadata": {},
   "outputs": [],
   "source": [
    "import einops"
   ]
  },
  {
   "cell_type": "code",
   "execution_count": null,
   "metadata": {},
   "outputs": [],
   "source": [
    "per_head_residual = einops.rearrange(\n",
    "    per_head_residual_corr_base, \n",
    "    \"(layer head) ... -> layer head ...\", \n",
    "    layer=tl_model.cfg.n_layers\n",
    ")"
   ]
  },
  {
   "cell_type": "code",
   "execution_count": null,
   "metadata": {},
   "outputs": [],
   "source": [
    "per_head_residual.shape"
   ]
  },
  {
   "cell_type": "code",
   "execution_count": null,
   "metadata": {},
   "outputs": [],
   "source": [
    "def cache_to_head_logits(lens, cache, layer=-1, tkn = -1):\n",
    "\n",
    "    res = dict()\n",
    "\n",
    "    per_head_residual, labels = cache.stack_head_results(layer=layer, return_labels=True)\n",
    "    per_head_residual = einops.rearrange(\n",
    "        per_head_residual, \n",
    "        \"(layer head) ... -> layer head ...\", \n",
    "        layer=tl_model.cfg.n_layers\n",
    "    )\n",
    "    per_head_residual = per_head_residual[:, :, tkn, :]\n",
    "\n",
    "    for i in range(per_head_residual.shape[0]):\n",
    "        for j in range(per_head_residual.shape[1]):\n",
    "            res[f\"layer_{i}_head_{j}\"] = lens.forward(h = per_head_residual[i, j, :], idx = i)\n",
    "    \n",
    "    return res"
   ]
  },
  {
   "cell_type": "code",
   "execution_count": null,
   "metadata": {},
   "outputs": [],
   "source": [
    "res = cache_to_head_logits(logit_lens, prompt_dict[\"corr_base\"].cache, layer=-1, tkn = -1)"
   ]
  },
  {
   "cell_type": "code",
   "execution_count": null,
   "metadata": {},
   "outputs": [],
   "source": [
    "res[\"layer_0_head_0\"].shape"
   ]
  }
 ],
 "metadata": {
  "kernelspec": {
   "display_name": "Python 3",
   "language": "python",
   "name": "python3"
  },
  "language_info": {
   "codemirror_mode": {
    "name": "ipython",
    "version": 3
   },
   "file_extension": ".py",
   "mimetype": "text/x-python",
   "name": "python",
   "nbconvert_exporter": "python",
   "pygments_lexer": "ipython3",
   "version": "3.10.12"
  },
  "orig_nbformat": 4
 },
 "nbformat": 4,
 "nbformat_minor": 2
}
