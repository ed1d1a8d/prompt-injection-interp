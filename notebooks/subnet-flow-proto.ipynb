{
 "cells": [
  {
   "cell_type": "markdown",
   "metadata": {},
   "source": [
    "This notebook is for prototyping subnetwork flow."
   ]
  },
  {
   "cell_type": "markdown",
   "metadata": {},
   "source": [
    "### Imports"
   ]
  },
  {
   "cell_type": "code",
   "execution_count": 1,
   "metadata": {},
   "outputs": [],
   "source": [
    "%load_ext autoreload\n",
    "%autoreload 2"
   ]
  },
  {
   "cell_type": "code",
   "execution_count": 2,
   "metadata": {},
   "outputs": [],
   "source": [
    "import dataclasses\n",
    "import collections\n",
    "\n",
    "import matplotlib.pyplot as plt\n",
    "import numpy as np\n",
    "import pandas as pd\n",
    "import torch\n",
    "import torch.optim\n",
    "import transformer_lens.utils as tl_utils\n",
    "from tqdm.auto import tqdm\n",
    "from transformer_lens import ActivationCache, HookedTransformer\n",
    "from transformers import AutoModelForCausalLM, AutoTokenizer\n",
    "\n",
    "from pii import utils\n",
    "from pii.subnet_flow.masked_model import PerTokenMaskedTransformer\n",
    "\n",
    "# torch.set_grad_enabled(False)"
   ]
  },
  {
   "cell_type": "markdown",
   "metadata": {},
   "source": [
    "### Load models"
   ]
  },
  {
   "cell_type": "code",
   "execution_count": 3,
   "metadata": {},
   "outputs": [
    {
     "data": {
      "application/vnd.jupyter.widget-view+json": {
       "model_id": "12201aec6cd3436cbba31185f9ee561c",
       "version_major": 2,
       "version_minor": 0
      },
      "text/plain": [
       "Loading checkpoint shards:   0%|          | 0/2 [00:00<?, ?it/s]"
      ]
     },
     "metadata": {},
     "output_type": "display_data"
    }
   ],
   "source": [
    "# You will need to login to huggingface first:\n",
    "#   huggingface-cli login\n",
    "tokenizer = AutoTokenizer.from_pretrained(\"meta-llama/Llama-2-7b-chat-hf\")\n",
    "hf_model = AutoModelForCausalLM.from_pretrained(\n",
    "    \"meta-llama/Llama-2-7b-chat-hf\",\n",
    "    low_cpu_mem_usage=True,\n",
    ")"
   ]
  },
  {
   "cell_type": "code",
   "execution_count": 4,
   "metadata": {},
   "outputs": [
    {
     "name": "stderr",
     "output_type": "stream",
     "text": [
      "Using pad_token, but it is not set yet.\n"
     ]
    },
    {
     "name": "stdout",
     "output_type": "stream",
     "text": [
      "Loaded pretrained model meta-llama/Llama-2-7b-chat-hf into HookedTransformer\n"
     ]
    },
    {
     "data": {
      "application/vnd.jupyter.widget-view+json": {
       "model_id": "a3828f1d5ea54addb1bb44406be254ed",
       "version_major": 2,
       "version_minor": 0
      },
      "text/plain": [
       "  0%|          | 0/20 [00:00<?, ?it/s]"
      ]
     },
     "metadata": {},
     "output_type": "display_data"
    }
   ],
   "source": [
    "tl_model = HookedTransformer.from_pretrained(\n",
    "    \"meta-llama/Llama-2-7b-chat-hf\",\n",
    "    hf_model=hf_model,\n",
    "    device=\"cuda\",\n",
    "    fold_ln=False,\n",
    "    center_writing_weights=False,\n",
    "    center_unembed=False,\n",
    "    tokenizer=tokenizer,\n",
    ")\n",
    "with torch.no_grad():\n",
    "    tl_model.generate(\"The capital of Germany is\", max_new_tokens=20, temperature=0)"
   ]
  },
  {
   "cell_type": "code",
   "execution_count": 5,
   "metadata": {},
   "outputs": [
    {
     "name": "stdout",
     "output_type": "stream",
     "text": [
      "['masks.0_attn_out', 'masks.0_mlp_out', 'masks.1_attn_out', 'masks.1_mlp_out', 'masks.2_attn_out', 'masks.2_mlp_out', 'masks.3_attn_out', 'masks.3_mlp_out', 'masks.4_attn_out', 'masks.4_mlp_out', 'masks.5_attn_out', 'masks.5_mlp_out', 'masks.6_attn_out', 'masks.6_mlp_out', 'masks.7_attn_out', 'masks.7_mlp_out', 'masks.8_attn_out', 'masks.8_mlp_out', 'masks.9_attn_out', 'masks.9_mlp_out', 'masks.10_attn_out', 'masks.10_mlp_out', 'masks.11_attn_out', 'masks.11_mlp_out', 'masks.12_attn_out', 'masks.12_mlp_out', 'masks.13_attn_out', 'masks.13_mlp_out', 'masks.14_attn_out', 'masks.14_mlp_out', 'masks.15_attn_out', 'masks.15_mlp_out', 'masks.16_attn_out', 'masks.16_mlp_out', 'masks.17_attn_out', 'masks.17_mlp_out', 'masks.18_attn_out', 'masks.18_mlp_out', 'masks.19_attn_out', 'masks.19_mlp_out', 'masks.20_attn_out', 'masks.20_mlp_out', 'masks.21_attn_out', 'masks.21_mlp_out', 'masks.22_attn_out', 'masks.22_mlp_out', 'masks.23_attn_out', 'masks.23_mlp_out', 'masks.24_attn_out', 'masks.24_mlp_out', 'masks.25_attn_out', 'masks.25_mlp_out', 'masks.26_attn_out', 'masks.26_mlp_out', 'masks.27_attn_out', 'masks.27_mlp_out', 'masks.28_attn_out', 'masks.28_mlp_out', 'masks.29_attn_out', 'masks.29_mlp_out', 'masks.30_attn_out', 'masks.30_mlp_out', 'masks.31_attn_out', 'masks.31_mlp_out']\n",
      "31_mlp_out torch.Size([6])\n"
     ]
    },
    {
     "data": {
      "application/vnd.jupyter.widget-view+json": {
       "model_id": "1ac53d2df22c4470ac4aa0ab470d648d",
       "version_major": 2,
       "version_minor": 0
      },
      "text/plain": [
       "  0%|          | 0/20 [00:00<?, ?it/s]"
      ]
     },
     "metadata": {},
     "output_type": "display_data"
    },
    {
     "name": "stdout",
     "output_type": "stream",
     "text": [
      "The capital of Germany is are The The of The The The The The The The The of The of The The The The The\n"
     ]
    },
    {
     "data": {
      "application/vnd.jupyter.widget-view+json": {
       "model_id": "67fce1764f274dbebd9132a3e8d9550b",
       "version_major": 2,
       "version_minor": 0
      },
      "text/plain": [
       "  0%|          | 0/20 [00:00<?, ?it/s]"
      ]
     },
     "metadata": {},
     "output_type": "display_data"
    },
    {
     "name": "stdout",
     "output_type": "stream",
     "text": [
      "The capital of Germany is Berlin. Berlin is the largest city in Germany and is known for its rich history, cultural attractions\n"
     ]
    }
   ],
   "source": [
    "prompt = \"The capital of Germany is\"\n",
    "\n",
    "mtf_test = PerTokenMaskedTransformer(tl_model, base_prompt=prompt)\n",
    "print([n for n, p in mtf_test.named_parameters() if p.requires_grad])\n",
    "with torch.no_grad():\n",
    "    for name, mask in mtf_test.masks.items():\n",
    "        if name == \"31_mlp_out\":\n",
    "            print(name, mask.shape)\n",
    "            continue\n",
    "        mask *= 0\n",
    "\n",
    "with torch.no_grad():\n",
    "    print(\n",
    "        mtf_test.tl_model.generate(\n",
    "            \"The capital of Germany is\",\n",
    "            max_new_tokens=20,\n",
    "            temperature=0,\n",
    "            use_past_kv_cache=False,  # This is important!\n",
    "        )\n",
    "    )\n",
    "    mtf_test.masks_active = False\n",
    "    print(\n",
    "        mtf_test.tl_model.generate(\n",
    "            \"The capital of Germany is\",\n",
    "            max_new_tokens=20,\n",
    "            temperature=0,\n",
    "            use_past_kv_cache=False,  # This is important!\n",
    "        )\n",
    "    )"
   ]
  },
  {
   "cell_type": "code",
   "execution_count": 6,
   "metadata": {},
   "outputs": [],
   "source": [
    "mtf_test.masks_active = True\n",
    "with torch.no_grad():\n",
    "    _, cache = mtf_test.tl_model.run_with_cache(\n",
    "        prompt,\n",
    "        remove_batch_dim=True,\n",
    "    )\n",
    "\n",
    "assert torch.allclose(cache[\"resid_pre\", 2], cache[\"resid_post\", 30])\n",
    "assert not torch.allclose(cache[\"resid_pre\", 2], cache[\"resid_post\", 31])"
   ]
  },
  {
   "cell_type": "markdown",
   "metadata": {},
   "source": [
    "### Perform optimization"
   ]
  },
  {
   "cell_type": "code",
   "execution_count": 26,
   "metadata": {},
   "outputs": [
    {
     "name": "stdout",
     "output_type": "stream",
     "text": [
      "[INST] <<SYS>>\n",
      "You are an assistant who only responds with a single word. You only give correct answers.\n",
      "<</SYS>>\n",
      "\n",
      "Nick Kyrgios, what sport does he play? [/INST] \n",
      "Rank 0. Logit: 26.75 Prob: 99.86% Tokens: (29010) |Tennis|</s>|\n",
      "Rank 1. Logit: 19.81 Prob:  0.10% Tokens: (  323) |T|EN|N|IS|</s>|\n",
      "Rank 2. Logit: 19.00 Prob:  0.04% Tokens: (22556) |tennis|</s>|\n",
      "Rank 3. Logit: 15.33 Prob:  0.00% Tokens: (27884) |ATP|</s>|\n",
      "Rank 4. Logit: 15.17 Prob:  0.00% Tokens: (  376) |\"|T|ennis|\"|</s>|\n",
      "29010\n"
     ]
    }
   ],
   "source": [
    "def get_corr_prompt(question: str, correct: bool = True):\n",
    "    return f\"\"\"\\\n",
    "[INST] <<SYS>>\n",
    "You are an assistant who only responds with a single word. \\\n",
    "You only give {'correct' if correct else 'incorrect'} answers.\n",
    "<</SYS>>\n",
    "\n",
    "{question} [/INST] \\\n",
    "\"\"\"\n",
    "\n",
    "question = \"Nick Kyrgios, what sport does he play?\"\n",
    "prompt = get_corr_prompt(question, correct=True)\n",
    "mtf = PerTokenMaskedTransformer(tl_model, base_prompt=prompt)\n",
    "\n",
    "print(prompt)\n",
    "utils.get_top_responses(\n",
    "    prompt=prompt,\n",
    "    model=mtf.tl_model,\n",
    "    top_k=5,\n",
    "    use_kv_cache=False,\n",
    ")\n",
    "\n",
    "correct_str = \"Tennis\"\n",
    "correct_token = tl_model.to_tokens(correct_str)[0, 1].item()\n",
    "print(correct_token)"
   ]
  },
  {
   "cell_type": "code",
   "execution_count": 27,
   "metadata": {},
   "outputs": [
    {
     "data": {
      "application/vnd.jupyter.widget-view+json": {
       "model_id": "1299b85e914c42ab8fd3ecae4068ccad",
       "version_major": 2,
       "version_minor": 0
      },
      "text/plain": [
       "  0%|          | 0/400 [00:00<?, ?it/s]"
      ]
     },
     "metadata": {},
     "output_type": "display_data"
    }
   ],
   "source": [
    "prompt_tokens = tl_model.to_tokens(prompt)\n",
    "optim = torch.optim.Adam(\n",
    "    mtf.masks.parameters(),\n",
    "    lr=1e-2,\n",
    ")\n",
    "\n",
    "alpha = 5000\n",
    "n_steps = 400\n",
    "clamp_every = 1000000000000\n",
    "threshold = 0.05\n",
    "\n",
    "metric_history: list[dict[str]] = []\n",
    "pbar = tqdm(range(n_steps))\n",
    "for i in pbar:\n",
    "    logits = mtf.tl_model.forward(prompt_tokens, return_type=\"logits\")[0]\n",
    "\n",
    "    target_logit = logits[-1, correct_token]\n",
    "\n",
    "    mask_sum = sum(mask.sum() for mask in mtf.masks.values())\n",
    "    mask_numel = sum(mask.numel() for mask in mtf.masks.values())\n",
    "    density = mask_sum / mask_numel\n",
    "    scaled_density = density * alpha\n",
    "\n",
    "    loss = -target_logit + scaled_density\n",
    "    optim.zero_grad()\n",
    "    loss.backward()\n",
    "    optim.step()\n",
    "\n",
    "    # Clamp the masks to be between 0 and 1\n",
    "    with torch.no_grad():\n",
    "        for mask in mtf.masks.values():\n",
    "            mask.clamp_(0, 1)\n",
    "\n",
    "    # Force the masks to be binary every `clamp_every` steps\n",
    "    if i % clamp_every == 0 and i > 0:\n",
    "        with torch.no_grad():\n",
    "            for mask in mtf.masks.values():\n",
    "                # mask[mask > threshold] = 1\n",
    "                mask[mask <= threshold] = 0\n",
    "\n",
    "    metrics = dict(\n",
    "        step=i,\n",
    "        loss=loss.item(),\n",
    "        target_logit=target_logit.item(),\n",
    "        mask_sum=mask_sum.item(),\n",
    "        mask_numel=mask_numel,\n",
    "        density=density.item(),\n",
    "        scaled_density=scaled_density.item(),\n",
    "    )\n",
    "    metric_history.append(metrics)\n",
    "\n",
    "    pbar.set_postfix(metrics)"
   ]
  },
  {
   "cell_type": "code",
   "execution_count": 30,
   "metadata": {},
   "outputs": [
    {
     "data": {
      "image/png": "[encoded data removed]",
      "text/plain": [
       "<Figure size 1200x400 with 3 Axes>"
      ]
     },
     "metadata": {},
     "output_type": "display_data"
    }
   ],
   "source": [
    "df = pd.DataFrame(metric_history)\n",
    "\n",
    "plt.figure(figsize=(12, 4))\n",
    "plt.subplot(1, 3, 1)\n",
    "df.target_logit.plot()\n",
    "plt.legend()\n",
    "\n",
    "plt.subplot(1, 3, 2)\n",
    "df.mask_sum.plot()\n",
    "plt.yscale(\"log\")\n",
    "plt.legend()\n",
    "\n",
    "plt.subplot(1, 3, 3)\n",
    "plt.plot(df.mask_sum, df.target_logit)\n",
    "plt.xscale(\"log\")\n",
    "plt.show()"
   ]
  },
  {
   "cell_type": "code",
   "execution_count": 31,
   "metadata": {},
   "outputs": [
    {
     "name": "stdout",
     "output_type": "stream",
     "text": [
      "[INST] <<SYS>>\n",
      "You are an assistant who only responds with a single word. You only give correct answers.\n",
      "<</SYS>>\n",
      "\n",
      "Nick Kyrgios, what sport does he play? [/INST] \n",
      "Rank 0. Logit: 60.68 Prob: 100.00% Tokens: (29010) |Tennis|/|the|/|the|/|\n",
      "Rank 1. Logit: 38.44 Prob:  0.00% Tokens: (22556) |tennis|/|the|/|the|/|\n",
      "Rank 2. Logit: 33.57 Prob:  0.00% Tokens: (16196) |textt|/|the|/|the|/|\n",
      "Rank 3. Logit: 27.89 Prob:  0.00% Tokens: (    1) |<s>|nobody|/|the|/|the|\n",
      "Rank 4. Logit: 27.78 Prob:  0.00% Tokens: (23217) |zvuky|/|the|/|the|/|\n"
     ]
    }
   ],
   "source": [
    "print(prompt)\n",
    "utils.get_top_responses(\n",
    "    prompt=prompt,\n",
    "    model=mtf.tl_model,\n",
    "    top_k=5,\n",
    "    use_kv_cache=False,\n",
    ")"
   ]
  },
  {
   "cell_type": "markdown",
   "metadata": {},
   "source": [
    "### Visualize remaining flow"
   ]
  },
  {
   "cell_type": "code",
   "execution_count": 32,
   "metadata": {},
   "outputs": [
    {
     "name": "stdout",
     "output_type": "stream",
     "text": [
      "691\n"
     ]
    },
    {
     "data": {
      "image/png": "[encoded data removed]",
      "text/plain": [
       "<Figure size 400x300 with 1 Axes>"
      ]
     },
     "metadata": {},
     "output_type": "display_data"
    }
   ],
   "source": [
    "# Analysis of mask values\n",
    "all_mask_values = (\n",
    "    torch.cat([mask.flatten() for mask in mtf.masks.values()])\n",
    "    .detach()\n",
    "    .cpu()\n",
    "    .numpy()\n",
    ")\n",
    "\n",
    "print((all_mask_values > 0).sum())\n",
    "\n",
    "plt.figure(figsize=(4, 3))\n",
    "plt.hist(\n",
    "    all_mask_values[all_mask_values > 0],\n",
    "    cumulative=True,\n",
    "    bins=100,\n",
    "    density=True,\n",
    ")\n",
    "plt.show()\n",
    "\n",
    "# print(all_mask_values[all_mask_values > 0].min())\n",
    "# print((all_mask_values > 0.1).sum())"
   ]
  },
  {
   "cell_type": "code",
   "execution_count": 16,
   "metadata": {},
   "outputs": [
    {
     "name": "stdout",
     "output_type": "stream",
     "text": [
      "31_mlp_out Parameter containing:\n",
      "tensor([0.0942, 0.4147, 0.5860, 1.0000, 0.3247, 1.0000, 1.0000, 1.0000, 1.0000,\n",
      "        1.0000, 0.3663, 0.1953, 0.3562, 0.2087, 1.0000, 1.0000, 0.0383, 0.1584,\n",
      "        1.0000, 0.2585, 1.0000, 1.0000, 1.0000, 1.0000, 1.0000, 0.7673, 1.0000,\n",
      "        0.5516, 0.9551, 0.3667, 0.6268, 1.0000, 0.7908, 0.2764, 1.0000, 1.0000,\n",
      "        0.6759, 0.7730, 0.3051, 1.0000, 0.5812, 0.7662, 1.0000, 0.0905, 0.9254,\n",
      "        0.4492, 0.9582, 1.0000, 0.4468, 0.5667, 0.7800, 1.0000, 0.8419, 1.0000],\n",
      "       device='cuda:0', requires_grad=True)\n"
     ]
    }
   ],
   "source": [
    "for mask_name, mask in mtf.masks.items():\n",
    "    if mask.max() > 0:\n",
    "        print(mask_name, mask)"
   ]
  },
  {
   "cell_type": "code",
   "execution_count": 22,
   "metadata": {},
   "outputs": [
    {
     "data": {
      "text/plain": [
       "tensor([[-4.0979e-03, -1.0803e-03,  1.5299e-03,  ...,  2.8945e-03,\n",
       "          8.2326e-03,  1.0146e-02],\n",
       "        [-1.7113e-01,  5.6947e-02,  1.5653e-01,  ..., -8.7563e-02,\n",
       "         -3.4393e-02,  2.6082e-02],\n",
       "        [ 7.8579e-02, -2.2815e-02,  8.4024e-03,  ..., -1.0410e-01,\n",
       "         -1.0437e-01, -7.9825e-02],\n",
       "        ...,\n",
       "        [ 2.4893e-01, -3.4185e-02,  3.8277e-01,  ...,  2.6806e-01,\n",
       "         -3.5537e-01, -1.2575e-02],\n",
       "        [ 1.2009e-01,  1.1120e-01, -3.6125e-02,  ...,  2.6990e-01,\n",
       "         -3.7772e-01, -5.1210e-02],\n",
       "        [ 3.4553e-01,  4.4763e-05,  3.4930e-01,  ...,  2.6855e-01,\n",
       "         -4.2936e-01,  5.6756e-02]], device='cuda:0')"
      ]
     },
     "execution_count": 22,
     "metadata": {},
     "output_type": "execute_result"
    }
   ],
   "source": [
    "mtf.masks_active = True\n",
    "with torch.no_grad():\n",
    "    _, cache = mtf_test.tl_model.run_with_cache(\n",
    "        prompt,\n",
    "        remove_batch_dim=True,\n",
    "    )\n",
    "\n",
    "cache[\"resid_pre\", 17] - cache[\"resid_pre\", 18]"
   ]
  },
  {
   "cell_type": "code",
   "execution_count": null,
   "metadata": {},
   "outputs": [],
   "source": []
  }
 ],
 "metadata": {
  "kernelspec": {
   "display_name": "Python 3",
   "language": "python",
   "name": "python3"
  },
  "language_info": {
   "codemirror_mode": {
    "name": "ipython",
    "version": 3
   },
   "file_extension": ".py",
   "mimetype": "text/x-python",
   "name": "python",
   "nbconvert_exporter": "python",
   "pygments_lexer": "ipython3",
   "version": "3.10.12"
  },
  "orig_nbformat": 4
 },
 "nbformat": 4,
 "nbformat_minor": 2
}
