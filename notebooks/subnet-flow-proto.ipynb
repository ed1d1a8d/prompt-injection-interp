{
 "cells": [
  {
   "cell_type": "markdown",
   "metadata": {},
   "source": [
    "This notebook is for prototyping subnetwork flow."
   ]
  },
  {
   "cell_type": "markdown",
   "metadata": {},
   "source": [
    "### Imports"
   ]
  },
  {
   "cell_type": "code",
   "execution_count": 1,
   "metadata": {},
   "outputs": [],
   "source": [
    "%load_ext autoreload\n",
    "%autoreload 2"
   ]
  },
  {
   "cell_type": "code",
   "execution_count": 24,
   "metadata": {},
   "outputs": [
    {
     "data": {
      "text/plain": [
       "<torch.autograd.grad_mode.set_grad_enabled at 0x7fa328501600>"
      ]
     },
     "execution_count": 24,
     "metadata": {},
     "output_type": "execute_result"
    }
   ],
   "source": [
    "import dataclasses\n",
    "\n",
    "import matplotlib.pyplot as plt\n",
    "import numpy as np\n",
    "import torch\n",
    "import torch.optim\n",
    "import transformer_lens.utils as tl_utils\n",
    "from tqdm.auto import tqdm\n",
    "from transformer_lens import ActivationCache, HookedTransformer\n",
    "from transformers import AutoModelForCausalLM, AutoTokenizer\n",
    "\n",
    "from pii import utils\n",
    "\n",
    "torch.set_grad_enabled(False)"
   ]
  },
  {
   "cell_type": "code",
   "execution_count": 3,
   "metadata": {},
   "outputs": [],
   "source": [
    "from pii.subnet_flow.masked_model import PerTokenMaskedTransformer"
   ]
  },
  {
   "cell_type": "markdown",
   "metadata": {},
   "source": [
    "### Load models"
   ]
  },
  {
   "cell_type": "code",
   "execution_count": 4,
   "metadata": {},
   "outputs": [
    {
     "data": {
      "application/vnd.jupyter.widget-view+json": {
       "model_id": "eb99a60427254c9eadce497e5ea074e9",
       "version_major": 2,
       "version_minor": 0
      },
      "text/plain": [
       "Loading checkpoint shards:   0%|          | 0/2 [00:00<?, ?it/s]"
      ]
     },
     "metadata": {},
     "output_type": "display_data"
    }
   ],
   "source": [
    "# You will need to login to huggingface first:\n",
    "#   huggingface-cli login\n",
    "tokenizer = AutoTokenizer.from_pretrained(\"meta-llama/Llama-2-7b-chat-hf\")\n",
    "hf_model = AutoModelForCausalLM.from_pretrained(\n",
    "    \"meta-llama/Llama-2-7b-chat-hf\",\n",
    "    low_cpu_mem_usage=True,\n",
    ")"
   ]
  },
  {
   "cell_type": "code",
   "execution_count": 5,
   "metadata": {},
   "outputs": [
    {
     "name": "stderr",
     "output_type": "stream",
     "text": [
      "Using pad_token, but it is not set yet.\n"
     ]
    },
    {
     "name": "stdout",
     "output_type": "stream",
     "text": [
      "Loaded pretrained model meta-llama/Llama-2-7b-chat-hf into HookedTransformer\n"
     ]
    },
    {
     "data": {
      "application/vnd.jupyter.widget-view+json": {
       "model_id": "63b97dd61beb41d8a7cfd994e09794d5",
       "version_major": 2,
       "version_minor": 0
      },
      "text/plain": [
       "  0%|          | 0/20 [00:00<?, ?it/s]"
      ]
     },
     "metadata": {},
     "output_type": "display_data"
    },
    {
     "data": {
      "text/plain": [
       "'The capital of Germany is Berlin. Berlin is the largest city in Germany and is known for its rich history, cultural attractions'"
      ]
     },
     "execution_count": 5,
     "metadata": {},
     "output_type": "execute_result"
    }
   ],
   "source": [
    "tl_model = HookedTransformer.from_pretrained(\n",
    "    \"meta-llama/Llama-2-7b-chat-hf\",\n",
    "    hf_model=hf_model,\n",
    "    device=\"cuda\",\n",
    "    fold_ln=False,\n",
    "    center_writing_weights=False,\n",
    "    center_unembed=False,\n",
    "    tokenizer=tokenizer,\n",
    ")\n",
    "tl_model.generate(\"The capital of Germany is\", max_new_tokens=20, temperature=0)"
   ]
  },
  {
   "cell_type": "code",
   "execution_count": 13,
   "metadata": {},
   "outputs": [
    {
     "name": "stdout",
     "output_type": "stream",
     "text": [
      "['masks.0_attn_z', 'masks.0_mlp_out', 'masks.10_attn_z', 'masks.10_mlp_out', 'masks.11_attn_z', 'masks.11_mlp_out', 'masks.12_attn_z', 'masks.12_mlp_out', 'masks.13_attn_z', 'masks.13_mlp_out', 'masks.14_attn_z', 'masks.14_mlp_out', 'masks.15_attn_z', 'masks.15_mlp_out', 'masks.16_attn_z', 'masks.16_mlp_out', 'masks.17_attn_z', 'masks.17_mlp_out', 'masks.18_attn_z', 'masks.18_mlp_out', 'masks.19_attn_z', 'masks.19_mlp_out', 'masks.1_attn_z', 'masks.1_mlp_out', 'masks.20_attn_z', 'masks.20_mlp_out', 'masks.21_attn_z', 'masks.21_mlp_out', 'masks.22_attn_z', 'masks.22_mlp_out', 'masks.23_attn_z', 'masks.23_mlp_out', 'masks.24_attn_z', 'masks.24_mlp_out', 'masks.25_attn_z', 'masks.25_mlp_out', 'masks.26_attn_z', 'masks.26_mlp_out', 'masks.27_attn_z', 'masks.27_mlp_out', 'masks.28_attn_z', 'masks.28_mlp_out', 'masks.29_attn_z', 'masks.29_mlp_out', 'masks.2_attn_z', 'masks.2_mlp_out', 'masks.30_attn_z', 'masks.30_mlp_out', 'masks.31_attn_z', 'masks.31_mlp_out', 'masks.3_attn_z', 'masks.3_mlp_out', 'masks.4_attn_z', 'masks.4_mlp_out', 'masks.5_attn_z', 'masks.5_mlp_out', 'masks.6_attn_z', 'masks.6_mlp_out', 'masks.7_attn_z', 'masks.7_mlp_out', 'masks.8_attn_z', 'masks.8_mlp_out', 'masks.9_attn_z', 'masks.9_mlp_out']\n"
     ]
    },
    {
     "data": {
      "application/vnd.jupyter.widget-view+json": {
       "model_id": "cfdccb514ba34fdca4847efef227538f",
       "version_major": 2,
       "version_minor": 0
      },
      "text/plain": [
       "  0%|          | 0/20 [00:00<?, ?it/s]"
      ]
     },
     "metadata": {},
     "output_type": "display_data"
    },
    {
     "name": "stdout",
     "output_type": "stream",
     "text": [
      "The capital of Germany isnt The The of The The The The The of The The The of The of The The The The\n"
     ]
    },
    {
     "data": {
      "application/vnd.jupyter.widget-view+json": {
       "model_id": "0911f3a047e64eb6afaa2dbd61509bf1",
       "version_major": 2,
       "version_minor": 0
      },
      "text/plain": [
       "  0%|          | 0/20 [00:00<?, ?it/s]"
      ]
     },
     "metadata": {},
     "output_type": "display_data"
    },
    {
     "name": "stdout",
     "output_type": "stream",
     "text": [
      "The capital of Germany is Berlin. Berlin is the largest city in Germany and is known for its rich history, cultural attractions\n"
     ]
    }
   ],
   "source": [
    "prompt = \"The capital of Germany is\"\n",
    "\n",
    "mtf = PerTokenMaskedTransformer(tl_model, base_prompt=prompt)\n",
    "print([n for n, p in mtf.named_parameters() if p.requires_grad])\n",
    "for mask in mtf.masks.values():\n",
    "    mask *= 0\n",
    "\n",
    "print(\n",
    "    mtf.tl_model.generate(\n",
    "        \"The capital of Germany is\",\n",
    "        max_new_tokens=20,\n",
    "        temperature=0,\n",
    "        use_past_kv_cache=False,  # This is important!\n",
    "    )\n",
    ")\n",
    "mtf.masks_active = False\n",
    "print(\n",
    "    mtf.tl_model.generate(\n",
    "        \"The capital of Germany is\",\n",
    "        max_new_tokens=20,\n",
    "        temperature=0,\n",
    "        use_past_kv_cache=False,  # This is important!\n",
    "    )\n",
    ")"
   ]
  },
  {
   "cell_type": "markdown",
   "metadata": {},
   "source": [
    "### Perform optimization"
   ]
  },
  {
   "cell_type": "code",
   "execution_count": 23,
   "metadata": {},
   "outputs": [
    {
     "name": "stdout",
     "output_type": "stream",
     "text": [
      "[INST] <<SYS>>\n",
      "You are an assistant who only responds with a single word. You only give correct answers.\n",
      "<</SYS>>\n",
      "\n",
      "Nick Kyrgios, what sport does he play? [/INST] \n",
      "Rank 0. Logit: 26.75 Prob: 99.86% Tokens: (29010) |Tennis|</s>|\n",
      "Rank 1. Logit: 19.81 Prob:  0.10% Tokens: (  323) |T|EN|N|IS|</s>|\n",
      "Rank 2. Logit: 19.00 Prob:  0.04% Tokens: (22556) |tennis|</s>|\n",
      "Rank 3. Logit: 15.33 Prob:  0.00% Tokens: (27884) |ATP|</s>|\n",
      "Rank 4. Logit: 15.17 Prob:  0.00% Tokens: (  376) |\"|T|ennis|\"|</s>|\n"
     ]
    }
   ],
   "source": [
    "def get_corr_prompt(question: str, correct: bool = True):\n",
    "    return f\"\"\"\\\n",
    "[INST] <<SYS>>\n",
    "You are an assistant who only responds with a single word. \\\n",
    "You only give {'correct' if correct else 'incorrect'} answers.\n",
    "<</SYS>>\n",
    "\n",
    "{question} [/INST] \\\n",
    "\"\"\"\n",
    "\n",
    "question = \"Nick Kyrgios, what sport does he play?\"\n",
    "prompt = get_corr_prompt(question, correct=True)\n",
    "print(prompt)\n",
    "utils.get_top_responses(\n",
    "    prompt=prompt,\n",
    "    model=tl_model,\n",
    "    top_k=5,\n",
    ")"
   ]
  },
  {
   "cell_type": "code",
   "execution_count": 21,
   "metadata": {},
   "outputs": [
    {
     "data": {
      "text/plain": [
       "29010"
      ]
     },
     "execution_count": 21,
     "metadata": {},
     "output_type": "execute_result"
    }
   ],
   "source": [
    "correct_str = \"Tennis\"\n",
    "correct_token = tl_model.to_tokens(correct_str)[0, 1].item()\n",
    "correct_token"
   ]
  },
  {
   "cell_type": "code",
   "execution_count": null,
   "metadata": {},
   "outputs": [],
   "source": [
    "mtf = PerTokenMaskedTransformer(tl_model, base_prompt=prompt)\n",
    "prompt_tokens = tl_model.to_tokens(prompt)\n",
    "optim = torch.optim.Adam(\n",
    "    mtf.masks.parameters(),\n",
    "    lr=1e-3,\n",
    ")\n",
    "\n",
    "for i in tqdm(range(100)):\n",
    "    logits = mtf.tl_model.forward(prompt_tokens, return_type=\"logits\")[0]\n",
    "    final_logits = logits[0, -1]\n",
    "\n",
    "    reg = mtf.masks.sum()\n",
    "    loss = -final_logits[correct_token] + reg\n",
    "\n",
    "    optim.zero_grad()\n",
    "    loss.backward()\n",
    "    optim.step()"
   ]
  }
 ],
 "metadata": {
  "kernelspec": {
   "display_name": "Python 3",
   "language": "python",
   "name": "python3"
  },
  "language_info": {
   "codemirror_mode": {
    "name": "ipython",
    "version": 3
   },
   "file_extension": ".py",
   "mimetype": "text/x-python",
   "name": "python",
   "nbconvert_exporter": "python",
   "pygments_lexer": "ipython3",
   "version": "3.10.12"
  },
  "orig_nbformat": 4
 },
 "nbformat": 4,
 "nbformat_minor": 2
}
