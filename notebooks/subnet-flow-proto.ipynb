{
 "cells": [
  {
   "cell_type": "markdown",
   "metadata": {},
   "source": [
    "This notebook is for prototyping subnetwork flow."
   ]
  },
  {
   "cell_type": "markdown",
   "metadata": {},
   "source": [
    "### Imports"
   ]
  },
  {
   "cell_type": "code",
   "execution_count": 1,
   "metadata": {},
   "outputs": [],
   "source": [
    "%load_ext autoreload\n",
    "%autoreload 2"
   ]
  },
  {
   "cell_type": "code",
   "execution_count": 2,
   "metadata": {},
   "outputs": [],
   "source": [
    "import collections\n",
    "\n",
    "import matplotlib.pyplot as plt\n",
    "import numpy as np\n",
    "import pandas as pd\n",
    "import torch\n",
    "import torch.optim\n",
    "from tqdm.auto import tqdm\n",
    "from transformer_lens import HookedTransformer\n",
    "from transformers import AutoModelForCausalLM, AutoTokenizer\n",
    "\n",
    "from pii import utils\n",
    "from pii.subnet_flow.masked_model import PerTokenMaskedTransformer\n",
    "\n",
    "# torch.set_grad_enabled(False)"
   ]
  },
  {
   "cell_type": "markdown",
   "metadata": {},
   "source": [
    "### Load models"
   ]
  },
  {
   "cell_type": "code",
   "execution_count": 3,
   "metadata": {},
   "outputs": [
    {
     "data": {
      "application/vnd.jupyter.widget-view+json": {
       "model_id": "b28e74e7a38a4abf9fcf5c353c386ac2",
       "version_major": 2,
       "version_minor": 0
      },
      "text/plain": [
       "Loading checkpoint shards:   0%|          | 0/2 [00:00<?, ?it/s]"
      ]
     },
     "metadata": {},
     "output_type": "display_data"
    }
   ],
   "source": [
    "# You will need to login to huggingface first:\n",
    "#   huggingface-cli login\n",
    "tokenizer = AutoTokenizer.from_pretrained(\"meta-llama/Llama-2-7b-chat-hf\")\n",
    "hf_model = AutoModelForCausalLM.from_pretrained(\n",
    "    \"meta-llama/Llama-2-7b-chat-hf\",\n",
    "    low_cpu_mem_usage=True,\n",
    ")"
   ]
  },
  {
   "cell_type": "code",
   "execution_count": 4,
   "metadata": {},
   "outputs": [
    {
     "name": "stderr",
     "output_type": "stream",
     "text": [
      "Using pad_token, but it is not set yet.\n"
     ]
    },
    {
     "name": "stdout",
     "output_type": "stream",
     "text": [
      "Loaded pretrained model meta-llama/Llama-2-7b-chat-hf into HookedTransformer\n"
     ]
    },
    {
     "data": {
      "application/vnd.jupyter.widget-view+json": {
       "model_id": "5cf9a04372044ed0bc7ce2e7c9f38658",
       "version_major": 2,
       "version_minor": 0
      },
      "text/plain": [
       "  0%|          | 0/20 [00:00<?, ?it/s]"
      ]
     },
     "metadata": {},
     "output_type": "display_data"
    },
    {
     "name": "stdout",
     "output_type": "stream",
     "text": [
      "The capital of Germany is Berlin. Berlin is the largest city in Germany and is known for its rich history, cultural attractions\n"
     ]
    }
   ],
   "source": [
    "tl_model = HookedTransformer.from_pretrained(\n",
    "    \"meta-llama/Llama-2-7b-chat-hf\",\n",
    "    hf_model=hf_model,\n",
    "    device=\"cuda\",\n",
    "    fold_ln=False,\n",
    "    center_writing_weights=False,\n",
    "    center_unembed=False,\n",
    "    tokenizer=tokenizer,\n",
    ")\n",
    "with torch.no_grad():\n",
    "    print(\n",
    "        tl_model.generate(\n",
    "            \"The capital of Germany is\", max_new_tokens=20, temperature=0\n",
    "        )\n",
    "    )"
   ]
  },
  {
   "cell_type": "code",
   "execution_count": 5,
   "metadata": {},
   "outputs": [
    {
     "name": "stdout",
     "output_type": "stream",
     "text": [
      "['masks.0_attn_z', 'masks.0_attn_pattern', 'masks.0_attn_out', 'masks.0_mlp_out', 'masks.1_attn_z', 'masks.1_attn_pattern', 'masks.1_attn_out', 'masks.1_mlp_out', 'masks.2_attn_z', 'masks.2_attn_pattern', 'masks.2_attn_out', 'masks.2_mlp_out', 'masks.3_attn_z', 'masks.3_attn_pattern', 'masks.3_attn_out', 'masks.3_mlp_out', 'masks.4_attn_z', 'masks.4_attn_pattern', 'masks.4_attn_out', 'masks.4_mlp_out', 'masks.5_attn_z', 'masks.5_attn_pattern', 'masks.5_attn_out', 'masks.5_mlp_out', 'masks.6_attn_z', 'masks.6_attn_pattern', 'masks.6_attn_out', 'masks.6_mlp_out', 'masks.7_attn_z', 'masks.7_attn_pattern', 'masks.7_attn_out', 'masks.7_mlp_out', 'masks.8_attn_z', 'masks.8_attn_pattern', 'masks.8_attn_out', 'masks.8_mlp_out', 'masks.9_attn_z', 'masks.9_attn_pattern', 'masks.9_attn_out', 'masks.9_mlp_out', 'masks.10_attn_z', 'masks.10_attn_pattern', 'masks.10_attn_out', 'masks.10_mlp_out', 'masks.11_attn_z', 'masks.11_attn_pattern', 'masks.11_attn_out', 'masks.11_mlp_out', 'masks.12_attn_z', 'masks.12_attn_pattern', 'masks.12_attn_out', 'masks.12_mlp_out', 'masks.13_attn_z', 'masks.13_attn_pattern', 'masks.13_attn_out', 'masks.13_mlp_out', 'masks.14_attn_z', 'masks.14_attn_pattern', 'masks.14_attn_out', 'masks.14_mlp_out', 'masks.15_attn_z', 'masks.15_attn_pattern', 'masks.15_attn_out', 'masks.15_mlp_out', 'masks.16_attn_z', 'masks.16_attn_pattern', 'masks.16_attn_out', 'masks.16_mlp_out', 'masks.17_attn_z', 'masks.17_attn_pattern', 'masks.17_attn_out', 'masks.17_mlp_out', 'masks.18_attn_z', 'masks.18_attn_pattern', 'masks.18_attn_out', 'masks.18_mlp_out', 'masks.19_attn_z', 'masks.19_attn_pattern', 'masks.19_attn_out', 'masks.19_mlp_out', 'masks.20_attn_z', 'masks.20_attn_pattern', 'masks.20_attn_out', 'masks.20_mlp_out', 'masks.21_attn_z', 'masks.21_attn_pattern', 'masks.21_attn_out', 'masks.21_mlp_out', 'masks.22_attn_z', 'masks.22_attn_pattern', 'masks.22_attn_out', 'masks.22_mlp_out', 'masks.23_attn_z', 'masks.23_attn_pattern', 'masks.23_attn_out', 'masks.23_mlp_out', 'masks.24_attn_z', 'masks.24_attn_pattern', 'masks.24_attn_out', 'masks.24_mlp_out', 'masks.25_attn_z', 'masks.25_attn_pattern', 'masks.25_attn_out', 'masks.25_mlp_out', 'masks.26_attn_z', 'masks.26_attn_pattern', 'masks.26_attn_out', 'masks.26_mlp_out', 'masks.27_attn_z', 'masks.27_attn_pattern', 'masks.27_attn_out', 'masks.27_mlp_out', 'masks.28_attn_z', 'masks.28_attn_pattern', 'masks.28_attn_out', 'masks.28_mlp_out', 'masks.29_attn_z', 'masks.29_attn_pattern', 'masks.29_attn_out', 'masks.29_mlp_out', 'masks.30_attn_z', 'masks.30_attn_pattern', 'masks.30_attn_out', 'masks.30_mlp_out', 'masks.31_attn_z', 'masks.31_attn_pattern', 'masks.31_attn_out', 'masks.31_mlp_out']\n",
      "31_attn_pattern torch.Size([32, 6, 6])\n",
      "31_mlp_out torch.Size([6])\n"
     ]
    },
    {
     "data": {
      "application/vnd.jupyter.widget-view+json": {
       "model_id": "28bd273ca3eb473fa5b47d5c06c89665",
       "version_major": 2,
       "version_minor": 0
      },
      "text/plain": [
       "  0%|          | 0/20 [00:00<?, ?it/s]"
      ]
     },
     "metadata": {},
     "output_type": "display_data"
    },
    {
     "name": "stdout",
     "output_type": "stream",
     "text": [
      "The capital of Germany is are The The of The The The The The The The The of The of The The The The The\n"
     ]
    },
    {
     "data": {
      "application/vnd.jupyter.widget-view+json": {
       "model_id": "0b6a0380872d498cb63d5801fc55726c",
       "version_major": 2,
       "version_minor": 0
      },
      "text/plain": [
       "  0%|          | 0/20 [00:00<?, ?it/s]"
      ]
     },
     "metadata": {},
     "output_type": "display_data"
    },
    {
     "name": "stdout",
     "output_type": "stream",
     "text": [
      "The capital of Germany is Berlin. Berlin is the largest city in Germany and is known for its rich history, cultural attractions\n"
     ]
    }
   ],
   "source": [
    "prompt = \"The capital of Germany is\"\n",
    "\n",
    "mtf_test = PerTokenMaskedTransformer(tl_model, base_prompt=prompt)\n",
    "print([n for n, p in mtf_test.named_parameters() if p.requires_grad])\n",
    "with torch.no_grad():\n",
    "    for name, mask in mtf_test.masks.items():\n",
    "        if name == \"31_mlp_out\" or name == \"31_attn_pattern\":\n",
    "            print(name, mask.shape)\n",
    "            continue\n",
    "        mask *= 0\n",
    "\n",
    "with torch.no_grad():\n",
    "    print(\n",
    "        mtf_test.tl_model.generate(\n",
    "            \"The capital of Germany is\",\n",
    "            max_new_tokens=20,\n",
    "            temperature=0,\n",
    "            use_past_kv_cache=False,  # This is important!\n",
    "        )\n",
    "    )\n",
    "    mtf_test.masks_active = False\n",
    "    print(\n",
    "        mtf_test.tl_model.generate(\n",
    "            \"The capital of Germany is\",\n",
    "            max_new_tokens=20,\n",
    "            temperature=0,\n",
    "            use_past_kv_cache=False,  # This is important!\n",
    "        )\n",
    "    )"
   ]
  },
  {
   "cell_type": "code",
   "execution_count": 6,
   "metadata": {},
   "outputs": [],
   "source": [
    "mtf_test.masks_active = True\n",
    "with torch.no_grad():\n",
    "    _, cache = mtf_test.tl_model.run_with_cache(\n",
    "        prompt,\n",
    "        remove_batch_dim=True,\n",
    "    )\n",
    "\n",
    "assert torch.allclose(cache[\"resid_pre\", 2], cache[\"resid_post\", 30])\n",
    "assert not torch.allclose(cache[\"resid_pre\", 2], cache[\"resid_post\", 31])\n",
    "assert torch.allclose(cache[\"pattern\", 2], cache[\"pattern\", 30])\n",
    "assert not torch.allclose(cache[\"pattern\", 2], cache[\"pattern\", 31])"
   ]
  },
  {
   "cell_type": "markdown",
   "metadata": {},
   "source": [
    "### Load athlete data"
   ]
  },
  {
   "cell_type": "code",
   "execution_count": 103,
   "metadata": {},
   "outputs": [
    {
     "name": "stdout",
     "output_type": "stream",
     "text": [
      "# of athletes: 268\n",
      "defaultdict(<class 'list'>, {5: ['Jacques Kallis', 'Alexander Barkov', 'Kyle Connor', 'Andre the Giant', 'Matt Grzelcyk', 'Max Scherzer', 'Mattias Ekholm', 'Apolo Ohno', 'Shane Warne', 'Michael Phelps', 'Patrick Mahomes', 'Mark Scheifele', 'David Pastrnak', 'Daniel Cormier', 'Allen Iverson', 'Usain Bolt', 'Valentino Rossi', 'Scottie Pippen', 'Travis Sanheim', 'Virat Kohli', 'Esa Lindell', 'Albert Pujols', 'Jonathan Toews', 'Kobe Bryant', 'Keith Yandle', 'Quinn Hughes', 'Jake Gardiner', 'Andre Agassi', 'Aaron Rodgers', 'Zach Werenski', 'Shea Theodore', 'Ivan Provorov', 'Kyrie Irving', 'Georges St-Pierre', 'John Tavares', 'Lindsey Vonn', 'Matthew Barzal', 'Stone Cold Steve Austin', 'Hulk Hogan', 'Marco Scandella', 'Cam Fowler', 'Wasim Akram', 'Roman Reigns', 'Monica Seles', 'Henry Cejudo', 'Steffi Graf', 'Jakob Chychrun', 'Brock Lesnar', 'Jacob deGrom', 'Amanda Nunes', 'Oscar Klefbom', 'Kawhi Leonard', 'LeBron James', 'Neymar Jr', 'Vladimir Guerrero', 'Michael Schumacher', 'Bryce Harper', 'Pau Gasol', 'Russell Westbrook', 'Vivian Richards', 'Mariano Rivera', 'Connor McDavid', 'Jack Eichel', 'Zion Williamson', 'Ben Chiarot', 'Tiger Woods', 'Cale Makar', 'Billie Jean King', 'Kale Clague', 'Drew Brees', 'Wilt Chamberlain', 'Ric Flair', 'Brent Burns', 'Diego Maradona', 'Rasmus Andersson', 'Larry Fitzgerald', 'Alex Goligoski', 'Blake Wheeler', 'Derek Jeter', 'Alan Shearer', 'Deshaun Watson', 'Lionel Messi', 'Devin Booker', 'Charlie McAvoy', 'Israel Adesanya', 'Justin Verlander', 'Ricky Ponting', 'Filip Hronek', 'Justin Schultz', 'Simone Biles', 'Christian Yelich', 'Thierry Henry', 'Ryan McDonagh', 'Tyler Myers', 'TJ Brodie', 'Sebastian Vettel', 'Viktor Ahn', 'Brayden Point'], 4: ['Stephen Curry', 'Arnold Palmer', 'Lamar Jackson', 'Venus Williams', 'Ryan Pulock', 'Mike Trout', 'Roman Josi', 'John Cena', 'Tim Duncan', 'Jack Nicklaus', 'Mia Hamm', 'Oscar Robertson', 'Brad Marchand', 'Scott Moir', 'Roger Federer', 'Brian Lara', 'Dennis Rodman', 'Fernando Alonso', 'Babe Ruth', 'Barry Bonds', 'Ronaldinho', 'Samuel Girard', 'Mitch Marner', 'Karl Malone', 'Rafael Nadal', 'Ian Botham', 'David Beckham', 'Patrick Kane', 'Dougie Hamilton', 'Trae Young', 'Seth Jones', 'Tom Brady', 'Victor Hedman', 'Kevin Garnett', 'Brandon Carlo', 'Ryan Graves', 'James Harden', 'Erik Karlsson', 'Jerry Rice', 'Eli Manning', 'Ryan Ellis', 'Serena Williams', 'Duncan Keith', 'Paul Pierce', 'Sebastian Aho', 'Juan Soto', 'Richard Hadlee', 'David Savard', 'Bode Miller', 'Chris Evert', 'Randy Johnson', 'Steph Curry', 'John Carlson', 'John Stockton', 'Josh Morrissey'], 3: ['Alex Morgan', 'Lewis Hamilton', 'The Rock', 'Bill Russell', 'Pelé', 'Jeff Gordon', 'Russell Wilson', 'Magic Johnson', 'Larry Bird', 'Hope Solo', 'Steve Smith', 'Marta', 'Michael Jordan', 'Steve Nash', 'Ray Allen', 'Anthony Davis', 'Mike Green', 'Muhammad Ali', 'Pele', 'Adam Fox', 'Kevin Durant', 'Paul George', 'Jon Jones', 'Chris Paul', 'Taylor Hall', 'Erik Johnson'], 6: ['Peyton Manning', 'Megan Rapinoe', 'Floyd Mayweather', 'Vladimir Tarasenko', 'Shawn Michaels', 'Ayrton Senna', 'Brock Boeser', 'Brooks Koepka', 'Darnell Nurse', 'Damian Lillard', 'Aaron Ekblad', 'Luka Doncic', 'Steven Stamkos', 'Brett Pesce', \"Ryan O'Reilly\", 'Conor McGregor', 'Tuukka Rask', 'Luka Dončić', 'Rasmus Dahlin', 'Patrice Bergeron', 'Neal Pionk', 'Phil Mickelson', 'Anna Kournikova', 'Noah Hanifin', 'Tessa Virtue', 'Giancarlo Stanton', 'Alex Ovechkin', 'Sidney Crosby', 'Matthew Tkachuk', 'Usman Khawaja', 'Auston Matthews', 'Joel Embiid', 'Pete Sampras', 'Nikola Jokić', 'Maria Sharapova', 'Neymar Jr.', 'Ronda Rousey', 'Mookie Betts', 'Nathan MacKinnon', 'Jayson Tatum', 'Fernando Tatis Jr.', 'Nikita Zadorov', 'Rory McIlroy', 'Torey Krug', 'Wayne Gretzky', 'Cristiano Ronaldo', 'Jake Muzzin', 'Ken Griffey Jr.', 'Dmitry Orlov', 'Colton Parayko', 'Artemi Panarin', 'Leon Draisaitl', 'Abby Wambach', 'Radko Gudas', 'Brett Favre'], 7: ['Pierre-Luc Dubois', 'Zinedine Zidane', 'Brady Tkachuk', 'Cal Ripken Jr.', 'Sachin Tendulkar', 'Rasmus Ristolainen', 'Marta Vieira da Silva', 'Jaccob Slavin', 'Martina Navratilova', 'Marc-André Fleury', 'Mikko Rantanen', 'Kylian Mbappe', 'Dylan DeMelo', 'Usman Nurmagomedov', 'Novak Djokovic', 'Miro Heiskanen', 'Clayton Kershaw', 'Yuzuru Hanyu', 'Nikita Kucherov', 'Evgeni Malkin'], 9: ['Giannis Antetokounmpo', 'Zlatan Ibrahimovic'], 8: ['Kylian Mbappé', 'Ronald Acuña Jr.', 'MacKenzie Weegar', 'Floyd Mayweather Jr.', 'Mikhail Sergachev', 'Mikaela Shiffrin', 'Khabib Nurmagomedov', 'Dale Earnhardt Sr.', 'Andrei Vasilevskiy', \"Shaquille O'Neal\", 'Zlatan Ibrahimović'], 10: ['Kareem Abdul-Jabbar']})\n",
      "98 Jacques Kallis\n"
     ]
    }
   ],
   "source": [
    "athletes_list = list(set(pd.read_csv(\"../data/athletes.csv\").name))\n",
    "print(\"# of athletes:\", len(athletes_list))\n",
    "\n",
    "athletes_by_token_length = collections.defaultdict(list)\n",
    "for athlete in athletes_list:\n",
    "    # Tokenize the athlete name and get the token length\n",
    "    athlete_tokens = tl_model.to_tokens(athlete)[0]\n",
    "    athlete_len = athlete_tokens.shape[0]\n",
    "    \n",
    "    athletes_by_token_length[athlete_len].append(athlete)\n",
    "\n",
    "print(athletes_by_token_length)\n",
    "target_len = 5\n",
    "print(len(athletes_by_token_length[target_len]), athletes_by_token_length[target_len][0])"
   ]
  },
  {
   "cell_type": "markdown",
   "metadata": {},
   "source": [
    "### Do optimization"
   ]
  },
  {
   "cell_type": "code",
   "execution_count": 122,
   "metadata": {},
   "outputs": [
    {
     "name": "stdout",
     "output_type": "stream",
     "text": [
      "Counter({'Hockey': 15, 'Basketball': 13, 'Football': 5, 'Tennis': 5, 'Baseball': 5, 'G': 3, 'Cr': 3, 'Soccer': 2, 'Wrestling': 1, 'Ice': 1, 'Formula': 1, 'Ski': 1})\n",
      "Counter({'Hockey': 13, 'Basketball': 11, 'Tennis': 5, 'Baseball': 5, 'Football': 4, 'Soccer': 1, 'Ski': 1})\n",
      "torch.Size([40, 52]) torch.Size([40]) torch.int64\n",
      "[INST] <<SYS>>\n",
      "You are an assistant who only responds with a single word. You only give correct answers.\n",
      "<</SYS>>\n",
      "\n",
      "Complete the statement. Stephen Curry plays the sport of [/INST] \n",
      "Rank 0. Logit: 27.09 Prob: 99.71% Tokens: (21850) |Basketball|</s>|\n",
      "Rank 1. Logit: 20.90 Prob:  0.21% Tokens: (13402) |Ball|</s>|\n",
      "Rank 2. Logit: 19.98 Prob:  0.08% Tokens: (20305) |basketball|</s>|\n",
      "Rank 3. Logit: 16.32 Prob:  0.00% Tokens: (21517) |NBA|</s>|\n",
      "Rank 4. Logit: 16.13 Prob:  0.00% Tokens: (  376) |\"|B|asketball|\"|</s>|\n"
     ]
    }
   ],
   "source": [
    "def get_corr_prompt(question: str, correct: bool = True):\n",
    "    return f\"\"\"\\\n",
    "[INST] <<SYS>>\n",
    "You are an assistant who only responds with a single word. \\\n",
    "You only give {'correct' if correct else 'incorrect'} answers.\n",
    "<</SYS>>\n",
    "\n",
    "Complete the statement. {question} [/INST] \\\n",
    "\"\"\"\n",
    "\n",
    "\n",
    "all_prompts = [\n",
    "    get_corr_prompt(f\"{athlete} plays the sport of\", correct=True)\n",
    "    for athlete in athletes_by_token_length[4]\n",
    "]\n",
    "all_prompt_tokens = torch.stack([tl_model.to_tokens(p)[0] for p in all_prompts])\n",
    "mtf = PerTokenMaskedTransformer(\n",
    "    tl_model,\n",
    "    base_prompt=all_prompts[0],\n",
    ")\n",
    "\n",
    "with torch.no_grad():\n",
    "    logits = mtf.tl_model.forward(all_prompt_tokens, return_type=\"logits\")[:, -1]\n",
    "    probs = torch.softmax(logits, dim=-1)\n",
    "    all_correct_tokens = torch.argmax(logits, dim=-1)\n",
    "    all_correct_probs = probs[\n",
    "        torch.arange(len(all_correct_tokens)), all_correct_tokens\n",
    "    ]\n",
    "\n",
    "all_correct_strs = [mtf.tl_model.to_string(t) for t in all_correct_tokens]\n",
    "print(collections.Counter(all_correct_strs))\n",
    "\n",
    "# Filter to good sports\n",
    "mask = [\n",
    "    (len(s) > 2 and p > 0.95)\n",
    "    for s, p in zip(all_correct_strs, all_correct_probs)\n",
    "]\n",
    "all_prompts = [p for p, m in zip(all_prompts, mask) if m]\n",
    "all_prompt_tokens = all_prompt_tokens[mask]\n",
    "all_correct_tokens = all_correct_tokens[mask]\n",
    "all_correct_probs = all_correct_probs[mask]\n",
    "all_correct_strs = [mtf.tl_model.to_string(t) for t in all_correct_tokens]\n",
    "\n",
    "# Print statistics of all_correct_strs\n",
    "print(collections.Counter(all_correct_strs))\n",
    "\n",
    "print(\n",
    "    all_prompt_tokens.shape, all_correct_tokens.shape, all_correct_tokens.dtype\n",
    ")\n",
    "print(all_prompts[0])\n",
    "utils.get_top_responses(\n",
    "    prompt=all_prompts[0],\n",
    "    model=mtf.tl_model,\n",
    "    top_k=5,\n",
    "    use_kv_cache=False,\n",
    ")\n",
    "\n",
    "optim = torch.optim.Adam(mtf.masks.parameters(), lr=1e-2)"
   ]
  },
  {
   "cell_type": "code",
   "execution_count": 123,
   "metadata": {},
   "outputs": [
    {
     "data": {
      "application/vnd.jupyter.widget-view+json": {
       "model_id": "c4164b67fb654278ac02216603c944db",
       "version_major": 2,
       "version_minor": 0
      },
      "text/plain": [
       "  0%|          | 0/400 [00:00<?, ?it/s]"
      ]
     },
     "metadata": {},
     "output_type": "display_data"
    }
   ],
   "source": [
    "# Initialize optimizer\n",
    "alpha = 0.1\n",
    "n_steps = 400\n",
    "p_norm = 1\n",
    "batch_size = 13\n",
    "\n",
    "np.random.seed(42)\n",
    "\n",
    "metric_history: list[dict[str]] = []\n",
    "pbar = tqdm(range(n_steps))\n",
    "for i in pbar:\n",
    "    # Sample 13 random indices\n",
    "    batch_indices = np.random.choice(\n",
    "        len(all_prompt_tokens), size=batch_size, replace=False\n",
    "    )\n",
    "    batch_prompts = all_prompt_tokens[batch_indices]\n",
    "    batch_correct_tokens = all_correct_tokens[batch_indices]\n",
    "\n",
    "    logits = mtf.tl_model.forward(\n",
    "        batch_prompts, return_type=\"logits\"\n",
    "    )  # shape [batch_size, seq_len, vocab_size]\n",
    "    logits = logits[\n",
    "        :, -1, :\n",
    "    ]  # Taking logits corresponding to the last token for all prompts in the batch\n",
    "\n",
    "    # Compute target log probabilities\n",
    "    # Assume correct_token is a list containing the correct tokens for each prompt\n",
    "    target_log_prob = torch.log_softmax(logits, dim=-1)[\n",
    "        range(batch_size), batch_correct_tokens\n",
    "    ]  # shape [batch_size]\n",
    "\n",
    "    # todo - compute average target log prob over all prompts\n",
    "    avg_target_log_prob = target_log_prob.mean()\n",
    "\n",
    "    # Regularization term calculations remain the same\n",
    "    mask_p_norm = sum(\n",
    "        (mask**p_norm).sum() for mask in mtf.masks.values()\n",
    "    ) ** (1 / p_norm)\n",
    "    mask_nonzero = sum((mask > 0).sum() for mask in mtf.masks.values())\n",
    "    mask_numel = sum(mask.numel() for mask in mtf.masks.values())\n",
    "    density = mask_nonzero / mask_numel\n",
    "    scaled_p_norm = alpha * min(2 * i / n_steps, 1) * mask_p_norm\n",
    "\n",
    "    # todo - use average target log prob over all prompts instead of just one\n",
    "    loss = -avg_target_log_prob + scaled_p_norm\n",
    "\n",
    "    # Gradient update step\n",
    "    optim.zero_grad()\n",
    "    loss.backward()\n",
    "    optim.step()\n",
    "\n",
    "    # Clamp the masks to be between 0 and 1\n",
    "    with torch.no_grad():\n",
    "        for mask in mtf.masks.values():\n",
    "            mask.clamp_(0, 1)\n",
    "\n",
    "    # Logging\n",
    "    metrics = dict(\n",
    "        step=i,\n",
    "        loss=loss.item(),\n",
    "        avg_target_log_prob=avg_target_log_prob.item(),\n",
    "        avg_target_prob=torch.exp(target_log_prob).mean().item(),\n",
    "        scaled_p_norm=scaled_p_norm.item(),\n",
    "        mask_p_norm=mask_p_norm.item(),\n",
    "        mask_nonzero=mask_nonzero.item(),\n",
    "        mask_numel=mask_numel,\n",
    "        density=density.item(),\n",
    "    )\n",
    "    metric_history.append(metrics)\n",
    "    pbar.set_postfix(metrics)"
   ]
  },
  {
   "cell_type": "code",
   "execution_count": 127,
   "metadata": {},
   "outputs": [
    {
     "data": {
      "image/png": "[encoded data removed]",
      "text/plain": [
       "<Figure size 1300x270 with 3 Axes>"
      ]
     },
     "metadata": {},
     "output_type": "display_data"
    }
   ],
   "source": [
    "df = pd.DataFrame(metric_history)\n",
    "\n",
    "plt.figure(figsize=(13, 2.7))\n",
    "plt.subplot(1, 3, 1)\n",
    "df.avg_target_prob.plot()\n",
    "plt.legend()\n",
    "plt.xlabel(\"Step\")\n",
    "\n",
    "plt.subplot(1, 3, 2)\n",
    "df.mask_p_norm.plot()\n",
    "plt.yscale(\"log\")\n",
    "plt.legend()\n",
    "plt.xlabel(\"Step\")\n",
    "\n",
    "plt.subplot(1, 3, 3)\n",
    "df.mask_nonzero.plot()\n",
    "plt.yscale(\"log\")\n",
    "plt.legend()\n",
    "plt.xlabel(\"Step\")\n",
    "\n",
    "plt.show()"
   ]
  },
  {
   "cell_type": "code",
   "execution_count": 132,
   "metadata": {},
   "outputs": [
    {
     "data": {
      "image/png": "[encoded data removed]",
      "text/plain": [
       "<Figure size 640x480 with 1 Axes>"
      ]
     },
     "metadata": {},
     "output_type": "display_data"
    }
   ],
   "source": [
    "# Analyze performance on multiple people\n",
    "with torch.no_grad():\n",
    "    logits = mtf.tl_model.forward(all_prompt_tokens, return_type=\"logits\")[:, -1]\n",
    "    target_probs = torch.softmax(logits, dim=-1)[\n",
    "        torch.arange(len(all_correct_tokens)), all_correct_tokens\n",
    "    ].detach().cpu().numpy()\n",
    "\n",
    "plt.hist(target_probs, bins=20)\n",
    "plt.show()"
   ]
  },
  {
   "cell_type": "code",
   "execution_count": 138,
   "metadata": {},
   "outputs": [
    {
     "name": "stdout",
     "output_type": "stream",
     "text": [
      "[INST] <<SYS>>\n",
      "You are an assistant who only responds with a single word. You only give correct answers.\n",
      "<</SYS>>\n",
      "\n",
      "Complete the statement. Victor Hedman plays the sport of [/INST] \n",
      "Rank 0. Logit: 15.85 Prob: 64.53% Tokens: (19993) |Hockey|att|\n",
      "Rank 1. Logit: 14.35 Prob: 14.44% Tokens: ( 8914) |Football|mid|\n",
      "Rank 2. Logit: 14.06 Prob: 10.85% Tokens: (21850) |Basketball|ss|\n",
      "Rank 3. Logit: 12.86 Prob:  3.27% Tokens: (23185) |Baseball|ss|\n",
      "Rank 4. Logit: 12.13 Prob:  1.56% Tokens: (18993) |Soccer|att|\n"
     ]
    }
   ],
   "source": [
    "prompt = all_prompts[22]\n",
    "print(prompt)\n",
    "utils.get_top_responses(\n",
    "    prompt=prompt,\n",
    "    model=mtf.tl_model,\n",
    "    top_k=5,\n",
    "    use_kv_cache=False,\n",
    "    n_continuation_tokens=1,\n",
    ")"
   ]
  },
  {
   "cell_type": "markdown",
   "metadata": {},
   "source": [
    "### Visualize remaining flow"
   ]
  },
  {
   "cell_type": "code",
   "execution_count": 139,
   "metadata": {},
   "outputs": [
    {
     "data": {
      "text/plain": [
       "((32, 52), (32, 52, 32), (32, 32, 52, 52), (32, 52))"
      ]
     },
     "execution_count": 139,
     "metadata": {},
     "output_type": "execute_result"
    }
   ],
   "source": [
    "attn_mask = np.stack(\n",
    "    [mtf.masks[f\"{i}_attn_out\"].detach().cpu().numpy() for i in range(32)]\n",
    ")\n",
    "attn_z_mask = np.stack(\n",
    "    [mtf.masks[f\"{i}_attn_z\"].detach().cpu().numpy() for i in range(32)], axis=0\n",
    ")\n",
    "attn_pattern_mask = np.stack(\n",
    "    [mtf.masks[f\"{i}_attn_pattern\"].detach().cpu().numpy() for i in range(32)],\n",
    ")\n",
    "mlp_mask = np.stack(\n",
    "    [mtf.masks[f\"{i}_mlp_out\"].detach().cpu().numpy() for i in range(32)]\n",
    ")\n",
    "\n",
    "attn_z_mask *= (attn_mask > 0)[:, :, np.newaxis]\n",
    "attn_mask.shape, attn_z_mask.shape, attn_pattern_mask.shape, mlp_mask.shape"
   ]
  },
  {
   "cell_type": "code",
   "execution_count": 140,
   "metadata": {},
   "outputs": [
    {
     "name": "stdout",
     "output_type": "stream",
     "text": [
      "<s>|[|INST|]|<<|SY|S|>>|\n",
      "|You|are|an|assistant|who|only|respond|s|with|a|single|word|.|You|only|give|correct|answers|.|\n",
      "|<|</|SY|S|>>|\n",
      "|\n",
      "|Complete|the|statement|.|Victor|Hed|man|plays|the|sport|of|[|/|INST|]|\n",
      "Layer 0, head 25, token 48: weight=0.758306\n",
      "Layer 1, head 24, token 42: weight=0.69329655\n",
      "Layer 1, head 27, token 42: weight=0.626554\n",
      "Layer 2, head 8, token 42: weight=0.58403724\n",
      "Layer 2, head 13, token 42: weight=0.47299984\n",
      "Layer 2, head 16, token 42: weight=0.3573986\n",
      "Layer 2, head 24, token 42: weight=0.46487227\n",
      "Layer 3, head 23, token 42: weight=0.42720845\n",
      "Layer 3, head 5, token 50: weight=0.6394479\n",
      "Layer 3, head 28, token 51: weight=0.4716562\n",
      "Layer 4, head 4, token 51: weight=0.35290202\n",
      "Layer 4, head 7, token 51: weight=0.30239218\n",
      "Layer 4, head 8, token 51: weight=0.572967\n",
      "Layer 4, head 27, token 51: weight=0.41054487\n",
      "Layer 6, head 1, token 42: weight=0.46339172\n",
      "Layer 7, head 25, token 51: weight=0.39747676\n",
      "Layer 8, head 29, token 51: weight=0.5940954\n",
      "Layer 10, head 15, token 42: weight=0.5973842\n",
      "Layer 15, head 17, token 51: weight=0.5408732\n",
      "Layer 16, head 4, token 42: weight=0.59109217\n",
      "Layer 16, head 3, token 51: weight=0.5553596\n",
      "Layer 20, head 5, token 51: weight=0.54741186\n",
      "Layer 0, head 25, token_q 48 (/) token_k 0 (<s>): weight=0.7284847\n",
      "Layer 0, head 25, token_q 48 (/) token_k 47 ([): weight=0.24317506\n",
      "Layer 1, head 24, token_q 42 (man) token_k 0 (<s>): weight=0.5709311\n",
      "Layer 1, head 24, token_q 42 (man) token_k 41 (Hed): weight=0.17142142\n",
      "Layer 1, head 27, token_q 42 (man) token_k 0 (<s>): weight=0.38743016\n",
      "Layer 1, head 27, token_q 42 (man) token_k 41 (Hed): weight=0.24303178\n",
      "Layer 2, head 8, token_q 42 (man) token_k 40 (Victor): weight=0.19249178\n",
      "Layer 2, head 8, token_q 42 (man) token_k 41 (Hed): weight=0.43782246\n",
      "Layer 2, head 13, token_q 42 (man) token_k 0 (<s>): weight=0.22627078\n",
      "Layer 2, head 13, token_q 42 (man) token_k 41 (Hed): weight=0.15729314\n",
      "Layer 2, head 16, token_q 42 (man) token_k 8 (\n",
      "): weight=0.20900889\n",
      "Layer 2, head 16, token_q 42 (man) token_k 40 (Victor): weight=0.15583947\n",
      "Layer 2, head 24, token_q 42 (man) token_k 40 (Victor): weight=0.17421934\n",
      "Layer 2, head 24, token_q 42 (man) token_k 41 (Hed): weight=0.31513247\n",
      "Layer 3, head 5, token_q 50 (]) token_k 0 (<s>): weight=0.5555117\n",
      "Layer 3, head 5, token_q 50 (]) token_k 48 (/): weight=0.12394924\n",
      "Layer 3, head 23, token_q 42 (man) token_k 40 (Victor): weight=0.08442869\n",
      "Layer 3, head 23, token_q 42 (man) token_k 41 (Hed): weight=0.35706833\n",
      "Layer 3, head 28, token_q 51 () token_k 8 (\n",
      "): weight=0.44577187\n",
      "Layer 3, head 28, token_q 51 () token_k 51 (): weight=0.083206676\n",
      "Layer 4, head 4, token_q 51 () token_k 0 (<s>): weight=0.16673544\n",
      "Layer 4, head 4, token_q 51 () token_k 47 ([): weight=0.07895175\n",
      "Layer 4, head 4, token_q 51 () token_k 51 (): weight=0.09244789\n",
      "Layer 4, head 7, token_q 51 () token_k 51 (): weight=0.31282783\n",
      "Layer 4, head 8, token_q 51 () token_k 48 (/): weight=0.52554077\n",
      "Layer 4, head 8, token_q 51 () token_k 50 (]): weight=0.1265231\n",
      "Layer 4, head 27, token_q 51 () token_k 50 (]): weight=0.436174\n",
      "Layer 6, head 1, token_q 42 (man) token_k 42 (man): weight=0.46217832\n",
      "Layer 7, head 15, token_q 51 () token_k 35 (\n",
      "): weight=0.0093358895\n",
      "Layer 7, head 25, token_q 51 () token_k 50 (]): weight=0.4087344\n",
      "Layer 8, head 29, token_q 51 () token_k 48 (/): weight=0.4145415\n",
      "Layer 8, head 29, token_q 51 () token_k 50 (]): weight=0.2261241\n",
      "Layer 10, head 15, token_q 42 (man) token_k 42 (man): weight=0.59872663\n",
      "Layer 15, head 17, token_q 51 () token_k 20 (word): weight=0.35745946\n",
      "Layer 16, head 3, token_q 51 () token_k 45 (sport): weight=0.56724125\n",
      "Layer 16, head 4, token_q 42 (man) token_k 0 (<s>): weight=0.3730623\n",
      "Layer 16, head 4, token_q 42 (man) token_k 42 (man): weight=0.22461113\n",
      "Layer 20, head 5, token_q 51 () token_k 0 (<s>): weight=0.37668216\n",
      "Layer 20, head 5, token_q 51 () token_k 42 (man): weight=0.17522667\n"
     ]
    },
    {
     "data": {
      "image/png": "[encoded data removed]",
      "text/plain": [
       "<Figure size 1600x400 with 6 Axes>"
      ]
     },
     "metadata": {},
     "output_type": "display_data"
    }
   ],
   "source": [
    "# Plot heatmap of attention mask\n",
    "subtokens = mtf.tl_model.to_tokens(prompt)[0, mtf.mask_start_idx :]\n",
    "tokenized_subprompt = \"|\".join(mtf.tl_model.to_string(x) for x in subtokens)\n",
    "print(tokenized_subprompt)\n",
    "\n",
    "for layer_idx in range(32):\n",
    "    for token_idx in range(mtf.n_tokens):\n",
    "        for head_idx in range(mtf.tl_model.cfg.n_heads):\n",
    "            weight = attn_z_mask[layer_idx, token_idx, head_idx]\n",
    "            if weight > 0:\n",
    "                print(\n",
    "                    f\"Layer {layer_idx},\"\n",
    "                    f\" head {head_idx},\"\n",
    "                    f\" token {token_idx}:\"\n",
    "                    f\" {weight=}\"\n",
    "                )\n",
    "\n",
    "for layer_idx in range(32):\n",
    "    for head_idx in range(mtf.tl_model.cfg.n_heads):\n",
    "        for token_idx_q in range(mtf.n_tokens):\n",
    "            for token_idx_k in range(mtf.n_tokens):\n",
    "                weight = attn_pattern_mask[\n",
    "                    layer_idx, head_idx, token_idx_q, token_idx_k\n",
    "                ]\n",
    "                if weight > 0:\n",
    "                    q_token = mtf.tl_model.to_string(subtokens[token_idx_q])\n",
    "                    k_token = mtf.tl_model.to_string(subtokens[token_idx_k])\n",
    "                    print(\n",
    "                        f\"Layer {layer_idx},\"\n",
    "                        f\" head {head_idx},\"\n",
    "                        f\" token_q {token_idx_q} ({q_token})\"\n",
    "                        f\" token_k {token_idx_k} ({k_token}):\"\n",
    "                        f\" {weight=}\"\n",
    "                    )\n",
    "\n",
    "plt.figure(figsize=(16, 4))\n",
    "# plt.suptitle(tokenized_subprompt)\n",
    "\n",
    "plt.subplot(1, 3, 1)\n",
    "plt.imshow(attn_mask, origin=\"lower\")\n",
    "plt.xlabel(\"Token\")\n",
    "plt.ylabel(\"Layer\")\n",
    "plt.colorbar()\n",
    "plt.title(\"attn_out mask\")\n",
    "\n",
    "plt.subplot(1, 3, 2)\n",
    "plt.imshow(attn_z_mask.sum(axis=-1), origin=\"lower\")\n",
    "plt.xlabel(\"Token\")\n",
    "plt.ylabel(\"Layer\")\n",
    "plt.colorbar()\n",
    "plt.title(\"attn_z mask (summed over heads)\")\n",
    "\n",
    "plt.subplot(1, 3, 3)\n",
    "plt.imshow(mlp_mask, origin=\"lower\")\n",
    "plt.xlabel(\"Token\")\n",
    "plt.ylabel(\"Layer\")\n",
    "plt.colorbar()\n",
    "plt.title(\"mlp_out mask\")\n",
    "\n",
    "plt.show()"
   ]
  },
  {
   "cell_type": "markdown",
   "metadata": {},
   "source": [
    "### Analyze thresholding"
   ]
  },
  {
   "cell_type": "code",
   "execution_count": null,
   "metadata": {},
   "outputs": [],
   "source": [
    "all_mask_values = (\n",
    "    torch.cat([mask.flatten() for mask in mtf.masks.values()])\n",
    "    .detach()\n",
    "    .cpu()\n",
    "    .numpy()\n",
    ")\n",
    "\n",
    "thresholds = np.unique(\n",
    "    np.sort(np.concatenate([all_mask_values, np.array([0, 1])]))\n",
    ")\n",
    "thresh_metrics = []\n",
    "for thresh in tqdm(thresholds):\n",
    "    mtf.zero_threshold = thresh\n",
    "    mtf.one_threshold = 1\n",
    "    with torch.no_grad():\n",
    "        target_prob_0 = mtf.tl_model.forward(\n",
    "            prompt_tokens, return_type=\"logits\"\n",
    "        )[0, -1].softmax(dim=0)[correct_token]\n",
    "\n",
    "    mtf.zero_threshold = 0\n",
    "    mtf.one_threshold = max(thresh, 1e-9)\n",
    "    with torch.no_grad():\n",
    "        target_prob_1 = mtf.tl_model.forward(\n",
    "            prompt_tokens, return_type=\"logits\"\n",
    "        )[0, -1].softmax(dim=0)[correct_token]\n",
    "\n",
    "    thresh_metrics.append(\n",
    "        dict(\n",
    "            threshold=thresh,\n",
    "            target_prob_0=target_prob_0.item(),\n",
    "            target_prob_1=target_prob_1.item(),\n",
    "            n_nonzero=(all_mask_values > thresh).sum(),\n",
    "            n_ones=(all_mask_values > thresh).sum(),\n",
    "        )\n",
    "    )"
   ]
  },
  {
   "cell_type": "code",
   "execution_count": null,
   "metadata": {},
   "outputs": [],
   "source": [
    "df_thresh = pd.DataFrame(thresh_metrics)\n",
    "\n",
    "print(\"# nonzero mask values:\", (all_mask_values > 0).sum())\n",
    "print(\"# total mask values:\", all_mask_values.size)\n",
    "\n",
    "plt.figure(figsize=(16, 4))\n",
    "plt.subplot(2, 3, 1)\n",
    "plt.hist(\n",
    "    all_mask_values[all_mask_values > 0],\n",
    "    cumulative=True,\n",
    "    bins=100,\n",
    "    density=True,\n",
    ")\n",
    "plt.title(\"CDF of Mask Values\")\n",
    "\n",
    "plt.subplot(2, 3, 2)\n",
    "plt.plot(df_thresh.threshold, df_thresh.target_prob_0)\n",
    "plt.yscale(\"log\")\n",
    "plt.xlabel(\"0 Threshold\")\n",
    "plt.ylabel(\"Target Prob\")\n",
    "\n",
    "plt.subplot(2, 3, 3)\n",
    "plt.plot(df_thresh.n_nonzero, df_thresh.target_prob_0)\n",
    "plt.xscale(\"log\")\n",
    "plt.yscale(\"log\")\n",
    "plt.xlabel(\"# non-zero mask values\")\n",
    "plt.ylabel(\"Target Prob\")\n",
    "\n",
    "plt.subplot(2, 3, 5)\n",
    "plt.plot(df_thresh.threshold, df_thresh.target_prob_1)\n",
    "plt.yscale(\"log\")\n",
    "plt.xlabel(\"Threshold\")\n",
    "plt.ylabel(\"Target Prob\")\n",
    "\n",
    "plt.subplot(2, 3, 6)\n",
    "plt.plot(df_thresh.n_ones, df_thresh.target_prob_1)\n",
    "plt.xscale(\"log\")\n",
    "plt.yscale(\"log\")\n",
    "plt.xlabel(\"# ones\")\n",
    "plt.ylabel(\"Target Prob\")\n",
    "plt.show()"
   ]
  }
 ],
 "metadata": {
  "kernelspec": {
   "display_name": "Python 3",
   "language": "python",
   "name": "python3"
  },
  "language_info": {
   "codemirror_mode": {
    "name": "ipython",
    "version": 3
   },
   "file_extension": ".py",
   "mimetype": "text/x-python",
   "name": "python",
   "nbconvert_exporter": "python",
   "pygments_lexer": "ipython3",
   "version": "3.10.12"
  },
  "orig_nbformat": 4
 },
 "nbformat": 4,
 "nbformat_minor": 2
}
