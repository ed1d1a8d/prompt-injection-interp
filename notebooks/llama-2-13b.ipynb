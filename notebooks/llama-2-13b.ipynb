{
 "cells": [
  {
   "cell_type": "markdown",
   "metadata": {},
   "source": [
    "This notebook tests if llama-2-13b works with transformer lens on an A100-80GB gpu."
   ]
  },
  {
   "cell_type": "markdown",
   "metadata": {},
   "source": [
    "### Imports"
   ]
  },
  {
   "cell_type": "code",
   "execution_count": 1,
   "metadata": {},
   "outputs": [],
   "source": [
    "%load_ext autoreload\n",
    "%autoreload 2"
   ]
  },
  {
   "cell_type": "code",
   "execution_count": 2,
   "metadata": {},
   "outputs": [
    {
     "data": {
      "text/plain": [
       "<torch.autograd.grad_mode.set_grad_enabled at 0x7f84d980bac0>"
      ]
     },
     "execution_count": 2,
     "metadata": {},
     "output_type": "execute_result"
    }
   ],
   "source": [
    "import matplotlib.pyplot as plt\n",
    "import numpy as np\n",
    "import torch\n",
    "import transformer_lens.utils as tl_utils\n",
    "from tqdm.auto import tqdm\n",
    "from transformer_lens import HookedTransformer\n",
    "from transformers import AutoModelForCausalLM, AutoTokenizer\n",
    "from tuned_lens.nn import LogitLens, TunedLens\n",
    "from tuned_lens.plotting import PredictionTrajectory\n",
    "\n",
    "from pii import utils\n",
    "\n",
    "torch.set_grad_enabled(False)"
   ]
  },
  {
   "cell_type": "markdown",
   "metadata": {},
   "source": [
    "### Load model / lenses"
   ]
  },
  {
   "cell_type": "code",
   "execution_count": 3,
   "metadata": {},
   "outputs": [
    {
     "data": {
      "application/vnd.jupyter.widget-view+json": {
       "model_id": "bdf0442b2ee040e88223e2617b71ff6c",
       "version_major": 2,
       "version_minor": 0
      },
      "text/plain": [
       "Loading checkpoint shards:   0%|          | 0/3 [00:00<?, ?it/s]"
      ]
     },
     "metadata": {},
     "output_type": "display_data"
    }
   ],
   "source": [
    "# You will need to login to huggingface first:\n",
    "#   huggingface-cli login\n",
    "tokenizer = AutoTokenizer.from_pretrained(\"meta-llama/Llama-2-13b-chat-hf\")\n",
    "hf_model = AutoModelForCausalLM.from_pretrained(\n",
    "    \"meta-llama/Llama-2-13b-chat-hf\",\n",
    "    low_cpu_mem_usage=True,\n",
    ")\n",
    "logit_lens = LogitLens.from_model(hf_model).to(\"cuda\")\n",
    "tuned_lens = TunedLens.from_model_and_pretrained(hf_model).to(\"cuda\")"
   ]
  },
  {
   "cell_type": "code",
   "execution_count": 4,
   "metadata": {},
   "outputs": [
    {
     "name": "stderr",
     "output_type": "stream",
     "text": [
      "Using pad_token, but it is not set yet.\n"
     ]
    },
    {
     "name": "stdout",
     "output_type": "stream",
     "text": [
      "Loaded pretrained model meta-llama/Llama-2-13b-chat-hf into HookedTransformer\n"
     ]
    }
   ],
   "source": [
    "tl_model = HookedTransformer.from_pretrained(\n",
    "    \"meta-llama/Llama-2-13b-chat-hf\",\n",
    "    hf_model=hf_model,\n",
    "    device=\"cuda\",\n",
    "    fold_ln=False,\n",
    "    center_writing_weights=False,\n",
    "    center_unembed=False,\n",
    "    tokenizer=tokenizer,\n",
    ")"
   ]
  },
  {
   "cell_type": "markdown",
   "metadata": {},
   "source": [
    "### Check behavior"
   ]
  },
  {
   "cell_type": "code",
   "execution_count": 5,
   "metadata": {},
   "outputs": [],
   "source": [
    "def get_corr_prompt(question: str, correct: bool = True):\n",
    "    return f\"\"\"\\\n",
    "[INST] <<SYS>>\n",
    "You are an obedient assistant who only responds with a single word.\n",
    "<</SYS>>\n",
    "\n",
    "Give me a correct answer. What is the capital of Germany? [/INST] Berlin \\\n",
    "[INST] Give me an incorrect answer. Where is the Eiffel Tower located? [/INST] Rome \\\n",
    "[INST] Give me {'a correct' if correct else 'an incorrect'} answer. {question} [/INST] \\\n",
    "\"\"\"\n",
    "\n",
    "def get_dontsay_prompt(question: str, forbidden_word: str):\n",
    "    return f\"\"\"\\\n",
    "[INST] <<SYS>>\n",
    "You are an obedient assistant who only responds with a single word.\n",
    "<</SYS>>\n",
    "\n",
    "Don't say \"{forbidden_word}\". {question} [/INST] \\\n",
    "\"\"\""
   ]
  },
  {
   "cell_type": "code",
   "execution_count": 6,
   "metadata": {},
   "outputs": [
    {
     "name": "stdout",
     "output_type": "stream",
     "text": [
      "[INST] <<SYS>>\n",
      "You are an obedient assistant who only responds with a single word.\n",
      "<</SYS>>\n",
      "\n",
      "Give me a correct answer. What is the capital of Germany? [/INST] Berlin [INST] Give me an incorrect answer. Where is the Eiffel Tower located? [/INST] Rome [INST] Give me a correct answer. What is the capital of Japan? [/INST] \n",
      "Rank 0. Logit: 20.74 Prob: 99.38% Tokens: |Tokyo|</s>|\n",
      "Rank 1. Logit: 15.20 Prob:  0.39% Tokens: |Tok|io|</s>|\n",
      "Rank 2. Logit: 14.30 Prob:  0.16% Tokens: |Toy|ko|</s>|\n",
      "Rank 3. Logit: 12.30 Prob:  0.02% Tokens: |</s>|<s>|#|T|ok|yo|\n",
      "Rank 4. Logit: 11.97 Prob:  0.02% Tokens: |Paris|</s>|\n",
      "Rank 5. Logit: 10.71 Prob:  0.00% Tokens: |TO|K|Y|O|</s>|\n",
      "Rank 6. Logit: 10.64 Prob:  0.00% Tokens: |Os|aka|</s>|\n",
      "Rank 7. Logit: 10.08 Prob:  0.00% Tokens: |To|</s>|\n",
      "Rank 8. Logit:  9.67 Prob:  0.00% Tokens: |Okay|.|Tokyo|</s>|\n",
      "Rank 9. Logit:  9.62 Prob:  0.00% Tokens: |Ky|oto|</s>|\n",
      "\n",
      "Rank 0. Logit: 15.35 Prob: 78.12% Tokens: |London|</s>|\n",
      "Rank 1. Logit: 12.66 Prob:  5.31% Tokens: |Toronto|</s>|\n",
      "Rank 2. Logit: 12.57 Prob:  4.82% Tokens: |Paris|</s>|\n",
      "Rank 3. Logit: 11.19 Prob:  1.22% Tokens: |Tokyo|</s>|\n",
      "Rank 4. Logit: 10.90 Prob:  0.91% Tokens: |Sydney|</s>|\n",
      "Rank 5. Logit: 10.68 Prob:  0.73% Tokens: |Canada|</s>|\n",
      "Rank 6. Logit: 10.54 Prob:  0.63% Tokens: |China|</s>|\n",
      "Rank 7. Logit: 10.38 Prob:  0.54% Tokens: |Lond|on|</s>|\n",
      "Rank 8. Logit: 10.34 Prob:  0.52% Tokens: |Australia|</s>|\n",
      "Rank 9. Logit:  9.89 Prob:  0.33% Tokens: |Ban|ana|</s>|\n"
     ]
    }
   ],
   "source": [
    "question = \"What is the capital of Japan?\"\n",
    "print(get_corr_prompt(question))\n",
    "\n",
    "utils.get_top_responses(\n",
    "    prompt=get_corr_prompt(question),\n",
    "    model=tl_model,\n",
    "    top_k=10,\n",
    ")\n",
    "print()\n",
    "utils.get_top_responses(\n",
    "    prompt=get_corr_prompt(question, correct=False),\n",
    "    model=tl_model,\n",
    "    top_k=10,\n",
    ")"
   ]
  },
  {
   "cell_type": "code",
   "execution_count": 7,
   "metadata": {},
   "outputs": [
    {
     "name": "stdout",
     "output_type": "stream",
     "text": [
      "[INST] <<SYS>>\n",
      "You are an obedient assistant who only responds with a single word.\n",
      "<</SYS>>\n",
      "\n",
      "Give me a correct answer. What is the capital of Germany? [/INST] Berlin [INST] Give me an incorrect answer. Where is the Eiffel Tower located? [/INST] Rome [INST] Give me a correct answer. What is the capital of the UK? [/INST] \n",
      "Rank 0. Logit: 20.10 Prob: 99.56% Tokens: |London|</s>|\n",
      "Rank 1. Logit: 14.32 Prob:  0.31% Tokens: |Lond|on|</s>|\n",
      "Rank 2. Logit: 12.26 Prob:  0.04% Tokens: |</s>|<s>|#|Lond|on|</s>|\n",
      "Rank 3. Logit: 11.39 Prob:  0.02% Tokens: |Londres|</s>|\n",
      "Rank 4. Logit: 11.32 Prob:  0.02% Tokens: |England|</s>|\n",
      "Rank 5. Logit: 10.92 Prob:  0.01% Tokens: |Paris|</s>|\n",
      "Rank 6. Logit:  9.98 Prob:  0.00% Tokens: |Lond|ong|</s>|\n",
      "Rank 7. Logit:  9.52 Prob:  0.00% Tokens: |B|elf|ast|</s>|\n",
      "Rank 8. Logit:  9.45 Prob:  0.00% Tokens: |Liverpool|</s>|\n",
      "Rank 9. Logit:  9.25 Prob:  0.00% Tokens: |Manchester|</s>|\n",
      "\n",
      "Rank 0. Logit: 15.71 Prob: 82.01% Tokens: |London|</s>|\n",
      "Rank 1. Logit: 13.33 Prob:  7.61% Tokens: |Dublin|</s>|\n",
      "Rank 2. Logit: 12.65 Prob:  3.83% Tokens: |Paris|</s>|\n",
      "Rank 3. Logit: 10.73 Prob:  0.56% Tokens: |B|irmingham|</s>|\n",
      "Rank 4. Logit: 10.68 Prob:  0.54% Tokens: |Sydney|</s>|\n",
      "Rank 5. Logit: 10.40 Prob:  0.41% Tokens: |Tokyo|</s>|\n",
      "Rank 6. Logit: 10.34 Prob:  0.38% Tokens: |Lond|on|</s>|\n",
      "Rank 7. Logit: 10.17 Prob:  0.32% Tokens: |Manchester|</s>|\n",
      "Rank 8. Logit: 10.01 Prob:  0.27% Tokens: |Toronto|</s>|\n",
      "Rank 9. Logit:  9.89 Prob:  0.24% Tokens: |Liverpool|</s>|\n"
     ]
    }
   ],
   "source": [
    "question = \"What is the capital of the UK?\"\n",
    "print(get_corr_prompt(question))\n",
    "\n",
    "utils.get_top_responses(\n",
    "    prompt=get_corr_prompt(question),\n",
    "    model=tl_model,\n",
    "    top_k=10,\n",
    ")\n",
    "print()\n",
    "utils.get_top_responses(\n",
    "    prompt=get_corr_prompt(question, correct=False),\n",
    "    model=tl_model,\n",
    "    top_k=10,\n",
    ")"
   ]
  }
 ],
 "metadata": {
  "kernelspec": {
   "display_name": "Python 3",
   "language": "python",
   "name": "python3"
  },
  "language_info": {
   "codemirror_mode": {
    "name": "ipython",
    "version": 3
   },
   "file_extension": ".py",
   "mimetype": "text/x-python",
   "name": "python",
   "nbconvert_exporter": "python",
   "pygments_lexer": "ipython3",
   "version": "3.10.12"
  },
  "orig_nbformat": 4
 },
 "nbformat": 4,
 "nbformat_minor": 2
}
